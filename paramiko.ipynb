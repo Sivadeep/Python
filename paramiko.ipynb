{
 "cells": [
  {
   "cell_type": "code",
   "execution_count": 1,
   "metadata": {
    "collapsed": true
   },
   "outputs": [],
   "source": [
    "import paramiko as pmk"
   ]
  },
  {
   "cell_type": "code",
   "execution_count": 2,
   "metadata": {
    "collapsed": true
   },
   "outputs": [],
   "source": [
    "ssh = pmk.SSHClient()\n",
    "ssh.set_missing_host_key_policy(pmk.AutoAddPolicy())"
   ]
  },
  {
   "cell_type": "code",
   "execution_count": 5,
   "metadata": {
    "collapsed": false
   },
   "outputs": [],
   "source": [
    "ssh.connect(hostname=\"localhost\",username=\"tcloudost\",password=\"pythonrocks\")"
   ]
  },
  {
   "cell_type": "code",
   "execution_count": 6,
   "metadata": {
    "collapsed": false
   },
   "outputs": [
    {
     "data": {
      "text/plain": [
       "(<paramiko.ChannelFile from <paramiko.Channel 0 (closed) -> <paramiko.Transport at 0xd009a650L (cipher aes128-ctr, 128 bits) (active; 0 open channel(s))>>>,\n",
       " <paramiko.ChannelFile from <paramiko.Channel 0 (closed) -> <paramiko.Transport at 0xd009a650L (cipher aes128-ctr, 128 bits) (active; 0 open channel(s))>>>,\n",
       " <paramiko.ChannelFile from <paramiko.Channel 0 (closed) -> <paramiko.Transport at 0xd009a650L (cipher aes128-ctr, 128 bits) (active; 0 open channel(s))>>>)"
      ]
     },
     "execution_count": 6,
     "metadata": {},
     "output_type": "execute_result"
    }
   ],
   "source": [
    "ssh.exec_command('ls -l')"
   ]
  },
  {
   "cell_type": "code",
   "execution_count": 7,
   "metadata": {
    "collapsed": true
   },
   "outputs": [],
   "source": [
    "inp, outp, errp = ssh.exec_command('ls -l')"
   ]
  },
  {
   "cell_type": "code",
   "execution_count": 8,
   "metadata": {
    "collapsed": false
   },
   "outputs": [
    {
     "name": "stdout",
     "output_type": "stream",
     "text": [
      "[u'total 408\\n', u'drwxrwxr-x 21 tcloudost tcloudost  4096 Aug 12 12:49 anac3\\n', u'drwxrwxr-x 18 tcloudost tcloudost  4096 Apr  1 09:46 anaconda2\\n', u'drwxrwxr-x  2 tcloudost tcloudost  4096 May  6 11:24 app\\n', u'drwxrwxr-x  3 tcloudost tcloudost  4096 Jun  3 09:16 app1\\n', u'drwxrwxr-x  3 tcloudost tcloudost  4096 Jun 25  2016 app1_name\\n', u'drwxrwxr-x  3 tcloudost tcloudost  4096 Jun  3 09:09 app2\\n', u'drwxrwxr-x  3 tcloudost tcloudost  4096 Jun  3 09:23 app3\\n', u'drwxrwxr-x  2 tcloudost tcloudost  4096 Jun 25  2016 app_name\\n', u'-rw-rw-r--  1 tcloudost tcloudost     5 May  6 11:21 app.py\\n', u'-rw-rw-r--  1 tcloudost tcloudost    20 Mar  9 08:13 a.py\\n', u'-rw-rw-r--  1 tcloudost tcloudost    74 May 22  2016 a.py~\\n', u'drwxrwxr-x  2 tcloudost tcloudost  4096 May 23  2016 batch\\n', u'drwxr-xr-x  2 root      root       4096 Oct 15  2016 cgi-bin\\n', u'-rw-rw-r--  1 tcloudost tcloudost  1234 Oct 15  2016 cgi-bin.zip\\n', u'-rw-rw-r--  1 tcloudost tcloudost     0 Apr 16 20:31 content.txt\\n', u'-rw-rw-r--  1 tcloudost tcloudost   652 May 20  2016 course content.text\\n', u'-rw-rw-r--  1 tcloudost tcloudost   652 May 20  2016 course content.text~\\n', u'-rw-rw-r--  1 tcloudost tcloudost    98 May  6 11:54 data.txt\\n', u'drwxr-xr-x  2 tcloudost tcloudost  4096 Aug  8 07:57 Desktop\\n', u'drwxrwxr-x  2 tcloudost tcloudost  4096 Dec 31  2016 dir1\\n', u'drwxr-xr-x  5 tcloudost tcloudost  4096 May  9 08:30 Documents\\n', u'drwxr-xr-x  4 tcloudost tcloudost 12288 Aug 17 09:05 Downloads\\n', u'-rw-r--r--  1 tcloudost tcloudost  8980 Mar 10  2016 examples.desktop\\n', u'-rw-rw-r--  1 tcloudost tcloudost   141 Jul  8 13:13 features of python\\n', u'-rw-rw-r--  1 tcloudost tcloudost   111 Jul  1 10:57 features of python~\\n', u'-rw-rw-r--  1 tcloudost tcloudost    87 Jul 31  2016 file1.py\\n', u'-rw-rw-r--  1 tcloudost tcloudost   172 Jul 31  2016 file1.pyc\\n', u'-rw-rw-r--  1 tcloudost tcloudost  2302 Jun  3 09:00 file3.py\\n', u'-rw-rw-r--  1 tcloudost tcloudost  2302 Jun  3 09:01 file4.py\\n', u'-rw-rw-r--  1 tcloudost tcloudost    20 Jul  1  2016 first.py\\n', u'-rw-rw-r--  1 tcloudost tcloudost     0 Jul  1  2016 first.py~\\n', u'drwxrwxr-x  2 tcloudost tcloudost  4096 Jul  9  2016 hom_custom\\n', u'-rw-rw-r--  1 tcloudost tcloudost     0 May 22 08:55 installation.txt\\n', u'-rw-rw-r--  1 tcloudost tcloudost   668 Nov 27  2016 Lab07.py\\n', u'-rw-rw-r--  1 tcloudost tcloudost 43291 Nov 13  2016 m1.jpg\\n', u'-rw-rw-r--  1 tcloudost tcloudost 11033 Mar  9 08:11 memory organization in python.ipynb\\n', u'drwxrwxr-x  2 tcloudost tcloudost  4096 Jun  4 11:03 mod12\\n', u'-rw-rw-r--  1 tcloudost tcloudost   826 Mar 10 07:43 module1.ipynb\\n', u'drwxr-xr-x  2 tcloudost tcloudost  4096 Mar 10  2016 Music\\n', u'drwxrwxr-x  2 tcloudost tcloudost  4096 Oct  4  2016 mydear\\n', u'-rw-rw-r--  1 tcloudost tcloudost  1561 Jun 16  2016 nginx_signing.key\\n', u'-rw-rw-r--  1 tcloudost tcloudost   787 Mar 12 11:47 ownjson.py\\n', u'drwxrwxr-x  9 tcloudost tcloudost  4096 Aug  4 09:48 P5\\n', u'drwxrwxr-x  2 tcloudost tcloudost  4096 Nov 26  2016 paramiko123\\n', u'drwxrwxr-x  2 tcloudost tcloudost  4096 Nov 26  2016 path1\\n', u'-rw-rw-r--  1 tcloudost tcloudost  2302 Jun  3 09:00 personsinfo.csv\\n', u'-rw-rw-r--  1 tcloudost tcloudost   111 Nov 17  2016 personsinfo.csv~\\n', u'-rw-rw-r--  1 tcloudost tcloudost  1174 Jun 29 07:28 pgadmin.log\\n', u'drwxr-xr-x  2 tcloudost tcloudost  4096 Aug 14  2016 Pictures\\n', u'drwxr-xr-x  2 tcloudost tcloudost  4096 Mar 10  2016 Public\\n', u'-rw-rw-r--  1 tcloudost tcloudost 20247 Jul 30  2016 python2.ipynb\\n', u'drwxrwxr-x 22 tcloudost tcloudost  4096 Aug 17 10:01 pythonexamples\\n', u'-rw-rw-r--  1 tcloudost tcloudost  3231 Jul  2  2016 python_modules\\n', u'drwxrwxr-x  2 tcloudost tcloudost  4096 Apr 13  2016 python_softwares\\n', u'-rw-rw-r--  1 tcloudost tcloudost   261 Apr  5  2016 qw.html~\\n', u'-rw-rw-r--  1 tcloudost tcloudost  1469 Aug 31  2016 spyder_crash.log\\n', u'drwxrwxr-x  2 tcloudost tcloudost  4096 Jan 27  2017 ssh_folder1\\n', u'drwxr-xr-x  2 tcloudost tcloudost  4096 Mar 10  2016 Templates\\n', u'-rw-rw-r--  1 tcloudost tcloudost  5937 Feb 11  2017 Untitled10.ipynb\\n', u'-rw-rw-r--  1 tcloudost tcloudost  8582 Feb 28 08:17 Untitled11.ipynb\\n', u'-rw-rw-r--  1 tcloudost tcloudost  7866 Mar  8 07:33 Untitled12.ipynb\\n', u'-rw-rw-r--  1 tcloudost tcloudost    72 Mar 10 07:20 Untitled13.ipynb\\n', u'-rw-rw-r--  1 tcloudost tcloudost  5981 Mar 26 10:54 Untitled14.ipynb\\n', u'-rw-rw-r--  1 tcloudost tcloudost  2103 Aug 11  2016 Untitled1.ipynb\\n', u'-rw-rw-r--  1 tcloudost tcloudost   959 Aug 16  2016 Untitled2.ipynb\\n', u'-rw-rw-r--  1 tcloudost tcloudost  2796 Sep 14  2016 Untitled3.ipynb\\n', u'-rw-rw-r--  1 tcloudost tcloudost 15568 Sep 18  2016 Untitled4.ipynb\\n', u'-rw-rw-r--  1 tcloudost tcloudost    72 Oct 18  2016 Untitled5.ipynb\\n', u'-rw-rw-r--  1 tcloudost tcloudost  3809 Nov  5  2016 Untitled6.ipynb\\n', u'-rw-rw-r--  1 tcloudost tcloudost  5171 Nov  5  2016 Untitled7.ipynb\\n', u'-rw-rw-r--  1 tcloudost tcloudost  1891 Nov 27  2016 Untitled8.ipynb\\n', u'-rw-rw-r--  1 tcloudost tcloudost  6342 Dec 30  2016 Untitled9.ipynb\\n', u'-rw-rw-r--  1 tcloudost tcloudost   398 Aug 16  2016 Untitled Document 1\\n', u'-rw-rw-r--  1 tcloudost tcloudost   582 May 24  2016 Untitled.ipynb\\n', u'drwxr-xr-x  2 tcloudost tcloudost  4096 Mar 10  2016 Videos\\n']\n"
     ]
    }
   ],
   "source": [
    "print outp.readlines()"
   ]
  },
  {
   "cell_type": "code",
   "execution_count": 11,
   "metadata": {
    "collapsed": false
   },
   "outputs": [
    {
     "name": "stdout",
     "output_type": "stream",
     "text": [
      "USER       PID %CPU %MEM    VSZ   RSS TTY      STAT START   TIME COMMAND\n",
      "\n",
      "root         1  0.0  0.1 185180  5272 ?        Ss   Aug15   0:23 /sbin/init splash\n",
      "\n",
      "root         2  0.0  0.0      0     0 ?        S    Aug15   0:00 [kthreadd]\n",
      "\n",
      "root         3  0.0  0.0      0     0 ?        S    Aug15   0:05 [ksoftirqd/0]\n",
      "\n",
      "root         5  0.0  0.0      0     0 ?        S<   Aug15   0:00 [kworker/0:0H]\n",
      "\n",
      "root         7  0.0  0.0      0     0 ?        S    Aug15   0:42 [rcu_sched]\n",
      "\n",
      "root         8  0.0  0.0      0     0 ?        S    Aug15   0:00 [rcu_bh]\n",
      "\n",
      "root         9  0.0  0.0      0     0 ?        S    Aug15   0:40 [rcuos/0]\n",
      "\n",
      "root        10  0.0  0.0      0     0 ?        S    Aug15   0:00 [rcuob/0]\n",
      "\n",
      "root        11  0.0  0.0      0     0 ?        S    Aug15   0:00 [migration/0]\n",
      "\n",
      "root        12  0.0  0.0      0     0 ?        S    Aug15   0:02 [watchdog/0]\n",
      "\n",
      "root        13  0.0  0.0      0     0 ?        S<   Aug15   0:00 [khelper]\n",
      "\n",
      "root        14  0.0  0.0      0     0 ?        S    Aug15   0:00 [kdevtmpfs]\n",
      "\n",
      "root        15  0.0  0.0      0     0 ?        S<   Aug15   0:00 [netns]\n",
      "\n",
      "root        16  0.0  0.0      0     0 ?        S<   Aug15   0:00 [perf]\n",
      "\n",
      "root        17  0.0  0.0      0     0 ?        S    Aug15   0:00 [khungtaskd]\n",
      "\n",
      "root        18  0.0  0.0      0     0 ?        S<   Aug15   0:00 [writeback]\n",
      "\n",
      "root        19  0.0  0.0      0     0 ?        SN   Aug15   0:00 [ksmd]\n",
      "\n",
      "root        20  0.0  0.0      0     0 ?        SN   Aug15   1:45 [khugepaged]\n",
      "\n",
      "root        21  0.0  0.0      0     0 ?        S<   Aug15   0:00 [crypto]\n",
      "\n",
      "root        22  0.0  0.0      0     0 ?        S<   Aug15   0:00 [kintegrityd]\n",
      "\n",
      "root        23  0.0  0.0      0     0 ?        S<   Aug15   0:00 [bioset]\n",
      "\n",
      "root        24  0.0  0.0      0     0 ?        S<   Aug15   0:00 [kblockd]\n",
      "\n",
      "root        25  0.0  0.0      0     0 ?        S<   Aug15   0:00 [ata_sff]\n",
      "\n",
      "root        26  0.0  0.0      0     0 ?        S<   Aug15   0:00 [md]\n",
      "\n",
      "root        27  0.0  0.0      0     0 ?        S<   Aug15   0:00 [devfreq_wq]\n",
      "\n",
      "root        30  0.0  0.0      0     0 ?        S    Aug15   0:01 [kswapd0]\n",
      "\n",
      "root        31  0.0  0.0      0     0 ?        S<   Aug15   0:00 [vmstat]\n",
      "\n",
      "root        32  0.0  0.0      0     0 ?        S    Aug15   0:00 [fsnotify_mark]\n",
      "\n",
      "root        33  0.0  0.0      0     0 ?        S    Aug15   0:00 [ecryptfs-kthrea]\n",
      "\n",
      "root        44  0.0  0.0      0     0 ?        S<   Aug15   0:00 [kthrotld]\n",
      "\n",
      "root        45  0.0  0.0      0     0 ?        S<   Aug15   0:00 [acpi_thermal_pm]\n",
      "\n",
      "root        46  0.0  0.0      0     0 ?        S    Aug15   0:00 [scsi_eh_0]\n",
      "\n",
      "root        47  0.0  0.0      0     0 ?        S<   Aug15   0:00 [scsi_tmf_0]\n",
      "\n",
      "root        48  0.0  0.0      0     0 ?        S    Aug15   0:00 [scsi_eh_1]\n",
      "\n",
      "root        49  0.0  0.0      0     0 ?        S<   Aug15   0:00 [scsi_tmf_1]\n",
      "\n",
      "root        54  0.0  0.0      0     0 ?        S<   Aug15   0:00 [ipv6_addrconf]\n",
      "\n",
      "root        74  0.0  0.0      0     0 ?        S<   Aug15   0:00 [deferwq]\n",
      "\n",
      "root        75  0.0  0.0      0     0 ?        S<   Aug15   0:00 [charger_manager]\n",
      "\n",
      "root       113  0.0  0.0      0     0 ?        S    Aug15   0:00 [scsi_eh_2]\n",
      "\n",
      "root       114  0.0  0.0      0     0 ?        S<   Aug15   0:00 [scsi_tmf_2]\n",
      "\n",
      "root       116  0.0  0.0      0     0 ?        S<   Aug15   0:00 [kpsmoused]\n",
      "\n",
      "root       118  0.0  0.0      0     0 ?        S<   Aug15   0:05 [kworker/0:1H]\n",
      "\n",
      "root       144  0.0  0.0      0     0 ?        S    Aug15   0:30 [jbd2/sda1-8]\n",
      "\n",
      "root       145  0.0  0.0      0     0 ?        S<   Aug15   0:00 [ext4-rsv-conver]\n",
      "\n",
      "root       184  0.0  0.0      0     0 ?        S    Aug15   0:00 [kauditd]\n",
      "\n",
      "root       196  0.0  0.2  40868 11824 ?        Ss   Aug15   0:11 /lib/systemd/systemd-journald\n",
      "\n",
      "root       212  0.0  0.1  45692  4940 ?        Ss   Aug15   0:06 /lib/systemd/systemd-udevd\n",
      "\n",
      "root       298  0.0  0.0      0     0 ?        S<   Aug15   0:00 [iprt-VBoxWQueue]\n",
      "\n",
      "systemd+   310  0.0  0.0 102356  2656 ?        Ssl  Aug15   0:04 /lib/systemd/systemd-timesyncd\n",
      "\n",
      "root       485  0.0  0.1 337292  6240 ?        Ssl  Aug15   0:00 /usr/sbin/ModemManager\n",
      "\n",
      "root       486  0.0  0.1 287292  6612 ?        Ssl  Aug15   0:27 /usr/lib/accountsservice/accounts-daemon\n",
      "\n",
      "avahi      488  0.0  0.0  40192  3136 ?        Ss   Aug15   0:04 avahi-daemon: running [tcloudost-VirtualBox.local]\n",
      "\n",
      "root       489  0.0  0.3 381876 14860 ?        Ssl  Aug15   0:09 /usr/sbin/NetworkManager --no-daemon\n",
      "\n",
      "syslog     496  0.0  0.0 256372  2708 ?        Ssl  Aug15   0:02 /usr/sbin/rsyslogd -n\n",
      "\n",
      "root       497  0.0  0.0  28600  2964 ?        Ss   Aug15   0:04 /lib/systemd/systemd-logind\n",
      "\n",
      "message+   502  0.0  0.1  44280  5120 ?        Ss   Aug15   0:57 /usr/bin/dbus-daemon --system --address=systemd: --nofork --nopidfile --systemd-activation\n",
      "\n",
      "avahi      539  0.0  0.0  40068    44 ?        S    Aug15   0:00 avahi-daemon: chroot helper\n",
      "\n",
      "root       556  0.0  0.0 247744  1644 ?        Sl   Aug15   1:57 /usr/sbin/VBoxService\n",
      "\n",
      "whoopsie   570  0.0  0.3 521340 12520 ?        Ssl  Aug15   0:01 /usr/bin/whoopsie -f\n",
      "\n",
      "root       572  0.0  0.0  25180  2248 ?        Ss   Aug15   0:00 /sbin/cgmanager -m name=systemd\n",
      "\n",
      "root       585  0.0  0.2 272360  9316 ?        Ssl  Aug15   0:00 /usr/sbin/cups-browsed\n",
      "\n",
      "root       587  0.0  0.0  33124  2916 ?        Ss   Aug15   0:03 /usr/sbin/cron -f\n",
      "\n",
      "root       594  0.0  0.1  69932  6200 ?        Ss   Aug15   0:04 /usr/sbin/sshd -D\n",
      "\n",
      "root       597  0.0  0.2 285720  8332 ?        Ssl  Aug15   0:01 /usr/lib/policykit-1/polkitd --no-debug\n",
      "\n",
      "mysql      605  0.0  0.0   4476  1728 ?        Ss   Aug15   0:00 /bin/sh /usr/bin/mysqld_safe\n",
      "\n",
      "root       781  0.0  0.0  39192  3724 ?        Ss   Aug15   0:00 /sbin/wpa_supplicant -u -s -O /run/wpa_supplicant\n",
      "\n",
      "mysql      978  0.1  2.7 737464 112116 ?       Sl   Aug15   4:00 /usr/sbin/mysqld --basedir=/usr --datadir=/var/lib/mysql --plugin-dir=/usr/lib/mysql/plugin --log-error=/var/log/mysql/error.log --pid-file=/var/run/mysqld/mysqld.pid --socket=/var/run/mysqld/mysqld.sock --port=3306\n",
      "\n",
      "root       985  0.0  0.0 124520  1228 ?        Ss   Aug15   0:00 nginx: master process /usr/sbin/nginx -g daemon on; master_process on;\n",
      "\n",
      "www-data   986  0.0  0.0 125216  4000 ?        S    Aug15   0:00 nginx: worker process                           \n",
      "\n",
      "nobody    1024  0.0  0.0  52288  3716 ?        S    Aug15   0:19 /usr/sbin/dnsmasq --no-resolv --keep-in-foreground --no-hosts --bind-interfaces --pid-file=/run/sendsigs.omit.d/network-manager.dnsmasq.pid --listen-address=127.0.1.1 --conf-file=/var/run/NetworkManager/dnsmasq.conf --cache-size=0 --proxy-dnssec --enable-dbus=org.freedesktop.NetworkManager.dnsmasq --conf-dir=/etc/NetworkManager/dnsmasq.d\n",
      "\n",
      "postgres  1084  0.0  0.5 293632 23664 ?        S    Aug15   0:29 /usr/lib/postgresql/9.4/bin/postgres -D /var/lib/postgresql/9.4/main -c config_file=/etc/postgresql/9.4/main/postgresql.conf\n",
      "\n",
      "kernoops  1251  0.0  0.0  45276  2708 ?        Ss   Aug15   0:05 /usr/sbin/kerneloops\n",
      "\n",
      "snmp      1738  0.1  0.1  61388  7492 ?        S    Aug15   6:23 /usr/sbin/snmpd -Lsd -Lf /dev/null -u snmp -g snmp -I -smux mteTrigger mteTriggerConf -p /run/snmpd.pid\n",
      "\n",
      "postgres  1852  0.0  0.2 293764  9816 ?        Ss   Aug15   0:00 postgres: checkpointer process                                                                                              \n",
      "\n",
      "postgres  1854  0.0  0.1 293632  5444 ?        Ss   Aug15   0:14 postgres: writer process                                                                                                    \n",
      "\n",
      "postgres  1857  0.0  0.2 293632  8464 ?        Ss   Aug15   0:18 postgres: wal writer process                                                                                                \n",
      "\n",
      "postgres  1862  0.0  0.1 294028  6468 ?        Ss   Aug15   0:16 postgres: autovacuum launcher process                                                                                       \n",
      "\n",
      "postgres  1866  0.0  0.1 149044  4220 ?        Ss   Aug15   0:15 postgres: stats collector process                                                                                           \n",
      "\n",
      "root      1938  0.0  0.1 352420  6036 ?        SLsl Aug15   0:00 /usr/sbin/lightdm\n",
      "\n",
      "root      1950  0.0  0.0  20052  2252 tty1     Ss+  Aug15   0:00 /sbin/agetty --noclear tty1 linux\n",
      "\n",
      "root      1951  7.1  4.7 473832 194160 tty7    Ss+  Aug15 261:02 /usr/bin/X -core :0 -seat seat0 -auth /var/run/lightdm/root/:0 -nolisten tcp vt7 -novtswitch\n",
      "\n",
      "root      2021  0.0  0.1 230224  6068 ?        Sl   Aug15   0:00 lightdm --session-child 12 19\n",
      "\n",
      "rtkit     2074  0.0  0.0 178820  2792 ?        SNsl Aug15   0:11 /usr/lib/rtkit/rtkit-daemon\n",
      "\n",
      "root      2103  0.0  0.2 345636 12096 ?        Ssl  Aug15   0:00 /usr/lib/upower/upowerd\n",
      "\n",
      "colord    2116  0.0  0.2 305100 10332 ?        Ssl  Aug15   0:00 /usr/lib/colord/colord\n",
      "\n",
      "tcloudo+  2453  0.0  0.1  45164  4984 ?        Ss   Aug15   0:00 /lib/systemd/systemd --user\n",
      "\n",
      "tcloudo+  2455  0.0  0.0  61168  1504 ?        S    Aug15   0:00 (sd-pam)         \n",
      "\n",
      "tcloudo+  2461  0.0  0.1 439856  7212 ?        Sl   Aug15   0:01 /usr/bin/gnome-keyring-daemon --daemonize --login\n",
      "\n",
      "tcloudo+  2463  0.0  0.1  45876  4284 ?        Ss   Aug15   0:04 /sbin/upstart --user\n",
      "\n",
      "tcloudo+  2540  0.0  0.0  49464  1168 ?        S    Aug15   1:16 /usr/bin/VBoxClient --clipboard\n",
      "\n",
      "tcloudo+  2546  0.0  0.0  49464  1172 ?        S    Aug15   1:17 /usr/bin/VBoxClient --checkhostversion\n",
      "\n",
      "tcloudo+  2553  0.0  0.0  49464  1104 ?        S    Aug15   1:18 /usr/bin/VBoxClient --display\n",
      "\n",
      "tcloudo+  2561  0.0  0.0  39016  1384 ?        S    Aug15   0:00 dbus-launch --autolaunch=e51c7092bfbd4fb4ac8b04918ff33401 --binary-syntax --close-stderr\n",
      "\n",
      "tcloudo+  2566  0.0  0.0  42860  2652 ?        Ss   Aug15   0:00 /usr/bin/dbus-daemon --fork --print-pid 5 --print-address 7 --session\n",
      "\n",
      "tcloudo+  2574  0.0  0.5 439336 23652 ?        Sl   Aug15   0:49 /usr/lib/x86_64-linux-gnu/notify-osd\n",
      "\n",
      "tcloudo+  2580  0.0  0.0  49464  1144 ?        S    Aug15   1:22 /usr/bin/VBoxClient --seamless\n",
      "\n",
      "tcloudo+  2587  0.0  0.0  49464  1128 ?        S    Aug15   1:17 /usr/bin/VBoxClient --draganddrop\n",
      "\n",
      "tcloudo+  2599  0.0  0.1 337956  5276 ?        Sl   Aug15   0:00 /usr/lib/at-spi2-core/at-spi-bus-launcher\n",
      "\n",
      "tcloudo+  2609  0.0  0.0  42860  3820 ?        S    Aug15   0:13 /usr/bin/dbus-daemon --config-file=/etc/at-spi2/accessibility.conf --nofork --print-address 3\n",
      "\n",
      "tcloudo+  2615  0.0  0.0  32296   100 ?        S    Aug15   0:00 upstart-udev-bridge --daemon --user\n",
      "\n",
      "tcloudo+  2621  0.0  0.1 206936  4784 ?        Rl   Aug15   0:42 /usr/lib/at-spi2-core/at-spi2-registryd --use-gnome-session\n",
      "\n",
      "tcloudo+  2630  0.0  0.1 271164  5296 ?        Sl   Aug15   0:00 /usr/lib/gvfs/gvfsd\n",
      "\n",
      "tcloudo+  2638  0.0  0.1 409032  4804 ?        Sl   Aug15   0:00 /usr/lib/gvfs/gvfsd-fuse /run/user/1000/gvfs -f -o big_writes\n",
      "\n",
      "tcloudo+  2640  0.0  0.1  44080  4208 ?        Ss   Aug15   0:48 dbus-daemon --fork --session --address=unix:abstract=/tmp/dbus-XlK3rIdea9\n",
      "\n",
      "tcloudo+  2659  0.0  0.2  88176  9144 ?        Ss   Aug15   0:04 /usr/lib/x86_64-linux-gnu/hud/window-stack-bridge\n",
      "\n",
      "tcloudo+  2662  0.0  0.4 426984 18256 ?        Sl   Aug15   0:49 /usr/bin/gnome-screensaver --no-daemon\n",
      "\n",
      "tcloudo+  2691  0.0  0.6 516476 25104 ?        Sl   Aug15   2:02 /usr/lib/x86_64-linux-gnu/bamf/bamfdaemon\n",
      "\n",
      "tcloudo+  2709  0.0  0.0  32232   132 ?        S    Aug15   0:00 upstart-dbus-bridge --daemon --system --user --bus-name system\n",
      "\n",
      "tcloudo+  2717  0.0  0.1 623908  6088 ?        Sl   Aug15   0:00 /usr/lib/gvfs/gvfsd\n",
      "\n",
      "tcloudo+  2718  0.3  1.3 384240 53136 ?        Rsl  Aug15  13:17 /usr/bin/ibus-daemon --daemonize --xim\n",
      "\n",
      "tcloudo+  2737  0.0  0.1 270504  5888 ?        Sl   Aug15   0:00 /usr/lib/ibus/ibus-dconf\n",
      "\n",
      "tcloudo+  2739  0.0  1.2 497560 49884 ?        Sl   Aug15   3:18 /usr/lib/ibus/ibus-ui-gtk3\n",
      "\n",
      "tcloudo+  2743  0.0  0.3 376792 12868 ?        Sl   Aug15   0:15 /usr/lib/ibus/ibus-x11 --kill-daemon\n",
      "\n",
      "tcloudo+  2748  0.0  0.0  32392  1720 ?        S    Aug15   0:14 upstart-dbus-bridge --daemon --session --user --bus-name session\n",
      "\n",
      "tcloudo+  2750  0.0  0.0  40824  1508 ?        S    Aug15   0:00 upstart-file-bridge --daemon --user\n",
      "\n",
      "tcloudo+  2765  0.0  1.3 726228 52860 ?        Ssl  Aug15   2:18 /usr/lib/x86_64-linux-gnu/hud/hud-service\n",
      "\n",
      "tcloudo+  2767  0.0  0.8 805692 36020 ?        Ssl  Aug15   2:14 /usr/lib/unity-settings-daemon/unity-settings-daemon\n",
      "\n",
      "tcloudo+  2773 10.2  9.4 1336208 384476 ?      Ssl  Aug15 367:26 compiz\n",
      "\n",
      "tcloudo+  2774  0.0  0.3 628328 14496 ?        Ssl  Aug15   0:03 gnome-session --session=ubuntu\n",
      "\n",
      "tcloudo+  2779  0.0  0.1 194772  5776 ?        Sl   Aug15   2:13 /usr/lib/ibus/ibus-engine-simple\n",
      "\n",
      "tcloudo+  2780  0.0  1.7 742212 72768 ?        Ssl  Aug15   2:24 /usr/lib/unity/unity-panel-service\n",
      "\n",
      "tcloudo+  2795  0.0  0.1 178628  4812 ?        Sl   Aug15   0:00 /usr/lib/dconf/dconf-service\n",
      "\n",
      "tcloudo+  2817  0.0  0.2 363568  9056 ?        Ssl  Aug15   0:00 /usr/lib/x86_64-linux-gnu/indicator-messages/indicator-messages-service\n",
      "\n",
      "tcloudo+  2818  0.0  0.1 337480  5100 ?        Ssl  Aug15   0:00 /usr/lib/x86_64-linux-gnu/indicator-bluetooth/indicator-bluetooth-service\n",
      "\n",
      "tcloudo+  2819  0.0  0.1 426828  6576 ?        Ssl  Aug15   0:00 /usr/lib/x86_64-linux-gnu/indicator-power/indicator-power-service\n",
      "\n",
      "tcloudo+  2823  0.0  0.3 775932 14584 ?        Ssl  Aug15   0:10 /usr/lib/x86_64-linux-gnu/indicator-datetime/indicator-datetime-service\n",
      "\n",
      "tcloudo+  2838  0.0  0.5 650196 23208 ?        Ssl  Aug15   0:45 /usr/lib/x86_64-linux-gnu/indicator-keyboard/indicator-keyboard-service --use-gtk\n",
      "\n",
      "tcloudo+  2840  0.0  0.2 549004  9560 ?        Ssl  Aug15   0:00 /usr/lib/x86_64-linux-gnu/indicator-sound/indicator-sound-service\n",
      "\n",
      "tcloudo+  2848  0.0  0.5 541696 20668 ?        Ssl  Aug15   0:44 /usr/lib/x86_64-linux-gnu/indicator-printers/indicator-printers-service\n",
      "\n",
      "root      2849  0.0  0.1  90212  6868 ?        Ss   Aug17   0:00 /usr/sbin/cupsd -l\n",
      "\n",
      "tcloudo+  2851  0.0  0.4 911876 16900 ?        Sl   Aug15   0:00 /usr/lib/evolution/evolution-source-registry\n",
      "\n",
      "tcloudo+  2853  0.0  0.1 631616  6992 ?        Ssl  Aug15   0:00 /usr/lib/x86_64-linux-gnu/indicator-session/indicator-session-service\n",
      "\n",
      "tcloudo+  2858  0.0  0.3 469320 12604 ?        Ssl  Aug15   0:01 /usr/lib/x86_64-linux-gnu/indicator-application/indicator-application-service\n",
      "\n",
      "tcloudo+  2880  0.0  0.2 434488  9868 ?        S<l  Aug15   0:02 /usr/bin/pulseaudio --start --log-target=syslog\n",
      "\n",
      "tcloudo+  2908  0.1  1.9 1097680 78636 ?       Sl   Aug15   6:31 nautilus -n\n",
      "\n",
      "tcloudo+  2913  0.0  0.4 426144 18176 ?        Sl   Aug15   0:40 /usr/lib/policykit-1-gnome/polkit-gnome-authentication-agent-1\n",
      "\n",
      "tcloudo+  2915  0.0  0.4 573456 18824 ?        Sl   Aug15   0:41 /usr/lib/unity-settings-daemon/unity-fallback-mount-helper\n",
      "\n",
      "tcloudo+  2916  0.0  0.8 588536 33380 ?        Sl   Aug15   0:57 nm-applet\n",
      "\n",
      "tcloudo+  2927  0.0  1.2 859160 49896 ?        Sl   Aug15   0:00 /usr/lib/evolution/evolution-calendar-factory\n",
      "\n",
      "tcloudo+  2932  0.0  0.1 289516  6824 ?        Sl   Aug15   0:00 /usr/lib/gvfs/gvfs-udisks2-volume-monitor\n",
      "\n",
      "root      2938  0.0  0.2 367508  9912 ?        Ssl  Aug15   0:01 /usr/lib/udisks2/udisksd --no-debug\n",
      "\n",
      "tcloudo+  2942  0.0  0.1  66292  6176 ?        S    Aug15   0:02 /usr/lib/x86_64-linux-gnu/gconf/gconfd-2\n",
      "\n",
      "tcloudo+  2950  0.0  0.2 403168  8428 ?        Sl   Aug15   0:00 /usr/lib/gvfs/gvfs-afc-volume-monitor\n",
      "\n",
      "tcloudo+  2956  0.0  0.1 275816  5468 ?        Sl   Aug15   0:00 /usr/lib/gvfs/gvfs-gphoto2-volume-monitor\n",
      "\n",
      "tcloudo+  2964  0.0  0.1 263620  5328 ?        Sl   Aug15   0:00 /usr/lib/gvfs/gvfs-mtp-volume-monitor\n",
      "\n",
      "tcloudo+  2974  0.0  0.1 358616  7692 ?        Sl   Aug15   0:04 /usr/lib/gvfs/gvfsd-trash --spawner :1.6 /org/gtk/gvfs/exec_spaw/0\n",
      "\n",
      "tcloudo+  2996  0.0  0.3 783660 12572 ?        Sl   Aug15   0:00 /usr/lib/evolution/evolution-calendar-factory-subprocess --factory contacts --bus-name org.gnome.evolution.dataserver.Subprocess.Backend.Calendarx2927x2 --own-path /org/gnome/evolution/dataserver/Subprocess/Backend/Calendar/2927/2\n",
      "\n",
      "tcloudo+  3005  0.0  0.3 768156 14912 ?        Sl   Aug15   0:00 /usr/lib/evolution/evolution-calendar-factory-subprocess --factory local --bus-name org.gnome.evolution.dataserver.Subprocess.Backend.Calendarx2927x3 --own-path /org/gnome/evolution/dataserver/Subprocess/Backend/Calendar/2927/3\n",
      "\n",
      "tcloudo+  3008  0.0  0.3 692320 15560 ?        Sl   Aug15   0:00 /usr/lib/evolution/evolution-addressbook-factory\n",
      "\n",
      "tcloudo+  3027  0.0  0.3 767880 16100 ?        Sl   Aug15   0:00 /usr/lib/evolution/evolution-addressbook-factory-subprocess --factory local --bus-name org.gnome.evolution.dataserver.Subprocess.Backend.AddressBookx3008x2 --own-path /org/gnome/evolution/dataserver/Subprocess/Backend/AddressBook/3008/2\n",
      "\n",
      "tcloudo+  3052  0.0  0.1 344896  5620 ?        Sl   Aug15   0:00 /usr/lib/gvfs/gvfsd-burn --spawner :1.6 /org/gtk/gvfs/exec_spaw/1\n",
      "\n",
      "tcloudo+  3071  0.0  0.1 190828  6080 ?        Sl   Aug15   0:01 /usr/lib/gvfs/gvfsd-metadata\n",
      "\n",
      "tcloudo+  3074  0.0  0.5 549184 23004 ?        Sl   Aug15   0:43 telepathy-indicator\n",
      "\n",
      "tcloudo+  3082  0.0  0.2 425156 11808 ?        Sl   Aug15   0:03 /usr/lib/telepathy/mission-control-5\n",
      "\n",
      "tcloudo+  3110  0.0  0.3 552360 15536 ?        Sl   Aug15   2:19 zeitgeist-datahub\n",
      "\n",
      "tcloudo+  3119  0.0  0.1 412588  7792 ?        Sl   Aug15   0:06 /usr/bin/zeitgeist-daemon\n",
      "\n",
      "tcloudo+  3128  0.0  0.7 334392 28936 ?        Sl   Aug15   0:13 /usr/lib/x86_64-linux-gnu/zeitgeist-fts\n",
      "\n",
      "tcloudo+  3270  0.0  0.6 520836 26308 ?        Sl   Aug15   0:45 update-notifier\n",
      "\n",
      "tcloudo+  3382  0.0  0.2 589428  9724 ?        Sl   Aug15   0:00 /usr/lib/x86_64-linux-gnu/deja-dup/deja-dup-monitor\n",
      "\n",
      "root      4230  0.1  0.0      0     0 ?        S    07:03   0:02 [kworker/0:2]\n",
      "\n",
      "tcloudo+  4234  0.0  0.4 714196 18268 ?        Sl   Aug15   0:01 /usr/lib/gvfs/gvfsd-http --spawner :1.6 /org/gtk/gvfs/exec_spaw/2\n",
      "\n",
      "root      4443  0.0  0.2  23456 10348 ?        S    07:05   0:00 /sbin/dhclient -d -q -sf /usr/lib/NetworkManager/nm-dhcp-helper -pf /run/sendsigs.omit.d/network-manager.dhclient-enp0s8.pid -lf /var/lib/NetworkManager/dhclient-3561e2f8-9001-4793-ad05-bc7a69338fe0-enp0s8.lease -cf /var/lib/NetworkManager/dhclient-enp0s8.conf enp0s8\n",
      "\n",
      "root      4445  0.0  0.2  23456 10308 ?        S    07:05   0:00 /sbin/dhclient -d -q -sf /usr/lib/NetworkManager/nm-dhcp-helper -pf /run/sendsigs.omit.d/network-manager.dhclient-enp0s3.pid -lf /var/lib/NetworkManager/dhclient-d693b43d-f511-4b61-8167-1b8b49b3af1a-enp0s3.lease -cf /var/lib/NetworkManager/dhclient-enp0s3.conf enp0s3\n",
      "\n",
      "root      4467  0.0  0.2  23456 10360 ?        S    07:05   0:00 /sbin/dhclient -d -q -sf /usr/lib/NetworkManager/nm-dhcp-helper -pf /run/sendsigs.omit.d/network-manager.dhclient-enp0s9.pid -lf /var/lib/NetworkManager/dhclient-c9aaab2f-0078-4b7d-bb94-e9cf47ea7a0c-enp0s9.lease -cf /var/lib/NetworkManager/dhclient-enp0s9.conf enp0s9\n",
      "\n",
      "root      4498  0.0  0.2  23456 10296 ?        S    07:05   0:00 /sbin/dhclient -d -q -sf /usr/lib/NetworkManager/nm-dhcp-helper -pf /run/sendsigs.omit.d/network-manager.dhclient-enp0s10.pid -lf /var/lib/NetworkManager/dhclient-cd60d770-25b1-418f-8f5e-6c5935e54c40-enp0s10.lease -cf /var/lib/NetworkManager/dhclient-enp0s10.conf enp0s10\n",
      "\n",
      "tcloudo+  5308  0.0  0.1 111552  7572 ?        Sl   Aug17   0:00 /home/tcloudost/Downloads/chromedriver\n",
      "\n",
      "tcloudo+  5323  0.0  0.2 111552  8264 ?        Sl   Aug17   0:00 /home/tcloudost/Downloads/chromedriver\n",
      "\n",
      "tcloudo+  5643  0.0  0.6 741620 26812 ?        Sl   Aug15   0:09 /usr/lib/x86_64-linux-gnu/unity-scope-home/unity-scope-home\n",
      "\n",
      "tcloudo+  5662  0.0  0.3 710684 16188 ?        Sl   Aug15   0:51 /usr/lib/x86_64-linux-gnu/unity-lens-files/unity-files-daemon\n",
      "\n",
      "tcloudo+  5663  0.0  0.6 583476 24724 ?        Sl   Aug15   0:37 /usr/bin/unity-scope-loader applications/applications.scope applications/scopes.scope commands.scope\n",
      "\n",
      "uuidd     5701  0.0  0.0  27592  1252 ?        Ss   Aug15   0:00 /usr/sbin/uuidd --socket-activation\n",
      "\n",
      "tcloudo+  5705  0.0  0.2 339344 11908 ?        Sl   Aug15   0:28 /usr/lib/x86_64-linux-gnu/unity-lens-music/unity-music-daemon\n",
      "\n",
      "root      6274  0.0  0.0      0     0 ?        S    07:21   0:00 [kworker/u2:2]\n",
      "\n",
      "postgres  6555  0.0  0.3 295016 15060 ?        Ss   07:24   0:00 postgres: postgres db3 127.0.0.1(49530) idle                                                                                \n",
      "\n",
      "tcloudo+  6937 12.6 22.4 2163940 907472 ?      Rl   Aug17 165:49 /usr/lib/firefox/firefox\n",
      "\n",
      "tcloudo+  7002  0.8  1.4 354872 56688 pts/18   Sl+  07:29   0:04 /home/tcloudost/anac3/bin/python /home/tcloudost/anac3/bin/ipython notebook\n",
      "\n",
      "root      7086  0.0  0.0  19860  2432 ?        Ss   07:30   0:00 /usr/sbin/anacron -dsq\n",
      "\n",
      "tcloudo+  7105  0.7  1.1 800400 48400 ?        Ssl  07:30   0:04 /home/tcloudost/anac3/bin/python -m ipykernel -f /run/user/1000/jupyter/kernel-4d6d7b14-bef1-4e5c-b134-dc9f131ccaf7.json\n",
      "\n",
      "tcloudo+  7363  0.2  1.7 890136 70528 ?        Sl   00:30   0:59 sqlitebrowser /home/tcloudost/pythonexamples/batch31/db1.db\n",
      "\n",
      "root      7390  0.1  0.0      0     0 ?        S    07:32   0:00 [kworker/0:0]\n",
      "\n",
      "root      7719  0.0  0.1 101896  6940 ?        Ss   07:35   0:00 sshd: tcloudost [priv]\n",
      "\n",
      "tcloudo+  7763  0.0  0.1 101896  4324 ?        S    07:35   0:00 sshd: tcloudost@notty\n",
      "\n",
      "tcloudo+  7990  5.0  0.0  22676  2704 ?        Rs   07:39   0:00 ps -aux\n",
      "\n",
      "tcloudo+  9762  0.0  0.7 486852 29256 ?        Sl   Aug15   0:51 /usr/lib/x86_64-linux-gnu/notify-osd\n",
      "\n",
      "tcloudo+ 11248  0.1  1.4 775984 58944 ?        Sl   01:28   0:25 gedit /home/tcloudost/pythonexamples/batch31/mails.txt\n",
      "\n",
      "tcloudo+ 11871  0.8  2.1 1993760 87988 ?       Ssl  01:36   3:15 /opt/sublime_text/sublime_text\n",
      "\n",
      "tcloudo+ 11893  0.0  1.0 303924 43724 ?        Sl   01:36   0:14 /opt/sublime_text/plugin_host 11871\n",
      "\n",
      "tcloudo+ 15488  0.0  1.8 761724 73620 ?        Sl   02:11   0:14 pgadmin3\n",
      "\n",
      "postgres 16267  0.0  0.3 295712 14772 ?        Ss   02:20   0:00 postgres: postgres postgres 127.0.0.1(48240) idle                                                                           \n",
      "\n",
      "postgres 17849  0.0  0.6 306244 27360 ?        Ss   02:40   0:00 postgres: postgres db3 127.0.0.1(48296) idle                                                                                \n",
      "\n",
      "tcloudo+ 19408  0.0  1.8 746436 75208 ?        Sl   03:01   0:08 /usr/bin/mono /usr/lib/pinta/Pinta.exe\n",
      "\n",
      "tcloudo+ 23115  0.0  1.0 635640 44376 ?        Ssl  Aug16   0:51 /home/tcloudost/anac3/bin/python -m ipykernel -f /run/user/1000/jupyter/kernel-3e4ddd5d-8bfb-44c6-8012-3038dbdf82e3.json\n",
      "\n",
      "tcloudo+ 25449  0.0  1.0 637320 42044 ?        Ssl  04:28   0:07 /home/tcloudost/anac3/bin/python -m ipykernel -f /run/user/1000/jupyter/kernel-26c9a4e7-0bb9-4041-8cd2-e0b9f39d4ef4.json\n",
      "\n",
      "tcloudo+ 28908  0.1  0.9 651088 39952 ?        Sl   Aug17   0:45 /usr/lib/gnome-terminal/gnome-terminal-server\n",
      "\n",
      "tcloudo+ 28919  0.0  0.0  14852  1988 ?        S    Aug17   0:00 gnome-pty-helper\n",
      "\n",
      "tcloudo+ 30050  0.0  0.1  27592  6344 pts/17   Ss+  Aug17   0:01 bash\n",
      "\n",
      "tcloudo+ 30371  0.0  0.1  27568  6292 pts/18   Ss   05:33   0:00 bash\n",
      "\n",
      "root     31574  0.0  0.0      0     0 ?        S    05:52   0:01 [kworker/u2:0]\n",
      "\n",
      "tcloudo+ 32515  0.0  1.1 897564 45840 ?        Sl   06:06   0:04 evince /home/tcloudost/Downloads/Untitled1.pdf\n",
      "\n",
      "tcloudo+ 32527  0.0  0.1 178460  4352 ?        Sl   06:06   0:00 /usr/lib/evince/evinced\n",
      "\n"
     ]
    }
   ],
   "source": [
    "inp, outp, errp = ssh.exec_command('ps -aux')\n",
    "for row in outp.readlines():\n",
    "    print row"
   ]
  },
  {
   "cell_type": "code",
   "execution_count": 12,
   "metadata": {
    "collapsed": false
   },
   "outputs": [
    {
     "name": "stdout",
     "output_type": "stream",
     "text": [
      "tcloudo+ 19408  0.0  1.8 746436 75208 ?        Sl   03:01   0:08 /usr/bin/mono /usr/lib/pinta/Pinta.exe\n",
      "\n"
     ]
    }
   ],
   "source": [
    "inp, outp, errp = ssh.exec_command('ps -aux')\n",
    "for row in outp.readlines():\n",
    "    if \"Pinta.exe\" in row:\n",
    "        print row"
   ]
  },
  {
   "cell_type": "code",
   "execution_count": 13,
   "metadata": {
    "collapsed": false
   },
   "outputs": [
    {
     "name": "stdout",
     "output_type": "stream",
     "text": [
      "[u'tcloudo+', u'19408', u'0.0', u'1.8', u'746436', u'75208', u'?', u'Sl', u'03:01', u'0:08', u'/usr/bin/mono', u'/usr/lib/pinta/Pinta.exe']\n"
     ]
    }
   ],
   "source": [
    "inp, outp, errp = ssh.exec_command('ps -aux')\n",
    "for row in outp.readlines():\n",
    "    if \"Pinta.exe\" in row:\n",
    "        print row.split()"
   ]
  },
  {
   "cell_type": "code",
   "execution_count": 14,
   "metadata": {
    "collapsed": false
   },
   "outputs": [
    {
     "name": "stdout",
     "output_type": "stream",
     "text": [
      "19408\n"
     ]
    }
   ],
   "source": [
    "inp, outp, errp = ssh.exec_command('ps -aux')\n",
    "for row in outp.readlines():\n",
    "    if \"Pinta.exe\" in row:\n",
    "        print row.split()[1]"
   ]
  },
  {
   "cell_type": "code",
   "execution_count": 15,
   "metadata": {
    "collapsed": false
   },
   "outputs": [
    {
     "data": {
      "text/plain": [
       "(<paramiko.ChannelFile from <paramiko.Channel 9 (open) window=2097152 -> <paramiko.Transport at 0xd009a650L (cipher aes128-ctr, 128 bits) (active; 1 open channel(s))>>>,\n",
       " <paramiko.ChannelFile from <paramiko.Channel 9 (open) window=2097152 -> <paramiko.Transport at 0xd009a650L (cipher aes128-ctr, 128 bits) (active; 1 open channel(s))>>>,\n",
       " <paramiko.ChannelFile from <paramiko.Channel 9 (open) window=2097152 -> <paramiko.Transport at 0xd009a650L (cipher aes128-ctr, 128 bits) (active; 1 open channel(s))>>>)"
      ]
     },
     "execution_count": 15,
     "metadata": {},
     "output_type": "execute_result"
    }
   ],
   "source": [
    "inp, outp, errp = ssh.exec_command('ps -aux')\n",
    "for row in outp.readlines():\n",
    "    if \"Pinta.exe\" in row:\n",
    "        pid = row.split()[1]\n",
    "        break\n",
    "ssh.exec_command('kill -9 %s'%pid)\n",
    "        "
   ]
  },
  {
   "cell_type": "code",
   "execution_count": 16,
   "metadata": {
    "collapsed": true
   },
   "outputs": [],
   "source": [
    "sftp = ssh.open_sftp()"
   ]
  },
  {
   "cell_type": "code",
   "execution_count": 17,
   "metadata": {
    "collapsed": true
   },
   "outputs": [],
   "source": [
    "sftp.put?"
   ]
  },
  {
   "cell_type": "code",
   "execution_count": 18,
   "metadata": {
    "collapsed": true
   },
   "outputs": [],
   "source": [
    "sftp.get?"
   ]
  },
  {
   "cell_type": "code",
   "execution_count": 19,
   "metadata": {
    "collapsed": false
   },
   "outputs": [
    {
     "data": {
      "text/plain": [
       "(<paramiko.ChannelFile from <paramiko.Channel 11 (open) window=2097152 -> <paramiko.Transport at 0xd009a650L (cipher aes128-ctr, 128 bits) (active; 2 open channel(s))>>>,\n",
       " <paramiko.ChannelFile from <paramiko.Channel 11 (open) window=2097152 -> <paramiko.Transport at 0xd009a650L (cipher aes128-ctr, 128 bits) (active; 2 open channel(s))>>>,\n",
       " <paramiko.ChannelFile from <paramiko.Channel 11 (open) window=2097152 -> <paramiko.Transport at 0xd009a650L (cipher aes128-ctr, 128 bits) (active; 2 open channel(s))>>>)"
      ]
     },
     "execution_count": 19,
     "metadata": {},
     "output_type": "execute_result"
    }
   ],
   "source": [
    "ssh.exec_command(\"echo pythonrocks|sudo -S ls /proc\")"
   ]
  },
  {
   "cell_type": "code",
   "execution_count": 20,
   "metadata": {
    "collapsed": true
   },
   "outputs": [],
   "source": [
    "inp, outp, errp = ssh.exec_command(\"echo pythonrocks|sudo -S ls /proc\")"
   ]
  },
  {
   "cell_type": "code",
   "execution_count": 21,
   "metadata": {
    "collapsed": false
   },
   "outputs": [
    {
     "data": {
      "text/plain": [
       "[u'1\\n',\n",
       " u'10\\n',\n",
       " u'1024\\n',\n",
       " u'1084\\n',\n",
       " u'11\\n',\n",
       " u'11248\\n',\n",
       " u'113\\n',\n",
       " u'114\\n',\n",
       " u'116\\n',\n",
       " u'118\\n',\n",
       " u'11871\\n',\n",
       " u'11893\\n',\n",
       " u'12\\n',\n",
       " u'1251\\n',\n",
       " u'13\\n',\n",
       " u'14\\n',\n",
       " u'144\\n',\n",
       " u'145\\n',\n",
       " u'15\\n',\n",
       " u'15488\\n',\n",
       " u'16\\n',\n",
       " u'16267\\n',\n",
       " u'17\\n',\n",
       " u'1738\\n',\n",
       " u'17849\\n',\n",
       " u'18\\n',\n",
       " u'184\\n',\n",
       " u'1852\\n',\n",
       " u'1854\\n',\n",
       " u'1857\\n',\n",
       " u'1862\\n',\n",
       " u'1866\\n',\n",
       " u'19\\n',\n",
       " u'1938\\n',\n",
       " u'1950\\n',\n",
       " u'1951\\n',\n",
       " u'196\\n',\n",
       " u'2\\n',\n",
       " u'20\\n',\n",
       " u'2021\\n',\n",
       " u'2074\\n',\n",
       " u'21\\n',\n",
       " u'2103\\n',\n",
       " u'2116\\n',\n",
       " u'212\\n',\n",
       " u'22\\n',\n",
       " u'23\\n',\n",
       " u'23115\\n',\n",
       " u'24\\n',\n",
       " u'2453\\n',\n",
       " u'2455\\n',\n",
       " u'2461\\n',\n",
       " u'2463\\n',\n",
       " u'25\\n',\n",
       " u'2540\\n',\n",
       " u'25449\\n',\n",
       " u'2546\\n',\n",
       " u'2553\\n',\n",
       " u'2561\\n',\n",
       " u'2566\\n',\n",
       " u'2574\\n',\n",
       " u'2580\\n',\n",
       " u'2587\\n',\n",
       " u'2599\\n',\n",
       " u'26\\n',\n",
       " u'2609\\n',\n",
       " u'2615\\n',\n",
       " u'2621\\n',\n",
       " u'2630\\n',\n",
       " u'2638\\n',\n",
       " u'2640\\n',\n",
       " u'2659\\n',\n",
       " u'2662\\n',\n",
       " u'2691\\n',\n",
       " u'27\\n',\n",
       " u'2709\\n',\n",
       " u'2717\\n',\n",
       " u'2718\\n',\n",
       " u'2737\\n',\n",
       " u'2739\\n',\n",
       " u'2743\\n',\n",
       " u'2748\\n',\n",
       " u'2750\\n',\n",
       " u'2765\\n',\n",
       " u'2767\\n',\n",
       " u'2773\\n',\n",
       " u'2774\\n',\n",
       " u'2779\\n',\n",
       " u'2780\\n',\n",
       " u'2795\\n',\n",
       " u'2817\\n',\n",
       " u'2818\\n',\n",
       " u'2819\\n',\n",
       " u'2823\\n',\n",
       " u'2838\\n',\n",
       " u'2840\\n',\n",
       " u'2848\\n',\n",
       " u'2849\\n',\n",
       " u'2851\\n',\n",
       " u'2853\\n',\n",
       " u'2858\\n',\n",
       " u'2880\\n',\n",
       " u'28908\\n',\n",
       " u'28919\\n',\n",
       " u'2908\\n',\n",
       " u'2913\\n',\n",
       " u'2915\\n',\n",
       " u'2916\\n',\n",
       " u'2927\\n',\n",
       " u'2932\\n',\n",
       " u'2938\\n',\n",
       " u'2942\\n',\n",
       " u'2950\\n',\n",
       " u'2956\\n',\n",
       " u'2964\\n',\n",
       " u'2974\\n',\n",
       " u'298\\n',\n",
       " u'2996\\n',\n",
       " u'3\\n',\n",
       " u'30\\n',\n",
       " u'3005\\n',\n",
       " u'30050\\n',\n",
       " u'3008\\n',\n",
       " u'3027\\n',\n",
       " u'30371\\n',\n",
       " u'3052\\n',\n",
       " u'3071\\n',\n",
       " u'3074\\n',\n",
       " u'3082\\n',\n",
       " u'31\\n',\n",
       " u'310\\n',\n",
       " u'3110\\n',\n",
       " u'3119\\n',\n",
       " u'3128\\n',\n",
       " u'31574\\n',\n",
       " u'32\\n',\n",
       " u'32515\\n',\n",
       " u'32527\\n',\n",
       " u'3270\\n',\n",
       " u'33\\n',\n",
       " u'3382\\n',\n",
       " u'4230\\n',\n",
       " u'4234\\n',\n",
       " u'44\\n',\n",
       " u'4443\\n',\n",
       " u'4445\\n',\n",
       " u'4467\\n',\n",
       " u'4498\\n',\n",
       " u'45\\n',\n",
       " u'46\\n',\n",
       " u'47\\n',\n",
       " u'48\\n',\n",
       " u'485\\n',\n",
       " u'486\\n',\n",
       " u'488\\n',\n",
       " u'489\\n',\n",
       " u'49\\n',\n",
       " u'496\\n',\n",
       " u'497\\n',\n",
       " u'5\\n',\n",
       " u'502\\n',\n",
       " u'5308\\n',\n",
       " u'5323\\n',\n",
       " u'539\\n',\n",
       " u'54\\n',\n",
       " u'556\\n',\n",
       " u'5643\\n',\n",
       " u'5662\\n',\n",
       " u'5663\\n',\n",
       " u'570\\n',\n",
       " u'5701\\n',\n",
       " u'5705\\n',\n",
       " u'572\\n',\n",
       " u'585\\n',\n",
       " u'587\\n',\n",
       " u'594\\n',\n",
       " u'597\\n',\n",
       " u'605\\n',\n",
       " u'6274\\n',\n",
       " u'6555\\n',\n",
       " u'6937\\n',\n",
       " u'7\\n',\n",
       " u'7002\\n',\n",
       " u'7105\\n',\n",
       " u'7363\\n',\n",
       " u'7390\\n',\n",
       " u'74\\n',\n",
       " u'75\\n',\n",
       " u'7719\\n',\n",
       " u'7763\\n',\n",
       " u'781\\n',\n",
       " u'8\\n',\n",
       " u'8094\\n',\n",
       " u'8151\\n',\n",
       " u'8168\\n',\n",
       " u'8366\\n',\n",
       " u'8368\\n',\n",
       " u'8369\\n',\n",
       " u'9\\n',\n",
       " u'9762\\n',\n",
       " u'978\\n',\n",
       " u'985\\n',\n",
       " u'986\\n',\n",
       " u'acpi\\n',\n",
       " u'asound\\n',\n",
       " u'buddyinfo\\n',\n",
       " u'bus\\n',\n",
       " u'cgroups\\n',\n",
       " u'cmdline\\n',\n",
       " u'consoles\\n',\n",
       " u'cpuinfo\\n',\n",
       " u'crypto\\n',\n",
       " u'devices\\n',\n",
       " u'diskstats\\n',\n",
       " u'dma\\n',\n",
       " u'driver\\n',\n",
       " u'execdomains\\n',\n",
       " u'fb\\n',\n",
       " u'filesystems\\n',\n",
       " u'fs\\n',\n",
       " u'interrupts\\n',\n",
       " u'iomem\\n',\n",
       " u'ioports\\n',\n",
       " u'irq\\n',\n",
       " u'kallsyms\\n',\n",
       " u'kcore\\n',\n",
       " u'keys\\n',\n",
       " u'key-users\\n',\n",
       " u'kmsg\\n',\n",
       " u'kpagecount\\n',\n",
       " u'kpageflags\\n',\n",
       " u'loadavg\\n',\n",
       " u'locks\\n',\n",
       " u'mdstat\\n',\n",
       " u'meminfo\\n',\n",
       " u'misc\\n',\n",
       " u'modules\\n',\n",
       " u'mounts\\n',\n",
       " u'mtrr\\n',\n",
       " u'net\\n',\n",
       " u'pagetypeinfo\\n',\n",
       " u'partitions\\n',\n",
       " u'sched_debug\\n',\n",
       " u'schedstat\\n',\n",
       " u'scsi\\n',\n",
       " u'self\\n',\n",
       " u'slabinfo\\n',\n",
       " u'softirqs\\n',\n",
       " u'stat\\n',\n",
       " u'swaps\\n',\n",
       " u'sys\\n',\n",
       " u'sysrq-trigger\\n',\n",
       " u'sysvipc\\n',\n",
       " u'thread-self\\n',\n",
       " u'timer_list\\n',\n",
       " u'timer_stats\\n',\n",
       " u'tty\\n',\n",
       " u'uptime\\n',\n",
       " u'version\\n',\n",
       " u'version_signature\\n',\n",
       " u'vmallocinfo\\n',\n",
       " u'vmstat\\n',\n",
       " u'zoneinfo\\n']"
      ]
     },
     "execution_count": 21,
     "metadata": {},
     "output_type": "execute_result"
    }
   ],
   "source": [
    "outp.readlines()"
   ]
  },
  {
   "cell_type": "code",
   "execution_count": 22,
   "metadata": {
    "collapsed": false
   },
   "outputs": [
    {
     "data": {
      "text/plain": [
       "(<paramiko.ChannelFile from <paramiko.Channel 13 (open) window=2097152 -> <paramiko.Transport at 0xd009a650L (cipher aes128-ctr, 128 bits) (active; 2 open channel(s))>>>,\n",
       " <paramiko.ChannelFile from <paramiko.Channel 13 (open) window=2097152 -> <paramiko.Transport at 0xd009a650L (cipher aes128-ctr, 128 bits) (active; 2 open channel(s))>>>,\n",
       " <paramiko.ChannelFile from <paramiko.Channel 13 (open) window=2097152 -> <paramiko.Transport at 0xd009a650L (cipher aes128-ctr, 128 bits) (active; 2 open channel(s))>>>)"
      ]
     },
     "execution_count": 22,
     "metadata": {},
     "output_type": "execute_result"
    }
   ],
   "source": [
    "ssh.exec_command('mkdir /home/tcloudost/pythonexamples/batch32/folder123')"
   ]
  },
  {
   "cell_type": "code",
   "execution_count": 23,
   "metadata": {
    "collapsed": false
   },
   "outputs": [
    {
     "data": {
      "text/plain": [
       "(<paramiko.ChannelFile from <paramiko.Channel 14 (open) window=2097152 -> <paramiko.Transport at 0xd009a650L (cipher aes128-ctr, 128 bits) (active; 2 open channel(s))>>>,\n",
       " <paramiko.ChannelFile from <paramiko.Channel 14 (open) window=2097152 -> <paramiko.Transport at 0xd009a650L (cipher aes128-ctr, 128 bits) (active; 2 open channel(s))>>>,\n",
       " <paramiko.ChannelFile from <paramiko.Channel 14 (open) window=2097152 -> <paramiko.Transport at 0xd009a650L (cipher aes128-ctr, 128 bits) (active; 2 open channel(s))>>>)"
      ]
     },
     "execution_count": 23,
     "metadata": {},
     "output_type": "execute_result"
    }
   ],
   "source": [
    "ssh.exec_command('cd /home/tcloudost/pythonexamples/batch32/\\nrm folder123')"
   ]
  },
  {
   "cell_type": "code",
   "execution_count": 25,
   "metadata": {
    "collapsed": false
   },
   "outputs": [
    {
     "data": {
      "text/plain": [
       "(<paramiko.ChannelFile from <paramiko.Channel 16 (open) window=2097152 -> <paramiko.Transport at 0xd009a650L (cipher aes128-ctr, 128 bits) (active; 2 open channel(s))>>>,\n",
       " <paramiko.ChannelFile from <paramiko.Channel 16 (open) window=2097152 -> <paramiko.Transport at 0xd009a650L (cipher aes128-ctr, 128 bits) (active; 2 open channel(s))>>>,\n",
       " <paramiko.ChannelFile from <paramiko.Channel 16 (open) window=2097152 -> <paramiko.Transport at 0xd009a650L (cipher aes128-ctr, 128 bits) (active; 2 open channel(s))>>>)"
      ]
     },
     "execution_count": 25,
     "metadata": {},
     "output_type": "execute_result"
    }
   ],
   "source": [
    "ssh.exec_command('cd /home/tcloudost/pythonexamples/batch32/\\nrm -r folder123')"
   ]
  },
  {
   "cell_type": "code",
   "execution_count": null,
   "metadata": {
    "collapsed": true
   },
   "outputs": [],
   "source": []
  }
 ],
 "metadata": {
  "kernelspec": {
   "display_name": "Python 2",
   "language": "python",
   "name": "python2"
  },
  "language_info": {
   "codemirror_mode": {
    "name": "ipython",
    "version": 2
   },
   "file_extension": ".py",
   "mimetype": "text/x-python",
   "name": "python",
   "nbconvert_exporter": "python",
   "pygments_lexer": "ipython2",
   "version": "2.7.13"
  }
 },
 "nbformat": 4,
 "nbformat_minor": 2
}
