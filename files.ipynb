{
 "cells": [
  {
   "cell_type": "code",
   "execution_count": 1,
   "metadata": {
    "collapsed": true
   },
   "outputs": [],
   "source": [
    "f=open('data.csv','w')\n"
   ]
  },
  {
   "cell_type": "code",
   "execution_count": 2,
   "metadata": {
    "collapsed": true
   },
   "outputs": [],
   "source": [
    "f.write(\"some content\")"
   ]
  },
  {
   "cell_type": "code",
   "execution_count": 3,
   "metadata": {
    "collapsed": true
   },
   "outputs": [],
   "source": [
    "f.close()"
   ]
  },
  {
   "cell_type": "code",
   "execution_count": 4,
   "metadata": {
    "collapsed": true
   },
   "outputs": [],
   "source": [
    "f=open('data.csv','w')"
   ]
  },
  {
   "cell_type": "code",
   "execution_count": 5,
   "metadata": {
    "collapsed": true
   },
   "outputs": [],
   "source": [
    "f=open('data.csv','w')\n",
    "f.write(\"some content\")\n",
    "f.close()"
   ]
  },
  {
   "cell_type": "code",
   "execution_count": 6,
   "metadata": {
    "collapsed": true
   },
   "outputs": [],
   "source": [
    "f=open('data.csv','a')\n",
    "f.write(\"\\nsome cother content ontent\")\n",
    "f.close()"
   ]
  },
  {
   "cell_type": "code",
   "execution_count": 7,
   "metadata": {
    "collapsed": true
   },
   "outputs": [],
   "source": [
    "l=['product1','product2','product3']\n",
    "f=open('data.csv','a')\n",
    "f.writelines(l)\n",
    "f.close()"
   ]
  },
  {
   "cell_type": "code",
   "execution_count": 8,
   "metadata": {
    "collapsed": false
   },
   "outputs": [
    {
     "ename": "ValueError",
     "evalue": "I/O operation on closed file",
     "output_type": "error",
     "traceback": [
      "\u001b[0;31m---------------------------------------------------------------------------\u001b[0m",
      "\u001b[0;31mValueError\u001b[0m                                Traceback (most recent call last)",
      "\u001b[0;32m<ipython-input-8-dcee26225f5f>\u001b[0m in \u001b[0;36m<module>\u001b[0;34m()\u001b[0m\n\u001b[0;32m----> 1\u001b[0;31m \u001b[0mf\u001b[0m\u001b[0;34m.\u001b[0m\u001b[0mwrite\u001b[0m\u001b[0;34m(\u001b[0m\u001b[0;34m\"content af ter close\"\u001b[0m\u001b[0;34m)\u001b[0m\u001b[0;34m\u001b[0m\u001b[0m\n\u001b[0m",
      "\u001b[0;31mValueError\u001b[0m: I/O operation on closed file"
     ]
    }
   ],
   "source": [
    "f.write(\"content af ter close\")"
   ]
  },
  {
   "cell_type": "code",
   "execution_count": 9,
   "metadata": {
    "collapsed": true
   },
   "outputs": [],
   "source": [
    "f=open('data.csv','a')\n",
    "f.write(\"important data...\")\n",
    "f.flush()\n",
    "f.write(\"After flush ading the content.\")"
   ]
  },
  {
   "cell_type": "code",
   "execution_count": 10,
   "metadata": {
    "collapsed": true
   },
   "outputs": [],
   "source": [
    "f.close()"
   ]
  },
  {
   "cell_type": "code",
   "execution_count": 13,
   "metadata": {
    "collapsed": false
   },
   "outputs": [],
   "source": [
    "f=open('data.csv','w')\n",
    "import random\n",
    "l=[23,34,45,25,30]\n",
    "s=['10L',\"20L\",'7L','6L']\n",
    "for i in range(20):\n",
    "    f.write(\"name{0},{1},{2}\\n\".format(i,random.choice(l),random.choice(s)))\n",
    "f.close()"
   ]
  },
  {
   "cell_type": "code",
   "execution_count": 14,
   "metadata": {
    "collapsed": false
   },
   "outputs": [
    {
     "ename": "IOError",
     "evalue": "[Errno 2] No such file or directory: 'data1.csv'",
     "output_type": "error",
     "traceback": [
      "\u001b[0;31m---------------------------------------------------------------------------\u001b[0m",
      "\u001b[0;31mIOError\u001b[0m                                   Traceback (most recent call last)",
      "\u001b[0;32m<ipython-input-14-134a83aaac40>\u001b[0m in \u001b[0;36m<module>\u001b[0;34m()\u001b[0m\n\u001b[0;32m----> 1\u001b[0;31m \u001b[0mf\u001b[0m\u001b[0;34m=\u001b[0m\u001b[0mopen\u001b[0m\u001b[0;34m(\u001b[0m\u001b[0;34m'data1.csv'\u001b[0m\u001b[0;34m,\u001b[0m\u001b[0;34m'r'\u001b[0m\u001b[0;34m)\u001b[0m\u001b[0;34m\u001b[0m\u001b[0m\n\u001b[0m",
      "\u001b[0;31mIOError\u001b[0m: [Errno 2] No such file or directory: 'data1.csv'"
     ]
    }
   ],
   "source": [
    "f=open('data1.csv','r')"
   ]
  },
  {
   "cell_type": "code",
   "execution_count": 15,
   "metadata": {
    "collapsed": false
   },
   "outputs": [
    {
     "name": "stdout",
     "output_type": "stream",
     "text": [
      "name0,25,10L\n",
      "name1,45,10L\n",
      "name2,25,7L\n",
      "name3,45,6L\n",
      "name4,45,10L\n",
      "name5,34,10L\n",
      "name6,23,7L\n",
      "name7,23,10L\n",
      "name8,34,6L\n",
      "name9,45,6L\n",
      "name10,34,6L\n",
      "name11,30,6L\n",
      "name12,45,7L\n",
      "name13,34,7L\n",
      "name14,45,6L\n",
      "name15,25,10L\n",
      "name16,34,10L\n",
      "name17,45,20L\n",
      "name18,23,20L\n",
      "name19,25,10L\n",
      "\n"
     ]
    }
   ],
   "source": [
    "f=open('data.csv','r')\n",
    "data=f.read()\n",
    "print data"
   ]
  },
  {
   "cell_type": "code",
   "execution_count": 16,
   "metadata": {
    "collapsed": false
   },
   "outputs": [
    {
     "data": {
      "text/plain": [
       "str"
      ]
     },
     "execution_count": 16,
     "metadata": {},
     "output_type": "execute_result"
    }
   ],
   "source": [
    "type(data)"
   ]
  },
  {
   "cell_type": "code",
   "execution_count": 17,
   "metadata": {
    "collapsed": false
   },
   "outputs": [
    {
     "name": "stdout",
     "output_type": "stream",
     "text": [
      "name0,25,10L\n",
      "name1,45,10L\n",
      "name2,25,7L\n",
      "name3,45,6L\n",
      "name4,45,10L\n",
      "name5,34,10L\n",
      "name6,23,7L\n",
      "name7,23,10L\n",
      "name8,34,6L\n",
      "name9,45,6L\n",
      "name10,34,6L\n",
      "name11,30,6L\n",
      "name12,45,7L\n",
      "name13,34,7L\n",
      "name14,45,6L\n",
      "name15,25,10L\n",
      "name16,34,10L\n",
      "name17,45,20L\n",
      "name18,23,20L\n",
      "name19,25,10L\n"
     ]
    }
   ],
   "source": [
    "data_lines=data.splitlines()\n",
    "for row in data_lines:\n",
    "    print row"
   ]
  },
  {
   "cell_type": "code",
   "execution_count": 18,
   "metadata": {
    "collapsed": false
   },
   "outputs": [
    {
     "name": "stdout",
     "output_type": "stream",
     "text": [
      "name0,25,10L\n"
     ]
    }
   ],
   "source": [
    "data_lines=data.splitlines()\n",
    "for row in data_lines:\n",
    "    print row\n",
    "    break"
   ]
  },
  {
   "cell_type": "code",
   "execution_count": 19,
   "metadata": {
    "collapsed": false
   },
   "outputs": [
    {
     "name": "stdout",
     "output_type": "stream",
     "text": [
      "25\n"
     ]
    }
   ],
   "source": [
    "data_lines=data.splitlines()\n",
    "for row in data_lines:\n",
    "    print row.split(',')[1]\n",
    "    break"
   ]
  },
  {
   "cell_type": "code",
   "execution_count": 21,
   "metadata": {
    "collapsed": false
   },
   "outputs": [
    {
     "name": "stdout",
     "output_type": "stream",
     "text": [
      "name1,45,10L\n",
      "name3,45,6L\n",
      "name4,45,10L\n",
      "name5,34,10L\n",
      "name8,34,6L\n",
      "name9,45,6L\n",
      "name10,34,6L\n",
      "name12,45,7L\n",
      "name13,34,7L\n",
      "name14,45,6L\n",
      "name16,34,10L\n",
      "name17,45,20L\n"
     ]
    }
   ],
   "source": [
    "data_lines=data.splitlines()\n",
    "for row in data_lines:\n",
    "    age=int(row.split(',')[1])\n",
    "    if age>30:\n",
    "        print row"
   ]
  },
  {
   "cell_type": "code",
   "execution_count": 22,
   "metadata": {
    "collapsed": false
   },
   "outputs": [
    {
     "name": "stdout",
     "output_type": "stream",
     "text": [
      "['name0,25,10L\\n', 'name1,45,10L\\n', 'name2,25,7L\\n', 'name3,45,6L\\n', 'name4,45,10L\\n', 'name5,34,10L\\n', 'name6,23,7L\\n', 'name7,23,10L\\n', 'name8,34,6L\\n', 'name9,45,6L\\n', 'name10,34,6L\\n', 'name11,30,6L\\n', 'name12,45,7L\\n', 'name13,34,7L\\n', 'name14,45,6L\\n', 'name15,25,10L\\n', 'name16,34,10L\\n', 'name17,45,20L\\n', 'name18,23,20L\\n', 'name19,25,10L\\n']\n"
     ]
    }
   ],
   "source": [
    "f=open('data.csv')\n",
    "data=f.readlines()\n",
    "print data"
   ]
  },
  {
   "cell_type": "code",
   "execution_count": 25,
   "metadata": {
    "collapsed": false
   },
   "outputs": [],
   "source": [
    "f=open('data.csv')\n",
    "data=f.readlines()\n",
    "for row in data:\n",
    "    sal=row.split(',')[2]\n",
    "    if sal==\"7L\":\n",
    "        print row"
   ]
  },
  {
   "cell_type": "code",
   "execution_count": 26,
   "metadata": {
    "collapsed": false
   },
   "outputs": [
    {
     "name": "stdout",
     "output_type": "stream",
     "text": [
      "name2,25,7L\n",
      "\n",
      "name6,23,7L\n",
      "\n",
      "name12,45,7L\n",
      "\n",
      "name13,34,7L\n",
      "\n"
     ]
    }
   ],
   "source": [
    "f=open('data.csv')\n",
    "data=f.readlines()\n",
    "for row in data:\n",
    "    sal=row.split(',')[2].strip('\\n')\n",
    "    if sal==\"7L\":\n",
    "        print row"
   ]
  },
  {
   "cell_type": "code",
   "execution_count": 27,
   "metadata": {
    "collapsed": false
   },
   "outputs": [
    {
     "name": "stdout",
     "output_type": "stream",
     "text": [
      "data1= \n"
     ]
    }
   ],
   "source": [
    "f=open('data.csv')\n",
    "data=f.read()\n",
    "data1=f.read()\n",
    "print \"data1=\",data1"
   ]
  },
  {
   "cell_type": "code",
   "execution_count": 28,
   "metadata": {
    "collapsed": false
   },
   "outputs": [
    {
     "name": "stdout",
     "output_type": "stream",
     "text": [
      "data1= 5,10L\n",
      "name2,25,7L\n",
      "name3,45,6L\n",
      "name4,45,10L\n",
      "name5,34,10L\n",
      "name6,23,7L\n",
      "name7,23,10L\n",
      "name8,34,6L\n",
      "name9,45,6L\n",
      "name10,34,6L\n",
      "name11,30,6L\n",
      "name12,45,7L\n",
      "name13,34,7L\n",
      "name14,45,6L\n",
      "name15,25,10L\n",
      "name16,34,10L\n",
      "name17,45,20L\n",
      "name18,23,20L\n",
      "name19,25,10L\n",
      "\n"
     ]
    }
   ],
   "source": [
    "f=open('data.csv')\n",
    "data=f.read(20)\n",
    "data1=f.read()\n",
    "print \"data1=\",data1"
   ]
  },
  {
   "cell_type": "code",
   "execution_count": 29,
   "metadata": {
    "collapsed": false
   },
   "outputs": [
    {
     "name": "stdout",
     "output_type": "stream",
     "text": [
      "opened in a read mode: 0\n",
      "after read: 260\n",
      "after second read: 260\n",
      "data1= \n"
     ]
    }
   ],
   "source": [
    "f=open('data.csv')\n",
    "print \"opened in a read mode:\",f.tell()\n",
    "data=f.read()\n",
    "print \"after read:\",f.tell()\n",
    "data1=f.read()\n",
    "print \"after second read:\",f.tell()\n",
    "print \"data1=\",data1"
   ]
  },
  {
   "cell_type": "code",
   "execution_count": 30,
   "metadata": {
    "collapsed": false
   },
   "outputs": [
    {
     "name": "stdout",
     "output_type": "stream",
     "text": [
      "opened in a read mode: 0\n",
      "after read: 260\n",
      "after seek to 20: 20\n",
      "after second read: 260\n",
      "data1= 5,10L\n",
      "name2,25,7L\n",
      "name3,45,6L\n",
      "name4,45,10L\n",
      "name5,34,10L\n",
      "name6,23,7L\n",
      "name7,23,10L\n",
      "name8,34,6L\n",
      "name9,45,6L\n",
      "name10,34,6L\n",
      "name11,30,6L\n",
      "name12,45,7L\n",
      "name13,34,7L\n",
      "name14,45,6L\n",
      "name15,25,10L\n",
      "name16,34,10L\n",
      "name17,45,20L\n",
      "name18,23,20L\n",
      "name19,25,10L\n",
      "\n"
     ]
    }
   ],
   "source": [
    "f=open('data.csv')\n",
    "print \"opened in a read mode:\",f.tell()\n",
    "data=f.read()\n",
    "print \"after read:\",f.tell()\n",
    "f.seek(20)\n",
    "print \"after seek to 20:\",f.tell()\n",
    "data1=f.read()\n",
    "print \"after second read:\",f.tell()\n",
    "print \"data1=\",data1"
   ]
  },
  {
   "cell_type": "code",
   "execution_count": 31,
   "metadata": {
    "collapsed": false
   },
   "outputs": [
    {
     "name": "stdout",
     "output_type": "stream",
     "text": [
      "name0,25,10L\n",
      "\n",
      "name1,45,10L\n",
      "\n"
     ]
    }
   ],
   "source": [
    "f=open('data.csv')\n",
    "print f.readline()\n",
    "print f.readline()"
   ]
  },
  {
   "cell_type": "code",
   "execution_count": 32,
   "metadata": {
    "collapsed": false
   },
   "outputs": [
    {
     "data": {
      "text/plain": [
       "'name2,25,7L\\nname3,45,6L\\nname4,45,10L\\nname5,34,10L\\nname6,23,7L\\nname7,23,10L\\nname8,34,6L\\nname9,45,6L\\nname10,34,6L\\nname11,30,6L\\nname12,45,7L\\nname13,34,7L\\nname14,45,6L\\nname15,25,10L\\nname16,34,10L\\nname17,45,20L\\nname18,23,20L\\nname19,25,10L\\n'"
      ]
     },
     "execution_count": 32,
     "metadata": {},
     "output_type": "execute_result"
    }
   ],
   "source": [
    "f.read()"
   ]
  },
  {
   "cell_type": "code",
   "execution_count": 33,
   "metadata": {
    "collapsed": true
   },
   "outputs": [],
   "source": [
    "f=open('ms.jpg')\n",
    "data=f.read()\n",
    "f.close()\n",
    "f=open('ms1.jpg','w')\n",
    "f.write(data)\n",
    "f.close()"
   ]
  },
  {
   "cell_type": "code",
   "execution_count": 34,
   "metadata": {
    "collapsed": true
   },
   "outputs": [],
   "source": [
    "f=open('ms.jpg','rb')\n",
    "data=f.read()\n",
    "f.close()\n",
    "f=open('ms1.jpg','wb')\n",
    "f.write(data)\n",
    "f.close()"
   ]
  },
  {
   "cell_type": "code",
   "execution_count": 36,
   "metadata": {
    "collapsed": false
   },
   "outputs": [],
   "source": [
    "f=open('ms.jpg','rb')\n",
    "data=f.read()\n",
    "f.close()\n",
    "f=open('ms1.jpg','ab')\n",
    "f.write(data)\n",
    "f.close()"
   ]
  },
  {
   "cell_type": "code",
   "execution_count": 37,
   "metadata": {
    "collapsed": true
   },
   "outputs": [],
   "source": [
    "f=open('ms.jpg','rb')\n",
    "data=f.read()\n",
    "f.close()\n",
    "f=open('ms1.jpg','ab')\n",
    "f.write(data)\n",
    "f.close()"
   ]
  },
  {
   "cell_type": "code",
   "execution_count": 38,
   "metadata": {
    "collapsed": false
   },
   "outputs": [
    {
     "ename": "TypeError",
     "evalue": "expected a string or other character buffer object",
     "output_type": "error",
     "traceback": [
      "\u001b[0;31m---------------------------------------------------------------------------\u001b[0m",
      "\u001b[0;31mTypeError\u001b[0m                                 Traceback (most recent call last)",
      "\u001b[0;32m<ipython-input-38-ee08884e36dc>\u001b[0m in \u001b[0;36m<module>\u001b[0;34m()\u001b[0m\n\u001b[1;32m      1\u001b[0m \u001b[0mpersons\u001b[0m\u001b[0;34m=\u001b[0m\u001b[0;34m[\u001b[0m\u001b[0;34m{\u001b[0m\u001b[0;34m'id'\u001b[0m\u001b[0;34m:\u001b[0m\u001b[0;36m1\u001b[0m\u001b[0;34m,\u001b[0m \u001b[0;34m\"name\"\u001b[0m\u001b[0;34m:\u001b[0m\u001b[0;34m\"Anil\"\u001b[0m\u001b[0;34m}\u001b[0m\u001b[0;34m,\u001b[0m\u001b[0;34m{\u001b[0m\u001b[0;34m'id'\u001b[0m\u001b[0;34m:\u001b[0m\u001b[0;36m2\u001b[0m\u001b[0;34m,\u001b[0m\u001b[0;34m\"name\"\u001b[0m\u001b[0;34m:\u001b[0m\u001b[0;34m\"JAgadish\"\u001b[0m\u001b[0;34m}\u001b[0m\u001b[0;34m]\u001b[0m\u001b[0;34m\u001b[0m\u001b[0m\n\u001b[1;32m      2\u001b[0m \u001b[0mf\u001b[0m\u001b[0;34m=\u001b[0m\u001b[0mopen\u001b[0m\u001b[0;34m(\u001b[0m\u001b[0;34m'data1.csv'\u001b[0m\u001b[0;34m,\u001b[0m\u001b[0;34m'w'\u001b[0m\u001b[0;34m)\u001b[0m\u001b[0;34m\u001b[0m\u001b[0m\n\u001b[0;32m----> 3\u001b[0;31m \u001b[0mf\u001b[0m\u001b[0;34m.\u001b[0m\u001b[0mwrite\u001b[0m\u001b[0;34m(\u001b[0m\u001b[0mpersons\u001b[0m\u001b[0;34m)\u001b[0m\u001b[0;34m\u001b[0m\u001b[0m\n\u001b[0m\u001b[1;32m      4\u001b[0m \u001b[0mf\u001b[0m\u001b[0;34m.\u001b[0m\u001b[0mclose\u001b[0m\u001b[0;34m(\u001b[0m\u001b[0;34m)\u001b[0m\u001b[0;34m\u001b[0m\u001b[0m\n",
      "\u001b[0;31mTypeError\u001b[0m: expected a string or other character buffer object"
     ]
    }
   ],
   "source": [
    "persons=[{'id':1, \"name\":\"Anil\"},{'id':2,\"name\":\"JAgadish\"}]\n",
    "f=open('data1.csv','w')\n",
    "f.write(persons)\n",
    "f.close()"
   ]
  },
  {
   "cell_type": "code",
   "execution_count": 39,
   "metadata": {
    "collapsed": true
   },
   "outputs": [],
   "source": [
    "persons=[{'id':1, \"name\":\"Anil\"},{'id':2,\"name\":\"JAgadish\"}]\n",
    "f=open('data1.csv','w')\n",
    "f.write(str(persons))\n",
    "f.close()"
   ]
  },
  {
   "cell_type": "code",
   "execution_count": 40,
   "metadata": {
    "collapsed": false
   },
   "outputs": [
    {
     "name": "stdout",
     "output_type": "stream",
     "text": [
      "[{'id': 1, 'name': 'Anil'}, {'id': 2, 'name': 'JAgadish'}]\n"
     ]
    }
   ],
   "source": [
    "f=open('data1.csv')\n",
    "data=f.read()\n",
    "print data"
   ]
  },
  {
   "cell_type": "code",
   "execution_count": 41,
   "metadata": {
    "collapsed": false
   },
   "outputs": [
    {
     "data": {
      "text/plain": [
       "str"
      ]
     },
     "execution_count": 41,
     "metadata": {},
     "output_type": "execute_result"
    }
   ],
   "source": [
    "type(data)"
   ]
  },
  {
   "cell_type": "code",
   "execution_count": 42,
   "metadata": {
    "collapsed": false
   },
   "outputs": [
    {
     "name": "stdout",
     "output_type": "stream",
     "text": [
      "[\n"
     ]
    }
   ],
   "source": [
    "for i in data:\n",
    "    print i\n",
    "    break"
   ]
  },
  {
   "cell_type": "code",
   "execution_count": 43,
   "metadata": {
    "collapsed": true
   },
   "outputs": [],
   "source": [
    "import pickle\n",
    "f=open('data1.csv','w')\n",
    "persons=[{'id':1, \"name\":\"Anil\"},{'id':2,\"name\":\"JAgadish\"}]\n",
    "pickle.dump(persons, f)\n",
    "f.close()\n"
   ]
  },
  {
   "cell_type": "code",
   "execution_count": 44,
   "metadata": {
    "collapsed": false
   },
   "outputs": [
    {
     "name": "stdout",
     "output_type": "stream",
     "text": [
      "(lp0\n",
      "(dp1\n",
      "S'id'\n",
      "p2\n",
      "I1\n",
      "sS'name'\n",
      "p3\n",
      "S'Anil'\n",
      "p4\n",
      "sa(dp5\n",
      "g2\n",
      "I2\n",
      "sg3\n",
      "S'JAgadish'\n",
      "p6\n",
      "sa.\n"
     ]
    }
   ],
   "source": [
    "f=open('data1.csv')\n",
    "data=f.read()\n",
    "print data"
   ]
  },
  {
   "cell_type": "code",
   "execution_count": 45,
   "metadata": {
    "collapsed": false
   },
   "outputs": [
    {
     "name": "stdout",
     "output_type": "stream",
     "text": [
      "[{'id': 1, 'name': 'Anil'}, {'id': 2, 'name': 'JAgadish'}]\n",
      "<type 'list'>\n"
     ]
    }
   ],
   "source": [
    "import pickle\n",
    "f=open('data1.csv')\n",
    "data = pickle.load(f)\n",
    "print data\n",
    "print type(data)"
   ]
  },
  {
   "cell_type": "code",
   "execution_count": null,
   "metadata": {
    "collapsed": true
   },
   "outputs": [],
   "source": []
  }
 ],
 "metadata": {
  "kernelspec": {
   "display_name": "Python 2",
   "language": "python",
   "name": "python2"
  },
  "language_info": {
   "codemirror_mode": {
    "name": "ipython",
    "version": 2
   },
   "file_extension": ".py",
   "mimetype": "text/x-python",
   "name": "python",
   "nbconvert_exporter": "python",
   "pygments_lexer": "ipython2",
   "version": "2.7.13"
  }
 },
 "nbformat": 4,
 "nbformat_minor": 2
}
