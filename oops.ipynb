{
 "cells": [
  {
   "cell_type": "code",
   "execution_count": 1,
   "metadata": {
    "collapsed": false
   },
   "outputs": [
    {
     "ename": "NameError",
     "evalue": "name 'a' is not defined",
     "output_type": "error",
     "traceback": [
      "\u001b[0;31m---------------------------------------------------------------------------\u001b[0m",
      "\u001b[0;31mNameError\u001b[0m                                 Traceback (most recent call last)",
      "\u001b[0;32m<ipython-input-1-5560e625f4a4>\u001b[0m in \u001b[0;36m<module>\u001b[0;34m()\u001b[0m\n\u001b[1;32m      1\u001b[0m \u001b[0;32mdef\u001b[0m \u001b[0mfun\u001b[0m\u001b[0;34m(\u001b[0m\u001b[0;34m)\u001b[0m\u001b[0;34m:\u001b[0m\u001b[0;34m\u001b[0m\u001b[0m\n\u001b[1;32m      2\u001b[0m     \u001b[0ma\u001b[0m\u001b[0;34m=\u001b[0m\u001b[0;36m10\u001b[0m\u001b[0;34m\u001b[0m\u001b[0m\n\u001b[0;32m----> 3\u001b[0;31m \u001b[0;32mprint\u001b[0m \u001b[0ma\u001b[0m\u001b[0;34m\u001b[0m\u001b[0m\n\u001b[0m",
      "\u001b[0;31mNameError\u001b[0m: name 'a' is not defined"
     ]
    }
   ],
   "source": [
    "def fun():\n",
    "    a=10\n",
    "print a"
   ]
  },
  {
   "cell_type": "code",
   "execution_count": 3,
   "metadata": {
    "collapsed": false
   },
   "outputs": [
    {
     "name": "stdout",
     "output_type": "stream",
     "text": [
      "30\n",
      "200\n",
      "0\n"
     ]
    }
   ],
   "source": [
    "def add(a,b):\n",
    "    return a+b\n",
    "def mul(a,b):\n",
    "    return a*b\n",
    "def div(a,b):\n",
    "    return a/b\n",
    "a1=10\n",
    "b1=20\n",
    "print add(a1,b1)\n",
    "print mul(a1,b1)\n",
    "print div(a1,b1)"
   ]
  },
  {
   "cell_type": "code",
   "execution_count": 4,
   "metadata": {
    "collapsed": false
   },
   "outputs": [
    {
     "name": "stdout",
     "output_type": "stream",
     "text": [
      "10\n",
      "20\n"
     ]
    }
   ],
   "source": [
    "class Emp:\n",
    "    a=10\n",
    "    b=20\n",
    "    def sal_calc(sal,per):\n",
    "        return sal+sal*(per/100)\n",
    "\n",
    "print Emp.a\n",
    "print Emp.b"
   ]
  },
  {
   "cell_type": "code",
   "execution_count": 6,
   "metadata": {
    "collapsed": false
   },
   "outputs": [
    {
     "name": "stdout",
     "output_type": "stream",
     "text": [
      "10\n",
      "20\n"
     ]
    },
    {
     "ename": "TypeError",
     "evalue": "unbound method sal_calc() must be called with Emp instance as first argument (got str instance instead)",
     "output_type": "error",
     "traceback": [
      "\u001b[0;31m---------------------------------------------------------------------------\u001b[0m",
      "\u001b[0;31mTypeError\u001b[0m                                 Traceback (most recent call last)",
      "\u001b[0;32m<ipython-input-6-57f896c265a2>\u001b[0m in \u001b[0;36m<module>\u001b[0;34m()\u001b[0m\n\u001b[1;32m      7\u001b[0m \u001b[0;32mprint\u001b[0m \u001b[0mEmp\u001b[0m\u001b[0;34m.\u001b[0m\u001b[0ma\u001b[0m\u001b[0;34m\u001b[0m\u001b[0m\n\u001b[1;32m      8\u001b[0m \u001b[0;32mprint\u001b[0m \u001b[0mEmp\u001b[0m\u001b[0;34m.\u001b[0m\u001b[0mb\u001b[0m\u001b[0;34m\u001b[0m\u001b[0m\n\u001b[0;32m----> 9\u001b[0;31m \u001b[0;32mprint\u001b[0m \u001b[0mEmp\u001b[0m\u001b[0;34m.\u001b[0m\u001b[0msal_calc\u001b[0m\u001b[0;34m(\u001b[0m\u001b[0;34m'Anil'\u001b[0m\u001b[0;34m,\u001b[0m\u001b[0;36m2000\u001b[0m\u001b[0;34m,\u001b[0m \u001b[0;36m20\u001b[0m\u001b[0;34m)\u001b[0m\u001b[0;34m\u001b[0m\u001b[0m\n\u001b[0m",
      "\u001b[0;31mTypeError\u001b[0m: unbound method sal_calc() must be called with Emp instance as first argument (got str instance instead)"
     ]
    }
   ],
   "source": [
    "class Emp:\n",
    "    a=10\n",
    "    b=20\n",
    "    def sal_calc(name,sal,per):\n",
    "        return sal+sal*(per/100)\n",
    "\n",
    "print Emp.a\n",
    "print Emp.b\n",
    "print Emp.sal_calc('Anil',2000, 20)"
   ]
  },
  {
   "cell_type": "code",
   "execution_count": 9,
   "metadata": {
    "collapsed": false
   },
   "outputs": [
    {
     "name": "stdout",
     "output_type": "stream",
     "text": [
      "10\n",
      "20\n",
      "2400.0\n"
     ]
    }
   ],
   "source": [
    "class Emp:\n",
    "    a=10\n",
    "    b=20\n",
    "    def sal_calc(inst,name,sal,per):\n",
    "        return sal+sal*(per/100.0)\n",
    "\n",
    "print Emp.a\n",
    "print Emp.b\n",
    "anil = Emp()\n",
    "print Emp.sal_calc(anil, 'Anil',2000, 20)"
   ]
  },
  {
   "cell_type": "code",
   "execution_count": 10,
   "metadata": {
    "collapsed": false
   },
   "outputs": [
    {
     "name": "stdout",
     "output_type": "stream",
     "text": [
      "10\n",
      "20\n"
     ]
    },
    {
     "ename": "NameError",
     "evalue": "global name 'a' is not defined",
     "output_type": "error",
     "traceback": [
      "\u001b[0;31m---------------------------------------------------------------------------\u001b[0m",
      "\u001b[0;31mNameError\u001b[0m                                 Traceback (most recent call last)",
      "\u001b[0;32m<ipython-input-10-4518090174ed>\u001b[0m in \u001b[0;36m<module>\u001b[0;34m()\u001b[0m\n\u001b[1;32m      9\u001b[0m \u001b[0;32mprint\u001b[0m \u001b[0mEmp\u001b[0m\u001b[0;34m.\u001b[0m\u001b[0mb\u001b[0m\u001b[0;34m\u001b[0m\u001b[0m\n\u001b[1;32m     10\u001b[0m \u001b[0manil\u001b[0m \u001b[0;34m=\u001b[0m \u001b[0mEmp\u001b[0m\u001b[0;34m(\u001b[0m\u001b[0;34m)\u001b[0m\u001b[0;34m\u001b[0m\u001b[0m\n\u001b[0;32m---> 11\u001b[0;31m \u001b[0;32mprint\u001b[0m \u001b[0mEmp\u001b[0m\u001b[0;34m.\u001b[0m\u001b[0msal_calc\u001b[0m\u001b[0;34m(\u001b[0m\u001b[0manil\u001b[0m\u001b[0;34m,\u001b[0m \u001b[0;34m'Anil'\u001b[0m\u001b[0;34m,\u001b[0m\u001b[0;36m2000\u001b[0m\u001b[0;34m,\u001b[0m \u001b[0;36m20\u001b[0m\u001b[0;34m)\u001b[0m\u001b[0;34m\u001b[0m\u001b[0m\n\u001b[0m",
      "\u001b[0;32m<ipython-input-10-4518090174ed>\u001b[0m in \u001b[0;36msal_calc\u001b[0;34m(inst, name, sal, per)\u001b[0m\n\u001b[1;32m      3\u001b[0m     \u001b[0mb\u001b[0m\u001b[0;34m=\u001b[0m\u001b[0;36m20\u001b[0m\u001b[0;34m\u001b[0m\u001b[0m\n\u001b[1;32m      4\u001b[0m     \u001b[0;32mdef\u001b[0m \u001b[0msal_calc\u001b[0m\u001b[0;34m(\u001b[0m\u001b[0minst\u001b[0m\u001b[0;34m,\u001b[0m\u001b[0mname\u001b[0m\u001b[0;34m,\u001b[0m\u001b[0msal\u001b[0m\u001b[0;34m,\u001b[0m\u001b[0mper\u001b[0m\u001b[0;34m)\u001b[0m\u001b[0;34m:\u001b[0m\u001b[0;34m\u001b[0m\u001b[0m\n\u001b[0;32m----> 5\u001b[0;31m         \u001b[0;32mprint\u001b[0m \u001b[0;34m\"a=%s,b=%s\"\u001b[0m\u001b[0;34m%\u001b[0m\u001b[0;34m(\u001b[0m\u001b[0ma\u001b[0m\u001b[0;34m,\u001b[0m\u001b[0mb\u001b[0m\u001b[0;34m)\u001b[0m\u001b[0;34m\u001b[0m\u001b[0m\n\u001b[0m\u001b[1;32m      6\u001b[0m         \u001b[0;32mreturn\u001b[0m \u001b[0msal\u001b[0m\u001b[0;34m+\u001b[0m\u001b[0msal\u001b[0m\u001b[0;34m*\u001b[0m\u001b[0;34m(\u001b[0m\u001b[0mper\u001b[0m\u001b[0;34m/\u001b[0m\u001b[0;36m100.0\u001b[0m\u001b[0;34m)\u001b[0m\u001b[0;34m\u001b[0m\u001b[0m\n\u001b[1;32m      7\u001b[0m \u001b[0;34m\u001b[0m\u001b[0m\n",
      "\u001b[0;31mNameError\u001b[0m: global name 'a' is not defined"
     ]
    }
   ],
   "source": [
    "class Emp:\n",
    "    a=10\n",
    "    b=20\n",
    "    def sal_calc(inst,name,sal,per):\n",
    "        print \"a=%s,b=%s\"%(a,b)\n",
    "        return sal+sal*(per/100.0)\n",
    "\n",
    "print Emp.a\n",
    "print Emp.b\n",
    "anil = Emp()\n",
    "print Emp.sal_calc(anil, 'Anil',2000, 20)"
   ]
  },
  {
   "cell_type": "code",
   "execution_count": 11,
   "metadata": {
    "collapsed": false
   },
   "outputs": [
    {
     "name": "stdout",
     "output_type": "stream",
     "text": [
      "10\n",
      "20\n",
      "a=10,b=20\n",
      "2400.0\n"
     ]
    }
   ],
   "source": [
    "class Emp:\n",
    "    a=10\n",
    "    b=20\n",
    "    def sal_calc(inst,name,sal,per):\n",
    "        print \"a=%s,b=%s\"%(Emp.a,Emp.b)\n",
    "        return sal+sal*(per/100.0)\n",
    "\n",
    "print Emp.a\n",
    "print Emp.b\n",
    "anil = Emp()\n",
    "print Emp.sal_calc(anil, 'Anil',2000, 20)"
   ]
  },
  {
   "cell_type": "code",
   "execution_count": 12,
   "metadata": {
    "collapsed": false
   },
   "outputs": [
    {
     "name": "stdout",
     "output_type": "stream",
     "text": [
      "10\n",
      "20\n",
      "a=10,b=20\n",
      "2400.0\n"
     ]
    }
   ],
   "source": [
    "class Emp:\n",
    "    a=10\n",
    "    b=20\n",
    "    def sal_calc(inst,name,sal,per):\n",
    "        print \"a=%s,b=%s\"%(inst.a,inst.b)\n",
    "        return sal+sal*(per/100.0)\n",
    "\n",
    "print Emp.a\n",
    "print Emp.b\n",
    "anil = Emp()\n",
    "print Emp.sal_calc(anil, 'Anil',2000, 20)"
   ]
  },
  {
   "cell_type": "code",
   "execution_count": 13,
   "metadata": {
    "collapsed": false
   },
   "outputs": [
    {
     "name": "stdout",
     "output_type": "stream",
     "text": [
      "10\n",
      "20\n",
      "a=10,b=20\n",
      "2400.0\n"
     ]
    }
   ],
   "source": [
    "class Emp:\n",
    "    a=10\n",
    "    b=20\n",
    "    def get_sal(inst):\n",
    "        return 2000\n",
    "    def sal_calc(inst,name,per):\n",
    "        sal=Emp.get_sal(inst)\n",
    "        print \"a=%s,b=%s\"%(inst.a,inst.b)\n",
    "        return sal+sal*(per/100.0)\n",
    "\n",
    "print Emp.a\n",
    "print Emp.b\n",
    "anil = Emp()\n",
    "print Emp.sal_calc(anil, 'Anil', 20)"
   ]
  },
  {
   "cell_type": "code",
   "execution_count": 14,
   "metadata": {
    "collapsed": false
   },
   "outputs": [
    {
     "name": "stdout",
     "output_type": "stream",
     "text": [
      "10\n",
      "20\n",
      "a=10,b=20\n",
      "2400.0\n"
     ]
    }
   ],
   "source": [
    "class Emp:\n",
    "    a=10\n",
    "    b=20\n",
    "    def get_sal(inst):\n",
    "        return 2000\n",
    "    def sal_calc(inst,name,per):\n",
    "        sal=Emp.get_sal(inst)\n",
    "        print \"a=%s,b=%s\"%(inst.a,inst.b)\n",
    "        return sal+sal*(per/100.0)\n",
    "\n",
    "print Emp.a\n",
    "print Emp.b\n",
    "anil = Emp()\n",
    "print anil.sal_calc('Anil', 20)"
   ]
  },
  {
   "cell_type": "code",
   "execution_count": 15,
   "metadata": {
    "collapsed": false
   },
   "outputs": [
    {
     "name": "stdout",
     "output_type": "stream",
     "text": [
      "10\n",
      "20\n",
      "a=10,b=20\n",
      "2400.0\n"
     ]
    }
   ],
   "source": [
    "class Emp:\n",
    "    a=10\n",
    "    b=20\n",
    "    def get_sal(inst):\n",
    "        return 2000\n",
    "    def sal_calc(inst,name,per):\n",
    "        sal=inst.get_sal()\n",
    "        print \"a=%s,b=%s\"%(inst.a,inst.b)\n",
    "        return sal+sal*(per/100.0)\n",
    "\n",
    "print Emp.a\n",
    "print Emp.b\n",
    "anil = Emp()\n",
    "print anil.sal_calc('Anil', 20)"
   ]
  },
  {
   "cell_type": "code",
   "execution_count": 16,
   "metadata": {
    "collapsed": false
   },
   "outputs": [
    {
     "name": "stdout",
     "output_type": "stream",
     "text": [
      "10\n",
      "20\n",
      "('Anil', 20000, 10)\n",
      "('pavan', 30000, 5)\n",
      "('ashok', 10000, 20)\n"
     ]
    }
   ],
   "source": [
    "class Emp:\n",
    "    a=10\n",
    "    b=20\n",
    "    def sal_calc(self):\n",
    "        print \"a=%s,b=%s\"%(self.a,self.b)\n",
    "        return self.sal+self.sal*(self.per/100.0)\n",
    "    def get(self):\n",
    "        return self.name, self.sal, self.per\n",
    "\n",
    "print Emp.a\n",
    "print Emp.b\n",
    "anil = Emp()\n",
    "anil.name=\"Anil\"\n",
    "anil.sal=20000\n",
    "anil.per=10\n",
    "ashok=Emp()\n",
    "ashok.name=\"ashok\"\n",
    "ashok.sal=10000\n",
    "ashok.per=20\n",
    "pavan=Emp()\n",
    "pavan.name=\"pavan\"\n",
    "pavan.sal=30000\n",
    "pavan.per=5\n",
    "print anil.get()\n",
    "print pavan.get()\n",
    "print ashok.get()"
   ]
  },
  {
   "cell_type": "code",
   "execution_count": 17,
   "metadata": {
    "collapsed": false
   },
   "outputs": [
    {
     "name": "stdout",
     "output_type": "stream",
     "text": [
      "10\n",
      "20\n",
      "('Anil', 20000, 10)\n",
      "('pavan', 30000, 5)\n",
      "('ashok', 10000, 20)\n",
      "a=10,b=20\n",
      "22000.0\n",
      "a=10,b=20\n",
      "12000.0\n",
      "a=10,b=20\n",
      "31500.0\n"
     ]
    }
   ],
   "source": [
    "class Emp:\n",
    "    a=10\n",
    "    b=20\n",
    "    def sal_calc(self):\n",
    "        print \"a=%s,b=%s\"%(self.a,self.b)\n",
    "        return self.sal+self.sal*(self.per/100.0)\n",
    "    def get(self):\n",
    "        return self.name, self.sal, self.per\n",
    "\n",
    "print Emp.a\n",
    "print Emp.b\n",
    "anil = Emp()\n",
    "anil.name=\"Anil\"\n",
    "anil.sal=20000\n",
    "anil.per=10\n",
    "ashok=Emp()\n",
    "ashok.name=\"ashok\"\n",
    "ashok.sal=10000\n",
    "ashok.per=20\n",
    "pavan=Emp()\n",
    "pavan.name=\"pavan\"\n",
    "pavan.sal=30000\n",
    "pavan.per=5\n",
    "print anil.get()\n",
    "print pavan.get()\n",
    "print ashok.get()\n",
    "print anil.sal_calc()\n",
    "print ashok.sal_calc()\n",
    "print pavan.sal_calc()"
   ]
  },
  {
   "cell_type": "code",
   "execution_count": null,
   "metadata": {
    "collapsed": true
   },
   "outputs": [],
   "source": []
  }
 ],
 "metadata": {
  "kernelspec": {
   "display_name": "Python 2",
   "language": "python",
   "name": "python2"
  },
  "language_info": {
   "codemirror_mode": {
    "name": "ipython",
    "version": 2
   },
   "file_extension": ".py",
   "mimetype": "text/x-python",
   "name": "python",
   "nbconvert_exporter": "python",
   "pygments_lexer": "ipython2",
   "version": "2.7.13"
  }
 },
 "nbformat": 4,
 "nbformat_minor": 2
}
