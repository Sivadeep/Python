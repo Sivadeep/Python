{
 "cells": [
  {
   "cell_type": "code",
   "execution_count": 1,
   "metadata": {
    "collapsed": true
   },
   "outputs": [],
   "source": [
    "def fun():\n",
    "    print \"sdsdfds\"\n",
    "    "
   ]
  },
  {
   "cell_type": "code",
   "execution_count": 2,
   "metadata": {
    "collapsed": false
   },
   "outputs": [
    {
     "name": "stdout",
     "output_type": "stream",
     "text": [
      "sdsdfds\n"
     ]
    }
   ],
   "source": [
    "fun()"
   ]
  },
  {
   "cell_type": "code",
   "execution_count": 3,
   "metadata": {
    "collapsed": false
   },
   "outputs": [
    {
     "name": "stdout",
     "output_type": "stream",
     "text": [
      "100\n"
     ]
    }
   ],
   "source": [
    "a=100\n",
    "def fun():\n",
    "    print a\n",
    "fun()"
   ]
  },
  {
   "cell_type": "code",
   "execution_count": 4,
   "metadata": {
    "collapsed": false
   },
   "outputs": [
    {
     "name": "stdout",
     "output_type": "stream",
     "text": [
      "100\n"
     ]
    }
   ],
   "source": [
    "a=100\n",
    "def fun():\n",
    "    a=1000\n",
    "fun()\n",
    "print a"
   ]
  },
  {
   "cell_type": "code",
   "execution_count": 5,
   "metadata": {
    "collapsed": false
   },
   "outputs": [
    {
     "name": "stdout",
     "output_type": "stream",
     "text": [
      "100\n"
     ]
    },
    {
     "ename": "NameError",
     "evalue": "name 'c123' is not defined",
     "output_type": "error",
     "traceback": [
      "\u001b[0;31m---------------------------------------------------------------------------\u001b[0m",
      "\u001b[0;31mNameError\u001b[0m                                 Traceback (most recent call last)",
      "\u001b[0;32m<ipython-input-5-08c8d37e39ee>\u001b[0m in \u001b[0;36m<module>\u001b[0;34m()\u001b[0m\n\u001b[1;32m      4\u001b[0m     \u001b[0mc123\u001b[0m\u001b[0;34m=\u001b[0m\u001b[0;36m1000\u001b[0m\u001b[0;34m\u001b[0m\u001b[0m\n\u001b[1;32m      5\u001b[0m \u001b[0mfun\u001b[0m\u001b[0;34m(\u001b[0m\u001b[0;34m)\u001b[0m\u001b[0;34m\u001b[0m\u001b[0m\n\u001b[0;32m----> 6\u001b[0;31m \u001b[0;32mprint\u001b[0m \u001b[0mc123\u001b[0m\u001b[0;34m\u001b[0m\u001b[0m\n\u001b[0m",
      "\u001b[0;31mNameError\u001b[0m: name 'c123' is not defined"
     ]
    }
   ],
   "source": [
    "a=100\n",
    "def fun():\n",
    "    print a\n",
    "    c123=1000\n",
    "fun()\n",
    "print c123"
   ]
  },
  {
   "cell_type": "code",
   "execution_count": 6,
   "metadata": {
    "collapsed": false
   },
   "outputs": [
    {
     "name": "stdout",
     "output_type": "stream",
     "text": [
      "100\n",
      "None\n"
     ]
    }
   ],
   "source": [
    "a=100\n",
    "def fun():\n",
    "    print a\n",
    "    c123=1000\n",
    "d=fun()\n",
    "print d"
   ]
  },
  {
   "cell_type": "code",
   "execution_count": 7,
   "metadata": {
    "collapsed": false
   },
   "outputs": [
    {
     "name": "stdout",
     "output_type": "stream",
     "text": [
      "100\n",
      "1000\n"
     ]
    }
   ],
   "source": [
    "a=100\n",
    "def fun():\n",
    "    print a\n",
    "    c123=1000\n",
    "    return c123\n",
    "d=fun()\n",
    "print d"
   ]
  },
  {
   "cell_type": "code",
   "execution_count": 8,
   "metadata": {
    "collapsed": false
   },
   "outputs": [
    {
     "name": "stdout",
     "output_type": "stream",
     "text": [
      "sdfsd\n"
     ]
    }
   ],
   "source": [
    "def fun():\n",
    "    print \"sdfsd\"\n",
    "f1=fun\n",
    "f1()"
   ]
  },
  {
   "cell_type": "code",
   "execution_count": 9,
   "metadata": {
    "collapsed": false
   },
   "outputs": [
    {
     "name": "stdout",
     "output_type": "stream",
     "text": [
      "outer\n"
     ]
    }
   ],
   "source": [
    "def outer():\n",
    "    print \"outer\"\n",
    "    def inner():\n",
    "        print \"inner\"\n",
    "\n",
    "outer()"
   ]
  },
  {
   "cell_type": "code",
   "execution_count": 10,
   "metadata": {
    "collapsed": false
   },
   "outputs": [
    {
     "name": "stdout",
     "output_type": "stream",
     "text": [
      "outer\n",
      "inner\n",
      "None\n"
     ]
    }
   ],
   "source": [
    "def outer():\n",
    "    print \"outer\"\n",
    "    def inner():\n",
    "        print \"inner\"\n",
    "    return inner()\n",
    "\n",
    "d=outer()\n",
    "print d"
   ]
  },
  {
   "cell_type": "code",
   "execution_count": 11,
   "metadata": {
    "collapsed": false
   },
   "outputs": [
    {
     "name": "stdout",
     "output_type": "stream",
     "text": [
      "outer\n",
      "<type 'function'>\n"
     ]
    }
   ],
   "source": [
    "def outer():\n",
    "    print \"outer\"\n",
    "    def inner():\n",
    "        print \"inner\"\n",
    "    return inner\n",
    "\n",
    "d=outer()\n",
    "print type(d)"
   ]
  },
  {
   "cell_type": "code",
   "execution_count": 12,
   "metadata": {
    "collapsed": false
   },
   "outputs": [
    {
     "name": "stdout",
     "output_type": "stream",
     "text": [
      "inner\n"
     ]
    }
   ],
   "source": [
    "d()"
   ]
  },
  {
   "cell_type": "code",
   "execution_count": 15,
   "metadata": {
    "collapsed": false
   },
   "outputs": [
    {
     "name": "stdout",
     "output_type": "stream",
     "text": [
      "outer\n",
      "<type 'function'>\n",
      "inner\n",
      "10\n"
     ]
    }
   ],
   "source": [
    "def outer():\n",
    "    print \"outer\"\n",
    "    def inner():\n",
    "        print \"inner\"\n",
    "        return 10\n",
    "    return inner\n",
    "\n",
    "d=outer()\n",
    "print type(d)\n",
    "print d()"
   ]
  },
  {
   "cell_type": "code",
   "execution_count": 16,
   "metadata": {
    "collapsed": false
   },
   "outputs": [
    {
     "data": {
      "text/plain": [
       "'HELLO python'"
      ]
     },
     "execution_count": 16,
     "metadata": {},
     "output_type": "execute_result"
    }
   ],
   "source": [
    "def greet(name):\n",
    "    return \"HELLO \"+ name\n",
    "greet(\"python\")"
   ]
  },
  {
   "cell_type": "code",
   "execution_count": 17,
   "metadata": {
    "collapsed": false
   },
   "outputs": [
    {
     "name": "stdout",
     "output_type": "stream",
     "text": [
      "HELLO python\n"
     ]
    }
   ],
   "source": [
    "def greet(name):\n",
    "    return \"HELLO \"+ name\n",
    "\n",
    "def outer(f,name):\n",
    "    \"\"\"\n",
    "    param: f: function reference\n",
    "    \"\"\"\n",
    "    return f(name)\n",
    "print outer(greet, \"python\")\n"
   ]
  },
  {
   "cell_type": "code",
   "execution_count": 19,
   "metadata": {
    "collapsed": false
   },
   "outputs": [
    {
     "name": "stdout",
     "output_type": "stream",
     "text": [
      "<p>HELLO python</p>\n"
     ]
    }
   ],
   "source": [
    "def greet(name):\n",
    "    return \"HELLO \"+ name\n",
    "\n",
    "def outer(f,name):\n",
    "    \"\"\"\n",
    "    param: f: function reference\n",
    "    \"\"\"\n",
    "    return \"<p>\"+f(name)+\"</p>\"\n",
    "print outer(greet, \"python\")\n"
   ]
  },
  {
   "cell_type": "code",
   "execution_count": 20,
   "metadata": {
    "collapsed": false
   },
   "outputs": [
    {
     "name": "stdout",
     "output_type": "stream",
     "text": [
      "<p>HELLO python</p>\n"
     ]
    }
   ],
   "source": [
    "def outer(f):\n",
    "    def inner(name):\n",
    "        return\"<p>\"+f(name)+\"</p>\"\n",
    "    return inner\n",
    "def greet(name):\n",
    "    return \"HELLO \"+ name\n",
    "\n",
    "d=outer(greet)\n",
    "print d(\"python\")"
   ]
  },
  {
   "cell_type": "code",
   "execution_count": 21,
   "metadata": {
    "collapsed": false
   },
   "outputs": [
    {
     "name": "stdout",
     "output_type": "stream",
     "text": [
      "HELLO python\n"
     ]
    }
   ],
   "source": [
    "def outer(f):\n",
    "    def inner(name):\n",
    "        return\"<p>\"+f(name)+\"</p>\"\n",
    "    return inner\n",
    "def greet(name):\n",
    "    return \"HELLO \"+ name\n",
    "\n",
    "print greet(\"python\")"
   ]
  },
  {
   "cell_type": "code",
   "execution_count": 22,
   "metadata": {
    "collapsed": false
   },
   "outputs": [
    {
     "name": "stdout",
     "output_type": "stream",
     "text": [
      "<p>HELLO python</p>\n"
     ]
    }
   ],
   "source": [
    "def outer(f):\n",
    "    def inner(name):\n",
    "        return\"<p>\"+f(name)+\"</p>\"\n",
    "    return inner\n",
    "\n",
    "@outer\n",
    "def greet(name):\n",
    "    return \"HELLO \"+ name\n",
    "\n",
    "print greet(\"python\")"
   ]
  },
  {
   "cell_type": "code",
   "execution_count": 23,
   "metadata": {
    "collapsed": false
   },
   "outputs": [
    {
     "name": "stdout",
     "output_type": "stream",
     "text": [
      "<h1>HELLO python</h1>\n"
     ]
    }
   ],
   "source": [
    "def addp(f):\n",
    "    def inner(name):\n",
    "        return\"<p>\"+f(name)+\"</p>\"\n",
    "    return inner\n",
    "\n",
    "def addh1(f):\n",
    "    def inner(name):\n",
    "        return\"<h1>\"+f(name)+\"</h1>\"\n",
    "    return inner\n",
    "\n",
    "@addh1\n",
    "def greet(name):\n",
    "    return \"HELLO \"+ name\n",
    "\n",
    "print greet(\"python\")"
   ]
  },
  {
   "cell_type": "code",
   "execution_count": null,
   "metadata": {
    "collapsed": true
   },
   "outputs": [],
   "source": []
  }
 ],
 "metadata": {
  "kernelspec": {
   "display_name": "Python 2",
   "language": "python",
   "name": "python2"
  },
  "language_info": {
   "codemirror_mode": {
    "name": "ipython",
    "version": 2
   },
   "file_extension": ".py",
   "mimetype": "text/x-python",
   "name": "python",
   "nbconvert_exporter": "python",
   "pygments_lexer": "ipython2",
   "version": "2.7.13"
  }
 },
 "nbformat": 4,
 "nbformat_minor": 2
}
