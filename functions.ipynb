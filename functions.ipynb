{
 "cells": [
  {
   "cell_type": "code",
   "execution_count": 1,
   "metadata": {
    "collapsed": false
   },
   "outputs": [
    {
     "name": "stdout",
     "output_type": "stream",
     "text": [
      "0\n",
      "1\n",
      "2\n",
      "3\n",
      "4\n",
      "5\n",
      "6\n",
      "7\n",
      "8\n",
      "9\n"
     ]
    }
   ],
   "source": [
    "i=0\n",
    "while i<10:\n",
    "    print i\n",
    "    i=i+1"
   ]
  },
  {
   "cell_type": "code",
   "execution_count": 2,
   "metadata": {
    "collapsed": false
   },
   "outputs": [
    {
     "name": "stdout",
     "output_type": "stream",
     "text": [
      "a\n",
      "b\n",
      "c\n",
      "d\n"
     ]
    }
   ],
   "source": [
    "for i  in \"abcd\":\n",
    "    print i"
   ]
  },
  {
   "cell_type": "code",
   "execution_count": 3,
   "metadata": {
    "collapsed": false
   },
   "outputs": [
    {
     "name": "stdout",
     "output_type": "stream",
     "text": [
      "a\n",
      "b\n",
      "c\n",
      "d\n",
      " \n",
      "e\n",
      "f\n",
      "g\n",
      "h\n"
     ]
    }
   ],
   "source": [
    "for i in \"abcd efgh\":\n",
    "    print i"
   ]
  },
  {
   "cell_type": "code",
   "execution_count": 4,
   "metadata": {
    "collapsed": false
   },
   "outputs": [
    {
     "name": "stdout",
     "output_type": "stream",
     "text": [
      "program started.\n",
      "i= a\n",
      "i= b\n",
      "i= c\n",
      "i= d\n",
      "break encountered\n",
      "other statements in program.\n",
      "program ended.\n"
     ]
    }
   ],
   "source": [
    "print \"program started.\"\n",
    "for i in \"abcd efgh\":\n",
    "    if i==\" \":\n",
    "        print \"break encountered\"\n",
    "        break\n",
    "        print \"after break.\"\n",
    "        \n",
    "    print \"i=\",i\n",
    "print \"other statements in program.\"\n",
    "print \"program ended.\""
   ]
  },
  {
   "cell_type": "code",
   "execution_count": 5,
   "metadata": {
    "collapsed": false
   },
   "outputs": [
    {
     "name": "stdout",
     "output_type": "stream",
     "text": [
      "program started.\n",
      "i= a\n",
      "i= b\n",
      "i= c\n",
      "i= d\n",
      "i= e\n",
      "i= f\n",
      "i= g\n",
      "i= h\n",
      "other statements in program.\n",
      "program ended.\n"
     ]
    }
   ],
   "source": [
    "print \"program started.\"\n",
    "for i in \"abcd efgh\":\n",
    "    if not i==\" \":\n",
    "        print \"i=\",i\n",
    "print \"other statements in program.\"\n",
    "print \"program ended.\""
   ]
  },
  {
   "cell_type": "code",
   "execution_count": 6,
   "metadata": {
    "collapsed": false
   },
   "outputs": [
    {
     "name": "stdout",
     "output_type": "stream",
     "text": [
      "program started.\n",
      "iteration started\n",
      "i= a\n",
      "iteration ended\n",
      "iteration started\n",
      "i= b\n",
      "iteration ended\n",
      "iteration started\n",
      "i= c\n",
      "iteration ended\n",
      "iteration started\n",
      "i= d\n",
      "iteration ended\n",
      "iteration started\n",
      "iteration ended\n",
      "iteration started\n",
      "i= e\n",
      "iteration ended\n",
      "iteration started\n",
      "i= f\n",
      "iteration ended\n",
      "iteration started\n",
      "i= g\n",
      "iteration ended\n",
      "iteration started\n",
      "i= h\n",
      "iteration ended\n",
      "other statements in program.\n",
      "program ended.\n"
     ]
    }
   ],
   "source": [
    "print \"program started.\"\n",
    "for i in \"abcd efgh\":\n",
    "    print \"iteration started\"\n",
    "    if not i==\" \":\n",
    "        print \"i=\",i\n",
    "        \n",
    "    print \"iteration ended\"\n",
    "print \"other statements in program.\"\n",
    "print \"program ended.\""
   ]
  },
  {
   "cell_type": "code",
   "execution_count": 7,
   "metadata": {
    "collapsed": false
   },
   "outputs": [
    {
     "name": "stdout",
     "output_type": "stream",
     "text": [
      "program started.\n",
      "iteration started\n",
      "i= a\n",
      "iteration ended\n",
      "iteration started\n",
      "i= b\n",
      "iteration ended\n",
      "iteration started\n",
      "i= c\n",
      "iteration ended\n",
      "iteration started\n",
      "i= d\n",
      "iteration ended\n",
      "iteration started\n",
      "iteration started\n",
      "i= e\n",
      "iteration ended\n",
      "iteration started\n",
      "i= f\n",
      "iteration ended\n",
      "iteration started\n",
      "i= g\n",
      "iteration ended\n",
      "iteration started\n",
      "i= h\n",
      "iteration ended\n",
      "other statements in program.\n",
      "program ended.\n"
     ]
    }
   ],
   "source": [
    "print \"program started.\"\n",
    "for i in \"abcd efgh\":\n",
    "    print \"iteration started\"\n",
    "    if not i==\" \":\n",
    "        print \"i=\",i\n",
    "    else:\n",
    "        continue\n",
    "    print \"iteration ended\"\n",
    "print \"other statements in program.\"\n",
    "print \"program ended.\""
   ]
  },
  {
   "cell_type": "code",
   "execution_count": 8,
   "metadata": {
    "collapsed": false
   },
   "outputs": [
    {
     "name": "stdout",
     "output_type": "stream",
     "text": [
      "i outside loop= 10\n"
     ]
    }
   ],
   "source": [
    "i=0\n",
    "while i<10:\n",
    "    i=i+1\n",
    "    continue\n",
    "print \"i outside loop=\",i"
   ]
  },
  {
   "cell_type": "code",
   "execution_count": 9,
   "metadata": {
    "collapsed": false
   },
   "outputs": [
    {
     "name": "stdout",
     "output_type": "stream",
     "text": [
      "i outside loop= 10\n"
     ]
    }
   ],
   "source": [
    "i=0\n",
    "while i<10:\n",
    "    i=i+1\n",
    "    continue\n",
    "    print \"i inside loop=\",i\n",
    "print \"i outside loop=\",i"
   ]
  },
  {
   "cell_type": "code",
   "execution_count": 10,
   "metadata": {
    "collapsed": false
   },
   "outputs": [
    {
     "name": "stdout",
     "output_type": "stream",
     "text": [
      "i outside loop= 1\n"
     ]
    }
   ],
   "source": [
    "i=0\n",
    "while i<10:\n",
    "    i=i+1\n",
    "    break\n",
    "    print \"i inside loop=\",i\n",
    "print \"i outside loop=\",i"
   ]
  },
  {
   "cell_type": "code",
   "execution_count": 11,
   "metadata": {
    "collapsed": false
   },
   "outputs": [
    {
     "name": "stdout",
     "output_type": "stream",
     "text": [
      "i outside loop= 0\n"
     ]
    }
   ],
   "source": [
    "i=0\n",
    "while i>10:\n",
    "    i=i+1\n",
    "    break\n",
    "    print \"i inside loop=\",i\n",
    "print \"i outside loop=\",i"
   ]
  },
  {
   "cell_type": "code",
   "execution_count": null,
   "metadata": {
    "collapsed": true
   },
   "outputs": [],
   "source": [
    "i=0\n",
    "while i<10:\n",
    "    continue\n",
    "    i=i+1\n",
    "    print \"i inside loop=\",i\n",
    "print \"i outside loop=\",i"
   ]
  },
  {
   "cell_type": "code",
   "execution_count": 12,
   "metadata": {
    "collapsed": false
   },
   "outputs": [
    {
     "name": "stdout",
     "output_type": "stream",
     "text": [
      "i outside loop= a\n"
     ]
    }
   ],
   "source": [
    "i=0\n",
    "for i in \"abcd\":\n",
    "    break\n",
    "    print \"i inside loop=\",i\n",
    "print \"i outside loop=\",i"
   ]
  },
  {
   "cell_type": "code",
   "execution_count": 13,
   "metadata": {
    "collapsed": false
   },
   "outputs": [
    {
     "name": "stdout",
     "output_type": "stream",
     "text": [
      "i outside loop= d\n"
     ]
    }
   ],
   "source": [
    "i=0\n",
    "for i in \"abcd\":\n",
    "    continue\n",
    "    print \"i inside loop=\",i\n",
    "print \"i outside loop=\",i"
   ]
  },
  {
   "cell_type": "code",
   "execution_count": 15,
   "metadata": {
    "collapsed": false
   },
   "outputs": [
    {
     "name": "stdout",
     "output_type": "stream",
     "text": [
      "program started\n",
      "other statements in prorgram\n",
      "this is function.\n",
      "program ended.\n"
     ]
    }
   ],
   "source": [
    "print \"program started\"\n",
    "def fun():\n",
    "    print \"this is function.\"\n",
    "print \"other statements in prorgram\"\n",
    "fun()\n",
    "print \"program ended.\""
   ]
  },
  {
   "cell_type": "code",
   "execution_count": 16,
   "metadata": {
    "collapsed": false
   },
   "outputs": [
    {
     "name": "stdout",
     "output_type": "stream",
     "text": [
      "program started\n",
      "other statements in prorgram\n",
      "this is function.\n",
      "program ended.\n"
     ]
    }
   ],
   "source": [
    "print \"program started\"\n",
    "def fun():\n",
    "    a=10\n",
    "    b=20\n",
    "    c=30\n",
    "    print \"this is function.\"\n",
    "print \"other statements in prorgram\"\n",
    "fun()\n",
    "print \"program ended.\""
   ]
  },
  {
   "cell_type": "code",
   "execution_count": 17,
   "metadata": {
    "collapsed": false
   },
   "outputs": [
    {
     "name": "stdout",
     "output_type": "stream",
     "text": [
      "program started\n",
      "id of a= 26404816\n",
      "function fun id= 140257125464616\n",
      "some function starting statments\n",
      "this is function.\n",
      "fun= <function fun at 0x7f902823fa28>\n",
      "fun1= <function fun at 0x7f902823fa28>\n",
      "fun2= None\n",
      "other statements in prorgram\n",
      "program ended.\n"
     ]
    }
   ],
   "source": [
    "print \"program started\"\n",
    "a=100\n",
    "def fun():\n",
    "    print \"some function starting statments\"\n",
    "    print \"this is function.\"\n",
    "    a=10\n",
    "    b=20\n",
    "    c=a+b\n",
    "    \n",
    "print \"id of a=\",id(a)\n",
    "print \"function fun id=\",id(fun)\n",
    "b=a\n",
    "fun1=fun\n",
    "fun2=fun()\n",
    "print \"fun=\",fun\n",
    "print \"fun1=\",fun1\n",
    "print \"fun2=\",fun2\n",
    "print \"other statements in prorgram\"\n",
    "print \"program ended.\""
   ]
  },
  {
   "cell_type": "code",
   "execution_count": 18,
   "metadata": {
    "collapsed": false
   },
   "outputs": [
    {
     "name": "stdout",
     "output_type": "stream",
     "text": [
      "a123="
     ]
    },
    {
     "ename": "NameError",
     "evalue": "name 'a123' is not defined",
     "output_type": "error",
     "traceback": [
      "\u001b[0;31m---------------------------------------------------------------------------\u001b[0m",
      "\u001b[0;31mNameError\u001b[0m                                 Traceback (most recent call last)",
      "\u001b[0;32m<ipython-input-18-fd5bb62617ac>\u001b[0m in \u001b[0;36m<module>\u001b[0;34m()\u001b[0m\n\u001b[1;32m      4\u001b[0m     \u001b[0mc123\u001b[0m\u001b[0;34m=\u001b[0m\u001b[0ma123\u001b[0m\u001b[0;34m+\u001b[0m\u001b[0mb123\u001b[0m\u001b[0;34m\u001b[0m\u001b[0m\n\u001b[1;32m      5\u001b[0m \u001b[0mfun\u001b[0m\u001b[0;34m(\u001b[0m\u001b[0;34m)\u001b[0m\u001b[0;34m\u001b[0m\u001b[0m\n\u001b[0;32m----> 6\u001b[0;31m \u001b[0;32mprint\u001b[0m \u001b[0;34m\"a123=\"\u001b[0m\u001b[0;34m,\u001b[0m\u001b[0ma123\u001b[0m\u001b[0;34m\u001b[0m\u001b[0m\n\u001b[0m\u001b[1;32m      7\u001b[0m \u001b[0;32mprint\u001b[0m \u001b[0;34m\"b123=\"\u001b[0m\u001b[0;34m,\u001b[0m\u001b[0mb123\u001b[0m\u001b[0;34m\u001b[0m\u001b[0m\n\u001b[1;32m      8\u001b[0m \u001b[0;32mprint\u001b[0m \u001b[0;34m\"c123=\"\u001b[0m\u001b[0;34m,\u001b[0m\u001b[0mc123\u001b[0m\u001b[0;34m\u001b[0m\u001b[0m\n",
      "\u001b[0;31mNameError\u001b[0m: name 'a123' is not defined"
     ]
    }
   ],
   "source": [
    "def fun():\n",
    "    a123=10\n",
    "    b123=20\n",
    "    c123=a123+b123\n",
    "fun()\n",
    "print \"a123=\",a123\n",
    "print \"b123=\",b123\n",
    "print \"c123=\",c123"
   ]
  },
  {
   "cell_type": "code",
   "execution_count": 19,
   "metadata": {
    "collapsed": false
   },
   "outputs": [
    {
     "name": "stdout",
     "output_type": "stream",
     "text": [
      " a123= 100\n",
      "b123= 200\n",
      "c123= 300\n",
      "a123= 100\n",
      "b123= 200\n",
      "c123= 300\n",
      "a1="
     ]
    },
    {
     "ename": "NameError",
     "evalue": "name 'a1' is not defined",
     "output_type": "error",
     "traceback": [
      "\u001b[0;31m---------------------------------------------------------------------------\u001b[0m",
      "\u001b[0;31mNameError\u001b[0m                                 Traceback (most recent call last)",
      "\u001b[0;32m<ipython-input-19-cfefa3bb9fff>\u001b[0m in \u001b[0;36m<module>\u001b[0;34m()\u001b[0m\n\u001b[1;32m     13\u001b[0m \u001b[0;32mprint\u001b[0m \u001b[0;34m\"b123=\"\u001b[0m\u001b[0;34m,\u001b[0m\u001b[0mb123\u001b[0m\u001b[0;34m\u001b[0m\u001b[0m\n\u001b[1;32m     14\u001b[0m \u001b[0;32mprint\u001b[0m \u001b[0;34m\"c123=\"\u001b[0m\u001b[0;34m,\u001b[0m\u001b[0mc123\u001b[0m\u001b[0;34m\u001b[0m\u001b[0m\n\u001b[0;32m---> 15\u001b[0;31m \u001b[0;32mprint\u001b[0m \u001b[0;34m\"a1=\"\u001b[0m\u001b[0;34m,\u001b[0m\u001b[0ma1\u001b[0m\u001b[0;34m\u001b[0m\u001b[0m\n\u001b[0m\u001b[1;32m     16\u001b[0m \u001b[0;32mprint\u001b[0m \u001b[0;34m\"b1=\"\u001b[0m\u001b[0;34m,\u001b[0m\u001b[0mb1\u001b[0m\u001b[0;34m\u001b[0m\u001b[0m\n\u001b[1;32m     17\u001b[0m \u001b[0;32mprint\u001b[0m \u001b[0;34m\"c1=\"\u001b[0m\u001b[0;34m,\u001b[0m\u001b[0mc1\u001b[0m\u001b[0;34m\u001b[0m\u001b[0m\n",
      "\u001b[0;31mNameError\u001b[0m: name 'a1' is not defined"
     ]
    }
   ],
   "source": [
    "a123=100\n",
    "b123=200\n",
    "c123=a123+b123\n",
    "def fun():\n",
    "    print \"a123=\",a123\n",
    "    print \"b123=\",b123\n",
    "    print \"c123=\",c123\n",
    "    a1=10\n",
    "    b1=20\n",
    "    c1=a1+b1\n",
    "fun()\n",
    "print \"a123=\",a123\n",
    "print \"b123=\",b123\n",
    "print \"c123=\",c123\n",
    "print \"a1=\",a1\n",
    "print \"b1=\",b1\n",
    "print \"c1=\",c1\n"
   ]
  },
  {
   "cell_type": "code",
   "execution_count": 20,
   "metadata": {
    "collapsed": false
   },
   "outputs": [
    {
     "name": "stdout",
     "output_type": "stream",
     "text": [
      " a= 3000\n",
      "s= 2000\n",
      "a= 1000\n",
      "s="
     ]
    },
    {
     "ename": "NameError",
     "evalue": "name 's' is not defined",
     "output_type": "error",
     "traceback": [
      "\u001b[0;31m---------------------------------------------------------------------------\u001b[0m",
      "\u001b[0;31mNameError\u001b[0m                                 Traceback (most recent call last)",
      "\u001b[0;32m<ipython-input-20-2be2b9e8ef90>\u001b[0m in \u001b[0;36m<module>\u001b[0;34m()\u001b[0m\n\u001b[1;32m      7\u001b[0m \u001b[0mfun\u001b[0m\u001b[0;34m(\u001b[0m\u001b[0;34m)\u001b[0m\u001b[0;34m\u001b[0m\u001b[0m\n\u001b[1;32m      8\u001b[0m \u001b[0;32mprint\u001b[0m \u001b[0;34m\"a=\"\u001b[0m\u001b[0;34m,\u001b[0m\u001b[0ma\u001b[0m\u001b[0;34m\u001b[0m\u001b[0m\n\u001b[0;32m----> 9\u001b[0;31m \u001b[0;32mprint\u001b[0m \u001b[0;34m\"s=\"\u001b[0m\u001b[0;34m,\u001b[0m\u001b[0ms\u001b[0m\u001b[0;34m\u001b[0m\u001b[0m\n\u001b[0m",
      "\u001b[0;31mNameError\u001b[0m: name 's' is not defined"
     ]
    }
   ],
   "source": [
    "a=1000\n",
    "def fun():\n",
    "    s=2000\n",
    "    a=3000\n",
    "    print \"a=\",a\n",
    "    print \"s=\",s\n",
    "fun()\n",
    "print \"a=\",a\n",
    "print \"s=\",s"
   ]
  },
  {
   "cell_type": "code",
   "execution_count": 21,
   "metadata": {
    "collapsed": false
   },
   "outputs": [
    {
     "name": "stdout",
     "output_type": "stream",
     "text": [
      " a="
     ]
    },
    {
     "ename": "UnboundLocalError",
     "evalue": "local variable 'a' referenced before assignment",
     "output_type": "error",
     "traceback": [
      "\u001b[0;31m---------------------------------------------------------------------------\u001b[0m",
      "\u001b[0;31mUnboundLocalError\u001b[0m                         Traceback (most recent call last)",
      "\u001b[0;32m<ipython-input-21-09facb4c7165>\u001b[0m in \u001b[0;36m<module>\u001b[0;34m()\u001b[0m\n\u001b[1;32m      6\u001b[0m     \u001b[0;32mprint\u001b[0m \u001b[0;34m\"a=\"\u001b[0m\u001b[0;34m,\u001b[0m\u001b[0ma\u001b[0m\u001b[0;34m\u001b[0m\u001b[0m\n\u001b[1;32m      7\u001b[0m     \u001b[0;32mprint\u001b[0m \u001b[0;34m\"s=\"\u001b[0m\u001b[0;34m,\u001b[0m\u001b[0ms\u001b[0m\u001b[0;34m\u001b[0m\u001b[0m\n\u001b[0;32m----> 8\u001b[0;31m \u001b[0mfun\u001b[0m\u001b[0;34m(\u001b[0m\u001b[0;34m)\u001b[0m\u001b[0;34m\u001b[0m\u001b[0m\n\u001b[0m\u001b[1;32m      9\u001b[0m \u001b[0;32mprint\u001b[0m \u001b[0;34m\"a=\"\u001b[0m\u001b[0;34m,\u001b[0m\u001b[0ma\u001b[0m\u001b[0;34m\u001b[0m\u001b[0m\n\u001b[1;32m     10\u001b[0m \u001b[0;32mprint\u001b[0m \u001b[0;34m\"s=\"\u001b[0m\u001b[0;34m,\u001b[0m\u001b[0ms\u001b[0m\u001b[0;34m\u001b[0m\u001b[0m\n",
      "\u001b[0;32m<ipython-input-21-09facb4c7165>\u001b[0m in \u001b[0;36mfun\u001b[0;34m()\u001b[0m\n\u001b[1;32m      1\u001b[0m \u001b[0ma\u001b[0m\u001b[0;34m=\u001b[0m\u001b[0;36m1000\u001b[0m\u001b[0;34m\u001b[0m\u001b[0m\n\u001b[1;32m      2\u001b[0m \u001b[0;32mdef\u001b[0m \u001b[0mfun\u001b[0m\u001b[0;34m(\u001b[0m\u001b[0;34m)\u001b[0m\u001b[0;34m:\u001b[0m\u001b[0;34m\u001b[0m\u001b[0m\n\u001b[0;32m----> 3\u001b[0;31m     \u001b[0;32mprint\u001b[0m \u001b[0;34m\"a=\"\u001b[0m\u001b[0;34m,\u001b[0m\u001b[0ma\u001b[0m\u001b[0;34m\u001b[0m\u001b[0m\n\u001b[0m\u001b[1;32m      4\u001b[0m     \u001b[0ms\u001b[0m\u001b[0;34m=\u001b[0m\u001b[0;36m2000\u001b[0m\u001b[0;34m\u001b[0m\u001b[0m\n\u001b[1;32m      5\u001b[0m     \u001b[0ma\u001b[0m\u001b[0;34m=\u001b[0m\u001b[0;36m3000\u001b[0m\u001b[0;34m\u001b[0m\u001b[0m\n",
      "\u001b[0;31mUnboundLocalError\u001b[0m: local variable 'a' referenced before assignment"
     ]
    }
   ],
   "source": [
    "a=1000\n",
    "def fun():\n",
    "    print \"a=\",a\n",
    "    s=2000\n",
    "    a=3000\n",
    "    print \"a=\",a\n",
    "    print \"s=\",s\n",
    "fun()\n",
    "print \"a=\",a\n",
    "print \"s=\",s"
   ]
  },
  {
   "cell_type": "code",
   "execution_count": null,
   "metadata": {
    "collapsed": true
   },
   "outputs": [],
   "source": []
  }
 ],
 "metadata": {
  "kernelspec": {
   "display_name": "Python 2",
   "language": "python",
   "name": "python2"
  },
  "language_info": {
   "codemirror_mode": {
    "name": "ipython",
    "version": 2
   },
   "file_extension": ".py",
   "mimetype": "text/x-python",
   "name": "python",
   "nbconvert_exporter": "python",
   "pygments_lexer": "ipython2",
   "version": "2.7.13"
  }
 },
 "nbformat": 4,
 "nbformat_minor": 2
}
