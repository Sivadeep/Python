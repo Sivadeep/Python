{
 "cells": [
  {
   "cell_type": "code",
   "execution_count": 1,
   "metadata": {
    "collapsed": true
   },
   "outputs": [],
   "source": [
    "from subprocess import check_output\n",
    "ls = check_output(['ls'])"
   ]
  },
  {
   "cell_type": "code",
   "execution_count": 2,
   "metadata": {
    "collapsed": false
   },
   "outputs": [
    {
     "data": {
      "text/plain": [
       "'app1.py\\napp.py\\na.py\\na.pyc\\nclosure and decorator.ipynb\\ncoding.py\\nconditiona statements.ipynb\\ndata1.csv\\ndata.csv\\ndatatypes2.ipynb\\ndatatypes.ipynb\\ndemo2.ipynb\\ndemo.ipynb\\ndictionaries.ipynb\\nfiles.ipynb\\nfunctionas adv.ipynb\\nfunctions2.ipynb\\nfunctions.ipynb\\nlists.ipynb\\nmails.txt\\nmails.txt~\\nmanufacturing.py\\nmodules\\nmodules.zip\\nms1.jpg\\nms.jpg\\npur.py\\nsales.py\\nstring functions2.ipynb\\nstring functions.ipynb\\nUntitled1.ipynb\\nUntitled2.ipynb\\nUntitled3.ipynb\\nUntitled4.ipynb\\nUntitled5.ipynb\\nUntitled6.ipynb\\nUntitled.ipynb\\nwarehouse.py\\n'"
      ]
     },
     "execution_count": 2,
     "metadata": {},
     "output_type": "execute_result"
    }
   ],
   "source": [
    "ls"
   ]
  },
  {
   "cell_type": "code",
   "execution_count": 4,
   "metadata": {
    "collapsed": false
   },
   "outputs": [
    {
     "name": "stdout",
     "output_type": "stream",
     "text": [
      "app1.py\n",
      "app.py\n",
      "a.py\n",
      "a.pyc\n",
      "closure and decorator.ipynb\n",
      "coding.py\n",
      "conditiona statements.ipynb\n",
      "data1.csv\n",
      "data.csv\n",
      "datatypes2.ipynb\n",
      "datatypes.ipynb\n",
      "demo2.ipynb\n",
      "demo.ipynb\n",
      "dictionaries.ipynb\n",
      "files.ipynb\n",
      "functionas adv.ipynb\n",
      "functions2.ipynb\n",
      "functions.ipynb\n",
      "lists.ipynb\n",
      "mails.txt\n",
      "mails.txt~\n",
      "manufacturing.py\n",
      "modules\n",
      "modules.zip\n",
      "ms1.jpg\n",
      "ms.jpg\n",
      "pur.py\n",
      "sales.py\n",
      "string functions2.ipynb\n",
      "string functions.ipynb\n",
      "Untitled1.ipynb\n",
      "Untitled2.ipynb\n",
      "Untitled3.ipynb\n",
      "Untitled4.ipynb\n",
      "Untitled5.ipynb\n",
      "Untitled6.ipynb\n",
      "Untitled.ipynb\n",
      "warehouse.py\n",
      "\n"
     ]
    }
   ],
   "source": [
    "print ls"
   ]
  },
  {
   "cell_type": "code",
   "execution_count": 5,
   "metadata": {
    "collapsed": true
   },
   "outputs": [],
   "source": [
    "from subprocess import check_output\n",
    "ls = check_output(['ls','-l'])"
   ]
  },
  {
   "cell_type": "code",
   "execution_count": 6,
   "metadata": {
    "collapsed": false
   },
   "outputs": [
    {
     "name": "stdout",
     "output_type": "stream",
     "text": [
      "total 672\n",
      "-rw-rw-r-- 1 tcloudost tcloudost      0 Jul 18 07:32 app1.py\n",
      "-rw-rw-r-- 1 tcloudost tcloudost     46 Jul 18 07:24 app.py\n",
      "-rw-rw-r-- 1 tcloudost tcloudost     53 Jul 20 07:50 a.py\n",
      "-rw-rw-r-- 1 tcloudost tcloudost    197 Jul 20 07:52 a.pyc\n",
      "-rw-rw-r-- 1 tcloudost tcloudost   9800 Aug 10 07:36 closure and decorator.ipynb\n",
      "-rw-rw-r-- 1 tcloudost tcloudost    238 Jul 25 08:03 coding.py\n",
      "-rw-rw-r-- 1 tcloudost tcloudost  34918 Jul 26 08:12 conditiona statements.ipynb\n",
      "-rw-rw-r-- 1 tcloudost tcloudost     80 Aug 10 08:11 data1.csv\n",
      "-rw-rw-r-- 1 tcloudost tcloudost    260 Aug 10 07:51 data.csv\n",
      "-rw-rw-r-- 1 tcloudost tcloudost  24877 Jul 24 09:36 datatypes2.ipynb\n",
      "-rw-rw-r-- 1 tcloudost tcloudost  16535 Jul 21 08:12 datatypes.ipynb\n",
      "-rw-rw-r-- 1 tcloudost tcloudost   4423 Jul 17 08:11 demo2.ipynb\n",
      "-rw-rw-r-- 1 tcloudost tcloudost   3104 Jul 11 08:05 demo.ipynb\n",
      "-rw-rw-r-- 1 tcloudost tcloudost  25924 Aug  6 09:55 dictionaries.ipynb\n",
      "-rw-rw-r-- 1 tcloudost tcloudost  19446 Aug 10 08:14 files.ipynb\n",
      "-rw-rw-r-- 1 tcloudost tcloudost  15951 Aug  7 07:57 functionas adv.ipynb\n",
      "-rw-rw-r-- 1 tcloudost tcloudost  29851 Jul 28 08:15 functions2.ipynb\n",
      "-rw-rw-r-- 1 tcloudost tcloudost  18683 Jul 27 08:04 functions.ipynb\n",
      "-rw-rw-r-- 1 tcloudost tcloudost  80995 Aug  6 09:00 lists.ipynb\n",
      "-rw-rw-r-- 1 tcloudost tcloudost    257 Aug  6 13:18 mails.txt\n",
      "-rw-rw-r-- 1 tcloudost tcloudost      0 Aug  6 13:18 mails.txt~\n",
      "-rw-rw-r-- 1 tcloudost tcloudost     12 Jul 18 07:29 manufacturing.py\n",
      "drwxrwxr-x 3 tcloudost tcloudost   4096 Aug  8 08:19 modules\n",
      "-rw-rw-r-- 1 tcloudost tcloudost   6221 Aug  8 09:29 modules.zip\n",
      "-rw-rw-r-- 1 tcloudost tcloudost 108309 Aug 10 08:05 ms1.jpg\n",
      "-rw-rw-r-- 1 tcloudost tcloudost  36103 Aug 14  2016 ms.jpg\n",
      "-rw-rw-r-- 1 tcloudost tcloudost     10 Jul 18 07:29 pur.py\n",
      "-rw-rw-r-- 1 tcloudost tcloudost     96 Jul 18 07:38 sales.py\n",
      "-rw-rw-r-- 1 tcloudost tcloudost  49958 Aug  5 08:25 string functions2.ipynb\n",
      "-rw-rw-r-- 1 tcloudost tcloudost  41693 Aug  4 08:10 string functions.ipynb\n",
      "-rw-rw-r-- 1 tcloudost tcloudost   7688 Jul 19 07:58 Untitled1.ipynb\n",
      "-rw-rw-r-- 1 tcloudost tcloudost  32779 Jul 25 08:14 Untitled2.ipynb\n",
      "-rw-rw-r-- 1 tcloudost tcloudost     72 Jul 28 07:10 Untitled3.ipynb\n",
      "-rw-rw-r-- 1 tcloudost tcloudost   2717 Aug  9 09:16 Untitled4.ipynb\n",
      "-rw-rw-r-- 1 tcloudost tcloudost     72 Aug 10 07:37 Untitled5.ipynb\n",
      "-rw-rw-r-- 1 tcloudost tcloudost   2303 Aug 11 07:20 Untitled6.ipynb\n",
      "-rw-rw-r-- 1 tcloudost tcloudost   9585 Jul 20 08:06 Untitled.ipynb\n",
      "-rw-rw-r-- 1 tcloudost tcloudost     10 Jul 18 07:29 warehouse.py\n",
      "\n"
     ]
    }
   ],
   "source": [
    "print ls"
   ]
  },
  {
   "cell_type": "code",
   "execution_count": 8,
   "metadata": {
    "collapsed": false
   },
   "outputs": [
    {
     "data": {
      "text/plain": [
       "<sqlite3.Cursor at 0x7f42cfff5c00>"
      ]
     },
     "execution_count": 8,
     "metadata": {},
     "output_type": "execute_result"
    }
   ],
   "source": [
    "# postgres ,mysql, oracle, mssql mongo\n",
    "import sqlite3\n",
    "con = sqlite3.connect('db1.db')\n",
    "cur = con.cursor()\n",
    "cur.execute('create table customer(id int, name crachar2(250))')"
   ]
  },
  {
   "cell_type": "code",
   "execution_count": 10,
   "metadata": {
    "collapsed": false
   },
   "outputs": [
    {
     "data": {
      "text/plain": [
       "<sqlite3.Cursor at 0x7f42cfff5c00>"
      ]
     },
     "execution_count": 10,
     "metadata": {},
     "output_type": "execute_result"
    }
   ],
   "source": [
    "cur.execute(\"insert into customer values(1, 'name1')\")"
   ]
  },
  {
   "cell_type": "code",
   "execution_count": 11,
   "metadata": {
    "collapsed": true
   },
   "outputs": [],
   "source": [
    "con.commit()"
   ]
  },
  {
   "cell_type": "code",
   "execution_count": 12,
   "metadata": {
    "collapsed": false
   },
   "outputs": [
    {
     "name": "stdout",
     "output_type": "stream",
     "text": [
      "{'id': 2, 'name': 'name2'}\n",
      "{'id': 3, 'name': 'name3'}\n"
     ]
    }
   ],
   "source": [
    "customers=[{'id':2,'name':'name2'},{'id':3,'name':'name3'}]\n",
    "for row in customers:\n",
    "    print row"
   ]
  },
  {
   "cell_type": "code",
   "execution_count": 13,
   "metadata": {
    "collapsed": false
   },
   "outputs": [
    {
     "name": "stdout",
     "output_type": "stream",
     "text": [
      "insert into customers values(2, 'name2')\n",
      "insert into customers values(3, 'name3')\n"
     ]
    }
   ],
   "source": [
    "customers=[{'id':2,'name':'name2'},{'id':3,'name':'name3'}]\n",
    "for row in customers:\n",
    "    q=\"insert into customers values(%s, '%s')\"%(row.get('id'),row.get('name'))\n",
    "    print q"
   ]
  },
  {
   "cell_type": "code",
   "execution_count": 15,
   "metadata": {
    "collapsed": false
   },
   "outputs": [],
   "source": [
    "customers=[{'id':2,'name':'name2'},{'id':3,'name':'name3'}]\n",
    "for row in customers:\n",
    "    q=\"insert into customer values(%s, '%s')\"%(row.get('id'),row.get('name'))\n",
    "    cur.execute(q)\n",
    "con.commit()"
   ]
  },
  {
   "cell_type": "code",
   "execution_count": 16,
   "metadata": {
    "collapsed": false
   },
   "outputs": [
    {
     "name": "stdout",
     "output_type": "stream",
     "text": [
      "Enter cusotmer id:4\n",
      "Enter customer name:name4\n"
     ]
    }
   ],
   "source": [
    "c_id=raw_input(\"Enter cusotmer id:\")\n",
    "c_name=raw_input(\"Enter customer name:\")\n",
    "q=\"insert into customer values(%s, '%s')\"%(c_id, c_name)\n",
    "cur.execute(q)\n",
    "con.commit()"
   ]
  },
  {
   "cell_type": "code",
   "execution_count": 17,
   "metadata": {
    "collapsed": false
   },
   "outputs": [
    {
     "data": {
      "text/plain": [
       "<sqlite3.Cursor at 0x7f42cfff5c00>"
      ]
     },
     "execution_count": 17,
     "metadata": {},
     "output_type": "execute_result"
    }
   ],
   "source": [
    "cur.execute(\"select * from customer\")"
   ]
  },
  {
   "cell_type": "code",
   "execution_count": 18,
   "metadata": {
    "collapsed": false
   },
   "outputs": [
    {
     "data": {
      "text/plain": [
       "(1, u'name1')"
      ]
     },
     "execution_count": 18,
     "metadata": {},
     "output_type": "execute_result"
    }
   ],
   "source": [
    "cur.fetchone()"
   ]
  },
  {
   "cell_type": "code",
   "execution_count": 19,
   "metadata": {
    "collapsed": false
   },
   "outputs": [
    {
     "data": {
      "text/plain": [
       "[(2, u'name2'), (3, u'name3'), (4, u'name4')]"
      ]
     },
     "execution_count": 19,
     "metadata": {},
     "output_type": "execute_result"
    }
   ],
   "source": [
    "cur.fetchall()"
   ]
  },
  {
   "cell_type": "code",
   "execution_count": 20,
   "metadata": {
    "collapsed": false
   },
   "outputs": [
    {
     "name": "stdout",
     "output_type": "stream",
     "text": [
      "Enter id:1\n",
      "(1, u'name1')\n"
     ]
    }
   ],
   "source": [
    "c_id=raw_input(\"Enter id:\")\n",
    "q=\"select * from customer where id=%s\"%c_id\n",
    "cur.execute(q)\n",
    "print cur.fetchone()"
   ]
  },
  {
   "cell_type": "code",
   "execution_count": 21,
   "metadata": {
    "collapsed": false
   },
   "outputs": [
    {
     "name": "stdout",
     "output_type": "stream",
     "text": [
      "Enter id:3\n",
      "(3, u'name3')\n"
     ]
    }
   ],
   "source": [
    "c_id=raw_input(\"Enter id:\")\n",
    "q=\"select * from customer where id=%s\"%c_id\n",
    "cur.execute(q)\n",
    "print cur.fetchone()"
   ]
  },
  {
   "cell_type": "code",
   "execution_count": 22,
   "metadata": {
    "collapsed": false
   },
   "outputs": [
    {
     "name": "stdout",
     "output_type": "stream",
     "text": [
      "Enter id:3\n",
      "***Existing record information*****\n",
      "(3, u'name3')\n",
      "*** Enter new details***\n",
      "Enter new name:modified name3\n"
     ]
    }
   ],
   "source": [
    "c_id=raw_input(\"Enter id:\")\n",
    "q=\"select * from customer where id=%s\"%c_id\n",
    "cur.execute(q)\n",
    "print \"***Existing record information*****\"\n",
    "print cur.fetchone()\n",
    "print \"*** Enter new details***\"\n",
    "c_name=raw_input(\"Enter new name:\")\n",
    "q=\"update customer set name='%s' where id=%s\"%(c_name, c_id)\n",
    "cur.execute(q)\n",
    "con.commit()"
   ]
  },
  {
   "cell_type": "code",
   "execution_count": 23,
   "metadata": {
    "collapsed": false
   },
   "outputs": [
    {
     "name": "stdout",
     "output_type": "stream",
     "text": [
      "Enter id:2\n",
      "***record goting to delete*****\n",
      "(2, u'name2')\n",
      "Do you really wnat to delete it?(y/n):y\n",
      "recored deelted successfully!!\n"
     ]
    }
   ],
   "source": [
    "c_id=raw_input(\"Enter id:\")\n",
    "q=\"select * from customer where id=%s\"%c_id\n",
    "cur.execute(q)\n",
    "print \"***record goting to delete*****\"\n",
    "print cur.fetchone()\n",
    "flag=raw_input(\"Do you really wnat to delete it?(y/n):\")\n",
    "if flag.upper()==\"Y\" or flag.upper()==\"YES\":\n",
    "    q=\"delete from customer where id=%s\"%c_id\n",
    "    cur.execute(q)\n",
    "    con.commit()\n",
    "    print \"recored deelted successfully!!\"\n",
    "else:\n",
    "    print \"Ignored the operation\""
   ]
  },
  {
   "cell_type": "code",
   "execution_count": null,
   "metadata": {
    "collapsed": true
   },
   "outputs": [],
   "source": []
  }
 ],
 "metadata": {
  "kernelspec": {
   "display_name": "Python 2",
   "language": "python",
   "name": "python2"
  },
  "language_info": {
   "codemirror_mode": {
    "name": "ipython",
    "version": 2
   },
   "file_extension": ".py",
   "mimetype": "text/x-python",
   "name": "python",
   "nbconvert_exporter": "python",
   "pygments_lexer": "ipython2",
   "version": "2.7.13"
  }
 },
 "nbformat": 4,
 "nbformat_minor": 2
}
