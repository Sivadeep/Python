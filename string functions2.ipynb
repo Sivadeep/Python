{
 "cells": [
  {
   "cell_type": "code",
   "execution_count": 1,
   "metadata": {
    "collapsed": false
   },
   "outputs": [
    {
     "name": "stdout",
     "output_type": "stream",
     "text": [
      "Enter:\n",
      "does not contains caps\n"
     ]
    }
   ],
   "source": [
    "s=raw_input(\"Enter:\")\n",
    "for char in s:\n",
    "    if char.isupper():\n",
    "        print \"conatins caps\"\n",
    "        break\n",
    "else:\n",
    "    print \"does not contains caps\""
   ]
  },
  {
   "cell_type": "code",
   "execution_count": 2,
   "metadata": {
    "collapsed": false
   },
   "outputs": [
    {
     "name": "stdout",
     "output_type": "stream",
     "text": [
      "Enter:\n",
      "enter a valid string\n"
     ]
    }
   ],
   "source": [
    "s=raw_input(\"Enter:\")\n",
    "if s:\n",
    "    \n",
    "    for char in s:\n",
    "        if char.isupper():\n",
    "            print \"conatins caps\"\n",
    "            break\n",
    "    else:\n",
    "        print \"does not contains caps\"\n",
    "else:\n",
    "    print \"enter a valid string\""
   ]
  },
  {
   "cell_type": "code",
   "execution_count": 3,
   "metadata": {
    "collapsed": false
   },
   "outputs": [
    {
     "name": "stdout",
     "output_type": "stream",
     "text": [
      "Enter:123asd\n",
      "does not contains caps\n"
     ]
    }
   ],
   "source": [
    "s=raw_input(\"Enter:\")\n",
    "if s:\n",
    "    \n",
    "    for char in s:\n",
    "        if char.isupper():\n",
    "            print \"conatins caps\"\n",
    "            break\n",
    "    else:\n",
    "        print \"does not contains caps\"\n",
    "else:\n",
    "    print \"enter a valid string\""
   ]
  },
  {
   "cell_type": "code",
   "execution_count": 4,
   "metadata": {
    "collapsed": false
   },
   "outputs": [
    {
     "name": "stdout",
     "output_type": "stream",
     "text": [
      "Enter:123asdF\n",
      "conatins caps\n"
     ]
    }
   ],
   "source": [
    "s=raw_input(\"Enter:\")\n",
    "if s:\n",
    "    \n",
    "    for char in s:\n",
    "        if char.isupper():\n",
    "            print \"conatins caps\"\n",
    "            break\n",
    "    else:\n",
    "        print \"does not contains caps\"\n",
    "else:\n",
    "    print \"enter a valid string\""
   ]
  },
  {
   "cell_type": "code",
   "execution_count": 5,
   "metadata": {
    "collapsed": false
   },
   "outputs": [
    {
     "name": "stdout",
     "output_type": "stream",
     "text": [
      "Enter:sdfsdfWER\n",
      "conatins caps\n"
     ]
    }
   ],
   "source": [
    "s=raw_input(\"Enter:\")\n",
    "if s:\n",
    "    \n",
    "    for char in s:\n",
    "        if char.isupper():\n",
    "            print \"conatins caps\"\n",
    "            break\n",
    "    else:\n",
    "        print \"does not contains caps\"\n",
    "else:\n",
    "    print \"enter a valid string\""
   ]
  },
  {
   "cell_type": "code",
   "execution_count": 6,
   "metadata": {
    "collapsed": false
   },
   "outputs": [
    {
     "name": "stdout",
     "output_type": "stream",
     "text": [
      "Enter:fssfsdfsdf\n",
      "does not contains caps\n"
     ]
    }
   ],
   "source": [
    "s=raw_input(\"Enter:\")\n",
    "if s:\n",
    "    \n",
    "    for char in s:\n",
    "        if char.isupper():\n",
    "            print \"conatins caps\"\n",
    "            break\n",
    "    else:\n",
    "        print \"does not contains caps\"\n",
    "else:\n",
    "    print \"enter a valid string\""
   ]
  },
  {
   "cell_type": "code",
   "execution_count": 7,
   "metadata": {
    "collapsed": false
   },
   "outputs": [
    {
     "name": "stdout",
     "output_type": "stream",
     "text": [
      "Enter:!@#$sdW\n",
      "conatins caps\n"
     ]
    }
   ],
   "source": [
    "s=raw_input(\"Enter:\")\n",
    "if s:\n",
    "    \n",
    "    for char in s:\n",
    "        if char.isupper():\n",
    "            print \"conatins caps\"\n",
    "            break\n",
    "    else:\n",
    "        print \"does not contains caps\"\n",
    "else:\n",
    "    print \"enter a valid string\""
   ]
  },
  {
   "cell_type": "code",
   "execution_count": 8,
   "metadata": {
    "collapsed": false
   },
   "outputs": [
    {
     "name": "stdout",
     "output_type": "stream",
     "text": [
      "Enter:@#$%^\n",
      "does not contains caps\n"
     ]
    }
   ],
   "source": [
    "s=raw_input(\"Enter:\")\n",
    "if s:\n",
    "    \n",
    "    for char in s:\n",
    "        if char.isupper():\n",
    "            print \"conatins caps\"\n",
    "            break\n",
    "    else:\n",
    "        print \"does not contains caps\"\n",
    "else:\n",
    "    print \"enter a valid string\""
   ]
  },
  {
   "cell_type": "code",
   "execution_count": 9,
   "metadata": {
    "collapsed": false
   },
   "outputs": [
    {
     "name": "stdout",
     "output_type": "stream",
     "text": [
      "Enter:ASDFGHJK\n",
      "conatins caps\n"
     ]
    }
   ],
   "source": [
    "s=raw_input(\"Enter:\")\n",
    "if s:\n",
    "    \n",
    "    for char in s:\n",
    "        if char.isupper():\n",
    "            print \"conatins caps\"\n",
    "            break\n",
    "    else:\n",
    "        print \"does not contains caps\"\n",
    "else:\n",
    "    print \"enter a valid string\""
   ]
  },
  {
   "cell_type": "code",
   "execution_count": 1,
   "metadata": {
    "collapsed": false
   },
   "outputs": [
    {
     "name": "stdout",
     "output_type": "stream",
     "text": [
      "Enter substring:a\n",
      "Enter occurance:3\n",
      "Index= 8\n"
     ]
    }
   ],
   "source": [
    "act=\"abcdabcdabcdabcdabcd\"\n",
    "sub=raw_input('Enter substring:')\n",
    "if sub:\n",
    "    occ = raw_input(\"Enter occurance:\")\n",
    "    occ = int(occ)\n",
    "    sub_l = sub.lower()\n",
    "    act_l = act.lower()\n",
    "    count_sub = act_l.count(sub_l)\n",
    "    if occ>count_sub:\n",
    "        print \"Then number of occurance sub: %s, has %s only, but you have given %s\"%(sub, count_sub,occ)\n",
    "    else:\n",
    "        start = 0\n",
    "        i=0\n",
    "        while i<occ:\n",
    "            index=act_l.find(sub_l,start)\n",
    "            start = index+1\n",
    "            i=i+1\n",
    "        print \"Index=\",index\n",
    "    \n",
    "else:\n",
    "    print \"Enter valid string\""
   ]
  },
  {
   "cell_type": "code",
   "execution_count": 2,
   "metadata": {
    "collapsed": false
   },
   "outputs": [
    {
     "name": "stdout",
     "output_type": "stream",
     "text": [
      "Enter substring:\n",
      "Enter valid string\n"
     ]
    }
   ],
   "source": [
    "act=\"abcdabcdabcdabcdabcd\"\n",
    "sub=raw_input('Enter substring:')\n",
    "if sub:\n",
    "    occ = raw_input(\"Enter occurance:\")\n",
    "    occ = int(occ)\n",
    "    sub_l = sub.lower()\n",
    "    act_l = act.lower()\n",
    "    count_sub = act_l.count(sub_l)\n",
    "    if occ>count_sub:\n",
    "        print \"Then number of occurance sub: %s, has %s only, but you have given %s\"%(sub, count_sub,occ)\n",
    "    else:\n",
    "        start = 0\n",
    "        i=0\n",
    "        while i<occ:\n",
    "            index=act_l.find(sub_l,start)\n",
    "            start = index+1\n",
    "            i=i+1\n",
    "        print \"Index=\",index\n",
    "    \n",
    "else:\n",
    "    print \"Enter valid string\""
   ]
  },
  {
   "cell_type": "code",
   "execution_count": 3,
   "metadata": {
    "collapsed": false
   },
   "outputs": [
    {
     "name": "stdout",
     "output_type": "stream",
     "text": [
      "Enter substring:a\n",
      "Enter occurance:\n"
     ]
    },
    {
     "ename": "ValueError",
     "evalue": "invalid literal for int() with base 10: ''",
     "output_type": "error",
     "traceback": [
      "\u001b[0;31m---------------------------------------------------------------------------\u001b[0m",
      "\u001b[0;31mValueError\u001b[0m                                Traceback (most recent call last)",
      "\u001b[0;32m<ipython-input-3-8d59476cf450>\u001b[0m in \u001b[0;36m<module>\u001b[0;34m()\u001b[0m\n\u001b[1;32m      3\u001b[0m \u001b[0;32mif\u001b[0m \u001b[0msub\u001b[0m\u001b[0;34m:\u001b[0m\u001b[0;34m\u001b[0m\u001b[0m\n\u001b[1;32m      4\u001b[0m     \u001b[0mocc\u001b[0m \u001b[0;34m=\u001b[0m \u001b[0mraw_input\u001b[0m\u001b[0;34m(\u001b[0m\u001b[0;34m\"Enter occurance:\"\u001b[0m\u001b[0;34m)\u001b[0m\u001b[0;34m\u001b[0m\u001b[0m\n\u001b[0;32m----> 5\u001b[0;31m     \u001b[0mocc\u001b[0m \u001b[0;34m=\u001b[0m \u001b[0mint\u001b[0m\u001b[0;34m(\u001b[0m\u001b[0mocc\u001b[0m\u001b[0;34m)\u001b[0m\u001b[0;34m\u001b[0m\u001b[0m\n\u001b[0m\u001b[1;32m      6\u001b[0m     \u001b[0msub_l\u001b[0m \u001b[0;34m=\u001b[0m \u001b[0msub\u001b[0m\u001b[0;34m.\u001b[0m\u001b[0mlower\u001b[0m\u001b[0;34m(\u001b[0m\u001b[0;34m)\u001b[0m\u001b[0;34m\u001b[0m\u001b[0m\n\u001b[1;32m      7\u001b[0m     \u001b[0mact_l\u001b[0m \u001b[0;34m=\u001b[0m \u001b[0mact\u001b[0m\u001b[0;34m.\u001b[0m\u001b[0mlower\u001b[0m\u001b[0;34m(\u001b[0m\u001b[0;34m)\u001b[0m\u001b[0;34m\u001b[0m\u001b[0m\n",
      "\u001b[0;31mValueError\u001b[0m: invalid literal for int() with base 10: ''"
     ]
    }
   ],
   "source": [
    "act=\"abcdabcdabcdabcdabcd\"\n",
    "sub=raw_input('Enter substring:')\n",
    "if sub:\n",
    "    occ = raw_input(\"Enter occurance:\")\n",
    "    occ = int(occ)\n",
    "    sub_l = sub.lower()\n",
    "    act_l = act.lower()\n",
    "    count_sub = act_l.count(sub_l)\n",
    "    if occ>count_sub:\n",
    "        print \"Then number of occurance sub: %s, has %s only, but you have given %s\"%(sub, count_sub,occ)\n",
    "    else:\n",
    "        start = 0\n",
    "        i=0\n",
    "        while i<occ:\n",
    "            index=act_l.find(sub_l,start)\n",
    "            start = index+1\n",
    "            i=i+1\n",
    "        print \"Index=\",index\n",
    "    \n",
    "else:\n",
    "    print \"Enter valid string\""
   ]
  },
  {
   "cell_type": "code",
   "execution_count": 4,
   "metadata": {
    "collapsed": false
   },
   "outputs": [
    {
     "name": "stdout",
     "output_type": "stream",
     "text": [
      "Enter substring:a\n",
      "Enter occurance:\n",
      "Please enter a valid occurance\n"
     ]
    }
   ],
   "source": [
    "act=\"abcdabcdabcdabcdabcd\"\n",
    "sub=raw_input('Enter substring:')\n",
    "if sub:\n",
    "    occ = raw_input(\"Enter occurance:\")\n",
    "    if occ.isdigit():\n",
    "        occ = int(occ)\n",
    "        sub_l = sub.lower()\n",
    "        act_l = act.lower()\n",
    "        count_sub = act_l.count(sub_l)\n",
    "        if occ>count_sub:\n",
    "            print \"Then number of occurance sub: %s, has %s only, but you have given %s\"%(sub, count_sub,occ)\n",
    "        else:\n",
    "            start = 0\n",
    "            i=0\n",
    "            while i<occ:\n",
    "                index=act_l.find(sub_l,start)\n",
    "                start = index+1\n",
    "                i=i+1\n",
    "            print \"Index=\",index\n",
    "    else:\n",
    "        print \"Please enter a valid occurance\"\n",
    "    \n",
    "else:\n",
    "    print \"Enter valid string\""
   ]
  },
  {
   "cell_type": "code",
   "execution_count": 6,
   "metadata": {
    "collapsed": false
   },
   "outputs": [
    {
     "name": "stdout",
     "output_type": "stream",
     "text": [
      "Enter substring:q\n",
      "Enter occurance:2\n",
      "Then number of occurance sub: q, has 0 only, but you have given 2\n"
     ]
    }
   ],
   "source": [
    "act=\"abcdabcdabcdabcdabcd\"\n",
    "sub=raw_input('Enter substring:')\n",
    "if sub:\n",
    "    occ = raw_input(\"Enter occurance:\")\n",
    "    if occ.isdigit():\n",
    "        occ = int(occ)\n",
    "        sub_l = sub.lower()\n",
    "        act_l = act.lower()\n",
    "        count_sub = act_l.count(sub_l)\n",
    "        if occ>count_sub:\n",
    "            print \"Then number of occurance sub: %s, has %s only, but you have given %s\"%(sub, count_sub,occ)\n",
    "        else:\n",
    "            start = 0\n",
    "            i=0\n",
    "            while i<occ:\n",
    "                index=act_l.find(sub_l,start)\n",
    "                start = index+1\n",
    "                i=i+1\n",
    "            print \"Index=\",index\n",
    "    else:\n",
    "        print \"Please enter a valid occurance\"\n",
    "    \n",
    "else:\n",
    "    print \"Enter valid string\""
   ]
  },
  {
   "cell_type": "markdown",
   "metadata": {},
   "source": [
    "act=\"abcdabcdabcdabcdabcd\"\n",
    "sub=raw_input('Enter substring:')\n",
    "if sub:\n",
    "    occ = raw_input(\"Enter occurance:\")\n",
    "    if occ.isdigit():\n",
    "        occ = int(occ)\n",
    "        sub_l = sub.lower()\n",
    "        act_l = act.lower()\n",
    "        count_sub = act_l.count(sub_l)\n",
    "        if occ>count_sub:\n",
    "            print \"Then number of occurance sub: %s, has %s only, but you have given %s\"%(sub, count_sub,occ)\n",
    "        else:\n",
    "            start = 0\n",
    "            i=0\n",
    "            while i<occ:\n",
    "                index=act_l.find(sub_l,start)\n",
    "                start = index+1\n",
    "                i=i+1\n",
    "            print \"Index=\",index\n",
    "    else:\n",
    "        print \"Please enter a valid occurance\"\n",
    "    \n",
    "else:\n",
    "    print \"Enter valid string\""
   ]
  },
  {
   "cell_type": "code",
   "execution_count": 8,
   "metadata": {
    "collapsed": false
   },
   "outputs": [
    {
     "name": "stdout",
     "output_type": "stream",
     "text": [
      "Enter substring:a\n",
      "Enter occurance:0\n",
      "Please enter a valid occurance\n"
     ]
    }
   ],
   "source": [
    "act=\"abcdabcdabcdabcdabcd\"\n",
    "sub=raw_input('Enter substring:')\n",
    "if sub:\n",
    "    occ = raw_input(\"Enter occurance:\")\n",
    "    if occ.isdigit():\n",
    "        occ = int(occ)\n",
    "        if occ>0:\n",
    "            sub_l = sub.lower()\n",
    "            act_l = act.lower()\n",
    "            count_sub = act_l.count(sub_l)\n",
    "            if occ>count_sub:\n",
    "                print \"Then number of occurance sub: %s, has %s only, but you have given %s\"%(sub, count_sub,occ)\n",
    "            else:\n",
    "                start = 0\n",
    "                i=0\n",
    "                while i<occ:\n",
    "                    index=act_l.find(sub_l,start)\n",
    "                    start = index+1\n",
    "                    i=i+1\n",
    "                print \"Index=\",index\n",
    "        else:\n",
    "            print \"Please enter a valid occurance\"\n",
    "    else:\n",
    "        print \"Please enter a valid occurance\"\n",
    "    \n",
    "else:\n",
    "    print \"Enter valid string\""
   ]
  },
  {
   "cell_type": "code",
   "execution_count": 9,
   "metadata": {
    "collapsed": false
   },
   "outputs": [
    {
     "name": "stdout",
     "output_type": "stream",
     "text": [
      "Enter substring:a\n",
      "Enter occurance:1\n",
      "Index= 0\n"
     ]
    }
   ],
   "source": [
    "act=\"abcdabcdabcdabcdabcd\"\n",
    "sub=raw_input('Enter substring:')\n",
    "if sub:\n",
    "    occ = raw_input(\"Enter occurance:\")\n",
    "    if occ.isdigit():\n",
    "        occ = int(occ)\n",
    "        if occ>0:\n",
    "            sub_l = sub.lower()\n",
    "            act_l = act.lower()\n",
    "            count_sub = act_l.count(sub_l)\n",
    "            if occ>count_sub:\n",
    "                print \"Then number of occurance sub: %s, has %s only, but you have given %s\"%(sub, count_sub,occ)\n",
    "            else:\n",
    "                start = 0\n",
    "                i=0\n",
    "                while i<occ:\n",
    "                    index=act_l.find(sub_l,start)\n",
    "                    start = index+1\n",
    "                    i=i+1\n",
    "                print \"Index=\",index\n",
    "        else:\n",
    "            print \"Please enter a valid occurance\"\n",
    "    else:\n",
    "        print \"Please enter a valid occurance\"\n",
    "    \n",
    "else:\n",
    "    print \"Enter valid string\""
   ]
  },
  {
   "cell_type": "code",
   "execution_count": 10,
   "metadata": {
    "collapsed": false
   },
   "outputs": [
    {
     "name": "stdout",
     "output_type": "stream",
     "text": [
      "Enter substring:d\n",
      "Enter occurance:1\n",
      "Index= 3\n"
     ]
    }
   ],
   "source": [
    "act=\"abcdabcdabcdabcdabcd\"\n",
    "sub=raw_input('Enter substring:')\n",
    "if sub:\n",
    "    occ = raw_input(\"Enter occurance:\")\n",
    "    if occ.isdigit():\n",
    "        occ = int(occ)\n",
    "        if occ>0:\n",
    "            sub_l = sub.lower()\n",
    "            act_l = act.lower()\n",
    "            count_sub = act_l.count(sub_l)\n",
    "            if occ>count_sub:\n",
    "                print \"Then number of occurance sub: %s, has %s only, but you have given %s\"%(sub, count_sub,occ)\n",
    "            else:\n",
    "                start = 0\n",
    "                i=0\n",
    "                while i<occ:\n",
    "                    index=act_l.find(sub_l,start)\n",
    "                    start = index+1\n",
    "                    i=i+1\n",
    "                print \"Index=\",index\n",
    "        else:\n",
    "            print \"Please enter a valid occurance\"\n",
    "    else:\n",
    "        print \"Please enter a valid occurance\"\n",
    "    \n",
    "else:\n",
    "    print \"Enter valid string\""
   ]
  },
  {
   "cell_type": "code",
   "execution_count": 11,
   "metadata": {
    "collapsed": false
   },
   "outputs": [
    {
     "name": "stdout",
     "output_type": "stream",
     "text": [
      "Enter substring:a\n",
      "Enter occurance:-1\n",
      "Please enter a valid occurance\n"
     ]
    }
   ],
   "source": [
    "act=\"abcdabcdabcdabcdabcd\"\n",
    "sub=raw_input('Enter substring:')\n",
    "if sub:\n",
    "    occ = raw_input(\"Enter occurance:\")\n",
    "    if occ.isdigit():\n",
    "        occ = int(occ)\n",
    "        if occ>0:\n",
    "            sub_l = sub.lower()\n",
    "            act_l = act.lower()\n",
    "            count_sub = act_l.count(sub_l)\n",
    "            if occ>count_sub:\n",
    "                print \"Then number of occurance sub: %s, has %s only, but you have given %s\"%(sub, count_sub,occ)\n",
    "            else:\n",
    "                start = 0\n",
    "                i=0\n",
    "                while i<occ:\n",
    "                    index=act_l.find(sub_l,start)\n",
    "                    start = index+1\n",
    "                    i=i+1\n",
    "                print \"Index=\",index\n",
    "        else:\n",
    "            print \"Please enter a valid occurance\"\n",
    "    else:\n",
    "        print \"Please enter a valid occurance\"\n",
    "    \n",
    "else:\n",
    "    print \"Enter valid string\""
   ]
  },
  {
   "cell_type": "code",
   "execution_count": 12,
   "metadata": {
    "collapsed": false
   },
   "outputs": [
    {
     "data": {
      "text/plain": [
       "False"
      ]
     },
     "execution_count": 12,
     "metadata": {},
     "output_type": "execute_result"
    }
   ],
   "source": [
    "\"-1\".isdigit()"
   ]
  },
  {
   "cell_type": "code",
   "execution_count": 13,
   "metadata": {
    "collapsed": false
   },
   "outputs": [
    {
     "data": {
      "text/plain": [
       "-1.0"
      ]
     },
     "execution_count": 13,
     "metadata": {},
     "output_type": "execute_result"
    }
   ],
   "source": [
    "float(\"-1\")"
   ]
  },
  {
   "cell_type": "code",
   "execution_count": 14,
   "metadata": {
    "collapsed": false
   },
   "outputs": [
    {
     "data": {
      "text/plain": [
       "False"
      ]
     },
     "execution_count": 14,
     "metadata": {},
     "output_type": "execute_result"
    }
   ],
   "source": [
    "\"-1\".isdigit()"
   ]
  },
  {
   "cell_type": "code",
   "execution_count": 15,
   "metadata": {
    "collapsed": true
   },
   "outputs": [],
   "source": [
    "a=\"-1\""
   ]
  },
  {
   "cell_type": "code",
   "execution_count": 16,
   "metadata": {
    "collapsed": false
   },
   "outputs": [
    {
     "data": {
      "text/plain": [
       "-1"
      ]
     },
     "execution_count": 16,
     "metadata": {},
     "output_type": "execute_result"
    }
   ],
   "source": [
    "int(a)"
   ]
  },
  {
   "cell_type": "code",
   "execution_count": 17,
   "metadata": {
    "collapsed": false
   },
   "outputs": [
    {
     "data": {
      "text/plain": [
       "False"
      ]
     },
     "execution_count": 17,
     "metadata": {},
     "output_type": "execute_result"
    }
   ],
   "source": [
    "\"+1\".isdigit()"
   ]
  },
  {
   "cell_type": "code",
   "execution_count": 18,
   "metadata": {
    "collapsed": false
   },
   "outputs": [
    {
     "data": {
      "text/plain": [
       "14"
      ]
     },
     "execution_count": 18,
     "metadata": {},
     "output_type": "execute_result"
    }
   ],
   "source": [
    "s=\"python program\"\n",
    "len(s)"
   ]
  },
  {
   "cell_type": "code",
   "execution_count": 19,
   "metadata": {
    "collapsed": false
   },
   "outputs": [
    {
     "name": "stdout",
     "output_type": "stream",
     "text": [
      "python program\n",
      "        python program        \n"
     ]
    }
   ],
   "source": [
    "print s\n",
    "print s.center(30)"
   ]
  },
  {
   "cell_type": "code",
   "execution_count": 20,
   "metadata": {
    "collapsed": false
   },
   "outputs": [
    {
     "name": "stdout",
     "output_type": "stream",
     "text": [
      "python program\n"
     ]
    },
    {
     "data": {
      "text/plain": [
       "'        python program        '"
      ]
     },
     "execution_count": 20,
     "metadata": {},
     "output_type": "execute_result"
    }
   ],
   "source": [
    "print s\n",
    "s.center(30)"
   ]
  },
  {
   "cell_type": "code",
   "execution_count": 21,
   "metadata": {
    "collapsed": false
   },
   "outputs": [
    {
     "name": "stdout",
     "output_type": "stream",
     "text": [
      "python program\n"
     ]
    },
    {
     "data": {
      "text/plain": [
       "'@@@@@@@@python program@@@@@@@@'"
      ]
     },
     "execution_count": 21,
     "metadata": {},
     "output_type": "execute_result"
    }
   ],
   "source": [
    "print s\n",
    "s.center(30,'@')"
   ]
  },
  {
   "cell_type": "code",
   "execution_count": 24,
   "metadata": {
    "collapsed": false
   },
   "outputs": [
    {
     "name": "stdout",
     "output_type": "stream",
     "text": [
      "python program\n"
     ]
    },
    {
     "data": {
      "text/plain": [
       "'%%%%%%%%python program%%%%%%%%'"
      ]
     },
     "execution_count": 24,
     "metadata": {},
     "output_type": "execute_result"
    }
   ],
   "source": [
    "print s\n",
    "s.center(30,'%')"
   ]
  },
  {
   "cell_type": "code",
   "execution_count": 25,
   "metadata": {
    "collapsed": false
   },
   "outputs": [
    {
     "name": "stdout",
     "output_type": "stream",
     "text": [
      "python program\n"
     ]
    },
    {
     "data": {
      "text/plain": [
       "'python program'"
      ]
     },
     "execution_count": 25,
     "metadata": {},
     "output_type": "execute_result"
    }
   ],
   "source": [
    "print s\n",
    "s.center(10,'%')"
   ]
  },
  {
   "cell_type": "code",
   "execution_count": 26,
   "metadata": {
    "collapsed": false
   },
   "outputs": [
    {
     "name": "stdout",
     "output_type": "stream",
     "text": [
      "python program\n",
      "python program$$$$$$$$$$$$$$$$\n"
     ]
    }
   ],
   "source": [
    "print s\n",
    "print s.ljust(30,'$')"
   ]
  },
  {
   "cell_type": "code",
   "execution_count": 27,
   "metadata": {
    "collapsed": false
   },
   "outputs": [
    {
     "name": "stdout",
     "output_type": "stream",
     "text": [
      "python program\n",
      "^^^^^^^^^^^^^^^^python program\n"
     ]
    }
   ],
   "source": [
    "print s\n",
    "print s.rjust(30,'^')"
   ]
  },
  {
   "cell_type": "code",
   "execution_count": 28,
   "metadata": {
    "collapsed": true
   },
   "outputs": [],
   "source": [
    "pwd=\"python\"\n",
    "enc_pwd=pwd.encode('base64')"
   ]
  },
  {
   "cell_type": "code",
   "execution_count": 29,
   "metadata": {
    "collapsed": false
   },
   "outputs": [
    {
     "data": {
      "text/plain": [
       "'cHl0aG9u\\n'"
      ]
     },
     "execution_count": 29,
     "metadata": {},
     "output_type": "execute_result"
    }
   ],
   "source": [
    "enc_pwd"
   ]
  },
  {
   "cell_type": "code",
   "execution_count": 31,
   "metadata": {
    "collapsed": false
   },
   "outputs": [
    {
     "data": {
      "text/plain": [
       "False"
      ]
     },
     "execution_count": 31,
     "metadata": {},
     "output_type": "execute_result"
    }
   ],
   "source": [
    "user_pwd=\"python\"\n",
    "user_pwd==enc_pwd"
   ]
  },
  {
   "cell_type": "code",
   "execution_count": 32,
   "metadata": {
    "collapsed": false
   },
   "outputs": [
    {
     "data": {
      "text/plain": [
       "True"
      ]
     },
     "execution_count": 32,
     "metadata": {},
     "output_type": "execute_result"
    }
   ],
   "source": [
    "user_pwd=\"python\"\n",
    "user_pwd.encode('base64')==enc_pwd"
   ]
  },
  {
   "cell_type": "code",
   "execution_count": 33,
   "metadata": {
    "collapsed": false
   },
   "outputs": [
    {
     "data": {
      "text/plain": [
       "True"
      ]
     },
     "execution_count": 33,
     "metadata": {},
     "output_type": "execute_result"
    }
   ],
   "source": [
    "user_pwd=\"python\"\n",
    "user_pwd==enc_pwd.decode('base64')"
   ]
  },
  {
   "cell_type": "code",
   "execution_count": 34,
   "metadata": {
    "collapsed": false
   },
   "outputs": [
    {
     "data": {
      "text/plain": [
       "'python program'"
      ]
     },
     "execution_count": 34,
     "metadata": {},
     "output_type": "execute_result"
    }
   ],
   "source": [
    "s"
   ]
  },
  {
   "cell_type": "code",
   "execution_count": 35,
   "metadata": {
    "collapsed": false
   },
   "outputs": [
    {
     "data": {
      "text/plain": [
       "True"
      ]
     },
     "execution_count": 35,
     "metadata": {},
     "output_type": "execute_result"
    }
   ],
   "source": [
    "s.endswith('gram')"
   ]
  },
  {
   "cell_type": "code",
   "execution_count": 36,
   "metadata": {
    "collapsed": false
   },
   "outputs": [
    {
     "data": {
      "text/plain": [
       "True"
      ]
     },
     "execution_count": 36,
     "metadata": {},
     "output_type": "execute_result"
    }
   ],
   "source": [
    "s.endswith('m')"
   ]
  },
  {
   "cell_type": "code",
   "execution_count": 37,
   "metadata": {
    "collapsed": false
   },
   "outputs": [
    {
     "data": {
      "text/plain": [
       "False"
      ]
     },
     "execution_count": 37,
     "metadata": {},
     "output_type": "execute_result"
    }
   ],
   "source": [
    "s.endswith(\"jaba\")"
   ]
  },
  {
   "cell_type": "code",
   "execution_count": 38,
   "metadata": {
    "collapsed": false
   },
   "outputs": [
    {
     "data": {
      "text/plain": [
       "False"
      ]
     },
     "execution_count": 38,
     "metadata": {},
     "output_type": "execute_result"
    }
   ],
   "source": [
    "s.endswith(\"GRAM\")"
   ]
  },
  {
   "cell_type": "code",
   "execution_count": 39,
   "metadata": {
    "collapsed": false
   },
   "outputs": [
    {
     "data": {
      "text/plain": [
       "True"
      ]
     },
     "execution_count": 39,
     "metadata": {},
     "output_type": "execute_result"
    }
   ],
   "source": [
    "s.endswith('')"
   ]
  },
  {
   "cell_type": "code",
   "execution_count": 40,
   "metadata": {
    "collapsed": false
   },
   "outputs": [
    {
     "data": {
      "text/plain": [
       "True"
      ]
     },
     "execution_count": 40,
     "metadata": {},
     "output_type": "execute_result"
    }
   ],
   "source": [
    "s.startswith('')"
   ]
  },
  {
   "cell_type": "code",
   "execution_count": 41,
   "metadata": {
    "collapsed": false
   },
   "outputs": [
    {
     "name": "stdout",
     "output_type": "stream",
     "text": [
      "Name: Anil, Age: 23, Height: 5.6\n"
     ]
    }
   ],
   "source": [
    "name=\"Anil\"\n",
    "age=23\n",
    "height=5.6\n",
    "print \"Name: %s, Age: %s, Height: %s\"%(name, age, height)"
   ]
  },
  {
   "cell_type": "code",
   "execution_count": 42,
   "metadata": {
    "collapsed": false
   },
   "outputs": [
    {
     "ename": "ValueError",
     "evalue": "unsupported format character 'A' (0x41) at index 11",
     "output_type": "error",
     "traceback": [
      "\u001b[0;31m---------------------------------------------------------------------------\u001b[0m",
      "\u001b[0;31mValueError\u001b[0m                                Traceback (most recent call last)",
      "\u001b[0;32m<ipython-input-42-ef0953f4495e>\u001b[0m in \u001b[0;36m<module>\u001b[0;34m()\u001b[0m\n\u001b[1;32m      2\u001b[0m \u001b[0mage\u001b[0m\u001b[0;34m=\u001b[0m\u001b[0;36m23\u001b[0m\u001b[0;34m\u001b[0m\u001b[0m\n\u001b[1;32m      3\u001b[0m \u001b[0mheight\u001b[0m\u001b[0;34m=\u001b[0m\u001b[0;36m5.6\u001b[0m\u001b[0;34m\u001b[0m\u001b[0m\n\u001b[0;32m----> 4\u001b[0;31m \u001b[0;32mprint\u001b[0m \u001b[0;34m\"Name: %s, %Age: %s, Height: %s\"\u001b[0m\u001b[0;34m%\u001b[0m\u001b[0;34m(\u001b[0m\u001b[0mname\u001b[0m\u001b[0;34m,\u001b[0m \u001b[0mage\u001b[0m\u001b[0;34m,\u001b[0m \u001b[0mheight\u001b[0m\u001b[0;34m)\u001b[0m\u001b[0;34m\u001b[0m\u001b[0m\n\u001b[0m",
      "\u001b[0;31mValueError\u001b[0m: unsupported format character 'A' (0x41) at index 11"
     ]
    }
   ],
   "source": [
    "name=\"Anil\"\n",
    "age=23\n",
    "height=5.6\n",
    "print \"Name: %s, %Age: %s, Height: %s\"%(name, age, height)"
   ]
  },
  {
   "cell_type": "code",
   "execution_count": 43,
   "metadata": {
    "collapsed": false
   },
   "outputs": [
    {
     "ename": "ValueError",
     "evalue": "unsupported format character 'A' (0x41) at index 12",
     "output_type": "error",
     "traceback": [
      "\u001b[0;31m---------------------------------------------------------------------------\u001b[0m",
      "\u001b[0;31mValueError\u001b[0m                                Traceback (most recent call last)",
      "\u001b[0;32m<ipython-input-43-048c969428fa>\u001b[0m in \u001b[0;36m<module>\u001b[0;34m()\u001b[0m\n\u001b[1;32m      2\u001b[0m \u001b[0mage\u001b[0m\u001b[0;34m=\u001b[0m\u001b[0;36m23\u001b[0m\u001b[0;34m\u001b[0m\u001b[0m\n\u001b[1;32m      3\u001b[0m \u001b[0mheight\u001b[0m\u001b[0;34m=\u001b[0m\u001b[0;36m5.6\u001b[0m\u001b[0;34m\u001b[0m\u001b[0m\n\u001b[0;32m----> 4\u001b[0;31m \u001b[0;32mprint\u001b[0m \u001b[0;34m\"Name: %s, \\%Age: %s, Height: %s\"\u001b[0m\u001b[0;34m%\u001b[0m\u001b[0;34m(\u001b[0m\u001b[0mname\u001b[0m\u001b[0;34m,\u001b[0m \u001b[0mage\u001b[0m\u001b[0;34m,\u001b[0m \u001b[0mheight\u001b[0m\u001b[0;34m)\u001b[0m\u001b[0;34m\u001b[0m\u001b[0m\n\u001b[0m",
      "\u001b[0;31mValueError\u001b[0m: unsupported format character 'A' (0x41) at index 12"
     ]
    }
   ],
   "source": [
    "name=\"Anil\"\n",
    "age=23\n",
    "height=5.6\n",
    "print \"Name: %s, \\%Age: %s, Height: %s\"%(name, age, height)"
   ]
  },
  {
   "cell_type": "code",
   "execution_count": 44,
   "metadata": {
    "collapsed": false
   },
   "outputs": [
    {
     "ename": "ValueError",
     "evalue": "unsupported format character '\\' (0x5c) at index 12",
     "output_type": "error",
     "traceback": [
      "\u001b[0;31m---------------------------------------------------------------------------\u001b[0m",
      "\u001b[0;31mValueError\u001b[0m                                Traceback (most recent call last)",
      "\u001b[0;32m<ipython-input-44-27e0d03f2d23>\u001b[0m in \u001b[0;36m<module>\u001b[0;34m()\u001b[0m\n\u001b[1;32m      2\u001b[0m \u001b[0mage\u001b[0m\u001b[0;34m=\u001b[0m\u001b[0;36m23\u001b[0m\u001b[0;34m\u001b[0m\u001b[0m\n\u001b[1;32m      3\u001b[0m \u001b[0mheight\u001b[0m\u001b[0;34m=\u001b[0m\u001b[0;36m5.6\u001b[0m\u001b[0;34m\u001b[0m\u001b[0m\n\u001b[0;32m----> 4\u001b[0;31m \u001b[0;32mprint\u001b[0m \u001b[0;34m\"Name: %s, \\%\\Age: %s, Height: %s\"\u001b[0m\u001b[0;34m%\u001b[0m\u001b[0;34m(\u001b[0m\u001b[0mname\u001b[0m\u001b[0;34m,\u001b[0m \u001b[0mage\u001b[0m\u001b[0;34m,\u001b[0m \u001b[0mheight\u001b[0m\u001b[0;34m)\u001b[0m\u001b[0;34m\u001b[0m\u001b[0m\n\u001b[0m",
      "\u001b[0;31mValueError\u001b[0m: unsupported format character '\\' (0x5c) at index 12"
     ]
    }
   ],
   "source": [
    "name=\"Anil\"\n",
    "age=23\n",
    "height=5.6\n",
    "print \"Name: %s, \\%\\Age: %s, Height: %s\"%(name, age, height)"
   ]
  },
  {
   "cell_type": "code",
   "execution_count": 45,
   "metadata": {
    "collapsed": false
   },
   "outputs": [
    {
     "ename": "ValueError",
     "evalue": "unsupported format character 'A' (0x41) at index 12",
     "output_type": "error",
     "traceback": [
      "\u001b[0;31m---------------------------------------------------------------------------\u001b[0m",
      "\u001b[0;31mValueError\u001b[0m                                Traceback (most recent call last)",
      "\u001b[0;32m<ipython-input-45-a90a4050a581>\u001b[0m in \u001b[0;36m<module>\u001b[0;34m()\u001b[0m\n\u001b[1;32m      2\u001b[0m \u001b[0mage\u001b[0m\u001b[0;34m=\u001b[0m\u001b[0;36m23\u001b[0m\u001b[0;34m\u001b[0m\u001b[0m\n\u001b[1;32m      3\u001b[0m \u001b[0mheight\u001b[0m\u001b[0;34m=\u001b[0m\u001b[0;36m5.6\u001b[0m\u001b[0;34m\u001b[0m\u001b[0m\n\u001b[0;32m----> 4\u001b[0;31m \u001b[0;32mprint\u001b[0m \u001b[0;34m\"Name: %s, % Age: %s, Height: %s\"\u001b[0m\u001b[0;34m%\u001b[0m\u001b[0;34m(\u001b[0m\u001b[0mname\u001b[0m\u001b[0;34m,\u001b[0m \u001b[0mage\u001b[0m\u001b[0;34m,\u001b[0m \u001b[0mheight\u001b[0m\u001b[0;34m)\u001b[0m\u001b[0;34m\u001b[0m\u001b[0m\n\u001b[0m",
      "\u001b[0;31mValueError\u001b[0m: unsupported format character 'A' (0x41) at index 12"
     ]
    }
   ],
   "source": [
    "name=\"Anil\"\n",
    "age=23\n",
    "height=5.6\n",
    "print \"Name: %s, % Age: %s, Height: %s\"%(name, age, height)"
   ]
  },
  {
   "cell_type": "code",
   "execution_count": 46,
   "metadata": {
    "collapsed": false
   },
   "outputs": [
    {
     "name": "stdout",
     "output_type": "stream",
     "text": [
      "%Name: Anil, Age: 23, Height: 5.6\n"
     ]
    },
    {
     "ename": "ValueError",
     "evalue": "unsupported format character 'A' (0x41) at index 12",
     "output_type": "error",
     "traceback": [
      "\u001b[0;31m---------------------------------------------------------------------------\u001b[0m",
      "\u001b[0;31mValueError\u001b[0m                                Traceback (most recent call last)",
      "\u001b[0;32m<ipython-input-46-c0f6a11bc033>\u001b[0m in \u001b[0;36m<module>\u001b[0;34m()\u001b[0m\n\u001b[1;32m      3\u001b[0m \u001b[0mheight\u001b[0m\u001b[0;34m=\u001b[0m\u001b[0;36m5.6\u001b[0m\u001b[0;34m\u001b[0m\u001b[0m\n\u001b[1;32m      4\u001b[0m \u001b[0;32mprint\u001b[0m \u001b[0;34m\"%Name: {0}, Age: {1}, Height: {2}\"\u001b[0m\u001b[0;34m.\u001b[0m\u001b[0mformat\u001b[0m\u001b[0;34m(\u001b[0m\u001b[0mname\u001b[0m\u001b[0;34m,\u001b[0m \u001b[0mage\u001b[0m\u001b[0;34m,\u001b[0m \u001b[0mheight\u001b[0m\u001b[0;34m)\u001b[0m\u001b[0;34m\u001b[0m\u001b[0m\n\u001b[0;32m----> 5\u001b[0;31m \u001b[0;32mprint\u001b[0m \u001b[0;34m\"Name: %s, % Age: %s, Height: %s\"\u001b[0m\u001b[0;34m%\u001b[0m\u001b[0;34m(\u001b[0m\u001b[0mname\u001b[0m\u001b[0;34m,\u001b[0m \u001b[0mage\u001b[0m\u001b[0;34m,\u001b[0m \u001b[0mheight\u001b[0m\u001b[0;34m)\u001b[0m\u001b[0;34m\u001b[0m\u001b[0m\n\u001b[0m",
      "\u001b[0;31mValueError\u001b[0m: unsupported format character 'A' (0x41) at index 12"
     ]
    }
   ],
   "source": [
    "name=\"Anil\"\n",
    "age=23\n",
    "height=5.6\n",
    "print \"%Name: {0}, Age: {1}, Height: {2}\".format(name, age, height)\n",
    "print \"Name: %s, % Age: %s, Height: %s\"%(name, age, height)\n"
   ]
  },
  {
   "cell_type": "code",
   "execution_count": 47,
   "metadata": {
    "collapsed": false
   },
   "outputs": [
    {
     "ename": "ValueError",
     "evalue": "unsupported format character 'b' (0x62) at index 1",
     "output_type": "error",
     "traceback": [
      "\u001b[0;31m---------------------------------------------------------------------------\u001b[0m",
      "\u001b[0;31mValueError\u001b[0m                                Traceback (most recent call last)",
      "\u001b[0;32m<ipython-input-47-c2dc3443cffc>\u001b[0m in \u001b[0;36m<module>\u001b[0;34m()\u001b[0m\n\u001b[1;32m      1\u001b[0m \u001b[0ma\u001b[0m\u001b[0;34m=\u001b[0m\u001b[0;36m123455\u001b[0m\u001b[0;34m\u001b[0m\u001b[0m\n\u001b[0;32m----> 2\u001b[0;31m \u001b[0;32mprint\u001b[0m \u001b[0;34m\"%b\"\u001b[0m\u001b[0;34m%\u001b[0m\u001b[0ma\u001b[0m\u001b[0;34m\u001b[0m\u001b[0m\n\u001b[0m",
      "\u001b[0;31mValueError\u001b[0m: unsupported format character 'b' (0x62) at index 1"
     ]
    }
   ],
   "source": [
    "a=123455\n",
    "print \"%b\"%a"
   ]
  },
  {
   "cell_type": "code",
   "execution_count": 48,
   "metadata": {
    "collapsed": false
   },
   "outputs": [
    {
     "name": "stdout",
     "output_type": "stream",
     "text": [
      "11000000111001\n"
     ]
    }
   ],
   "source": [
    "a=12345\n",
    "print \"{0:b}\".format(a)"
   ]
  },
  {
   "cell_type": "code",
   "execution_count": 49,
   "metadata": {
    "collapsed": false
   },
   "outputs": [
    {
     "ename": "TypeError",
     "evalue": "not enough arguments for format string",
     "output_type": "error",
     "traceback": [
      "\u001b[0;31m---------------------------------------------------------------------------\u001b[0m",
      "\u001b[0;31mTypeError\u001b[0m                                 Traceback (most recent call last)",
      "\u001b[0;32m<ipython-input-49-64f15d9a67e9>\u001b[0m in \u001b[0;36m<module>\u001b[0;34m()\u001b[0m\n\u001b[1;32m      1\u001b[0m \u001b[0mi\u001b[0m\u001b[0;34m=\u001b[0m\u001b[0;36m1\u001b[0m\u001b[0;34m\u001b[0m\u001b[0m\n\u001b[0;32m----> 2\u001b[0;31m \u001b[0mres\u001b[0m\u001b[0;34m=\u001b[0m\u001b[0;34m\"name%s, name%s, name%s\"\u001b[0m\u001b[0;34m%\u001b[0m\u001b[0;34m(\u001b[0m\u001b[0mi\u001b[0m\u001b[0;34m)\u001b[0m\u001b[0;34m\u001b[0m\u001b[0m\n\u001b[0m",
      "\u001b[0;31mTypeError\u001b[0m: not enough arguments for format string"
     ]
    }
   ],
   "source": [
    "i=1\n",
    "res=\"name%s, name%s, name%s\"%(i)"
   ]
  },
  {
   "cell_type": "code",
   "execution_count": 53,
   "metadata": {
    "collapsed": false
   },
   "outputs": [
    {
     "ename": "TypeError",
     "evalue": "not enough arguments for format string",
     "output_type": "error",
     "traceback": [
      "\u001b[0;31m---------------------------------------------------------------------------\u001b[0m",
      "\u001b[0;31mTypeError\u001b[0m                                 Traceback (most recent call last)",
      "\u001b[0;32m<ipython-input-53-f967d16739cf>\u001b[0m in \u001b[0;36m<module>\u001b[0;34m()\u001b[0m\n\u001b[1;32m      1\u001b[0m \u001b[0mi\u001b[0m\u001b[0;34m=\u001b[0m\u001b[0;36m1\u001b[0m\u001b[0;34m\u001b[0m\u001b[0m\n\u001b[1;32m      2\u001b[0m \u001b[0mres1\u001b[0m\u001b[0;34m=\u001b[0m\u001b[0;34m\"name{0}, name{0}, name{0}\"\u001b[0m\u001b[0;34m.\u001b[0m\u001b[0mformat\u001b[0m\u001b[0;34m(\u001b[0m\u001b[0mi\u001b[0m\u001b[0;34m)\u001b[0m\u001b[0;34m\u001b[0m\u001b[0m\n\u001b[0;32m----> 3\u001b[0;31m \u001b[0mres\u001b[0m\u001b[0;34m=\u001b[0m\u001b[0;34m\"name%s, name%s, name%s\"\u001b[0m\u001b[0;34m%\u001b[0m\u001b[0;34m(\u001b[0m\u001b[0mi\u001b[0m\u001b[0;34m)\u001b[0m\u001b[0;34m\u001b[0m\u001b[0m\n\u001b[0m",
      "\u001b[0;31mTypeError\u001b[0m: not enough arguments for format string"
     ]
    }
   ],
   "source": [
    "i=1\n",
    "res1=\"name{0}, name{0}, name{0}\".format(i)\n",
    "res=\"name%s, name%s, name%s\"%(i)"
   ]
  },
  {
   "cell_type": "code",
   "execution_count": 52,
   "metadata": {
    "collapsed": false
   },
   "outputs": [],
   "source": [
    "i=1\n",
    "res1=\"name{0}, name{0}, name{0}\".format(i)\n",
    "res=\"name%s, name%s, name%s\"%(i,i,i)"
   ]
  },
  {
   "cell_type": "code",
   "execution_count": 54,
   "metadata": {
    "collapsed": false
   },
   "outputs": [
    {
     "data": {
      "text/plain": [
       "False"
      ]
     },
     "execution_count": 54,
     "metadata": {},
     "output_type": "execute_result"
    }
   ],
   "source": [
    "\"pyton program\".isspace()"
   ]
  },
  {
   "cell_type": "code",
   "execution_count": 56,
   "metadata": {
    "collapsed": false
   },
   "outputs": [
    {
     "data": {
      "text/plain": [
       "True"
      ]
     },
     "execution_count": 56,
     "metadata": {},
     "output_type": "execute_result"
    }
   ],
   "source": [
    "\"      \".isspace()"
   ]
  },
  {
   "cell_type": "code",
   "execution_count": 57,
   "metadata": {
    "collapsed": false
   },
   "outputs": [
    {
     "name": "stdout",
     "output_type": "stream",
     "text": [
      "name1name2name3 <type 'str'>\n"
     ]
    }
   ],
   "source": [
    "l=['name1','name2','name3']\n",
    "s1=\"\".join(l)\n",
    "print s1,type(s1)"
   ]
  },
  {
   "cell_type": "code",
   "execution_count": 58,
   "metadata": {
    "collapsed": false
   },
   "outputs": [
    {
     "name": "stdout",
     "output_type": "stream",
     "text": [
      "name1;name2;name3 <type 'str'>\n"
     ]
    }
   ],
   "source": [
    "l=['name1','name2','name3']\n",
    "s1=\";\".join(l)\n",
    "print s1,type(s1)"
   ]
  },
  {
   "cell_type": "code",
   "execution_count": 59,
   "metadata": {
    "collapsed": false
   },
   "outputs": [
    {
     "name": "stdout",
     "output_type": "stream",
     "text": [
      "['abc', 'def', 'ghi', 'jkl']\n"
     ]
    }
   ],
   "source": [
    "s=\"abc,def,ghi,jkl\"\n",
    "print s.split(',')"
   ]
  },
  {
   "cell_type": "code",
   "execution_count": 60,
   "metadata": {
    "collapsed": false
   },
   "outputs": [
    {
     "name": "stdout",
     "output_type": "stream",
     "text": [
      "['abc,def,ghi,jkl']\n"
     ]
    }
   ],
   "source": [
    "s=\"abc,def,ghi,jkl\"\n",
    "print s.split()"
   ]
  },
  {
   "cell_type": "code",
   "execution_count": 61,
   "metadata": {
    "collapsed": false
   },
   "outputs": [
    {
     "name": "stdout",
     "output_type": "stream",
     "text": [
      "    python      program        \n"
     ]
    },
    {
     "data": {
      "text/plain": [
       "'python      program'"
      ]
     },
     "execution_count": 61,
     "metadata": {},
     "output_type": "execute_result"
    }
   ],
   "source": [
    "s=\"    python      program        \"\n",
    "print s\n",
    "s.strip()"
   ]
  },
  {
   "cell_type": "code",
   "execution_count": 62,
   "metadata": {
    "collapsed": false
   },
   "outputs": [
    {
     "name": "stdout",
     "output_type": "stream",
     "text": [
      "$@user#$@name$@\n"
     ]
    }
   ],
   "source": [
    "username=\"#$@user#$@name$@#\"\n",
    "print username.strip('#')"
   ]
  },
  {
   "cell_type": "code",
   "execution_count": 64,
   "metadata": {
    "collapsed": false
   },
   "outputs": [
    {
     "name": "stdout",
     "output_type": "stream",
     "text": [
      "#$@user#$@name$@#\n",
      "#$@user#$@name$@#\n"
     ]
    }
   ],
   "source": [
    "username=\"#$@user#$@name$@#\"\n",
    "print username\n",
    "print username.strip('@')"
   ]
  },
  {
   "cell_type": "code",
   "execution_count": 65,
   "metadata": {
    "collapsed": false
   },
   "outputs": [
    {
     "name": "stdout",
     "output_type": "stream",
     "text": [
      "#$@user#$@name$@#\n",
      "$@user#$@name$\n"
     ]
    }
   ],
   "source": [
    "username=\"#$@user#$@name$@#\"\n",
    "print username\n",
    "print username.strip('@#')"
   ]
  },
  {
   "cell_type": "code",
   "execution_count": 66,
   "metadata": {
    "collapsed": false
   },
   "outputs": [
    {
     "name": "stdout",
     "output_type": "stream",
     "text": [
      "#$@user#$@name$@#\n",
      "user#$@name\n"
     ]
    }
   ],
   "source": [
    "username=\"#$@user#$@name$@#\"\n",
    "print username\n",
    "print username.strip('@#$')"
   ]
  },
  {
   "cell_type": "code",
   "execution_count": 67,
   "metadata": {
    "collapsed": false
   },
   "outputs": [
    {
     "data": {
      "text/plain": [
       "['a', 'b', 'c', 'd,e,f']"
      ]
     },
     "execution_count": 67,
     "metadata": {},
     "output_type": "execute_result"
    }
   ],
   "source": [
    "s=\"a,b,c,d,e,f\"\n",
    "s.split(',',3)"
   ]
  },
  {
   "cell_type": "code",
   "execution_count": 68,
   "metadata": {
    "collapsed": false
   },
   "outputs": [
    {
     "data": {
      "text/plain": [
       "['a,b,c', 'd', 'e', 'f']"
      ]
     },
     "execution_count": 68,
     "metadata": {},
     "output_type": "execute_result"
    }
   ],
   "source": [
    "s=\"a,b,c,d,e,f\"\n",
    "s.rsplit(',',3)"
   ]
  },
  {
   "cell_type": "code",
   "execution_count": 70,
   "metadata": {
    "collapsed": false
   },
   "outputs": [
    {
     "name": "stdout",
     "output_type": "stream",
     "text": [
      "python proGRAM\n"
     ]
    }
   ],
   "source": [
    "s=\"PYTHON PROgram\"\n",
    "print s.swapcase()"
   ]
  },
  {
   "cell_type": "code",
   "execution_count": 71,
   "metadata": {
    "collapsed": false
   },
   "outputs": [
    {
     "name": "stdout",
     "output_type": "stream",
     "text": [
      "0000000123\n"
     ]
    }
   ],
   "source": [
    "s=\"123\"\n",
    "print s.zfill(10)"
   ]
  },
  {
   "cell_type": "code",
   "execution_count": 73,
   "metadata": {
    "collapsed": false
   },
   "outputs": [
    {
     "name": "stdout",
     "output_type": "stream",
     "text": [
      "['', 'ython ', 'rogram']\n"
     ]
    }
   ],
   "source": [
    "s=\"python program\"\n",
    "s1=s.split('p')\n",
    "print s1"
   ]
  },
  {
   "cell_type": "code",
   "execution_count": 74,
   "metadata": {
    "collapsed": false
   },
   "outputs": [
    {
     "name": "stdout",
     "output_type": "stream",
     "text": [
      "['', 'ython ', 'rogram']\n",
      "ython rogram\n"
     ]
    }
   ],
   "source": [
    "s=\"python program\"\n",
    "s1=s.split('p')\n",
    "print s1\n",
    "print \"\".join(s1)"
   ]
  },
  {
   "cell_type": "code",
   "execution_count": 75,
   "metadata": {
    "collapsed": false
   },
   "outputs": [
    {
     "data": {
      "text/plain": [
       "'python program'"
      ]
     },
     "execution_count": 75,
     "metadata": {},
     "output_type": "execute_result"
    }
   ],
   "source": [
    "s"
   ]
  },
  {
   "cell_type": "code",
   "execution_count": 76,
   "metadata": {
    "collapsed": false
   },
   "outputs": [
    {
     "data": {
      "text/plain": [
       "'ython rogram'"
      ]
     },
     "execution_count": 76,
     "metadata": {},
     "output_type": "execute_result"
    }
   ],
   "source": [
    "s.replace('p','')"
   ]
  },
  {
   "cell_type": "code",
   "execution_count": 77,
   "metadata": {
    "collapsed": false
   },
   "outputs": [
    {
     "data": {
      "text/plain": [
       "'a#b#c#d,e,f,g,h,j'"
      ]
     },
     "execution_count": 77,
     "metadata": {},
     "output_type": "execute_result"
    }
   ],
   "source": [
    "s=\"a,b,c,d,e,f,g,h,j\"\n",
    "s.replace(',','#',3)"
   ]
  },
  {
   "cell_type": "code",
   "execution_count": 78,
   "metadata": {
    "collapsed": false
   },
   "outputs": [
    {
     "data": {
      "text/plain": [
       "'j,h,g,f,e,d,c,b,a'"
      ]
     },
     "execution_count": 78,
     "metadata": {},
     "output_type": "execute_result"
    }
   ],
   "source": [
    "s[::-1]"
   ]
  },
  {
   "cell_type": "code",
   "execution_count": 79,
   "metadata": {
    "collapsed": false
   },
   "outputs": [
    {
     "data": {
      "text/plain": [
       "'a,b,c,d,e,f#g#h#j'"
      ]
     },
     "execution_count": 79,
     "metadata": {},
     "output_type": "execute_result"
    }
   ],
   "source": [
    "s[::-1].replace(',','#',3)[::-1]"
   ]
  },
  {
   "cell_type": "code",
   "execution_count": 80,
   "metadata": {
    "collapsed": false
   },
   "outputs": [
    {
     "data": {
      "text/plain": [
       "['a,b,c,d,e,f', 'g', 'h', 'j']"
      ]
     },
     "execution_count": 80,
     "metadata": {},
     "output_type": "execute_result"
    }
   ],
   "source": [
    "s.rsplit(',',3)"
   ]
  },
  {
   "cell_type": "code",
   "execution_count": 82,
   "metadata": {
    "collapsed": false
   },
   "outputs": [
    {
     "data": {
      "text/plain": [
       "'a,b,c,d,e,f#g#h#j'"
      ]
     },
     "execution_count": 82,
     "metadata": {},
     "output_type": "execute_result"
    }
   ],
   "source": [
    "\"#\".join(s.rsplit(',',3))"
   ]
  },
  {
   "cell_type": "code",
   "execution_count": null,
   "metadata": {
    "collapsed": true
   },
   "outputs": [],
   "source": []
  }
 ],
 "metadata": {
  "kernelspec": {
   "display_name": "Python 2",
   "language": "python",
   "name": "python2"
  },
  "language_info": {
   "codemirror_mode": {
    "name": "ipython",
    "version": 2
   },
   "file_extension": ".py",
   "mimetype": "text/x-python",
   "name": "python",
   "nbconvert_exporter": "python",
   "pygments_lexer": "ipython2",
   "version": "2.7.13"
  }
 },
 "nbformat": 4,
 "nbformat_minor": 2
}
