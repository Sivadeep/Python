{
 "cells": [
  {
   "cell_type": "code",
   "execution_count": 1,
   "metadata": {
    "collapsed": false
   },
   "outputs": [
    {
     "name": "stdout",
     "output_type": "stream",
     "text": [
      "name1,9676655345,email1@gmail.com\n",
      "\n",
      "name2,9876567890,Email2@yahoo.com\n",
      "\n",
      "name3,7656789098,Email3@rediff.com\n"
     ]
    }
   ],
   "source": [
    "data=open('data3.csv').readlines()\n",
    "for row in data:\n",
    "    print row"
   ]
  },
  {
   "cell_type": "code",
   "execution_count": 2,
   "metadata": {
    "collapsed": false
   },
   "outputs": [
    {
     "name": "stdout",
     "output_type": "stream",
     "text": [
      "9676655345\n",
      "9876567890\n",
      "7656789098\n"
     ]
    }
   ],
   "source": [
    "data=open('data3.csv').readlines()\n",
    "for row in data:\n",
    "    print row.split(',')[1]"
   ]
  },
  {
   "cell_type": "code",
   "execution_count": 3,
   "metadata": {
    "collapsed": false
   },
   "outputs": [
    {
     "name": "stdout",
     "output_type": "stream",
     "text": [
      "email1@gmail.com\n",
      "\n",
      "Email2@yahoo.com\n",
      "\n",
      "Email3@rediff.com\n"
     ]
    }
   ],
   "source": [
    "data=open('data3.csv').readlines()\n",
    "for row in data:\n",
    "    print row.split(',')[2]"
   ]
  },
  {
   "cell_type": "code",
   "execution_count": 5,
   "metadata": {
    "collapsed": false
   },
   "outputs": [
    {
     "name": "stdout",
     "output_type": "stream",
     "text": [
      "email1@gmail.com\n",
      "\n",
      "Email2@yahoo.com\n",
      "\n",
      "7656789098\n"
     ]
    }
   ],
   "source": [
    "data=open('data3.csv').readlines()\n",
    "for row in data:\n",
    "    print row.split(',')[2]"
   ]
  },
  {
   "cell_type": "code",
   "execution_count": 6,
   "metadata": {
    "collapsed": false
   },
   "outputs": [
    {
     "data": {
      "text/plain": [
       "['9676655345', '9876567890', '7656789098']"
      ]
     },
     "execution_count": 6,
     "metadata": {},
     "output_type": "execute_result"
    }
   ],
   "source": [
    "data=open('data3.csv').read()\n",
    "import re\n",
    "re.findall('[0-9]{10}',data)"
   ]
  },
  {
   "cell_type": "code",
   "execution_count": 7,
   "metadata": {
    "collapsed": false
   },
   "outputs": [
    {
     "data": {
      "text/plain": [
       "['a', 'a', 'a', 'c', 'a', 'a', 'a', 'c', 'a', 'c', 'a']"
      ]
     },
     "execution_count": 7,
     "metadata": {},
     "output_type": "execute_result"
    }
   ],
   "source": [
    "#[]{}.+?*^$\n",
    "data=open('data3.csv').read()\n",
    "import re\n",
    "re.findall('[abc]',data)"
   ]
  },
  {
   "cell_type": "code",
   "execution_count": 8,
   "metadata": {
    "collapsed": false
   },
   "outputs": [
    {
     "data": {
      "text/plain": [
       "['n',\n",
       " 'a',\n",
       " 'm',\n",
       " 'e',\n",
       " 'e',\n",
       " 'm',\n",
       " 'a',\n",
       " 'i',\n",
       " 'l',\n",
       " 'g',\n",
       " 'm',\n",
       " 'a',\n",
       " 'i',\n",
       " 'l',\n",
       " 'c',\n",
       " 'o',\n",
       " 'm',\n",
       " 'n',\n",
       " 'a',\n",
       " 'm',\n",
       " 'e',\n",
       " 'm',\n",
       " 'a',\n",
       " 'i',\n",
       " 'l',\n",
       " 'y',\n",
       " 'a',\n",
       " 'h',\n",
       " 'o',\n",
       " 'o',\n",
       " 'c',\n",
       " 'o',\n",
       " 'm',\n",
       " 'm',\n",
       " 'a',\n",
       " 'i',\n",
       " 'l',\n",
       " 'r',\n",
       " 'e',\n",
       " 'd',\n",
       " 'i',\n",
       " 'f',\n",
       " 'f',\n",
       " 'c',\n",
       " 'o',\n",
       " 'm',\n",
       " 'n',\n",
       " 'a',\n",
       " 'm',\n",
       " 'e']"
      ]
     },
     "execution_count": 8,
     "metadata": {},
     "output_type": "execute_result"
    }
   ],
   "source": [
    "#[]{}.+?*^$\n",
    "data=open('data3.csv').read()\n",
    "import re\n",
    "re.findall('[a-z]',data)"
   ]
  },
  {
   "cell_type": "code",
   "execution_count": 9,
   "metadata": {
    "collapsed": false
   },
   "outputs": [
    {
     "data": {
      "text/plain": [
       "['n',\n",
       " 'a',\n",
       " 'm',\n",
       " 'e',\n",
       " 'e',\n",
       " 'm',\n",
       " 'a',\n",
       " 'i',\n",
       " 'l',\n",
       " 'g',\n",
       " 'm',\n",
       " 'a',\n",
       " 'i',\n",
       " 'l',\n",
       " 'c',\n",
       " 'o',\n",
       " 'm',\n",
       " 'n',\n",
       " 'a',\n",
       " 'm',\n",
       " 'e',\n",
       " 'E',\n",
       " 'm',\n",
       " 'a',\n",
       " 'i',\n",
       " 'l',\n",
       " 'y',\n",
       " 'a',\n",
       " 'h',\n",
       " 'o',\n",
       " 'o',\n",
       " 'c',\n",
       " 'o',\n",
       " 'm',\n",
       " 'E',\n",
       " 'm',\n",
       " 'a',\n",
       " 'i',\n",
       " 'l',\n",
       " 'r',\n",
       " 'e',\n",
       " 'd',\n",
       " 'i',\n",
       " 'f',\n",
       " 'f',\n",
       " 'c',\n",
       " 'o',\n",
       " 'm',\n",
       " 'n',\n",
       " 'a',\n",
       " 'm',\n",
       " 'e']"
      ]
     },
     "execution_count": 9,
     "metadata": {},
     "output_type": "execute_result"
    }
   ],
   "source": [
    "#[]{}.+?*^$\n",
    "data=open('data3.csv').read()\n",
    "import re\n",
    "re.findall('[a-z]',data,re.I)"
   ]
  },
  {
   "cell_type": "code",
   "execution_count": 10,
   "metadata": {
    "collapsed": false
   },
   "outputs": [
    {
     "data": {
      "text/plain": [
       "['e1', 'l1', 'e2', 'l2', 'l3', 'e3']"
      ]
     },
     "execution_count": 10,
     "metadata": {},
     "output_type": "execute_result"
    }
   ],
   "source": [
    "#[]{}.+?*^$\n",
    "data=open('data3.csv').read()\n",
    "import re\n",
    "re.findall('[a-z][0-9]',data,re.I)"
   ]
  },
  {
   "cell_type": "code",
   "execution_count": 11,
   "metadata": {
    "collapsed": false
   },
   "outputs": [
    {
     "data": {
      "text/plain": [
       "['9676', '6553', '9876', '5678', '7656', '7890']"
      ]
     },
     "execution_count": 11,
     "metadata": {},
     "output_type": "execute_result"
    }
   ],
   "source": [
    "#[]{}.+?*^$\n",
    "data=open('data3.csv').read()\n",
    "import re\n",
    "re.findall('[0-9][0-9][0-9][0-9]',data,re.I)"
   ]
  },
  {
   "cell_type": "code",
   "execution_count": 12,
   "metadata": {
    "collapsed": false
   },
   "outputs": [
    {
     "data": {
      "text/plain": [
       "['9676655345', '9876567890', '7656789098']"
      ]
     },
     "execution_count": 12,
     "metadata": {},
     "output_type": "execute_result"
    }
   ],
   "source": [
    "#[]{}.+?*^$\n",
    "data=open('data3.csv').read()\n",
    "import re\n",
    "re.findall('[0-9]{10}',data,re.I)"
   ]
  },
  {
   "cell_type": "code",
   "execution_count": 13,
   "metadata": {
    "collapsed": false
   },
   "outputs": [
    {
     "data": {
      "text/plain": [
       "['96',\n",
       " '76',\n",
       " '65',\n",
       " '53',\n",
       " '45',\n",
       " '98',\n",
       " '76',\n",
       " '56',\n",
       " '78',\n",
       " '90',\n",
       " '76',\n",
       " '56',\n",
       " '78',\n",
       " '90',\n",
       " '98']"
      ]
     },
     "execution_count": 13,
     "metadata": {},
     "output_type": "execute_result"
    }
   ],
   "source": [
    "#[]{}.+?*^$\n",
    "data=open('data3.csv').read()\n",
    "import re\n",
    "re.findall('[0-9]{2}',data,re.I)"
   ]
  },
  {
   "cell_type": "code",
   "execution_count": 14,
   "metadata": {
    "collapsed": false
   },
   "outputs": [
    {
     "data": {
      "text/plain": [
       "['96766', '55345', '98765', '67890', '76567', '89098']"
      ]
     },
     "execution_count": 14,
     "metadata": {},
     "output_type": "execute_result"
    }
   ],
   "source": [
    "#[]{}.+?*^$\n",
    "data=open('data3.csv').read()\n",
    "import re\n",
    "re.findall('[0-9]{2,5}',data,re.I)"
   ]
  },
  {
   "cell_type": "code",
   "execution_count": 15,
   "metadata": {
    "collapsed": false
   },
   "outputs": [
    {
     "data": {
      "text/plain": [
       "['9676655345', '9876567890', '7656789098']"
      ]
     },
     "execution_count": 15,
     "metadata": {},
     "output_type": "execute_result"
    }
   ],
   "source": [
    "#[]{}.+?*^$\n",
    "data=open('data3.csv').read()\n",
    "import re\n",
    "re.findall('[0-9]{2,}',data,re.I)"
   ]
  },
  {
   "cell_type": "code",
   "execution_count": 16,
   "metadata": {
    "collapsed": false
   },
   "outputs": [
    {
     "name": "stdout",
     "output_type": "stream",
     "text": [
      "name1,9676655345,email1@gmail.com,23455\n",
      "9876567890,name2,34567,Email2@yahoo.com\n",
      "3456,Email3@rediff.com,name3,7656789098\n",
      "filtered\n"
     ]
    },
    {
     "data": {
      "text/plain": [
       "['9676655345', '23455', '9876567890', '34567', '3456', '7656789098']"
      ]
     },
     "execution_count": 16,
     "metadata": {},
     "output_type": "execute_result"
    }
   ],
   "source": [
    "#[]{}.+?*^$\n",
    "data=open('data3.csv').read()\n",
    "print data\n",
    "print \"filtered\"\n",
    "import re\n",
    "re.findall('[0-9]{2,}',data,re.I)"
   ]
  },
  {
   "cell_type": "code",
   "execution_count": 17,
   "metadata": {
    "collapsed": false
   },
   "outputs": [
    {
     "name": "stdout",
     "output_type": "stream",
     "text": [
      "name1,9676655345,email1@gmail.com,23455\n",
      "9876567890,name2,34567,Email2@yahoo.com\n",
      "3456,Email3@rediff.com,name3,7656789098\n",
      "filtered\n"
     ]
    },
    {
     "data": {
      "text/plain": [
       "['1',\n",
       " '9676655345',\n",
       " '1',\n",
       " '23455',\n",
       " '9876567890',\n",
       " '2',\n",
       " '34567',\n",
       " '2',\n",
       " '3456',\n",
       " '3',\n",
       " '3',\n",
       " '7656789098']"
      ]
     },
     "execution_count": 17,
     "metadata": {},
     "output_type": "execute_result"
    }
   ],
   "source": [
    "#[]{}.+?*^$\n",
    "data=open('data3.csv').read()\n",
    "print data\n",
    "print \"filtered\"\n",
    "import re\n",
    "re.findall('[0-9]{1,}',data,re.I)"
   ]
  },
  {
   "cell_type": "code",
   "execution_count": 18,
   "metadata": {
    "collapsed": false
   },
   "outputs": [
    {
     "name": "stdout",
     "output_type": "stream",
     "text": [
      "name1,9676655345,email1@gmail.com,23455\n",
      "9876567890,name2,34567,Email2@yahoo.com\n",
      "3456,Email3@rediff.com,name3,7656789098\n",
      "filtered\n"
     ]
    },
    {
     "data": {
      "text/plain": [
       "['1',\n",
       " '9676655345',\n",
       " '1',\n",
       " '23455',\n",
       " '9876567890',\n",
       " '2',\n",
       " '34567',\n",
       " '2',\n",
       " '3456',\n",
       " '3',\n",
       " '3',\n",
       " '7656789098']"
      ]
     },
     "execution_count": 18,
     "metadata": {},
     "output_type": "execute_result"
    }
   ],
   "source": [
    "#[]{}.+?*^$\n",
    "data=open('data3.csv').read()\n",
    "print data\n",
    "print \"filtered\"\n",
    "import re\n",
    "re.findall('[0-9]+',data,re.I)"
   ]
  },
  {
   "cell_type": "code",
   "execution_count": 19,
   "metadata": {
    "collapsed": false
   },
   "outputs": [
    {
     "name": "stdout",
     "output_type": "stream",
     "text": [
      "name1,9676655345,email1@gmail.com,23455\n",
      "9876567890,name2,34567,Email2@yahoo.com\n",
      "3456,Email3@rediff.com,name3,7656789098\n",
      "filtered\n"
     ]
    },
    {
     "data": {
      "text/plain": [
       "['',\n",
       " '',\n",
       " '',\n",
       " '',\n",
       " '1',\n",
       " '',\n",
       " '9676655345',\n",
       " '',\n",
       " '',\n",
       " '',\n",
       " '',\n",
       " '',\n",
       " '',\n",
       " '1',\n",
       " '',\n",
       " '',\n",
       " '',\n",
       " '',\n",
       " '',\n",
       " '',\n",
       " '',\n",
       " '',\n",
       " '',\n",
       " '',\n",
       " '',\n",
       " '23455',\n",
       " '',\n",
       " '9876567890',\n",
       " '',\n",
       " '',\n",
       " '',\n",
       " '',\n",
       " '',\n",
       " '2',\n",
       " '',\n",
       " '34567',\n",
       " '',\n",
       " '',\n",
       " '',\n",
       " '',\n",
       " '',\n",
       " '',\n",
       " '2',\n",
       " '',\n",
       " '',\n",
       " '',\n",
       " '',\n",
       " '',\n",
       " '',\n",
       " '',\n",
       " '',\n",
       " '',\n",
       " '',\n",
       " '',\n",
       " '3456',\n",
       " '',\n",
       " '',\n",
       " '',\n",
       " '',\n",
       " '',\n",
       " '',\n",
       " '3',\n",
       " '',\n",
       " '',\n",
       " '',\n",
       " '',\n",
       " '',\n",
       " '',\n",
       " '',\n",
       " '',\n",
       " '',\n",
       " '',\n",
       " '',\n",
       " '',\n",
       " '',\n",
       " '',\n",
       " '',\n",
       " '',\n",
       " '3',\n",
       " '',\n",
       " '7656789098',\n",
       " '']"
      ]
     },
     "execution_count": 19,
     "metadata": {},
     "output_type": "execute_result"
    }
   ],
   "source": [
    "#[]{}.+?*^$\n",
    "data=open('data3.csv').read()\n",
    "print data\n",
    "print \"filtered\"\n",
    "import re\n",
    "re.findall('[0-9]{0,}',data,re.I)"
   ]
  },
  {
   "cell_type": "code",
   "execution_count": 20,
   "metadata": {
    "collapsed": false
   },
   "outputs": [
    {
     "name": "stdout",
     "output_type": "stream",
     "text": [
      "name1,9676655345,email1@gmail.com,23455\n",
      "9876567890,name2,34567,Email2@yahoo.com\n",
      "3456,Email3@rediff.com,name3,7656789098\n",
      "filtered\n"
     ]
    },
    {
     "data": {
      "text/plain": [
       "['',\n",
       " '',\n",
       " '',\n",
       " '',\n",
       " '1',\n",
       " '',\n",
       " '9',\n",
       " '6',\n",
       " '7',\n",
       " '6',\n",
       " '6',\n",
       " '5',\n",
       " '5',\n",
       " '3',\n",
       " '4',\n",
       " '5',\n",
       " '',\n",
       " '',\n",
       " '',\n",
       " '',\n",
       " '',\n",
       " '',\n",
       " '1',\n",
       " '',\n",
       " '',\n",
       " '',\n",
       " '',\n",
       " '',\n",
       " '',\n",
       " '',\n",
       " '',\n",
       " '',\n",
       " '',\n",
       " '',\n",
       " '2',\n",
       " '3',\n",
       " '4',\n",
       " '5',\n",
       " '5',\n",
       " '',\n",
       " '9',\n",
       " '8',\n",
       " '7',\n",
       " '6',\n",
       " '5',\n",
       " '6',\n",
       " '7',\n",
       " '8',\n",
       " '9',\n",
       " '0',\n",
       " '',\n",
       " '',\n",
       " '',\n",
       " '',\n",
       " '',\n",
       " '2',\n",
       " '',\n",
       " '3',\n",
       " '4',\n",
       " '5',\n",
       " '6',\n",
       " '7',\n",
       " '',\n",
       " '',\n",
       " '',\n",
       " '',\n",
       " '',\n",
       " '',\n",
       " '2',\n",
       " '',\n",
       " '',\n",
       " '',\n",
       " '',\n",
       " '',\n",
       " '',\n",
       " '',\n",
       " '',\n",
       " '',\n",
       " '',\n",
       " '',\n",
       " '3',\n",
       " '4',\n",
       " '5',\n",
       " '6',\n",
       " '',\n",
       " '',\n",
       " '',\n",
       " '',\n",
       " '',\n",
       " '',\n",
       " '3',\n",
       " '',\n",
       " '',\n",
       " '',\n",
       " '',\n",
       " '',\n",
       " '',\n",
       " '',\n",
       " '',\n",
       " '',\n",
       " '',\n",
       " '',\n",
       " '',\n",
       " '',\n",
       " '',\n",
       " '',\n",
       " '',\n",
       " '3',\n",
       " '',\n",
       " '7',\n",
       " '6',\n",
       " '5',\n",
       " '6',\n",
       " '7',\n",
       " '8',\n",
       " '9',\n",
       " '0',\n",
       " '9',\n",
       " '8',\n",
       " '']"
      ]
     },
     "execution_count": 20,
     "metadata": {},
     "output_type": "execute_result"
    }
   ],
   "source": [
    "#[]{}.+?*^$\n",
    "data=open('data3.csv').read()\n",
    "print data\n",
    "print \"filtered\"\n",
    "import re\n",
    "re.findall('[0-9]{0,1}',data,re.I)"
   ]
  },
  {
   "cell_type": "code",
   "execution_count": 21,
   "metadata": {
    "collapsed": false
   },
   "outputs": [
    {
     "name": "stdout",
     "output_type": "stream",
     "text": [
      "name1,9676655345,email1@gmail.com,23455\n",
      "9876567890,name2,34567,Email2@yahoo.com\n",
      "3456,Email3@rediff.com,name3,7656789098\n",
      "filtered\n"
     ]
    },
    {
     "data": {
      "text/plain": [
       "['',\n",
       " '',\n",
       " '',\n",
       " '',\n",
       " '1',\n",
       " '',\n",
       " '9',\n",
       " '6',\n",
       " '7',\n",
       " '6',\n",
       " '6',\n",
       " '5',\n",
       " '5',\n",
       " '3',\n",
       " '4',\n",
       " '5',\n",
       " '',\n",
       " '',\n",
       " '',\n",
       " '',\n",
       " '',\n",
       " '',\n",
       " '1',\n",
       " '',\n",
       " '',\n",
       " '',\n",
       " '',\n",
       " '',\n",
       " '',\n",
       " '',\n",
       " '',\n",
       " '',\n",
       " '',\n",
       " '',\n",
       " '2',\n",
       " '3',\n",
       " '4',\n",
       " '5',\n",
       " '5',\n",
       " '',\n",
       " '9',\n",
       " '8',\n",
       " '7',\n",
       " '6',\n",
       " '5',\n",
       " '6',\n",
       " '7',\n",
       " '8',\n",
       " '9',\n",
       " '0',\n",
       " '',\n",
       " '',\n",
       " '',\n",
       " '',\n",
       " '',\n",
       " '2',\n",
       " '',\n",
       " '3',\n",
       " '4',\n",
       " '5',\n",
       " '6',\n",
       " '7',\n",
       " '',\n",
       " '',\n",
       " '',\n",
       " '',\n",
       " '',\n",
       " '',\n",
       " '2',\n",
       " '',\n",
       " '',\n",
       " '',\n",
       " '',\n",
       " '',\n",
       " '',\n",
       " '',\n",
       " '',\n",
       " '',\n",
       " '',\n",
       " '',\n",
       " '3',\n",
       " '4',\n",
       " '5',\n",
       " '6',\n",
       " '',\n",
       " '',\n",
       " '',\n",
       " '',\n",
       " '',\n",
       " '',\n",
       " '3',\n",
       " '',\n",
       " '',\n",
       " '',\n",
       " '',\n",
       " '',\n",
       " '',\n",
       " '',\n",
       " '',\n",
       " '',\n",
       " '',\n",
       " '',\n",
       " '',\n",
       " '',\n",
       " '',\n",
       " '',\n",
       " '',\n",
       " '3',\n",
       " '',\n",
       " '7',\n",
       " '6',\n",
       " '5',\n",
       " '6',\n",
       " '7',\n",
       " '8',\n",
       " '9',\n",
       " '0',\n",
       " '9',\n",
       " '8',\n",
       " '']"
      ]
     },
     "execution_count": 21,
     "metadata": {},
     "output_type": "execute_result"
    }
   ],
   "source": [
    "#[]{}.+?*^$\n",
    "data=open('data3.csv').read()\n",
    "print data\n",
    "print \"filtered\"\n",
    "import re\n",
    "re.findall('[0-9]?',data,re.I)"
   ]
  },
  {
   "cell_type": "code",
   "execution_count": 22,
   "metadata": {
    "collapsed": false
   },
   "outputs": [
    {
     "name": "stdout",
     "output_type": "stream",
     "text": [
      "name1,9676655345,email1@gmail.com,23455\n",
      "9876567890,name2,34567,Email2@yahoo.com\n",
      "3456,Email3@rediff.com,name3,7656789098\n",
      "filtered\n"
     ]
    },
    {
     "data": {
      "text/plain": [
       "['n',\n",
       " 'a',\n",
       " 'm',\n",
       " 'e',\n",
       " '1',\n",
       " ',',\n",
       " '9',\n",
       " '6',\n",
       " '7',\n",
       " '6',\n",
       " '6',\n",
       " '5',\n",
       " '5',\n",
       " '3',\n",
       " '4',\n",
       " '5',\n",
       " ',',\n",
       " 'e',\n",
       " 'm',\n",
       " 'a',\n",
       " 'i',\n",
       " 'l',\n",
       " '1',\n",
       " '@',\n",
       " 'g',\n",
       " 'm',\n",
       " 'a',\n",
       " 'i',\n",
       " 'l',\n",
       " '.',\n",
       " 'c',\n",
       " 'o',\n",
       " 'm',\n",
       " ',',\n",
       " '2',\n",
       " '3',\n",
       " '4',\n",
       " '5',\n",
       " '5',\n",
       " '9',\n",
       " '8',\n",
       " '7',\n",
       " '6',\n",
       " '5',\n",
       " '6',\n",
       " '7',\n",
       " '8',\n",
       " '9',\n",
       " '0',\n",
       " ',',\n",
       " 'n',\n",
       " 'a',\n",
       " 'm',\n",
       " 'e',\n",
       " '2',\n",
       " ',',\n",
       " '3',\n",
       " '4',\n",
       " '5',\n",
       " '6',\n",
       " '7',\n",
       " ',',\n",
       " 'E',\n",
       " 'm',\n",
       " 'a',\n",
       " 'i',\n",
       " 'l',\n",
       " '2',\n",
       " '@',\n",
       " 'y',\n",
       " 'a',\n",
       " 'h',\n",
       " 'o',\n",
       " 'o',\n",
       " '.',\n",
       " 'c',\n",
       " 'o',\n",
       " 'm',\n",
       " '3',\n",
       " '4',\n",
       " '5',\n",
       " '6',\n",
       " ',',\n",
       " 'E',\n",
       " 'm',\n",
       " 'a',\n",
       " 'i',\n",
       " 'l',\n",
       " '3',\n",
       " '@',\n",
       " 'r',\n",
       " 'e',\n",
       " 'd',\n",
       " 'i',\n",
       " 'f',\n",
       " 'f',\n",
       " '.',\n",
       " 'c',\n",
       " 'o',\n",
       " 'm',\n",
       " ',',\n",
       " 'n',\n",
       " 'a',\n",
       " 'm',\n",
       " 'e',\n",
       " '3',\n",
       " ',',\n",
       " '7',\n",
       " '6',\n",
       " '5',\n",
       " '6',\n",
       " '7',\n",
       " '8',\n",
       " '9',\n",
       " '0',\n",
       " '9',\n",
       " '8']"
      ]
     },
     "execution_count": 22,
     "metadata": {},
     "output_type": "execute_result"
    }
   ],
   "source": [
    "#[]{}.+?*^$\n",
    "data=open('data3.csv').read()\n",
    "print data\n",
    "print \"filtered\"\n",
    "import re\n",
    "re.findall('.',data,re.I)"
   ]
  },
  {
   "cell_type": "code",
   "execution_count": 23,
   "metadata": {
    "collapsed": false
   },
   "outputs": [
    {
     "name": "stdout",
     "output_type": "stream",
     "text": [
      "name1,9676655345,email1@gmail.com,23455\n",
      "9876567890,name2,34567,Email2@yahoo.com\n",
      "3456,Email3@rediff.com,name3,7656789098\n",
      "filtered\n"
     ]
    },
    {
     "data": {
      "text/plain": [
       "['n',\n",
       " 'a',\n",
       " 'm',\n",
       " 'e',\n",
       " '1',\n",
       " ',',\n",
       " '9',\n",
       " '6',\n",
       " '7',\n",
       " '6',\n",
       " '6',\n",
       " '5',\n",
       " '5',\n",
       " '3',\n",
       " '4',\n",
       " '5',\n",
       " ',',\n",
       " 'e',\n",
       " 'm',\n",
       " 'a',\n",
       " 'i',\n",
       " 'l',\n",
       " '1',\n",
       " '@',\n",
       " 'g',\n",
       " 'm',\n",
       " 'a',\n",
       " 'i',\n",
       " 'l',\n",
       " '.',\n",
       " 'c',\n",
       " 'o',\n",
       " 'm',\n",
       " ',',\n",
       " '2',\n",
       " '3',\n",
       " '4',\n",
       " '5',\n",
       " '5',\n",
       " '\\n',\n",
       " '9',\n",
       " '8',\n",
       " '7',\n",
       " '6',\n",
       " '5',\n",
       " '6',\n",
       " '7',\n",
       " '8',\n",
       " '9',\n",
       " '0',\n",
       " ',',\n",
       " 'n',\n",
       " 'a',\n",
       " 'm',\n",
       " 'e',\n",
       " '2',\n",
       " ',',\n",
       " '3',\n",
       " '4',\n",
       " '5',\n",
       " '6',\n",
       " '7',\n",
       " ',',\n",
       " 'E',\n",
       " 'm',\n",
       " 'a',\n",
       " 'i',\n",
       " 'l',\n",
       " '2',\n",
       " '@',\n",
       " 'y',\n",
       " 'a',\n",
       " 'h',\n",
       " 'o',\n",
       " 'o',\n",
       " '.',\n",
       " 'c',\n",
       " 'o',\n",
       " 'm',\n",
       " '\\n',\n",
       " '3',\n",
       " '4',\n",
       " '5',\n",
       " '6',\n",
       " ',',\n",
       " 'E',\n",
       " 'm',\n",
       " 'a',\n",
       " 'i',\n",
       " 'l',\n",
       " '3',\n",
       " '@',\n",
       " 'r',\n",
       " 'e',\n",
       " 'd',\n",
       " 'i',\n",
       " 'f',\n",
       " 'f',\n",
       " '.',\n",
       " 'c',\n",
       " 'o',\n",
       " 'm',\n",
       " ',',\n",
       " 'n',\n",
       " 'a',\n",
       " 'm',\n",
       " 'e',\n",
       " '3',\n",
       " ',',\n",
       " '7',\n",
       " '6',\n",
       " '5',\n",
       " '6',\n",
       " '7',\n",
       " '8',\n",
       " '9',\n",
       " '0',\n",
       " '9',\n",
       " '8']"
      ]
     },
     "execution_count": 23,
     "metadata": {},
     "output_type": "execute_result"
    }
   ],
   "source": [
    "#[]{}.+?*^$\n",
    "data=open('data3.csv').read()\n",
    "print data\n",
    "print \"filtered\"\n",
    "import re\n",
    "re.findall('.',data,re.I|re.DOTALL)"
   ]
  },
  {
   "cell_type": "code",
   "execution_count": 24,
   "metadata": {
    "collapsed": false
   },
   "outputs": [
    {
     "name": "stdout",
     "output_type": "stream",
     "text": [
      "name1,9676655345,email1@gmail.com,23455\n",
      "9876567890,name2,34567,Email2@yahoo.com\n",
      "3456,Email3@rediff.com,name3,7656789098\n"
     ]
    }
   ],
   "source": [
    "#[]{}.+?*^$\n",
    "data=open('data3.csv').read()\n",
    "print data\n"
   ]
  },
  {
   "cell_type": "code",
   "execution_count": 25,
   "metadata": {
    "collapsed": false
   },
   "outputs": [
    {
     "data": {
      "text/plain": [
       "str"
      ]
     },
     "execution_count": 25,
     "metadata": {},
     "output_type": "execute_result"
    }
   ],
   "source": [
    "type(data)"
   ]
  },
  {
   "cell_type": "code",
   "execution_count": 26,
   "metadata": {
    "collapsed": false
   },
   "outputs": [
    {
     "name": "stdout",
     "output_type": "stream",
     "text": [
      "name1,9676655345,email1@gmail.com,23455\n",
      "9876567890,name2,34567,Email2@yahoo.com\n",
      "3456,Email3@rediff.com,name3,7656789098\n",
      "filtered\n"
     ]
    },
    {
     "data": {
      "text/plain": [
       "[]"
      ]
     },
     "execution_count": 26,
     "metadata": {},
     "output_type": "execute_result"
    }
   ],
   "source": [
    "#[]{}.+?*^$\n",
    "data=open('data3.csv').read()\n",
    "print data\n",
    "print \"filtered\"\n",
    "import re\n",
    "re.findall('^[0-9]',data,re.I)"
   ]
  },
  {
   "cell_type": "code",
   "execution_count": 27,
   "metadata": {
    "collapsed": false
   },
   "outputs": [
    {
     "name": "stdout",
     "output_type": "stream",
     "text": [
      "name1,9676655345,email1@gmail.com,23455\n",
      "9876567890,name2,34567,Email2@yahoo.com\n",
      "3456,Email3@rediff.com,name3,7656789098\n",
      "filtered\n"
     ]
    },
    {
     "data": {
      "text/plain": [
       "['n']"
      ]
     },
     "execution_count": 27,
     "metadata": {},
     "output_type": "execute_result"
    }
   ],
   "source": [
    "#[]{}.+?*^$\n",
    "data=open('data3.csv').read()\n",
    "print data\n",
    "print \"filtered\"\n",
    "import re\n",
    "re.findall('^[a-z]',data,re.I)"
   ]
  },
  {
   "cell_type": "code",
   "execution_count": 28,
   "metadata": {
    "collapsed": false
   },
   "outputs": [
    {
     "name": "stdout",
     "output_type": "stream",
     "text": [
      "name1,9676655345,email1@gmail.com,23455\n",
      "9876567890,name2,34567,Email2@yahoo.com\n",
      "3456,Email3@rediff.com,name3,7656789098\n",
      "filtered\n"
     ]
    },
    {
     "data": {
      "text/plain": [
       "['name']"
      ]
     },
     "execution_count": 28,
     "metadata": {},
     "output_type": "execute_result"
    }
   ],
   "source": [
    "#[]{}.+?*^$\n",
    "data=open('data3.csv').read()\n",
    "print data\n",
    "print \"filtered\"\n",
    "import re\n",
    "re.findall('^[a-z]+',data,re.I)"
   ]
  },
  {
   "cell_type": "code",
   "execution_count": 29,
   "metadata": {
    "collapsed": false
   },
   "outputs": [
    {
     "name": "stdout",
     "output_type": "stream",
     "text": [
      "name1,9676655345,email1@gmail.com,23455\n",
      "9876567890,name2,34567,Email2@yahoo.com\n",
      "3456,Email3@rediff.com,name3,7656789098\n",
      "filtered\n"
     ]
    },
    {
     "data": {
      "text/plain": [
       "[]"
      ]
     },
     "execution_count": 29,
     "metadata": {},
     "output_type": "execute_result"
    }
   ],
   "source": [
    "#[]{}.+?*^$\n",
    "data=open('data3.csv').read()\n",
    "print data\n",
    "print \"filtered\"\n",
    "import re\n",
    "re.findall('[a-z]$',data,re.I)"
   ]
  },
  {
   "cell_type": "code",
   "execution_count": 31,
   "metadata": {
    "collapsed": false
   },
   "outputs": [
    {
     "name": "stdout",
     "output_type": "stream",
     "text": [
      "name1,9676655345,email1@gmail.com,23455\n",
      "9876567890,name2,34567,Email2@yahoo.com\n",
      "3456,Email3@rediff.com,name3,7656789098\n",
      "filtered\n"
     ]
    },
    {
     "data": {
      "text/plain": [
       "['8']"
      ]
     },
     "execution_count": 31,
     "metadata": {},
     "output_type": "execute_result"
    }
   ],
   "source": [
    "#[]{}.+?*^$\n",
    "data=open('data3.csv').read()\n",
    "print data\n",
    "print \"filtered\"\n",
    "import re\n",
    "re.findall('[0-9]$',data,re.I)"
   ]
  },
  {
   "cell_type": "code",
   "execution_count": 32,
   "metadata": {
    "collapsed": false
   },
   "outputs": [
    {
     "name": "stdout",
     "output_type": "stream",
     "text": [
      "name1,9676655345,email1@gmail.com,23455\n",
      "9876567890,name2,34567,Email2@yahoo.com\n",
      "3456,Email3@rediff.com,name3,7656789098\n",
      "filtered\n"
     ]
    },
    {
     "data": {
      "text/plain": [
       "['9', '3']"
      ]
     },
     "execution_count": 32,
     "metadata": {},
     "output_type": "execute_result"
    }
   ],
   "source": [
    "#[]{}.+?*^$\n",
    "data=open('data3.csv').read()\n",
    "print data\n",
    "print \"filtered\"\n",
    "import re\n",
    "re.findall('^[0-9]',data,re.I|re.M)"
   ]
  },
  {
   "cell_type": "code",
   "execution_count": 34,
   "metadata": {
    "collapsed": false
   },
   "outputs": [
    {
     "name": "stdout",
     "output_type": "stream",
     "text": [
      "name1,9676655345,email1@gmail.com,23455\n",
      "9876567890,name2,34567,Email2@yahoo.com\n",
      "3456,Email3@rediff.com,name3,7656789098\n",
      "filtered\n"
     ]
    },
    {
     "data": {
      "text/plain": [
       "['9876567890']"
      ]
     },
     "execution_count": 34,
     "metadata": {},
     "output_type": "execute_result"
    }
   ],
   "source": [
    "#[]{}.+?*^$\n",
    "data=open('data3.csv').read()\n",
    "print data\n",
    "print \"filtered\"\n",
    "import re\n",
    "re.findall('^[0-9]{10}',data,re.I|re.M)"
   ]
  },
  {
   "cell_type": "code",
   "execution_count": 35,
   "metadata": {
    "collapsed": false
   },
   "outputs": [
    {
     "data": {
      "text/plain": [
       "['9676655345', '9876567890', '7656789098']"
      ]
     },
     "execution_count": 35,
     "metadata": {},
     "output_type": "execute_result"
    }
   ],
   "source": [
    "#compile search match finditer\n",
    "phone_reg=re.compile('[0-9]{10}')\n",
    "\n",
    "phone_reg.findall(data)"
   ]
  },
  {
   "cell_type": "code",
   "execution_count": 36,
   "metadata": {
    "collapsed": true
   },
   "outputs": [],
   "source": [
    "#compile search match finditer\n",
    "phone_reg=re.compile('[0-9]{10}')\n",
    "\n",
    "fnd = phone_reg.finditer(data)"
   ]
  },
  {
   "cell_type": "code",
   "execution_count": 37,
   "metadata": {
    "collapsed": false
   },
   "outputs": [
    {
     "data": {
      "text/plain": [
       "<callable-iterator at 0x7f789ded7a50>"
      ]
     },
     "execution_count": 37,
     "metadata": {},
     "output_type": "execute_result"
    }
   ],
   "source": [
    "fnd"
   ]
  },
  {
   "cell_type": "code",
   "execution_count": 38,
   "metadata": {
    "collapsed": false
   },
   "outputs": [
    {
     "name": "stdout",
     "output_type": "stream",
     "text": [
      "<_sre.SRE_Match object at 0x7f789def2b90>\n",
      "<_sre.SRE_Match object at 0x7f789def2bf8>\n",
      "<_sre.SRE_Match object at 0x7f789def2b90>\n"
     ]
    }
   ],
   "source": [
    "for r in fnd:\n",
    "    print r"
   ]
  },
  {
   "cell_type": "code",
   "execution_count": 42,
   "metadata": {
    "collapsed": false
   },
   "outputs": [
    {
     "name": "stdout",
     "output_type": "stream",
     "text": [
      "9676655345\n",
      "9876567890\n",
      "7656789098\n"
     ]
    }
   ],
   "source": [
    "fnd = phone_reg.finditer(data)\n",
    "for r in fnd:\n",
    "    print r.group(0)"
   ]
  },
  {
   "cell_type": "code",
   "execution_count": 43,
   "metadata": {
    "collapsed": false
   },
   "outputs": [
    {
     "name": "stdout",
     "output_type": "stream",
     "text": [
      "find the match\n"
     ]
    }
   ],
   "source": [
    "fnd = phone_reg.findall(data)\n",
    "if fnd:\n",
    "    print \"find the match\"\n",
    "else:\n",
    "    print \"not ound the match\""
   ]
  },
  {
   "cell_type": "code",
   "execution_count": 44,
   "metadata": {
    "collapsed": false
   },
   "outputs": [
    {
     "name": "stdout",
     "output_type": "stream",
     "text": [
      "find the match\n"
     ]
    }
   ],
   "source": [
    "fnd = phone_reg.search(data)\n",
    "if fnd:\n",
    "    print \"find the match\"\n",
    "else:\n",
    "    print \"not ound the match\""
   ]
  },
  {
   "cell_type": "code",
   "execution_count": 45,
   "metadata": {
    "collapsed": false
   },
   "outputs": [
    {
     "name": "stdout",
     "output_type": "stream",
     "text": [
      "<_sre.SRE_Match object at 0x7f789de3f030>\n",
      "find the match\n"
     ]
    }
   ],
   "source": [
    "fnd = phone_reg.search(data)\n",
    "print fnd\n",
    "if fnd:\n",
    "    print \"find the match\"\n",
    "else:\n",
    "    print \"not ound the match\""
   ]
  },
  {
   "cell_type": "code",
   "execution_count": 46,
   "metadata": {
    "collapsed": false
   },
   "outputs": [
    {
     "name": "stdout",
     "output_type": "stream",
     "text": [
      "None\n",
      "not ound the match\n"
     ]
    }
   ],
   "source": [
    "fnd = phone_reg.match(data)\n",
    "print fnd\n",
    "if fnd:\n",
    "    print \"find the match\"\n",
    "else:\n",
    "    print \"not ound the match\""
   ]
  },
  {
   "cell_type": "code",
   "execution_count": 47,
   "metadata": {
    "collapsed": false
   },
   "outputs": [
    {
     "name": "stdout",
     "output_type": "stream",
     "text": [
      "<_sre.SRE_Match object at 0x7f789de3f100>\n",
      "find the match\n"
     ]
    }
   ],
   "source": [
    "\n",
    "fnd = re.match('[a-z]',data)\n",
    "print fnd\n",
    "if fnd:\n",
    "    print \"find the match\"\n",
    "else:\n",
    "    print \"not ound the match\""
   ]
  },
  {
   "cell_type": "code",
   "execution_count": 48,
   "metadata": {
    "collapsed": false
   },
   "outputs": [
    {
     "name": "stdout",
     "output_type": "stream",
     "text": [
      "name1,9676655345,email1@gmail.com,23455\n",
      "9876567890,name2,34567,Email2@yahoo.com\n",
      "3456,Email3@rediff.com,name3,7656789098\n"
     ]
    }
   ],
   "source": [
    "print data"
   ]
  },
  {
   "cell_type": "code",
   "execution_count": 49,
   "metadata": {
    "collapsed": false
   },
   "outputs": [
    {
     "name": "stdout",
     "output_type": "stream",
     "text": [
      "['email1@', 'mail2@', 'mail3@']\n"
     ]
    }
   ],
   "source": [
    "\"\"\"\n",
    "[a-z0-9]+@[a-z]+\\.[com]+\n",
    "\"\"\"\n",
    "print re.findall('[a-z0-9]+@',data)"
   ]
  },
  {
   "cell_type": "code",
   "execution_count": 50,
   "metadata": {
    "collapsed": false
   },
   "outputs": [
    {
     "name": "stdout",
     "output_type": "stream",
     "text": [
      "['email1@', 'Email2@', 'Email3@']\n"
     ]
    }
   ],
   "source": [
    "\"\"\"\n",
    "[a-z0-9]+@[a-z]+\\.[com]+\n",
    "\"\"\"\n",
    "print re.findall('[a-z0-9]+@',data,re.I)"
   ]
  },
  {
   "cell_type": "code",
   "execution_count": 51,
   "metadata": {
    "collapsed": false
   },
   "outputs": [
    {
     "name": "stdout",
     "output_type": "stream",
     "text": [
      "['email1@gmail', 'Email2@yahoo', 'Email3@rediff']\n"
     ]
    }
   ],
   "source": [
    "\"\"\"\n",
    "[a-z0-9]+@[a-z]+\\.[com]+\n",
    "\"\"\"\n",
    "print re.findall('[a-z0-9]+@[a-z]+',data,re.I)"
   ]
  },
  {
   "cell_type": "code",
   "execution_count": 52,
   "metadata": {
    "collapsed": false
   },
   "outputs": [
    {
     "name": "stdout",
     "output_type": "stream",
     "text": [
      "['email1@gmail.', 'Email2@yahoo.', 'Email3@rediff.']\n"
     ]
    }
   ],
   "source": [
    "\"\"\"\n",
    "[a-z0-9]+@[a-z]+\\.[com]+\n",
    "\"\"\"\n",
    "print re.findall('[a-z0-9]+@[a-z]+\\.',data,re.I)"
   ]
  },
  {
   "cell_type": "code",
   "execution_count": 53,
   "metadata": {
    "collapsed": false
   },
   "outputs": [
    {
     "name": "stdout",
     "output_type": "stream",
     "text": [
      "['email1@gmail.com', 'Email2@yahoo.com', 'Email3@rediff.com']\n"
     ]
    }
   ],
   "source": [
    "\"\"\"\n",
    "[a-z0-9]+@[a-z]+\\.[com]+\n",
    "\"\"\"\n",
    "print re.findall('[a-z0-9]+@[a-z]+\\.[com]+',data,re.I)"
   ]
  },
  {
   "cell_type": "code",
   "execution_count": 54,
   "metadata": {
    "collapsed": false
   },
   "outputs": [
    {
     "name": "stdout",
     "output_type": "stream",
     "text": [
      "['email1@gmail.com', 'Email2@yahoo.co', 'Email3@rediff.com']\n"
     ]
    }
   ],
   "source": [
    "data =open('data3.csv').read()\n",
    "print re.findall('[a-z0-9]+@[a-z]+\\.[com]+',data,re.I)"
   ]
  },
  {
   "cell_type": "code",
   "execution_count": 55,
   "metadata": {
    "collapsed": false
   },
   "outputs": [
    {
     "name": "stdout",
     "output_type": "stream",
     "text": [
      "['email1@gmail.com', 'Email2@yahoo.co.in', 'Email3@rediff.com']\n"
     ]
    }
   ],
   "source": [
    "data =open('data3.csv').read()\n",
    "print re.findall('[a-z0-9]+@[a-z]+\\.[com]+[.in]*',data,re.I)"
   ]
  },
  {
   "cell_type": "code",
   "execution_count": 56,
   "metadata": {
    "collapsed": false
   },
   "outputs": [
    {
     "name": "stdout",
     "output_type": "stream",
     "text": [
      "['email1@gmail.com', 'Email2@yahoo.co.in', 'Email3@rediff.com']\n"
     ]
    }
   ],
   "source": [
    "data =open('data3.csv').read()\n",
    "print re.findall('[a-z0-9]+@[a-z]+\\.[com.in]+',data,re.I)"
   ]
  },
  {
   "cell_type": "code",
   "execution_count": 57,
   "metadata": {
    "collapsed": false
   },
   "outputs": [
    {
     "name": "stdout",
     "output_type": "stream",
     "text": [
      "['email1@gmail.com', 'Email2@yahoo.co.in', 'Email3@rediff.com', 'Email3@rediff.moc']\n"
     ]
    }
   ],
   "source": [
    "data =open('data3.csv').read()\n",
    "print re.findall('[a-z0-9]+@[a-z]+\\.[com.in]+',data,re.I)"
   ]
  },
  {
   "cell_type": "code",
   "execution_count": null,
   "metadata": {
    "collapsed": true
   },
   "outputs": [],
   "source": []
  }
 ],
 "metadata": {
  "kernelspec": {
   "display_name": "Python 2",
   "language": "python",
   "name": "python2"
  },
  "language_info": {
   "codemirror_mode": {
    "name": "ipython",
    "version": 2
   },
   "file_extension": ".py",
   "mimetype": "text/x-python",
   "name": "python",
   "nbconvert_exporter": "python",
   "pygments_lexer": "ipython2",
   "version": "2.7.13"
  }
 },
 "nbformat": 4,
 "nbformat_minor": 2
}
