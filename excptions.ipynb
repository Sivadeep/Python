{
 "cells": [
  {
   "cell_type": "code",
   "execution_count": 1,
   "metadata": {
    "collapsed": true
   },
   "outputs": [],
   "source": [
    "f=open(\"data1.csv\")"
   ]
  },
  {
   "cell_type": "code",
   "execution_count": 2,
   "metadata": {
    "collapsed": false
   },
   "outputs": [
    {
     "name": "stdout",
     "output_type": "stream",
     "text": [
      "Enter file name:data1.csv\n"
     ]
    }
   ],
   "source": [
    "file_name=raw_input(\"Enter file name:\")\n",
    "f=open(file_name,'r')"
   ]
  },
  {
   "cell_type": "code",
   "execution_count": 3,
   "metadata": {
    "collapsed": false
   },
   "outputs": [
    {
     "name": "stdout",
     "output_type": "stream",
     "text": [
      "Enter file name:data3.csv\n"
     ]
    },
    {
     "ename": "IOError",
     "evalue": "[Errno 2] No such file or directory: 'data3.csv'",
     "output_type": "error",
     "traceback": [
      "\u001b[0;31m---------------------------------------------------------------------------\u001b[0m",
      "\u001b[0;31mIOError\u001b[0m                                   Traceback (most recent call last)",
      "\u001b[0;32m<ipython-input-3-46b7dd78405a>\u001b[0m in \u001b[0;36m<module>\u001b[0;34m()\u001b[0m\n\u001b[1;32m      1\u001b[0m \u001b[0mfile_name\u001b[0m\u001b[0;34m=\u001b[0m\u001b[0mraw_input\u001b[0m\u001b[0;34m(\u001b[0m\u001b[0;34m\"Enter file name:\"\u001b[0m\u001b[0;34m)\u001b[0m\u001b[0;34m\u001b[0m\u001b[0m\n\u001b[0;32m----> 2\u001b[0;31m \u001b[0mf\u001b[0m\u001b[0;34m=\u001b[0m\u001b[0mopen\u001b[0m\u001b[0;34m(\u001b[0m\u001b[0mfile_name\u001b[0m\u001b[0;34m,\u001b[0m\u001b[0;34m'r'\u001b[0m\u001b[0;34m)\u001b[0m\u001b[0;34m\u001b[0m\u001b[0m\n\u001b[0m",
      "\u001b[0;31mIOError\u001b[0m: [Errno 2] No such file or directory: 'data3.csv'"
     ]
    }
   ],
   "source": [
    "file_name=raw_input(\"Enter file name:\")\n",
    "f=open(file_name,'r')"
   ]
  },
  {
   "cell_type": "code",
   "execution_count": 5,
   "metadata": {
    "collapsed": false
   },
   "outputs": [
    {
     "name": "stdout",
     "output_type": "stream",
     "text": [
      "Enter source filedata1.csv\n",
      "Enter dest filedata3.csv\n"
     ]
    }
   ],
   "source": [
    "s=raw_input(\"Enter source file\")\n",
    "d=raw_input(\"Enter dest file\")\n",
    "f=open(s,'r')\n",
    "data=f.read()\n",
    "f.close()\n",
    "f=open(d,'w')\n",
    "f.write(data)\n",
    "f.close()"
   ]
  },
  {
   "cell_type": "code",
   "execution_count": 6,
   "metadata": {
    "collapsed": false
   },
   "outputs": [
    {
     "name": "stdout",
     "output_type": "stream",
     "text": [
      "Enter source filedata4.csv\n",
      "Enter dest filedata5.csv\n"
     ]
    },
    {
     "ename": "IOError",
     "evalue": "[Errno 2] No such file or directory: 'data4.csv'",
     "output_type": "error",
     "traceback": [
      "\u001b[0;31m---------------------------------------------------------------------------\u001b[0m",
      "\u001b[0;31mIOError\u001b[0m                                   Traceback (most recent call last)",
      "\u001b[0;32m<ipython-input-6-41bd20c0f22e>\u001b[0m in \u001b[0;36m<module>\u001b[0;34m()\u001b[0m\n\u001b[1;32m      1\u001b[0m \u001b[0ms\u001b[0m\u001b[0;34m=\u001b[0m\u001b[0mraw_input\u001b[0m\u001b[0;34m(\u001b[0m\u001b[0;34m\"Enter source file\"\u001b[0m\u001b[0;34m)\u001b[0m\u001b[0;34m\u001b[0m\u001b[0m\n\u001b[1;32m      2\u001b[0m \u001b[0md\u001b[0m\u001b[0;34m=\u001b[0m\u001b[0mraw_input\u001b[0m\u001b[0;34m(\u001b[0m\u001b[0;34m\"Enter dest file\"\u001b[0m\u001b[0;34m)\u001b[0m\u001b[0;34m\u001b[0m\u001b[0m\n\u001b[0;32m----> 3\u001b[0;31m \u001b[0mf\u001b[0m\u001b[0;34m=\u001b[0m\u001b[0mopen\u001b[0m\u001b[0;34m(\u001b[0m\u001b[0ms\u001b[0m\u001b[0;34m,\u001b[0m\u001b[0;34m'r'\u001b[0m\u001b[0;34m)\u001b[0m\u001b[0;34m\u001b[0m\u001b[0m\n\u001b[0m\u001b[1;32m      4\u001b[0m \u001b[0mdata\u001b[0m\u001b[0;34m=\u001b[0m\u001b[0mf\u001b[0m\u001b[0;34m.\u001b[0m\u001b[0mread\u001b[0m\u001b[0;34m(\u001b[0m\u001b[0;34m)\u001b[0m\u001b[0;34m\u001b[0m\u001b[0m\n\u001b[1;32m      5\u001b[0m \u001b[0mf\u001b[0m\u001b[0;34m.\u001b[0m\u001b[0mclose\u001b[0m\u001b[0;34m(\u001b[0m\u001b[0;34m)\u001b[0m\u001b[0;34m\u001b[0m\u001b[0m\n",
      "\u001b[0;31mIOError\u001b[0m: [Errno 2] No such file or directory: 'data4.csv'"
     ]
    }
   ],
   "source": [
    "s=raw_input(\"Enter source file\")\n",
    "d=raw_input(\"Enter dest file\")\n",
    "f=open(s,'r')\n",
    "data=f.read()\n",
    "f.close()\n",
    "f=open(d,'w')\n",
    "f.write(data)\n",
    "f.close()"
   ]
  },
  {
   "cell_type": "code",
   "execution_count": 8,
   "metadata": {
    "collapsed": false
   },
   "outputs": [
    {
     "name": "stdout",
     "output_type": "stream",
     "text": [
      "program started\n",
      "Enter source fileasdfa\n",
      "Enter dest file\n",
      "somethign went wrong.\n"
     ]
    }
   ],
   "source": [
    "try:\n",
    "    print \"program started\"\n",
    "    s=raw_input(\"Enter source file\")\n",
    "    d=raw_input(\"Enter dest file\")\n",
    "    f=open(s,'r')\n",
    "    data=f.read()\n",
    "    f.close()\n",
    "    f=open(d,'w')\n",
    "    f.write(data)\n",
    "    f.close()\n",
    "    print \"some otiher statements\"\n",
    "    print \"program ended\"\n",
    "except:\n",
    "    print \"somethign went wrong.\""
   ]
  },
  {
   "cell_type": "code",
   "execution_count": 9,
   "metadata": {
    "collapsed": false
   },
   "outputs": [
    {
     "name": "stdout",
     "output_type": "stream",
     "text": [
      "program started\n",
      "Enter source filedata1.csv\n",
      "Enter dest filedata2.csv\n",
      "some otiher statements\n",
      "program ended\n"
     ]
    }
   ],
   "source": [
    "try:\n",
    "    print \"program started\"\n",
    "    s=raw_input(\"Enter source file\")\n",
    "    d=raw_input(\"Enter dest file\")\n",
    "    f=open(s,'r')\n",
    "    data=f.read()\n",
    "    f.close()\n",
    "    f=open(d,'w')\n",
    "    f.write(data)\n",
    "    f.close()\n",
    "    print \"some otiher statements\"\n",
    "    print \"program ended\"\n",
    "except:\n",
    "    print \"somethign went wrong.\""
   ]
  },
  {
   "cell_type": "code",
   "execution_count": 10,
   "metadata": {
    "collapsed": false
   },
   "outputs": [
    {
     "name": "stdout",
     "output_type": "stream",
     "text": [
      "program started\n",
      "Enter source filesafsdf\n",
      "Enter dest filesfsdf\n",
      "somethign went wrong.\n"
     ]
    }
   ],
   "source": [
    "try:\n",
    "    print \"program started\"\n",
    "    s=raw_input(\"Enter source file\")\n",
    "    d=raw_input(\"Enter dest file\")\n",
    "    f=open(s,'r')\n",
    "    data=f.read()\n",
    "    f.close()\n",
    "    f=open(d,'w')\n",
    "    f.write(data)\n",
    "    f.close()\n",
    "    print \"some otiher statements\"\n",
    "    print \"program ended\"\n",
    "except:\n",
    "    print \"somethign went wrong.\""
   ]
  },
  {
   "cell_type": "code",
   "execution_count": 11,
   "metadata": {
    "collapsed": false
   },
   "outputs": [
    {
     "name": "stdout",
     "output_type": "stream",
     "text": [
      "program started\n",
      "Enter source filedata1.csv\n",
      "Enter dest filedata2.csv\n",
      "some otiher statements\n",
      "program ended\n"
     ]
    }
   ],
   "source": [
    "print \"program started\"\n",
    "s=raw_input(\"Enter source file\")\n",
    "d=raw_input(\"Enter dest file\")\n",
    "try:\n",
    "    f=open(s,'r')\n",
    "    data=f.read()\n",
    "    f.close()\n",
    "    f=open(d,'w')\n",
    "    f.write(data)\n",
    "    f.close()\n",
    "except:\n",
    "    print \"somethign went wrong.\"\n",
    "    \n",
    "print \"some otiher statements\"\n",
    "print \"program ended\""
   ]
  },
  {
   "cell_type": "code",
   "execution_count": 13,
   "metadata": {
    "collapsed": false
   },
   "outputs": [
    {
     "name": "stdout",
     "output_type": "stream",
     "text": [
      "program started\n",
      "Enter source filesdfsdf\n",
      "Enter dest filesdfsdf\n",
      "somethign went wrong.\n",
      "some otiher statements\n",
      "program ended\n"
     ]
    }
   ],
   "source": [
    "print \"program started\"\n",
    "s=raw_input(\"Enter source file\")\n",
    "d=raw_input(\"Enter dest file\")\n",
    "try:\n",
    "    f=open(s,'r')\n",
    "    data=f.read()\n",
    "    f.close()\n",
    "    f=open(d,'w')\n",
    "    f.write(data)\n",
    "    f.close()\n",
    "except:\n",
    "    print \"somethign went wrong.\"\n",
    "    \n",
    "print \"some otiher statements\"\n",
    "print \"program ended\""
   ]
  },
  {
   "cell_type": "code",
   "execution_count": 14,
   "metadata": {
    "collapsed": true
   },
   "outputs": [],
   "source": [
    "import pandas"
   ]
  },
  {
   "cell_type": "code",
   "execution_count": 15,
   "metadata": {
    "collapsed": true
   },
   "outputs": [],
   "source": [
    "import matplotlib"
   ]
  },
  {
   "cell_type": "code",
   "execution_count": 21,
   "metadata": {
    "collapsed": false
   },
   "outputs": [
    {
     "ename": "SyntaxError",
     "evalue": "EOL while scanning string literal (<ipython-input-21-1771f4edc5bc>, line 2)",
     "output_type": "error",
     "traceback": [
      "\u001b[0;36m  File \u001b[0;32m\"<ipython-input-21-1771f4edc5bc>\"\u001b[0;36m, line \u001b[0;32m2\u001b[0m\n\u001b[0;31m    print \"1/0\u001b[0m\n\u001b[0m             ^\u001b[0m\n\u001b[0;31mSyntaxError\u001b[0m\u001b[0;31m:\u001b[0m EOL while scanning string literal\n"
     ]
    }
   ],
   "source": [
    "print \"sdfsdfsdfsd\"\n",
    "print \"1/0"
   ]
  },
  {
   "cell_type": "code",
   "execution_count": 22,
   "metadata": {
    "collapsed": false
   },
   "outputs": [
    {
     "name": "stdout",
     "output_type": "stream",
     "text": [
      "sdfsdfsdf\n",
      "0\n"
     ]
    }
   ],
   "source": [
    "print \"sdfsdfsdf\"\n",
    "print 10/20"
   ]
  },
  {
   "cell_type": "code",
   "execution_count": 23,
   "metadata": {
    "collapsed": false
   },
   "outputs": [
    {
     "name": "stdout",
     "output_type": "stream",
     "text": [
      "sdfsfsdf\n"
     ]
    },
    {
     "ename": "ZeroDivisionError",
     "evalue": "integer division or modulo by zero",
     "output_type": "error",
     "traceback": [
      "\u001b[0;31m---------------------------------------------------------------------------\u001b[0m",
      "\u001b[0;31mZeroDivisionError\u001b[0m                         Traceback (most recent call last)",
      "\u001b[0;32m<ipython-input-23-a7a1a74aba9e>\u001b[0m in \u001b[0;36m<module>\u001b[0;34m()\u001b[0m\n\u001b[1;32m      1\u001b[0m \u001b[0;32mprint\u001b[0m \u001b[0;34m\"sdfsfsdf\"\u001b[0m\u001b[0;34m\u001b[0m\u001b[0m\n\u001b[0;32m----> 2\u001b[0;31m \u001b[0;32mprint\u001b[0m \u001b[0;36m10\u001b[0m\u001b[0;34m/\u001b[0m\u001b[0;36m0\u001b[0m\u001b[0;34m\u001b[0m\u001b[0m\n\u001b[0m\u001b[1;32m      3\u001b[0m \u001b[0;32mprint\u001b[0m \u001b[0;34m\"asdffd\"\u001b[0m\u001b[0;34m\u001b[0m\u001b[0m\n",
      "\u001b[0;31mZeroDivisionError\u001b[0m: integer division or modulo by zero"
     ]
    }
   ],
   "source": [
    "print \"sdfsfsdf\"\n",
    "print 10/0\n",
    "print \"asdffd\""
   ]
  },
  {
   "cell_type": "code",
   "execution_count": 24,
   "metadata": {
    "collapsed": false
   },
   "outputs": [
    {
     "data": {
      "text/plain": [
       "1234"
      ]
     },
     "execution_count": 24,
     "metadata": {},
     "output_type": "execute_result"
    }
   ],
   "source": [
    "int(\"1234\")"
   ]
  },
  {
   "cell_type": "code",
   "execution_count": 25,
   "metadata": {
    "collapsed": false
   },
   "outputs": [
    {
     "ename": "ValueError",
     "evalue": "invalid literal for int() with base 10: 'sdfsdf213124'",
     "output_type": "error",
     "traceback": [
      "\u001b[0;31m---------------------------------------------------------------------------\u001b[0m",
      "\u001b[0;31mValueError\u001b[0m                                Traceback (most recent call last)",
      "\u001b[0;32m<ipython-input-25-be51169fc637>\u001b[0m in \u001b[0;36m<module>\u001b[0;34m()\u001b[0m\n\u001b[0;32m----> 1\u001b[0;31m \u001b[0mint\u001b[0m\u001b[0;34m(\u001b[0m\u001b[0;34m\"sdfsdf213124\"\u001b[0m\u001b[0;34m)\u001b[0m\u001b[0;34m\u001b[0m\u001b[0m\n\u001b[0m",
      "\u001b[0;31mValueError\u001b[0m: invalid literal for int() with base 10: 'sdfsdf213124'"
     ]
    }
   ],
   "source": [
    "int(\"sdfsdf213124\")"
   ]
  },
  {
   "cell_type": "code",
   "execution_count": 26,
   "metadata": {
    "collapsed": false
   },
   "outputs": [
    {
     "name": "stdout",
     "output_type": "stream",
     "text": [
      "something went wrong\n"
     ]
    }
   ],
   "source": [
    "try:\n",
    "    int(\"sdfsdfsd\")\n",
    "except:\n",
    "    print \"something went wrong\""
   ]
  },
  {
   "cell_type": "code",
   "execution_count": 27,
   "metadata": {
    "collapsed": true
   },
   "outputs": [],
   "source": [
    "data=open('data.csv').readlines()"
   ]
  },
  {
   "cell_type": "code",
   "execution_count": 28,
   "metadata": {
    "collapsed": false
   },
   "outputs": [
    {
     "name": "stdout",
     "output_type": "stream",
     "text": [
      "['name0,25,10L\\n', 'name1,45,10L\\n', 'name2,25,7L\\n', 'name3,45,6L\\n', 'name4,45,10L\\n', 'name5,34,10L\\n', 'name6,23,7L\\n', 'name7,23,10L\\n', 'name8,34,6L\\n', 'name9,45,6L\\n', 'name10,34,6L\\n', 'name11,30,6L\\n', 'name12,45,7L\\n', 'name13,34,7L\\n', 'name14,45,6L\\n', 'name15,25,10L\\n', 'name16,34,10L\\n', 'name17,45,20L\\n', 'name18,23,20L\\n', 'name19,25,10L\\n']\n"
     ]
    }
   ],
   "source": [
    "print data"
   ]
  },
  {
   "cell_type": "code",
   "execution_count": 29,
   "metadata": {
    "collapsed": false
   },
   "outputs": [
    {
     "name": "stdout",
     "output_type": "stream",
     "text": [
      "25\n",
      "45\n",
      "25\n",
      "45\n",
      "45\n",
      "34\n",
      "23\n",
      "23\n",
      "34\n",
      "45\n",
      "34\n",
      "30\n",
      "45\n",
      "34\n",
      "45\n",
      "25\n",
      "34\n",
      "45\n",
      "23\n",
      "25\n"
     ]
    }
   ],
   "source": [
    "for row in data:\n",
    "    print row.split(',')[1]"
   ]
  },
  {
   "cell_type": "code",
   "execution_count": 31,
   "metadata": {
    "collapsed": false
   },
   "outputs": [
    {
     "name": "stdout",
     "output_type": "stream",
     "text": [
      "9876543456\n",
      "\n",
      "26\n",
      "\n",
      "9876543458\n",
      "\n"
     ]
    }
   ],
   "source": [
    "data=open('data3.csv').readlines()\n",
    "for row in data:\n",
    "    print row.split(',')[2]"
   ]
  },
  {
   "cell_type": "code",
   "execution_count": 32,
   "metadata": {
    "collapsed": true
   },
   "outputs": [],
   "source": [
    "import re"
   ]
  },
  {
   "cell_type": "code",
   "execution_count": 33,
   "metadata": {
    "collapsed": false
   },
   "outputs": [
    {
     "data": {
      "text/plain": [
       "['9876543456', '9876543457', '9876543458']"
      ]
     },
     "execution_count": 33,
     "metadata": {},
     "output_type": "execute_result"
    }
   ],
   "source": [
    "data=open('data3.csv').read()\n",
    "re.findall(\"[0-9]{10}\",data)"
   ]
  },
  {
   "cell_type": "code",
   "execution_count": 36,
   "metadata": {
    "collapsed": false
   },
   "outputs": [
    {
     "name": "stdout",
     "output_type": "stream",
     "text": [
      "10\n",
      "5\n",
      "0\n"
     ]
    },
    {
     "ename": "ZeroDivisionError",
     "evalue": "integer division or modulo by zero",
     "output_type": "error",
     "traceback": [
      "\u001b[0;31m---------------------------------------------------------------------------\u001b[0m",
      "\u001b[0;31mZeroDivisionError\u001b[0m                         Traceback (most recent call last)",
      "\u001b[0;32m<ipython-input-36-f580f73cb51a>\u001b[0m in \u001b[0;36m<module>\u001b[0;34m()\u001b[0m\n\u001b[1;32m      1\u001b[0m \u001b[0;32mfor\u001b[0m \u001b[0mi\u001b[0m \u001b[0;32min\u001b[0m \u001b[0;34m[\u001b[0m\u001b[0;36m1\u001b[0m\u001b[0;34m,\u001b[0m\u001b[0;36m2\u001b[0m\u001b[0;34m,\u001b[0m\u001b[0;36m30\u001b[0m\u001b[0;34m,\u001b[0m\u001b[0;36m0\u001b[0m\u001b[0;34m,\u001b[0m\u001b[0;36m3\u001b[0m\u001b[0;34m,\u001b[0m\u001b[0;36m4\u001b[0m\u001b[0;34m,\u001b[0m\u001b[0;36m5\u001b[0m\u001b[0;34m,\u001b[0m\u001b[0;36m6\u001b[0m\u001b[0;34m]\u001b[0m\u001b[0;34m:\u001b[0m\u001b[0;34m\u001b[0m\u001b[0m\n\u001b[0;32m----> 2\u001b[0;31m     \u001b[0;32mprint\u001b[0m \u001b[0;36m10\u001b[0m\u001b[0;34m/\u001b[0m\u001b[0mi\u001b[0m\u001b[0;34m\u001b[0m\u001b[0m\n\u001b[0m",
      "\u001b[0;31mZeroDivisionError\u001b[0m: integer division or modulo by zero"
     ]
    }
   ],
   "source": [
    "for i in [1,2,30,0,3,4,5,6]:\n",
    "    print 10/i"
   ]
  },
  {
   "cell_type": "code",
   "execution_count": 1,
   "metadata": {
    "collapsed": false
   },
   "outputs": [
    {
     "name": "stdout",
     "output_type": "stream",
     "text": [
      "5\n",
      "else block\n",
      "finally\n"
     ]
    }
   ],
   "source": [
    "try:\n",
    "    print 10/2\n",
    "except:\n",
    "    print \"something went wrong\"\n",
    "else:\n",
    "    print \"else block\"\n",
    "finally:\n",
    "    print \"finally\""
   ]
  },
  {
   "cell_type": "code",
   "execution_count": 2,
   "metadata": {
    "collapsed": false
   },
   "outputs": [
    {
     "name": "stdout",
     "output_type": "stream",
     "text": [
      "something went wrong\n",
      "finally\n"
     ]
    }
   ],
   "source": [
    "try:\n",
    "    print 10/0\n",
    "except:\n",
    "    print \"something went wrong\"\n",
    "else:\n",
    "    print \"else block\"\n",
    "finally:\n",
    "    print \"finally\""
   ]
  },
  {
   "cell_type": "code",
   "execution_count": 3,
   "metadata": {
    "collapsed": false
   },
   "outputs": [
    {
     "name": "stdout",
     "output_type": "stream",
     "text": [
      "Enter a value:12\n",
      "Enter b value:3\n",
      "some other statements \n",
      "program ended\n"
     ]
    }
   ],
   "source": [
    "a=raw_input(\"Enter a value:\")\n",
    "b=raw_input(\"Enter b value:\")\n",
    "f=open(\"data6.csv\",'w')\n",
    "try:\n",
    "    a=int(a)\n",
    "    b=int(b)\n",
    "    f.write(\"%s, %s\"%(a,b))\n",
    "    res=a/b\n",
    "    f.write(\",%s\"%res)\n",
    "except:\n",
    "    print \"something went wrong.\"\n",
    "finally:\n",
    "    f.close()\n",
    "print \"some other statements \"\n",
    "print \"program ended\"\n",
    "    "
   ]
  },
  {
   "cell_type": "code",
   "execution_count": 4,
   "metadata": {
    "collapsed": false
   },
   "outputs": [
    {
     "name": "stdout",
     "output_type": "stream",
     "text": [
      "Enter a value:12\n",
      "Enter b value:3\n",
      "some other statements \n",
      "program ended\n"
     ]
    }
   ],
   "source": [
    "a=raw_input(\"Enter a value:\")\n",
    "b=raw_input(\"Enter b value:\")\n",
    "f=open(\"data6.csv\",'w')\n",
    "try:\n",
    "    a=int(a)\n",
    "    b=int(b)\n",
    "    f.write(\"%s, %s\"%(a,b))\n",
    "    res=a/b\n",
    "    f.write(\",%s\"%res)\n",
    "except:\n",
    "    print \"something went wrong.\"\n",
    "f.close()\n",
    "print \"some other statements \"\n",
    "print \"program ended\""
   ]
  },
  {
   "cell_type": "code",
   "execution_count": 5,
   "metadata": {
    "collapsed": false
   },
   "outputs": [
    {
     "name": "stdout",
     "output_type": "stream",
     "text": [
      "Enter a value:12\n",
      "Enter b value:0\n",
      "something went wrong.\n",
      "some other statements \n",
      "program ended\n"
     ]
    }
   ],
   "source": [
    "a=raw_input(\"Enter a value:\")\n",
    "b=raw_input(\"Enter b value:\")\n",
    "f=open(\"data6.csv\",'w')\n",
    "try:\n",
    "    a=int(a)\n",
    "    b=int(b)\n",
    "    f.write(\"%s, %s\"%(a,b))\n",
    "    res=a/b\n",
    "    f.write(\",%s\"%res)\n",
    "except:\n",
    "    print \"something went wrong.\"\n",
    "f.close()\n",
    "print \"some other statements \"\n",
    "print \"program ended\""
   ]
  },
  {
   "cell_type": "code",
   "execution_count": 6,
   "metadata": {
    "collapsed": false
   },
   "outputs": [
    {
     "name": "stdout",
     "output_type": "stream",
     "text": [
      "try block\n",
      "except\n",
      "finally\n"
     ]
    }
   ],
   "source": [
    "try:\n",
    "    print \"try block\"\n",
    "    print 1/0\n",
    "except:\n",
    "    print \"except\"\n",
    "finally:\n",
    "    print \"finally\""
   ]
  },
  {
   "cell_type": "code",
   "execution_count": 7,
   "metadata": {
    "collapsed": false
   },
   "outputs": [
    {
     "name": "stdout",
     "output_type": "stream",
     "text": [
      "try block\n",
      "finally\n"
     ]
    },
    {
     "ename": "ZeroDivisionError",
     "evalue": "integer division or modulo by zero",
     "output_type": "error",
     "traceback": [
      "\u001b[0;31m---------------------------------------------------------------------------\u001b[0m",
      "\u001b[0;31mZeroDivisionError\u001b[0m                         Traceback (most recent call last)",
      "\u001b[0;32m<ipython-input-7-ea545e2bac8a>\u001b[0m in \u001b[0;36m<module>\u001b[0;34m()\u001b[0m\n\u001b[1;32m      1\u001b[0m \u001b[0;32mtry\u001b[0m\u001b[0;34m:\u001b[0m\u001b[0;34m\u001b[0m\u001b[0m\n\u001b[1;32m      2\u001b[0m     \u001b[0;32mprint\u001b[0m \u001b[0;34m\"try block\"\u001b[0m\u001b[0;34m\u001b[0m\u001b[0m\n\u001b[0;32m----> 3\u001b[0;31m     \u001b[0;32mprint\u001b[0m \u001b[0;36m1\u001b[0m\u001b[0;34m/\u001b[0m\u001b[0;36m0\u001b[0m\u001b[0;34m\u001b[0m\u001b[0m\n\u001b[0m\u001b[1;32m      4\u001b[0m \u001b[0;32mfinally\u001b[0m\u001b[0;34m:\u001b[0m\u001b[0;34m\u001b[0m\u001b[0m\n\u001b[1;32m      5\u001b[0m     \u001b[0;32mprint\u001b[0m \u001b[0;34m\"finally\"\u001b[0m\u001b[0;34m\u001b[0m\u001b[0m\n",
      "\u001b[0;31mZeroDivisionError\u001b[0m: integer division or modulo by zero"
     ]
    }
   ],
   "source": [
    "try:\n",
    "    print \"try block\"\n",
    "    print 1/0\n",
    "finally:\n",
    "    print \"finally\""
   ]
  },
  {
   "cell_type": "code",
   "execution_count": 8,
   "metadata": {
    "collapsed": false
   },
   "outputs": [
    {
     "name": "stdout",
     "output_type": "stream",
     "text": [
      "10\n"
     ]
    }
   ],
   "source": [
    "def fun():\n",
    "    return 10\n",
    "    return 20\n",
    "    return 30\n",
    "print fun()"
   ]
  },
  {
   "cell_type": "code",
   "execution_count": 9,
   "metadata": {
    "collapsed": false
   },
   "outputs": [
    {
     "name": "stdout",
     "output_type": "stream",
     "text": [
      "10\n"
     ]
    }
   ],
   "source": [
    "def fun():\n",
    "    return 10\n",
    "    return 20\n",
    "    return 30\n",
    "print fun()"
   ]
  },
  {
   "cell_type": "code",
   "execution_count": 10,
   "metadata": {
    "collapsed": false
   },
   "outputs": [
    {
     "name": "stdout",
     "output_type": "stream",
     "text": [
      "10\n"
     ]
    }
   ],
   "source": [
    "def fun():\n",
    "    return 10\n",
    "    return 20\n",
    "    return 30\n",
    "print fun()"
   ]
  },
  {
   "cell_type": "code",
   "execution_count": 11,
   "metadata": {
    "collapsed": false
   },
   "outputs": [
    {
     "name": "stdout",
     "output_type": "stream",
     "text": [
      "30\n"
     ]
    }
   ],
   "source": [
    "def fun():\n",
    "    try:\n",
    "        return 10\n",
    "    except:\n",
    "        return 20\n",
    "    finally:\n",
    "        return 30\n",
    "print fun()"
   ]
  },
  {
   "cell_type": "code",
   "execution_count": 12,
   "metadata": {
    "collapsed": false
   },
   "outputs": [
    {
     "name": "stdout",
     "output_type": "stream",
     "text": [
      "closing the db connection\n",
      "closing the socket connection\n",
      "closing the file\n",
      "10\n"
     ]
    }
   ],
   "source": [
    "def fun():\n",
    "    try:\n",
    "        return 10\n",
    "    except:\n",
    "        return 20\n",
    "    finally:\n",
    "        print \"closing the db connection\"\n",
    "        print \"closing the socket connection\"\n",
    "        print \"closing the file\"\n",
    "print fun()"
   ]
  },
  {
   "cell_type": "code",
   "execution_count": 14,
   "metadata": {
    "collapsed": false
   },
   "outputs": [
    {
     "name": "stdout",
     "output_type": "stream",
     "text": [
      "except block\n",
      "closing the db connection\n",
      "closing the socket connection\n",
      "closing the file\n",
      "20\n"
     ]
    }
   ],
   "source": [
    "def fun():\n",
    "    try:\n",
    "        return 10/0\n",
    "    except:\n",
    "        print \"except block\"\n",
    "        return 20\n",
    "    finally:\n",
    "        print \"closing the db connection\"\n",
    "        print \"closing the socket connection\"\n",
    "        print \"closing the file\"\n",
    "print fun()"
   ]
  },
  {
   "cell_type": "code",
   "execution_count": 15,
   "metadata": {
    "collapsed": false
   },
   "outputs": [
    {
     "name": "stdout",
     "output_type": "stream",
     "text": [
      "Enter a value:12\n",
      "Enter b value:0\n",
      "something went wrong.\n",
      "some other statements \n",
      "program ended\n"
     ]
    }
   ],
   "source": [
    "a=raw_input(\"Enter a value:\")\n",
    "b=raw_input(\"Enter b value:\")\n",
    "f=open(\"data6.csv\",'w')\n",
    "try:\n",
    "    a=int(a)\n",
    "    b=int(b)\n",
    "    f.write(\"%s, %s\"%(a,b))\n",
    "    res=a/b\n",
    "    f.write(\",%s\"%res)\n",
    "except:\n",
    "    print \"something went wrong.\"\n",
    "f.close()\n",
    "print \"some other statements \"\n",
    "print \"program ended\""
   ]
  },
  {
   "cell_type": "code",
   "execution_count": 17,
   "metadata": {
    "collapsed": false
   },
   "outputs": [
    {
     "name": "stdout",
     "output_type": "stream",
     "text": [
      "Enter a value:qweqw\n",
      "Enter b value:wrwer\n",
      "something went wrong.\n",
      "some other statements \n",
      "program ended\n"
     ]
    }
   ],
   "source": [
    "a=raw_input(\"Enter a value:\")\n",
    "b=raw_input(\"Enter b value:\")\n",
    "f=open(\"data6.csv\",'w')\n",
    "try:\n",
    "    a=int(a)\n",
    "    b=int(b)\n",
    "    f.write(\"%s, %s\"%(a,b))\n",
    "    res=a/b\n",
    "    f.write(\",%s\"%res)\n",
    "except:\n",
    "    print \"something went wrong.\"\n",
    "f.close()\n",
    "print \"some other statements \"\n",
    "print \"program ended\""
   ]
  },
  {
   "cell_type": "code",
   "execution_count": 18,
   "metadata": {
    "collapsed": false
   },
   "outputs": [
    {
     "name": "stdout",
     "output_type": "stream",
     "text": [
      "Enter a value:12\n",
      "Enter b value:0\n",
      "integer division or modulo by zero\n",
      "something went wrong.\n",
      "some other statements \n",
      "program ended\n"
     ]
    }
   ],
   "source": [
    "a=raw_input(\"Enter a value:\")\n",
    "b=raw_input(\"Enter b value:\")\n",
    "f=open(\"data6.csv\",'w')\n",
    "try:\n",
    "    a=int(a)\n",
    "    b=int(b)\n",
    "    f.write(\"%s, %s\"%(a,b))\n",
    "    res=a/b\n",
    "    f.write(\",%s\"%res)\n",
    "except Exception as err:\n",
    "    print err\n",
    "    print \"something went wrong.\"\n",
    "f.close()\n",
    "print \"some other statements \"\n",
    "print \"program ended\""
   ]
  },
  {
   "cell_type": "code",
   "execution_count": 19,
   "metadata": {
    "collapsed": false
   },
   "outputs": [
    {
     "name": "stdout",
     "output_type": "stream",
     "text": [
      "Enter a value:asdsa\n",
      "Enter b value:asdasda\n",
      "invalid literal for int() with base 10: 'asdsa'\n",
      "something went wrong.\n",
      "some other statements \n",
      "program ended\n"
     ]
    }
   ],
   "source": [
    "a=raw_input(\"Enter a value:\")\n",
    "b=raw_input(\"Enter b value:\")\n",
    "f=open(\"data6.csv\",'w')\n",
    "try:\n",
    "    a=int(a)\n",
    "    b=int(b)\n",
    "    f.write(\"%s, %s\"%(a,b))\n",
    "    res=a/b\n",
    "    f.write(\",%s\"%res)\n",
    "except Exception as err:\n",
    "    print err\n",
    "    print \"something went wrong.\"\n",
    "f.close()\n",
    "print \"some other statements \"\n",
    "print \"program ended\""
   ]
  },
  {
   "cell_type": "code",
   "execution_count": 20,
   "metadata": {
    "collapsed": false
   },
   "outputs": [
    {
     "name": "stdout",
     "output_type": "stream",
     "text": [
      "Enter a value:12\n",
      "Enter b value:6\n",
      "some other statements \n",
      "program ended\n"
     ]
    }
   ],
   "source": [
    "a=raw_input(\"Enter a value:\")\n",
    "b=raw_input(\"Enter b value:\")\n",
    "f=open(\"data6.csv\",'w')\n",
    "try:\n",
    "    a=int(a)\n",
    "    b=int(b)\n",
    "    f.write(\"%s, %s\"%(a,b))\n",
    "    res=a/b\n",
    "    f.write(\",%s\"%res)\n",
    "except ZeroDivisionError as err:\n",
    "    print err\n",
    "    print \"Dont' enter zero for b value:\"\n",
    "except ValueError as err:\n",
    "    print err\n",
    "    print \"Enter only digits to a,b values.\"\n",
    "    \n",
    "except Exception as err:\n",
    "    print err\n",
    "    print \"something went wrong.\"\n",
    "f.close()\n",
    "print \"some other statements \"\n",
    "print \"program ended\""
   ]
  },
  {
   "cell_type": "code",
   "execution_count": 21,
   "metadata": {
    "collapsed": false
   },
   "outputs": [
    {
     "name": "stdout",
     "output_type": "stream",
     "text": [
      "Enter a value:12\n",
      "Enter b value:0\n",
      "integer division or modulo by zero\n",
      "Dont' enter zero for b value:\n",
      "some other statements \n",
      "program ended\n"
     ]
    }
   ],
   "source": [
    "a=raw_input(\"Enter a value:\")\n",
    "b=raw_input(\"Enter b value:\")\n",
    "f=open(\"data6.csv\",'w')\n",
    "try:\n",
    "    a=int(a)\n",
    "    b=int(b)\n",
    "    f.write(\"%s, %s\"%(a,b))\n",
    "    res=a/b\n",
    "    f.write(\",%s\"%res)\n",
    "except ZeroDivisionError as err:\n",
    "    print err\n",
    "    print \"Dont' enter zero for b value:\"\n",
    "except ValueError as err:\n",
    "    print err\n",
    "    print \"Enter only digits to a,b values.\"\n",
    "    \n",
    "except Exception as err:\n",
    "    print err\n",
    "    print \"something went wrong.\"\n",
    "f.close()\n",
    "print \"some other statements \"\n",
    "print \"program ended\""
   ]
  },
  {
   "cell_type": "code",
   "execution_count": 22,
   "metadata": {
    "collapsed": false
   },
   "outputs": [
    {
     "name": "stdout",
     "output_type": "stream",
     "text": [
      "Enter a value:112\n",
      "Enter b value:6\n",
      "else block\n",
      "some other statements \n",
      "program ended\n"
     ]
    }
   ],
   "source": [
    "a=raw_input(\"Enter a value:\")\n",
    "b=raw_input(\"Enter b value:\")\n",
    "f=open(\"data6.csv\",'w')\n",
    "try:\n",
    "    a=int(a)\n",
    "    b=int(b)\n",
    "    f.write(\"%s, %s\"%(a,b))\n",
    "    res=a/b\n",
    "    f.write(\",%s\"%res)\n",
    "except ZeroDivisionError as err:\n",
    "    print err\n",
    "    print \"Dont' enter zero for b value:\"\n",
    "except ValueError as err:\n",
    "    print err\n",
    "    print \"Enter only digits to a,b values.\"\n",
    "    \n",
    "except Exception as err:\n",
    "    print err\n",
    "    print \"something went wrong.\"\n",
    "else:\n",
    "    print \"else block\"\n",
    "finally:\n",
    "    f.close()\n",
    "print \"some other statements \"\n",
    "print \"program ended\""
   ]
  },
  {
   "cell_type": "code",
   "execution_count": 23,
   "metadata": {
    "collapsed": false
   },
   "outputs": [
    {
     "name": "stdout",
     "output_type": "stream",
     "text": [
      "Enter a value:werwe\n",
      "Enter b value:werwe\n",
      "invalid literal for int() with base 10: 'werwe'\n",
      "Enter only digits to a,b values.\n",
      "some other statements \n",
      "program ended\n"
     ]
    }
   ],
   "source": [
    "a=raw_input(\"Enter a value:\")\n",
    "b=raw_input(\"Enter b value:\")\n",
    "f=open(\"data6.csv\",'w')\n",
    "try:\n",
    "    a=int(a)\n",
    "    b=int(b)\n",
    "    f.write(\"%s, %s\"%(a,b))\n",
    "    res=a/b\n",
    "    f.write(\",%s\"%res)\n",
    "except ZeroDivisionError as err:\n",
    "    print err\n",
    "    print \"Dont' enter zero for b value:\"\n",
    "except ValueError as err:\n",
    "    print err\n",
    "    print \"Enter only digits to a,b values.\"\n",
    "    \n",
    "except Exception as err:\n",
    "    print err\n",
    "    print \"something went wrong.\"\n",
    "else:\n",
    "    print \"else block\"\n",
    "finally:\n",
    "    f.close()\n",
    "print \"some other statements \"\n",
    "print \"program ended\""
   ]
  },
  {
   "cell_type": "code",
   "execution_count": null,
   "metadata": {
    "collapsed": false
   },
   "outputs": [
    {
     "name": "stdout",
     "output_type": "stream",
     "text": [
      "Enter a value:12\n",
      "Enter b value:6\n",
      "else block.\n",
      "else block\n",
      "some other statements \n",
      "program ended\n"
     ]
    }
   ],
   "source": [
    "a=raw_input(\"Enter a value:\")\n",
    "b=raw_input(\"Enter b value:\")\n",
    "try:\n",
    "    f=open('data1.csv','r')\n",
    "    data=f.read()\n",
    "except IoError as err:\n",
    "    print err\n",
    "    print \"file not found\"\n",
    "except Exception as err:\n",
    "    print err\n",
    "    print \"something went wrong.\"\n",
    "else:\n",
    "    print \"else block.\"\n",
    "finally:\n",
    "    f.close()\n",
    "    \n",
    "f=open(\"data6.csv\",'w')\n",
    "try:\n",
    "    a=int(a)\n",
    "    b=int(b)\n",
    "    f.write(\"%s, %s\"%(a,b))\n",
    "    res=a/b\n",
    "    f.write(\",%s\"%res)\n",
    "except ZeroDivisionError as err:\n",
    "    print err\n",
    "    print \"Dont' enter zero for b value:\"\n",
    "except ValueError as err:\n",
    "    print err\n",
    "    print \"Enter only digits to a,b values.\"\n",
    "    \n",
    "except Exception as err:\n",
    "    print err\n",
    "    print \"something went wrong.\"\n",
    "else:\n",
    "    print \"else block\"\n",
    "finally:\n",
    "    f.close()\n",
    "print \"some other statements \"\n",
    "print \"program ended\""
   ]
  },
  {
   "cell_type": "code",
   "execution_count": null,
   "metadata": {
    "collapsed": true
   },
   "outputs": [],
   "source": []
  }
 ],
 "metadata": {
  "kernelspec": {
   "display_name": "Python 2",
   "language": "python",
   "name": "python2"
  },
  "language_info": {
   "codemirror_mode": {
    "name": "ipython",
    "version": 2
   },
   "file_extension": ".py",
   "mimetype": "text/x-python",
   "name": "python",
   "nbconvert_exporter": "python",
   "pygments_lexer": "ipython2",
   "version": "2.7.13"
  }
 },
 "nbformat": 4,
 "nbformat_minor": 2
}
