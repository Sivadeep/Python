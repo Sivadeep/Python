{
 "cells": [
  {
   "cell_type": "code",
   "execution_count": 1,
   "metadata": {
    "collapsed": false
   },
   "outputs": [
    {
     "data": {
      "text/plain": [
       "True"
      ]
     },
     "execution_count": 1,
     "metadata": {},
     "output_type": "execute_result"
    }
   ],
   "source": [
    "\"213432423324553\".isdigit()"
   ]
  },
  {
   "cell_type": "code",
   "execution_count": 2,
   "metadata": {
    "collapsed": false
   },
   "outputs": [
    {
     "data": {
      "text/plain": [
       "False"
      ]
     },
     "execution_count": 2,
     "metadata": {},
     "output_type": "execute_result"
    }
   ],
   "source": [
    "\"wqeqw123123!\".isdigit()"
   ]
  },
  {
   "cell_type": "code",
   "execution_count": 3,
   "metadata": {
    "collapsed": false
   },
   "outputs": [
    {
     "name": "stdout",
     "output_type": "stream",
     "text": [
      "sdfsdf\n",
      "sdfsdf\n"
     ]
    }
   ],
   "source": [
    "def fun():\n",
    "    print \"sdfsdf\"\n",
    "a=fun\n",
    "b=fun()\n",
    "a()"
   ]
  },
  {
   "cell_type": "code",
   "execution_count": 4,
   "metadata": {
    "collapsed": false
   },
   "outputs": [
    {
     "name": "stdout",
     "output_type": "stream",
     "text": [
      "None\n"
     ]
    }
   ],
   "source": [
    "print b"
   ]
  },
  {
   "cell_type": "code",
   "execution_count": 6,
   "metadata": {
    "collapsed": false
   },
   "outputs": [
    {
     "name": "stdout",
     "output_type": "stream",
     "text": [
      "a= 1000\n",
      "b= 2000\n",
      "a= 100\n",
      "b="
     ]
    },
    {
     "ename": "NameError",
     "evalue": "name 'b1' is not defined",
     "output_type": "error",
     "traceback": [
      "\u001b[0;31m---------------------------------------------------------------------------\u001b[0m",
      "\u001b[0;31mNameError\u001b[0m                                 Traceback (most recent call last)",
      "\u001b[0;32m<ipython-input-6-771c29ca1929>\u001b[0m in \u001b[0;36m<module>\u001b[0;34m()\u001b[0m\n\u001b[1;32m      7\u001b[0m \u001b[0mfun\u001b[0m\u001b[0;34m(\u001b[0m\u001b[0;34m)\u001b[0m\u001b[0;34m\u001b[0m\u001b[0m\n\u001b[1;32m      8\u001b[0m \u001b[0;32mprint\u001b[0m \u001b[0;34m\"a=\"\u001b[0m\u001b[0;34m,\u001b[0m\u001b[0ma\u001b[0m\u001b[0;34m\u001b[0m\u001b[0m\n\u001b[0;32m----> 9\u001b[0;31m \u001b[0;32mprint\u001b[0m \u001b[0;34m\"b=\"\u001b[0m\u001b[0;34m,\u001b[0m\u001b[0mb1\u001b[0m\u001b[0;34m\u001b[0m\u001b[0m\n\u001b[0m",
      "\u001b[0;31mNameError\u001b[0m: name 'b1' is not defined"
     ]
    }
   ],
   "source": [
    "a=100\n",
    "def fun():\n",
    "    a=1000\n",
    "    print \"a=\",a\n",
    "    b1=2000\n",
    "    print \"b=\",b1\n",
    "fun()\n",
    "print \"a=\",a\n",
    "print \"b=\",b1"
   ]
  },
  {
   "cell_type": "code",
   "execution_count": 7,
   "metadata": {
    "collapsed": false
   },
   "outputs": [
    {
     "name": "stdout",
     "output_type": "stream",
     "text": [
      " a= 10\n",
      "b= 20\n",
      "a= 100\n",
      "b= 200\n"
     ]
    }
   ],
   "source": [
    "def fun(a,b):\n",
    "    print \"a=\",a\n",
    "    print \"b=\",b\n",
    "    c=a+b\n",
    "fun(10,20)\n",
    "fun(100,200)"
   ]
  },
  {
   "cell_type": "code",
   "execution_count": 8,
   "metadata": {
    "collapsed": false
   },
   "outputs": [
    {
     "name": "stdout",
     "output_type": "stream",
     "text": [
      "a= 10\n",
      "b= 20\n",
      "res="
     ]
    },
    {
     "ename": "NameError",
     "evalue": "name 'result' is not defined",
     "output_type": "error",
     "traceback": [
      "\u001b[0;31m---------------------------------------------------------------------------\u001b[0m",
      "\u001b[0;31mNameError\u001b[0m                                 Traceback (most recent call last)",
      "\u001b[0;32m<ipython-input-8-c88b4409d677>\u001b[0m in \u001b[0;36m<module>\u001b[0;34m()\u001b[0m\n\u001b[1;32m      4\u001b[0m     \u001b[0mresult\u001b[0m\u001b[0;34m=\u001b[0m\u001b[0ma\u001b[0m\u001b[0;34m+\u001b[0m\u001b[0mb\u001b[0m\u001b[0;34m\u001b[0m\u001b[0m\n\u001b[1;32m      5\u001b[0m \u001b[0mfun\u001b[0m\u001b[0;34m(\u001b[0m\u001b[0;36m10\u001b[0m\u001b[0;34m,\u001b[0m\u001b[0;36m20\u001b[0m\u001b[0;34m)\u001b[0m\u001b[0;34m\u001b[0m\u001b[0m\n\u001b[0;32m----> 6\u001b[0;31m \u001b[0;32mprint\u001b[0m \u001b[0;34m\"res=\"\u001b[0m\u001b[0;34m,\u001b[0m\u001b[0mresult\u001b[0m\u001b[0;34m\u001b[0m\u001b[0m\n\u001b[0m\u001b[1;32m      7\u001b[0m \u001b[0mfun\u001b[0m\u001b[0;34m(\u001b[0m\u001b[0;36m100\u001b[0m\u001b[0;34m,\u001b[0m\u001b[0;36m200\u001b[0m\u001b[0;34m)\u001b[0m\u001b[0;34m\u001b[0m\u001b[0m\n",
      "\u001b[0;31mNameError\u001b[0m: name 'result' is not defined"
     ]
    }
   ],
   "source": [
    "def fun(a,b):\n",
    "    print \"a=\",a\n",
    "    print \"b=\",b\n",
    "    result=a+b\n",
    "fun(10,20)\n",
    "print \"res=\",result\n",
    "fun(100,200)\n"
   ]
  },
  {
   "cell_type": "code",
   "execution_count": 9,
   "metadata": {
    "collapsed": false
   },
   "outputs": [
    {
     "name": "stdout",
     "output_type": "stream",
     "text": [
      " a= 10\n",
      "b= 20\n",
      "res= return value\n"
     ]
    }
   ],
   "source": [
    "def fun(a,b):\n",
    "    print \"a=\",a\n",
    "    print \"b=\",b\n",
    "    result=a+b\n",
    "    return \"return value\"\n",
    "res = fun(10,20)\n",
    "print \"res=\",res"
   ]
  },
  {
   "cell_type": "code",
   "execution_count": 11,
   "metadata": {
    "collapsed": false
   },
   "outputs": [
    {
     "name": "stdout",
     "output_type": "stream",
     "text": [
      " a= 10\n",
      "b= 20\n",
      "res1= <function fun at 0x7fb38d4fe5f0>\n",
      "res= return value\n"
     ]
    }
   ],
   "source": [
    "def fun(a,b):\n",
    "    print \"a=\",a\n",
    "    print \"b=\",b\n",
    "    result=a+b\n",
    "    return \"return value\"\n",
    "res1=fun\n",
    "res = fun(10,20)\n",
    "print \"res1=\",res1\n",
    "print \"res=\",res"
   ]
  },
  {
   "cell_type": "code",
   "execution_count": 12,
   "metadata": {
    "collapsed": false
   },
   "outputs": [
    {
     "name": "stdout",
     "output_type": "stream",
     "text": [
      "a= 10\n",
      "b= 20\n",
      "res1= <function fun at 0x7fb38d4fe500>\n",
      "res= 30\n"
     ]
    }
   ],
   "source": [
    "def fun(a,b):\n",
    "    print \"a=\",a\n",
    "    print \"b=\",b\n",
    "    result=a+b\n",
    "    return result\n",
    "res1=fun\n",
    "res = fun(10,20)\n",
    "print \"res1=\",res1\n",
    "print \"res=\",res"
   ]
  },
  {
   "cell_type": "code",
   "execution_count": 13,
   "metadata": {
    "collapsed": false
   },
   "outputs": [
    {
     "name": "stdout",
     "output_type": "stream",
     "text": [
      "a= 10\n",
      "b= 20\n",
      "res1= <function fun at 0x7fb38d4fe578>\n",
      "res= 30\n",
      "<type 'function'>\n",
      "<type 'function'>\n",
      "<type 'int'>\n"
     ]
    }
   ],
   "source": [
    "def fun(a,b):\n",
    "    print \"a=\",a\n",
    "    print \"b=\",b\n",
    "    result=a+b\n",
    "    return result\n",
    "res1=fun\n",
    "res = fun(10,20)\n",
    "print \"res1=\",res1\n",
    "print \"res=\",res\n",
    "print type(fun)\n",
    "print type(res1)\n",
    "print type(res)"
   ]
  },
  {
   "cell_type": "code",
   "execution_count": 14,
   "metadata": {
    "collapsed": false
   },
   "outputs": [
    {
     "name": "stdout",
     "output_type": "stream",
     "text": [
      "res= 30\n",
      "res1= 60\n"
     ]
    }
   ],
   "source": [
    "def fun(a,b):\n",
    "    return a+b\n",
    "def fun1(a,b,c):\n",
    "    return a+b+c\n",
    "res=fun(10,20)\n",
    "res1=fun1(10,20,30)\n",
    "print \"res=\",res\n",
    "print \"res1=\",res1"
   ]
  },
  {
   "cell_type": "code",
   "execution_count": 15,
   "metadata": {
    "collapsed": false
   },
   "outputs": [
    {
     "ename": "TypeError",
     "evalue": "fun() takes exactly 2 arguments (3 given)",
     "output_type": "error",
     "traceback": [
      "\u001b[0;31m---------------------------------------------------------------------------\u001b[0m",
      "\u001b[0;31mTypeError\u001b[0m                                 Traceback (most recent call last)",
      "\u001b[0;32m<ipython-input-15-71ea3304560f>\u001b[0m in \u001b[0;36m<module>\u001b[0;34m()\u001b[0m\n\u001b[1;32m      3\u001b[0m \u001b[0;32mdef\u001b[0m \u001b[0mfun1\u001b[0m\u001b[0;34m(\u001b[0m\u001b[0ma\u001b[0m\u001b[0;34m,\u001b[0m\u001b[0mb\u001b[0m\u001b[0;34m,\u001b[0m\u001b[0mc\u001b[0m\u001b[0;34m)\u001b[0m\u001b[0;34m:\u001b[0m\u001b[0;34m\u001b[0m\u001b[0m\n\u001b[1;32m      4\u001b[0m     \u001b[0;32mreturn\u001b[0m \u001b[0ma\u001b[0m\u001b[0;34m+\u001b[0m\u001b[0mb\u001b[0m\u001b[0;34m+\u001b[0m\u001b[0mc\u001b[0m\u001b[0;34m\u001b[0m\u001b[0m\n\u001b[0;32m----> 5\u001b[0;31m \u001b[0mres\u001b[0m\u001b[0;34m=\u001b[0m\u001b[0mfun\u001b[0m\u001b[0;34m(\u001b[0m\u001b[0;36m10\u001b[0m\u001b[0;34m,\u001b[0m\u001b[0;36m20\u001b[0m\u001b[0;34m,\u001b[0m\u001b[0;36m30\u001b[0m\u001b[0;34m)\u001b[0m\u001b[0;34m\u001b[0m\u001b[0m\n\u001b[0m\u001b[1;32m      6\u001b[0m \u001b[0mres1\u001b[0m\u001b[0;34m=\u001b[0m\u001b[0mfun1\u001b[0m\u001b[0;34m(\u001b[0m\u001b[0;36m10\u001b[0m\u001b[0;34m,\u001b[0m\u001b[0;36m20\u001b[0m\u001b[0;34m,\u001b[0m\u001b[0;36m30\u001b[0m\u001b[0;34m)\u001b[0m\u001b[0;34m\u001b[0m\u001b[0m\n\u001b[1;32m      7\u001b[0m \u001b[0;32mprint\u001b[0m \u001b[0;34m\"res=\"\u001b[0m\u001b[0;34m,\u001b[0m\u001b[0mres\u001b[0m\u001b[0;34m\u001b[0m\u001b[0m\n",
      "\u001b[0;31mTypeError\u001b[0m: fun() takes exactly 2 arguments (3 given)"
     ]
    }
   ],
   "source": [
    "def fun(a,b):\n",
    "    return a+b\n",
    "def fun1(a,b,c):\n",
    "    return a+b+c\n",
    "res=fun(10,20,30)\n",
    "res1=fun1(10,20,30)\n",
    "print \"res=\",res\n",
    "print \"res1=\",res1"
   ]
  },
  {
   "cell_type": "code",
   "execution_count": 16,
   "metadata": {
    "collapsed": false
   },
   "outputs": [
    {
     "ename": "TypeError",
     "evalue": "fun1() takes exactly 3 arguments (2 given)",
     "output_type": "error",
     "traceback": [
      "\u001b[0;31m---------------------------------------------------------------------------\u001b[0m",
      "\u001b[0;31mTypeError\u001b[0m                                 Traceback (most recent call last)",
      "\u001b[0;32m<ipython-input-16-c62add88b3bb>\u001b[0m in \u001b[0;36m<module>\u001b[0;34m()\u001b[0m\n\u001b[1;32m      4\u001b[0m     \u001b[0;32mreturn\u001b[0m \u001b[0ma\u001b[0m\u001b[0;34m+\u001b[0m\u001b[0mb\u001b[0m\u001b[0;34m+\u001b[0m\u001b[0mc\u001b[0m\u001b[0;34m\u001b[0m\u001b[0m\n\u001b[1;32m      5\u001b[0m \u001b[0mres\u001b[0m\u001b[0;34m=\u001b[0m\u001b[0mfun\u001b[0m\u001b[0;34m(\u001b[0m\u001b[0;36m10\u001b[0m\u001b[0;34m,\u001b[0m\u001b[0;36m20\u001b[0m\u001b[0;34m)\u001b[0m\u001b[0;34m\u001b[0m\u001b[0m\n\u001b[0;32m----> 6\u001b[0;31m \u001b[0mres1\u001b[0m\u001b[0;34m=\u001b[0m\u001b[0mfun1\u001b[0m\u001b[0;34m(\u001b[0m\u001b[0;36m10\u001b[0m\u001b[0;34m,\u001b[0m\u001b[0;36m20\u001b[0m\u001b[0;34m)\u001b[0m\u001b[0;34m\u001b[0m\u001b[0m\n\u001b[0m\u001b[1;32m      7\u001b[0m \u001b[0;32mprint\u001b[0m \u001b[0;34m\"res=\"\u001b[0m\u001b[0;34m,\u001b[0m\u001b[0mres\u001b[0m\u001b[0;34m\u001b[0m\u001b[0m\n\u001b[1;32m      8\u001b[0m \u001b[0;32mprint\u001b[0m \u001b[0;34m\"res1=\"\u001b[0m\u001b[0;34m,\u001b[0m\u001b[0mres1\u001b[0m\u001b[0;34m\u001b[0m\u001b[0m\n",
      "\u001b[0;31mTypeError\u001b[0m: fun1() takes exactly 3 arguments (2 given)"
     ]
    }
   ],
   "source": [
    "def fun(a,b):\n",
    "    return a+b\n",
    "def fun1(a,b,c):\n",
    "    return a+b+c\n",
    "res=fun(10,20)\n",
    "res1=fun1(10,20)\n",
    "print \"res=\",res\n",
    "print \"res1=\",res1"
   ]
  },
  {
   "cell_type": "code",
   "execution_count": 17,
   "metadata": {
    "collapsed": false
   },
   "outputs": [
    {
     "name": "stdout",
     "output_type": "stream",
     "text": [
      "10\n"
     ]
    },
    {
     "ename": "TypeError",
     "evalue": "add() takes exactly 1 argument (2 given)",
     "output_type": "error",
     "traceback": [
      "\u001b[0;31m---------------------------------------------------------------------------\u001b[0m",
      "\u001b[0;31mTypeError\u001b[0m                                 Traceback (most recent call last)",
      "\u001b[0;32m<ipython-input-17-0171e40da4c0>\u001b[0m in \u001b[0;36m<module>\u001b[0;34m()\u001b[0m\n\u001b[1;32m      2\u001b[0m     \u001b[0;32mreturn\u001b[0m \u001b[0ma\u001b[0m\u001b[0;34m+\u001b[0m\u001b[0;36m0\u001b[0m\u001b[0;34m\u001b[0m\u001b[0m\n\u001b[1;32m      3\u001b[0m \u001b[0;32mprint\u001b[0m \u001b[0madd\u001b[0m\u001b[0;34m(\u001b[0m\u001b[0;36m10\u001b[0m\u001b[0;34m)\u001b[0m\u001b[0;34m\u001b[0m\u001b[0m\n\u001b[0;32m----> 4\u001b[0;31m \u001b[0;32mprint\u001b[0m \u001b[0madd\u001b[0m\u001b[0;34m(\u001b[0m\u001b[0;36m10\u001b[0m\u001b[0;34m,\u001b[0m\u001b[0;36m20\u001b[0m\u001b[0;34m)\u001b[0m\u001b[0;34m\u001b[0m\u001b[0m\n\u001b[0m",
      "\u001b[0;31mTypeError\u001b[0m: add() takes exactly 1 argument (2 given)"
     ]
    }
   ],
   "source": [
    "def add(a):\n",
    "    return a+0\n",
    "print add(10)\n",
    "print add(10,20)"
   ]
  },
  {
   "cell_type": "code",
   "execution_count": 18,
   "metadata": {
    "collapsed": false
   },
   "outputs": [
    {
     "name": "stdout",
     "output_type": "stream",
     "text": [
      "150\n"
     ]
    },
    {
     "ename": "TypeError",
     "evalue": "add() takes exactly 5 arguments (2 given)",
     "output_type": "error",
     "traceback": [
      "\u001b[0;31m---------------------------------------------------------------------------\u001b[0m",
      "\u001b[0;31mTypeError\u001b[0m                                 Traceback (most recent call last)",
      "\u001b[0;32m<ipython-input-18-07d61367563d>\u001b[0m in \u001b[0;36m<module>\u001b[0;34m()\u001b[0m\n\u001b[1;32m      2\u001b[0m     \u001b[0;32mreturn\u001b[0m \u001b[0ma\u001b[0m\u001b[0;34m+\u001b[0m\u001b[0mb\u001b[0m\u001b[0;34m+\u001b[0m\u001b[0mc\u001b[0m\u001b[0;34m+\u001b[0m\u001b[0md\u001b[0m\u001b[0;34m+\u001b[0m\u001b[0me\u001b[0m\u001b[0;34m\u001b[0m\u001b[0m\n\u001b[1;32m      3\u001b[0m \u001b[0;32mprint\u001b[0m \u001b[0madd\u001b[0m\u001b[0;34m(\u001b[0m\u001b[0;36m10\u001b[0m\u001b[0;34m,\u001b[0m\u001b[0;36m20\u001b[0m\u001b[0;34m,\u001b[0m\u001b[0;36m30\u001b[0m\u001b[0;34m,\u001b[0m\u001b[0;36m40\u001b[0m\u001b[0;34m,\u001b[0m\u001b[0;36m50\u001b[0m\u001b[0;34m)\u001b[0m\u001b[0;34m\u001b[0m\u001b[0m\n\u001b[0;32m----> 4\u001b[0;31m \u001b[0;32mprint\u001b[0m \u001b[0madd\u001b[0m\u001b[0;34m(\u001b[0m\u001b[0;36m10\u001b[0m\u001b[0;34m,\u001b[0m\u001b[0;36m20\u001b[0m\u001b[0;34m)\u001b[0m\u001b[0;34m\u001b[0m\u001b[0m\n\u001b[0m",
      "\u001b[0;31mTypeError\u001b[0m: add() takes exactly 5 arguments (2 given)"
     ]
    }
   ],
   "source": [
    "def add(a,b,c,d,e):\n",
    "    return a+b+c+d+e\n",
    "print add(10,20,30,40,50)\n",
    "print add(10,20)"
   ]
  },
  {
   "cell_type": "code",
   "execution_count": 19,
   "metadata": {
    "collapsed": false
   },
   "outputs": [
    {
     "name": "stdout",
     "output_type": "stream",
     "text": [
      "a=10, b=20,c=30,d=40,e=50\n",
      "150\n",
      "a=10, b=20,c=0,d=0,e=0\n",
      "30\n"
     ]
    }
   ],
   "source": [
    "# defalut aparameter\n",
    "def add(a,b=0,c=0,d=0,e=0):\n",
    "    print \"a=%s, b=%s,c=%s,d=%s,e=%s\"%(a,b,c,d,e)\n",
    "    return a+b+c+d+e\n",
    "print add(10,20,30,40,50)\n",
    "print add(10,20)"
   ]
  },
  {
   "cell_type": "code",
   "execution_count": 20,
   "metadata": {
    "collapsed": false
   },
   "outputs": [
    {
     "name": "stdout",
     "output_type": "stream",
     "text": [
      "a=10, b=20,c=30,d=40,e=50\n",
      "150\n",
      "a=10, b=20,c=0,d=0,e=0\n",
      "30\n"
     ]
    }
   ],
   "source": [
    "# defalut aparameter\n",
    "def add(a=0,b=0,c=0,d=0,e=0):\n",
    "    print \"a=%s, b=%s,c=%s,d=%s,e=%s\"%(a,b,c,d,e)\n",
    "    return a+b+c+d+e\n",
    "print add(10,20,30,40,50)\n",
    "print add(10,20)"
   ]
  },
  {
   "cell_type": "code",
   "execution_count": 21,
   "metadata": {
    "collapsed": false
   },
   "outputs": [
    {
     "name": "stdout",
     "output_type": "stream",
     "text": [
      "a=100, b=200,c=0,d=0,e=0\n",
      "300\n"
     ]
    }
   ],
   "source": [
    "# defalut aparameter\n",
    "def add(a, b=0,c=0,d=0,e=0):\n",
    "    print \"a=%s, b=%s,c=%s,d=%s,e=%s\"%(a,b,c,d,e)\n",
    "    return a+b+c+d+e\n",
    "print add(100,200)"
   ]
  },
  {
   "cell_type": "code",
   "execution_count": 22,
   "metadata": {
    "collapsed": false
   },
   "outputs": [
    {
     "name": "stdout",
     "output_type": "stream",
     "text": [
      "a=100, b=0,c=200,d=0,e=0\n",
      "300\n"
     ]
    }
   ],
   "source": [
    "# defalut aparameter\n",
    "def add(a, b=0,c=0,d=0,e=0):\n",
    "    print \"a=%s, b=%s,c=%s,d=%s,e=%s\"%(a,b,c,d,e)\n",
    "    return a+b+c+d+e\n",
    "print add(100,0,200)"
   ]
  },
  {
   "cell_type": "code",
   "execution_count": 24,
   "metadata": {
    "collapsed": false
   },
   "outputs": [],
   "source": [
    "import pandas as pd\n",
    "pd.read_csv?"
   ]
  },
  {
   "cell_type": "code",
   "execution_count": 25,
   "metadata": {
    "collapsed": false
   },
   "outputs": [
    {
     "name": "stdout",
     "output_type": "stream",
     "text": [
      "a=100, b=0,c=200,d=0,e=0\n",
      "300\n"
     ]
    }
   ],
   "source": [
    "# keyword arguments.\n",
    "def add(a, b=0,c=0,d=0,e=0):\n",
    "    print \"a=%s, b=%s,c=%s,d=%s,e=%s\"%(a,b,c,d,e)\n",
    "    return a+b+c+d+e\n",
    "print add(a=100,c=200)"
   ]
  },
  {
   "cell_type": "code",
   "execution_count": 26,
   "metadata": {
    "collapsed": false
   },
   "outputs": [
    {
     "name": "stdout",
     "output_type": "stream",
     "text": [
      "a=100, b=0,c=200,d=0,e=0\n",
      "300\n"
     ]
    }
   ],
   "source": [
    "# keyword arguments.\n",
    "def add(a, b=0,c=0,d=0,e=0):\n",
    "    print \"a=%s, b=%s,c=%s,d=%s,e=%s\"%(a,b,c,d,e)\n",
    "    return a+b+c+d+e\n",
    "print add(100,c=200)"
   ]
  },
  {
   "cell_type": "code",
   "execution_count": 27,
   "metadata": {
    "collapsed": false
   },
   "outputs": [
    {
     "name": "stdout",
     "output_type": "stream",
     "text": [
      "a=200, b=0,c=100,d=0,e=0\n",
      "300\n"
     ]
    }
   ],
   "source": [
    "# keyword arguments.\n",
    "def add(a, b=0,c=0,d=0,e=0):\n",
    "    print \"a=%s, b=%s,c=%s,d=%s,e=%s\"%(a,b,c,d,e)\n",
    "    return a+b+c+d+e\n",
    "print add(c=100,a=200)"
   ]
  },
  {
   "cell_type": "code",
   "execution_count": 28,
   "metadata": {
    "collapsed": false
   },
   "outputs": [
    {
     "name": "stdout",
     "output_type": "stream",
     "text": [
      "a=200, b=0,c=100,d=0,e=0\n",
      "300\n",
      "a=10, b=20,c=300,d=40,e=300\n",
      "670\n"
     ]
    }
   ],
   "source": [
    "# keyword arguments.\n",
    "def add(a, b=0,c=0,d=0,e=0):\n",
    "    print \"a=%s, b=%s,c=%s,d=%s,e=%s\"%(a,b,c,d,e)\n",
    "    return a+b+c+d+e\n",
    "print add(c=100,a=200)\n",
    "print add(e=300,a=10,b=20,d=40,c=300)"
   ]
  },
  {
   "cell_type": "code",
   "execution_count": 29,
   "metadata": {
    "collapsed": false
   },
   "outputs": [
    {
     "ename": "SyntaxError",
     "evalue": "keyword argument repeated (<ipython-input-29-21f22dbff4e7>, line 6)",
     "output_type": "error",
     "traceback": [
      "\u001b[0;36m  File \u001b[0;32m\"<ipython-input-29-21f22dbff4e7>\"\u001b[0;36m, line \u001b[0;32m6\u001b[0m\n\u001b[0;31m    print add(e=300,a=10,b=20,d=40,c=300,e=5000)\u001b[0m\n\u001b[0;31mSyntaxError\u001b[0m\u001b[0;31m:\u001b[0m keyword argument repeated\n"
     ]
    }
   ],
   "source": [
    "# keyword arguments.\n",
    "def add(a, b=0,c=0,d=0,e=0):\n",
    "    print \"a=%s, b=%s,c=%s,d=%s,e=%s\"%(a,b,c,d,e)\n",
    "    return a+b+c+d+e\n",
    "print add(c=100,a=200)\n",
    "print add(e=300,a=10,b=20,d=40,c=300,e=5000)"
   ]
  },
  {
   "cell_type": "code",
   "execution_count": 30,
   "metadata": {
    "collapsed": false
   },
   "outputs": [
    {
     "name": "stdout",
     "output_type": "stream",
     "text": [
      "a=10,b=20,c=300\n",
      "330\n"
     ]
    }
   ],
   "source": [
    "def add(a,b,c=30):\n",
    "    print \"a=%s,b=%s,c=%s\"%(a,b,c)\n",
    "    return a+b+c\n",
    "print add(10,20,300)"
   ]
  },
  {
   "cell_type": "code",
   "execution_count": 31,
   "metadata": {
    "collapsed": false
   },
   "outputs": [
    {
     "ename": "SyntaxError",
     "evalue": "non-default argument follows default argument (<ipython-input-31-387c7dbf7505>, line 1)",
     "output_type": "error",
     "traceback": [
      "\u001b[0;36m  File \u001b[0;32m\"<ipython-input-31-387c7dbf7505>\"\u001b[0;36m, line \u001b[0;32m1\u001b[0m\n\u001b[0;31m    def add(a,b=40,c):\u001b[0m\n\u001b[0;31mSyntaxError\u001b[0m\u001b[0;31m:\u001b[0m non-default argument follows default argument\n"
     ]
    }
   ],
   "source": [
    "def add(a,b=40,c):\n",
    "    print \"a=%s,b=%s,c=%s\"%(a,b,c)\n",
    "    return a+b+c\n",
    "print add(10,20,300)"
   ]
  },
  {
   "cell_type": "code",
   "execution_count": 32,
   "metadata": {
    "collapsed": false
   },
   "outputs": [
    {
     "name": "stdout",
     "output_type": "stream",
     "text": [
      "a=10,b=300,c=20\n",
      "330\n"
     ]
    }
   ],
   "source": [
    "def add(a,c,b=200):\n",
    "    print \"a=%s,b=%s,c=%s\"%(a,b,c)\n",
    "    return a+b+c\n",
    "print add(10,20,300)"
   ]
  },
  {
   "cell_type": "code",
   "execution_count": 33,
   "metadata": {
    "collapsed": false
   },
   "outputs": [
    {
     "ename": "SyntaxError",
     "evalue": "non-keyword arg after keyword arg (<ipython-input-33-330eeb813a1a>, line 5)",
     "output_type": "error",
     "traceback": [
      "\u001b[0;36m  File \u001b[0;32m\"<ipython-input-33-330eeb813a1a>\"\u001b[0;36m, line \u001b[0;32m5\u001b[0m\n\u001b[0;31m    print add(b=500,100,200)\u001b[0m\n\u001b[0;31mSyntaxError\u001b[0m\u001b[0;31m:\u001b[0m non-keyword arg after keyword arg\n"
     ]
    }
   ],
   "source": [
    "def add(a,c,b=200):\n",
    "    print \"a=%s,b=%s,c=%s\"%(a,b,c)\n",
    "    return a+b+c\n",
    "print add(a=200,b=300,c=400)\n",
    "print add(b=500,100,200)"
   ]
  },
  {
   "cell_type": "code",
   "execution_count": 34,
   "metadata": {
    "collapsed": false
   },
   "outputs": [
    {
     "name": "stdout",
     "output_type": "stream",
     "text": [
      "a=200,b=300,c=400\n",
      "900\n"
     ]
    }
   ],
   "source": [
    "def add(a,c,b=200):\n",
    "    print \"a=%s,b=%s,c=%s\"%(a,b,c)\n",
    "    return a+b+c\n",
    "print add(a=200,b=300,c=400)\n"
   ]
  },
  {
   "cell_type": "code",
   "execution_count": 35,
   "metadata": {
    "collapsed": false
   },
   "outputs": [
    {
     "name": "stdout",
     "output_type": "stream",
     "text": [
      "id(a1)= 18229200\n",
      "id(b1)= 18232776\n",
      "id(a)= 18229200\n",
      "id(b)= 18232776\n"
     ]
    }
   ],
   "source": [
    "a1=100\n",
    "b1=200\n",
    "print \"id(a1)=\",id(a1)\n",
    "print \"id(b1)=\",id(b1)\n",
    "\n",
    "def fun(a,b):\n",
    "    print \"id(a)=\",id(a)\n",
    "    print \"id(b)=\",id(b)\n",
    "fun(a1,b1)"
   ]
  },
  {
   "cell_type": "code",
   "execution_count": 36,
   "metadata": {
    "collapsed": false
   },
   "outputs": [
    {
     "name": "stdout",
     "output_type": "stream",
     "text": [
      "id(a1)= 18229200\n",
      "id(b1)= 18232776\n",
      "id(a)= 18229200\n",
      "id(b)= 18232776\n"
     ]
    }
   ],
   "source": [
    "a1=100\n",
    "b1=200\n",
    "a=100\n",
    "b=200\n",
    "print \"id(a1)=\",id(a1)\n",
    "print \"id(b1)=\",id(b1)\n",
    "print \"id(a)=\",id(a)\n",
    "print \"id(b)=\",id(b)\n"
   ]
  },
  {
   "cell_type": "code",
   "execution_count": 37,
   "metadata": {
    "collapsed": false
   },
   "outputs": [
    {
     "name": "stdout",
     "output_type": "stream",
     "text": [
      "id(a1)= 33638608\n",
      "id(b1)= 33638920\n",
      "id(a)= 33638800\n",
      "id(b)= 33638968\n"
     ]
    }
   ],
   "source": [
    "a1=1000\n",
    "b1=2000\n",
    "a=1000\n",
    "b=2000\n",
    "print \"id(a1)=\",id(a1)\n",
    "print \"id(b1)=\",id(b1)\n",
    "print \"id(a)=\",id(a)\n",
    "print \"id(b)=\",id(b)\n"
   ]
  },
  {
   "cell_type": "code",
   "execution_count": 38,
   "metadata": {
    "collapsed": false
   },
   "outputs": [
    {
     "name": "stdout",
     "output_type": "stream",
     "text": [
      "id(a1)= 33639040\n",
      "id(b1)= 33638560\n",
      "id(a)= 33639040\n",
      "id(b)= 33638560\n"
     ]
    }
   ],
   "source": [
    "a1=1000\n",
    "b1=2000\n",
    "a=a1\n",
    "b=b1\n",
    "print \"id(a1)=\",id(a1)\n",
    "print \"id(b1)=\",id(b1)\n",
    "print \"id(a)=\",id(a)\n",
    "print \"id(b)=\",id(b)\n"
   ]
  },
  {
   "cell_type": "code",
   "execution_count": 39,
   "metadata": {
    "collapsed": false
   },
   "outputs": [
    {
     "name": "stdout",
     "output_type": "stream",
     "text": [
      "id(a1)= 33638800\n",
      "id(b1)= 33638920\n",
      "id(a)= 33638800\n",
      "id(b)= 33638920\n"
     ]
    }
   ],
   "source": [
    "a1=1000\n",
    "b1=2000\n",
    "print \"id(a1)=\",id(a1)\n",
    "print \"id(b1)=\",id(b1)\n",
    "\n",
    "def fun(a,b):\n",
    "    print \"id(a)=\",id(a)\n",
    "    print \"id(b)=\",id(b)\n",
    "fun(a1,b1)"
   ]
  },
  {
   "cell_type": "code",
   "execution_count": null,
   "metadata": {
    "collapsed": true
   },
   "outputs": [],
   "source": [
    "a1=1000\n",
    "b1=2000\n",
    "print \"id(a1)=\",id(a1)\n",
    "print \"id(b1)=\",id(b1)\n",
    "\n",
    "def fun(a,b):\n",
    "    print \"id(a)=\",id(a)\n",
    "    print \"id(b)=\",id(b)\n",
    "    a=a+200\n",
    "    \n",
    "fun(a1,b1)"
   ]
  },
  {
   "cell_type": "code",
   "execution_count": 40,
   "metadata": {
    "collapsed": false
   },
   "outputs": [
    {
     "name": "stdout",
     "output_type": "stream",
     "text": [
      "140408564934776\n",
      "140408564934776\n",
      "140408595955224\n"
     ]
    }
   ],
   "source": [
    "l=[1,2,3,4]\n",
    "l1=l\n",
    "l2=[1,2,3,4]\n",
    "print id(l)\n",
    "print id(l1)\n",
    "print id(l2)"
   ]
  },
  {
   "cell_type": "code",
   "execution_count": 41,
   "metadata": {
    "collapsed": false
   },
   "outputs": [
    {
     "name": "stdout",
     "output_type": "stream",
     "text": [
      "[1, 2, 3, 4]\n",
      "[1, 2, 3, 4, 100]\n",
      "[1, 2, 3, 4, 100]\n"
     ]
    }
   ],
   "source": [
    "l.append(100)\n",
    "print l2\n",
    "print l1\n",
    "print l"
   ]
  },
  {
   "cell_type": "code",
   "execution_count": 42,
   "metadata": {
    "collapsed": false
   },
   "outputs": [
    {
     "name": "stdout",
     "output_type": "stream",
     "text": [
      "before calling: [10, 20, 30, 40]\n",
      "after calling: [10, 20, 30, 40, 100]\n"
     ]
    }
   ],
   "source": [
    "l1=[10,20,30,40]\n",
    "def fun(l):\n",
    "    l.append(100)\n",
    "print \"before calling:\",l1\n",
    "fun(l1)\n",
    "print \"after calling:\",l1\n"
   ]
  },
  {
   "cell_type": "code",
   "execution_count": null,
   "metadata": {
    "collapsed": true
   },
   "outputs": [],
   "source": [
    "l=[1,2,3,4]\n",
    "l1=l\n",
    "l2=[1,2,3,4]"
   ]
  },
  {
   "cell_type": "code",
   "execution_count": 43,
   "metadata": {
    "collapsed": false
   },
   "outputs": [
    {
     "name": "stdout",
     "output_type": "stream",
     "text": [
      "st1\n",
      "a=100\n"
     ]
    }
   ],
   "source": [
    "def fun():\n",
    "    print \"st1\"\n",
    "    return 100\n",
    "    print \"st2\"\n",
    "    return 3000\n",
    "a=fun()\n",
    "print \"a=%s\"%a"
   ]
  },
  {
   "cell_type": "code",
   "execution_count": 44,
   "metadata": {
    "collapsed": false
   },
   "outputs": [
    {
     "name": "stdout",
     "output_type": "stream",
     "text": [
      "<generator object fun at 0x7fb36a7a3a00>\n"
     ]
    }
   ],
   "source": [
    "def fun():\n",
    "    print \"st1\"\n",
    "    yield 100\n",
    "    print \"st2\"\n",
    "    yield 3000\n",
    "a=fun()\n",
    "print a"
   ]
  },
  {
   "cell_type": "code",
   "execution_count": 45,
   "metadata": {
    "collapsed": false
   },
   "outputs": [
    {
     "name": "stdout",
     "output_type": "stream",
     "text": [
      "st1\n"
     ]
    },
    {
     "data": {
      "text/plain": [
       "100"
      ]
     },
     "execution_count": 45,
     "metadata": {},
     "output_type": "execute_result"
    }
   ],
   "source": [
    "a.next()"
   ]
  },
  {
   "cell_type": "code",
   "execution_count": 46,
   "metadata": {
    "collapsed": false
   },
   "outputs": [
    {
     "name": "stdout",
     "output_type": "stream",
     "text": [
      "st2\n"
     ]
    },
    {
     "data": {
      "text/plain": [
       "3000"
      ]
     },
     "execution_count": 46,
     "metadata": {},
     "output_type": "execute_result"
    }
   ],
   "source": [
    "a.next()"
   ]
  },
  {
   "cell_type": "code",
   "execution_count": null,
   "metadata": {
    "collapsed": true
   },
   "outputs": [],
   "source": [
    "9676622023"
   ]
  }
 ],
 "metadata": {
  "kernelspec": {
   "display_name": "Python 2",
   "language": "python",
   "name": "python2"
  },
  "language_info": {
   "codemirror_mode": {
    "name": "ipython",
    "version": 2
   },
   "file_extension": ".py",
   "mimetype": "text/x-python",
   "name": "python",
   "nbconvert_exporter": "python",
   "pygments_lexer": "ipython2",
   "version": "2.7.13"
  }
 },
 "nbformat": 4,
 "nbformat_minor": 2
}
