{
 "cells": [
  {
   "cell_type": "code",
   "execution_count": 1,
   "metadata": {
    "collapsed": false
   },
   "outputs": [
    {
     "name": "stdout",
     "output_type": "stream",
     "text": [
      "program started\n",
      "else block started\n",
      "b is big\n",
      "else block ended\n",
      "other statements\n",
      "program ended\n"
     ]
    }
   ],
   "source": [
    "print \"program started\"\n",
    "a=10\n",
    "b=20\n",
    "if a>b:\n",
    "    print \"if block started\"\n",
    "    print \"a is big\"\n",
    "    print \"if block ended\"\n",
    "else:\n",
    "    print \"else block started\"\n",
    "    print \"b is big\"\n",
    "    print \"else block ended\"\n",
    "print \"other statements\"\n",
    "print \"program ended\""
   ]
  },
  {
   "cell_type": "code",
   "execution_count": 2,
   "metadata": {
    "collapsed": false
   },
   "outputs": [
    {
     "name": "stdout",
     "output_type": "stream",
     "text": [
      "program started\n",
      "if block started\n",
      "a is big\n",
      "if block ended\n",
      "other statements\n",
      "program ended\n"
     ]
    }
   ],
   "source": [
    "print \"program started\"\n",
    "a=100\n",
    "b=20\n",
    "if a>b:\n",
    "    print \"if block started\"\n",
    "    print \"a is big\"\n",
    "    print \"if block ended\"\n",
    "else:\n",
    "    print \"else block started\"\n",
    "    print \"b is big\"\n",
    "    print \"else block ended\"\n",
    "print \"other statements\"\n",
    "print \"program ended\""
   ]
  },
  {
   "cell_type": "code",
   "execution_count": 3,
   "metadata": {
    "collapsed": false
   },
   "outputs": [
    {
     "name": "stdout",
     "output_type": "stream",
     "text": [
      "program started\n",
      "if block started\n",
      "a is big\n",
      "if block ended\n",
      "other statements\n",
      "program ended\n"
     ]
    }
   ],
   "source": [
    "print \"program started\"\n",
    "a=100\n",
    "b=20\n",
    "if a>b:\n",
    "    print \"if block started\"\n",
    "    print \"a is big\"\n",
    "    print \"if block ended\"\n",
    "print \"other statements\"\n",
    "print \"program ended\""
   ]
  },
  {
   "cell_type": "code",
   "execution_count": 4,
   "metadata": {
    "collapsed": false
   },
   "outputs": [
    {
     "name": "stdout",
     "output_type": "stream",
     "text": [
      "program started\n",
      "other statements\n",
      "program ended\n"
     ]
    }
   ],
   "source": [
    "print \"program started\"\n",
    "a=10\n",
    "b=20\n",
    "if a>b:\n",
    "    print \"if block started\"\n",
    "    print \"a is big\"\n",
    "    print \"if block ended\"\n",
    "print \"other statements\"\n",
    "print \"program ended\""
   ]
  },
  {
   "cell_type": "code",
   "execution_count": 5,
   "metadata": {
    "collapsed": false
   },
   "outputs": [
    {
     "name": "stdout",
     "output_type": "stream",
     "text": [
      "program started\n",
      "if block ended\n",
      "other statements\n",
      "program ended\n"
     ]
    }
   ],
   "source": [
    "print \"program started\"\n",
    "a=10\n",
    "b=20\n",
    "if a>b:\n",
    "    print \"if block started\"\n",
    "    print \"a is big\"\n",
    "print \"if block ended\"\n",
    "print \"other statements\"\n",
    "print \"program ended\""
   ]
  },
  {
   "cell_type": "code",
   "execution_count": 6,
   "metadata": {
    "collapsed": false
   },
   "outputs": [
    {
     "ename": "IndentationError",
     "evalue": "unindent does not match any outer indentation level (<ipython-input-6-d7c0b39c39b7>, line 7)",
     "output_type": "error",
     "traceback": [
      "\u001b[0;36m  File \u001b[0;32m\"<ipython-input-6-d7c0b39c39b7>\"\u001b[0;36m, line \u001b[0;32m7\u001b[0m\n\u001b[0;31m    print \"if block ended\"\u001b[0m\n\u001b[0m                          ^\u001b[0m\n\u001b[0;31mIndentationError\u001b[0m\u001b[0;31m:\u001b[0m unindent does not match any outer indentation level\n"
     ]
    }
   ],
   "source": [
    "print \"program started\"\n",
    "a=100\n",
    "b=20\n",
    "if a>b:\n",
    "    print \"if block started\"\n",
    "    print \"a is big\"\n",
    " print \"if block ended\"\n",
    "else:\n",
    "    print \"else block started\"\n",
    "    print \"b is big\"\n",
    "    print \"else block ended\"\n",
    "print \"other statements\"\n",
    "print \"program ended\""
   ]
  },
  {
   "cell_type": "code",
   "execution_count": 7,
   "metadata": {
    "collapsed": false
   },
   "outputs": [
    {
     "ename": "IndentationError",
     "evalue": "unexpected indent (<ipython-input-7-0127c326531b>, line 7)",
     "output_type": "error",
     "traceback": [
      "\u001b[0;36m  File \u001b[0;32m\"<ipython-input-7-0127c326531b>\"\u001b[0;36m, line \u001b[0;32m7\u001b[0m\n\u001b[0;31m    print \"if block ended\"\u001b[0m\n\u001b[0m    ^\u001b[0m\n\u001b[0;31mIndentationError\u001b[0m\u001b[0;31m:\u001b[0m unexpected indent\n"
     ]
    }
   ],
   "source": [
    "print \"program started\"\n",
    "a=100\n",
    "b=20\n",
    "if a>b:\n",
    "    print \"if block started\"\n",
    "    print \"a is big\"\n",
    "     print \"if block ended\"\n",
    "else:\n",
    "    print \"else block started\"\n",
    "    print \"b is big\"\n",
    "    print \"else block ended\"\n",
    "print \"other statements\"\n",
    "print \"program ended\""
   ]
  },
  {
   "cell_type": "code",
   "execution_count": 8,
   "metadata": {
    "collapsed": false
   },
   "outputs": [
    {
     "name": "stdout",
     "output_type": "stream",
     "text": [
      "program started\n",
      "if block started\n",
      "a is big\n",
      "if block ended\n",
      "other statements\n",
      "program ended\n"
     ]
    }
   ],
   "source": [
    "print \"program started\"\n",
    "a=100\n",
    "b=20\n",
    "if a>b:\n",
    " print \"if block started\"\n",
    " print \"a is big\"\n",
    " print \"if block ended\"\n",
    "else:\n",
    "    print \"else block started\"\n",
    "    print \"b is big\"\n",
    "    print \"else block ended\"\n",
    "print \"other statements\"\n",
    "print \"program ended\""
   ]
  },
  {
   "cell_type": "code",
   "execution_count": 9,
   "metadata": {
    "collapsed": false
   },
   "outputs": [
    {
     "ename": "SyntaxError",
     "evalue": "invalid syntax (<ipython-input-9-9d3ab8a71739>, line 8)",
     "output_type": "error",
     "traceback": [
      "\u001b[0;36m  File \u001b[0;32m\"<ipython-input-9-9d3ab8a71739>\"\u001b[0;36m, line \u001b[0;32m8\u001b[0m\n\u001b[0;31m    else:\u001b[0m\n\u001b[0m       ^\u001b[0m\n\u001b[0;31mSyntaxError\u001b[0m\u001b[0;31m:\u001b[0m invalid syntax\n"
     ]
    }
   ],
   "source": [
    "print \"program started\"\n",
    "a=100\n",
    "b=20\n",
    "if a>b:\n",
    " print \"if block started\"\n",
    " print \"a is big\"\n",
    "print \"if block ended\"\n",
    "else:\n",
    "    print \"else block started\"\n",
    "    print \"b is big\"\n",
    "    print \"else block ended\"\n",
    "print \"other statements\"\n",
    "print \"program ended\""
   ]
  },
  {
   "cell_type": "code",
   "execution_count": 10,
   "metadata": {
    "collapsed": false
   },
   "outputs": [
    {
     "name": "stdout",
     "output_type": "stream",
     "text": [
      "program started\n",
      "if block started\n",
      "a is big\n",
      "if block ended\n",
      "other statements\n",
      "program ended\n"
     ]
    }
   ],
   "source": [
    "print \"program started\"\n",
    "a=100\n",
    "b=20\n",
    "if a>b:\n",
    "    print \"if block started\"\n",
    "    print \"a is big\"\n",
    "    print \"if block ended\"\n",
    "else:\n",
    "    print \"else block started\"\n",
    "    print \"b is big\"\n",
    "    print \"else block ended\"\n",
    "print \"other statements\"\n",
    "print \"program ended\""
   ]
  },
  {
   "cell_type": "code",
   "execution_count": 11,
   "metadata": {
    "collapsed": false
   },
   "outputs": [
    {
     "ename": "IndentationError",
     "evalue": "unexpected indent (<ipython-input-11-44df382645b4>, line 4)",
     "output_type": "error",
     "traceback": [
      "\u001b[0;36m  File \u001b[0;32m\"<ipython-input-11-44df382645b4>\"\u001b[0;36m, line \u001b[0;32m4\u001b[0m\n\u001b[0;31m    if a>b:\u001b[0m\n\u001b[0m    ^\u001b[0m\n\u001b[0;31mIndentationError\u001b[0m\u001b[0;31m:\u001b[0m unexpected indent\n"
     ]
    }
   ],
   "source": [
    "print \"program started\"\n",
    "a=100\n",
    "b=20\n",
    "    if a>b:\n",
    "        print \"if block started\"\n",
    "        print \"a is big\"\n",
    "        print \"if block ended\"\n",
    "    else:\n",
    "        print \"else block started\"\n",
    "        print \"b is big\"\n",
    "        print \"else block ended\"\n",
    "print \"other statements\"\n",
    "print \"program ended\""
   ]
  },
  {
   "cell_type": "code",
   "execution_count": 12,
   "metadata": {
    "collapsed": false
   },
   "outputs": [
    {
     "name": "stdout",
     "output_type": "stream",
     "text": [
      "Products to buy:\n",
      "\t1.Apple\n",
      "\t2.Banana\n",
      "\t3.Mango\n"
     ]
    }
   ],
   "source": [
    "\"\"\"\n",
    "Product to buy:\n",
    "    1. Apple\n",
    "    2. Banana\n",
    "    3. Mango\n",
    "\"\"\"\n",
    "print \"Products to buy:\\n\\t1.Apple\\n\\t2.Banana\\n\\t3.Mango\""
   ]
  },
  {
   "cell_type": "code",
   "execution_count": 13,
   "metadata": {
    "collapsed": false
   },
   "outputs": [
    {
     "name": "stdout",
     "output_type": "stream",
     "text": [
      "Products to buy:\n",
      "\t1.Apple\n",
      "\t2.Banana\n",
      "\t3.Mango\n",
      "Enter an option:1\n",
      "other statements in program\n",
      "program ended\n"
     ]
    }
   ],
   "source": [
    "\"\"\"\n",
    "Product to buy:\n",
    "    1. Apple\n",
    "    2. Banana\n",
    "    3. Mango\n",
    "\"\"\"\n",
    "print \"Products to buy:\\n\\t1.Apple\\n\\t2.Banana\\n\\t3.Mango\"\n",
    "opt=raw_input(\"Enter an option:\")\n",
    "if opt==1:\n",
    "    print \"Goto 1st floor and check in the reack32\"\n",
    "if opt==2:\n",
    "    print \"Goto 1st floor and check in the reack34\"\n",
    "if opt==3:\n",
    "    print \"Goto 1st floor and check in the reack35\"\n",
    "print \"other statements in program\"\n",
    "print \"program ended\""
   ]
  },
  {
   "cell_type": "code",
   "execution_count": 14,
   "metadata": {
    "collapsed": false
   },
   "outputs": [
    {
     "data": {
      "text/plain": [
       "False"
      ]
     },
     "execution_count": 14,
     "metadata": {},
     "output_type": "execute_result"
    }
   ],
   "source": [
    "\"1\"==1"
   ]
  },
  {
   "cell_type": "code",
   "execution_count": 15,
   "metadata": {
    "collapsed": false
   },
   "outputs": [
    {
     "name": "stdout",
     "output_type": "stream",
     "text": [
      "Products to buy:\n",
      "\t1.Apple\n",
      "\t2.Banana\n",
      "\t3.Mango\n",
      "Enter an option:1\n",
      "Goto 1st floor and check in the reack32\n",
      "other statements in program\n",
      "program ended\n"
     ]
    }
   ],
   "source": [
    "\"\"\"\n",
    "Product to buy:\n",
    "    1. Apple\n",
    "    2. Banana\n",
    "    3. Mango\n",
    "\"\"\"\n",
    "print \"Products to buy:\\n\\t1.Apple\\n\\t2.Banana\\n\\t3.Mango\"\n",
    "opt=raw_input(\"Enter an option:\")\n",
    "if opt==\"1\":\n",
    "    print \"Goto 1st floor and check in the reack32\"\n",
    "if opt==\"2\":\n",
    "    print \"Goto 1st floor and check in the reack34\"\n",
    "if opt==\"3\":\n",
    "    print \"Goto 1st floor and check in the reack35\"\n",
    "print \"other statements in program\"\n",
    "print \"program ended\""
   ]
  },
  {
   "cell_type": "code",
   "execution_count": 16,
   "metadata": {
    "collapsed": false
   },
   "outputs": [
    {
     "name": "stdout",
     "output_type": "stream",
     "text": [
      "Products to buy:\n",
      "\t1.Apple\n",
      "\t2.Banana\n",
      "\t3.Mango\n",
      "Enter an option:2\n",
      "Goto 1st floor and check in the reack34\n",
      "other statements in program\n",
      "program ended\n"
     ]
    }
   ],
   "source": [
    "\"\"\"\n",
    "Product to buy:\n",
    "    1. Apple\n",
    "    2. Banana\n",
    "    3. Mango\n",
    "\"\"\"\n",
    "print \"Products to buy:\\n\\t1.Apple\\n\\t2.Banana\\n\\t3.Mango\"\n",
    "opt=raw_input(\"Enter an option:\")\n",
    "if opt==\"1\":\n",
    "    print \"Goto 1st floor and check in the reack32\"\n",
    "if opt==\"2\":\n",
    "    print \"Goto 1st floor and check in the reack34\"\n",
    "if opt==\"3\":\n",
    "    print \"Goto 1st floor and check in the reack35\"\n",
    "print \"other statements in program\"\n",
    "print \"program ended\""
   ]
  },
  {
   "cell_type": "code",
   "execution_count": 17,
   "metadata": {
    "collapsed": false
   },
   "outputs": [
    {
     "name": "stdout",
     "output_type": "stream",
     "text": [
      "Products to buy:\n",
      "\t1.Apple\n",
      "\t2.Banana\n",
      "\t3.Mango\n",
      "Enter an option:3\n",
      "Goto 1st floor and check in the reack35\n",
      "other statements in program\n",
      "program ended\n"
     ]
    }
   ],
   "source": [
    "\"\"\"\n",
    "Product to buy:\n",
    "    1. Apple\n",
    "    2. Banana\n",
    "    3. Mango\n",
    "\"\"\"\n",
    "print \"Products to buy:\\n\\t1.Apple\\n\\t2.Banana\\n\\t3.Mango\"\n",
    "opt=raw_input(\"Enter an option:\")\n",
    "if opt==\"1\":\n",
    "    print \"Goto 1st floor and check in the reack32\"\n",
    "if opt==\"2\":\n",
    "    print \"Goto 1st floor and check in the reack34\"\n",
    "if opt==\"3\":\n",
    "    print \"Goto 1st floor and check in the reack35\"\n",
    "print \"other statements in program\"\n",
    "print \"program ended\""
   ]
  },
  {
   "cell_type": "code",
   "execution_count": 18,
   "metadata": {
    "collapsed": false
   },
   "outputs": [
    {
     "name": "stdout",
     "output_type": "stream",
     "text": [
      "Products to buy:\n",
      "\t1.Apple\n",
      "\t2.Banana\n",
      "\t3.Mango\n",
      "Enter an option:4\n",
      "other statements in program\n",
      "program ended\n"
     ]
    }
   ],
   "source": [
    "\"\"\"\n",
    "Product to buy:\n",
    "    1. Apple\n",
    "    2. Banana\n",
    "    3. Mango\n",
    "\"\"\"\n",
    "print \"Products to buy:\\n\\t1.Apple\\n\\t2.Banana\\n\\t3.Mango\"\n",
    "opt=raw_input(\"Enter an option:\")\n",
    "if opt==\"1\":\n",
    "    print \"Goto 1st floor and check in the reack32\"\n",
    "if opt==\"2\":\n",
    "    print \"Goto 1st floor and check in the reack34\"\n",
    "if opt==\"3\":\n",
    "    print \"Goto 1st floor and check in the reack35\"\n",
    "print \"other statements in program\"\n",
    "print \"program ended\""
   ]
  },
  {
   "cell_type": "code",
   "execution_count": 19,
   "metadata": {
    "collapsed": false
   },
   "outputs": [
    {
     "name": "stdout",
     "output_type": "stream",
     "text": [
      "Products to buy:\n",
      "\t1.Apple\n",
      "\t2.Banana\n",
      "\t3.Mango\n",
      "Enter an option:4\n",
      "wrong option.\n",
      "other statements in program\n",
      "program ended\n"
     ]
    }
   ],
   "source": [
    "\"\"\"\n",
    "Product to buy:\n",
    "    1. Apple\n",
    "    2. Banana\n",
    "    3. Mango\n",
    "\"\"\"\n",
    "print \"Products to buy:\\n\\t1.Apple\\n\\t2.Banana\\n\\t3.Mango\"\n",
    "opt=raw_input(\"Enter an option:\")\n",
    "if opt==\"1\":\n",
    "    print \"Goto 1st floor and check in the reack32\"\n",
    "if opt==\"2\":\n",
    "    print \"Goto 1st floor and check in the reack34\"\n",
    "if opt==\"3\":\n",
    "    print \"Goto 1st floor and check in the reack35\"\n",
    "else:\n",
    "    print \"wrong option.\"\n",
    "print \"other statements in program\"\n",
    "print \"program ended\""
   ]
  },
  {
   "cell_type": "code",
   "execution_count": 20,
   "metadata": {
    "collapsed": false
   },
   "outputs": [
    {
     "name": "stdout",
     "output_type": "stream",
     "text": [
      "Products to buy:\n",
      "\t1.Apple\n",
      "\t2.Banana\n",
      "\t3.Mango\n",
      "Enter an option:3\n",
      "Goto 1st floor and check in the reack35\n",
      "other statements in program\n",
      "program ended\n"
     ]
    }
   ],
   "source": [
    "\"\"\"\n",
    "Product to buy:\n",
    "    1. Apple\n",
    "    2. Banana\n",
    "    3. Mango\n",
    "\"\"\"\n",
    "print \"Products to buy:\\n\\t1.Apple\\n\\t2.Banana\\n\\t3.Mango\"\n",
    "opt=raw_input(\"Enter an option:\")\n",
    "if opt==\"1\":\n",
    "    print \"Goto 1st floor and check in the reack32\"\n",
    "if opt==\"2\":\n",
    "    print \"Goto 1st floor and check in the reack34\"\n",
    "if opt==\"3\":\n",
    "    print \"Goto 1st floor and check in the reack35\"\n",
    "else:\n",
    "    print \"wrong option.\"\n",
    "print \"other statements in program\"\n",
    "print \"program ended\""
   ]
  },
  {
   "cell_type": "code",
   "execution_count": 21,
   "metadata": {
    "collapsed": false
   },
   "outputs": [
    {
     "name": "stdout",
     "output_type": "stream",
     "text": [
      "Products to buy:\n",
      "\t1.Apple\n",
      "\t2.Banana\n",
      "\t3.Mango\n",
      "Enter an option:2\n",
      "Goto 1st floor and check in the reack34\n",
      "wrong option.\n",
      "other statements in program\n",
      "program ended\n"
     ]
    }
   ],
   "source": [
    "\"\"\"\n",
    "Product to buy:\n",
    "    1. Apple\n",
    "    2. Banana\n",
    "    3. Mango\n",
    "\"\"\"\n",
    "print \"Products to buy:\\n\\t1.Apple\\n\\t2.Banana\\n\\t3.Mango\"\n",
    "opt=raw_input(\"Enter an option:\")\n",
    "if opt==\"1\":\n",
    "    print \"Goto 1st floor and check in the reack32\"\n",
    "if opt==\"2\":\n",
    "    print \"Goto 1st floor and check in the reack34\"\n",
    "if opt==\"3\":\n",
    "    print \"Goto 1st floor and check in the reack35\"\n",
    "else:\n",
    "    print \"wrong option.\"\n",
    "print \"other statements in program\"\n",
    "print \"program ended\""
   ]
  },
  {
   "cell_type": "code",
   "execution_count": 22,
   "metadata": {
    "collapsed": false
   },
   "outputs": [
    {
     "name": "stdout",
     "output_type": "stream",
     "text": [
      "Products to buy:\n",
      "\t1.Apple\n",
      "\t2.Banana\n",
      "\t3.Mango\n",
      "Enter an option:2\n",
      "Goto 1st floor and check in the reack34\n",
      "other statements in program\n",
      "program ended\n"
     ]
    }
   ],
   "source": [
    "\"\"\"\n",
    "Product to buy:\n",
    "    1. Apple\n",
    "    2. Banana\n",
    "    3. Mango\n",
    "\"\"\"\n",
    "print \"Products to buy:\\n\\t1.Apple\\n\\t2.Banana\\n\\t3.Mango\"\n",
    "opt=raw_input(\"Enter an option:\")\n",
    "if opt==\"1\":\n",
    "    print \"Goto 1st floor and check in the reack32\"\n",
    "elif opt==\"2\":\n",
    "    print \"Goto 1st floor and check in the reack34\"\n",
    "elif opt==\"3\":\n",
    "    print \"Goto 1st floor and check in the reack35\"\n",
    "else:\n",
    "    print \"wrong option.\"\n",
    "print \"other statements in program\"\n",
    "print \"program ended\""
   ]
  },
  {
   "cell_type": "code",
   "execution_count": 23,
   "metadata": {
    "collapsed": false
   },
   "outputs": [
    {
     "name": "stdout",
     "output_type": "stream",
     "text": [
      "Products to buy:\n",
      "\t1.Apple\n",
      "\t2.Banana\n",
      "\t3.Mango\n",
      "Enter an option:4\n",
      "wrong option.\n",
      "other statements in program\n",
      "program ended\n"
     ]
    }
   ],
   "source": [
    "\"\"\"\n",
    "Product to buy:\n",
    "    1. Apple\n",
    "    2. Banana\n",
    "    3. Mango\n",
    "\"\"\"\n",
    "print \"Products to buy:\\n\\t1.Apple\\n\\t2.Banana\\n\\t3.Mango\"\n",
    "opt=raw_input(\"Enter an option:\")\n",
    "if opt==\"1\":\n",
    "    print \"Goto 1st floor and check in the reack32\"\n",
    "elif opt==\"2\":\n",
    "    print \"Goto 1st floor and check in the reack34\"\n",
    "elif opt==\"3\":\n",
    "    print \"Goto 1st floor and check in the reack35\"\n",
    "else:\n",
    "    print \"wrong option.\"\n",
    "print \"other statements in program\"\n",
    "print \"program ended\""
   ]
  },
  {
   "cell_type": "code",
   "execution_count": null,
   "metadata": {
    "collapsed": true
   },
   "outputs": [],
   "source": [
    "print \"program started\"\n",
    "i=0\n",
    "while i<10:\n",
    "    print \"hello world.\"\n",
    "    \n",
    "print \"other statements in program\"\n",
    "print \"program ended\""
   ]
  },
  {
   "cell_type": "code",
   "execution_count": 24,
   "metadata": {
    "collapsed": false
   },
   "outputs": [
    {
     "name": "stdout",
     "output_type": "stream",
     "text": [
      "program started\n",
      "hello world.\n",
      "hello world.\n",
      "hello world.\n",
      "other statements in program\n",
      "program ended\n"
     ]
    }
   ],
   "source": [
    "print \"program started\"\n",
    "i=0\n",
    "while i<3:\n",
    "    print \"hello world.\"\n",
    "    i=i+1\n",
    "    \n",
    "print \"other statements in program\"\n",
    "print \"program ended\""
   ]
  },
  {
   "cell_type": "code",
   "execution_count": 25,
   "metadata": {
    "collapsed": false
   },
   "outputs": [
    {
     "name": "stdout",
     "output_type": "stream",
     "text": [
      "program started\n",
      "other statements in program\n",
      "program ended\n"
     ]
    }
   ],
   "source": [
    "print \"program started\"\n",
    "i=10\n",
    "while i<3:\n",
    "    print \"hello world.\"\n",
    "    i=i+1\n",
    "print \"other statements in program\"\n",
    "print \"program ended\""
   ]
  },
  {
   "cell_type": "code",
   "execution_count": null,
   "metadata": {
    "collapsed": true
   },
   "outputs": [],
   "source": [
    "print \"program started\"\n",
    "i=0\n",
    "while i<3:\n",
    "    print \"hello world.\"\n",
    "i=i+1\n",
    "print \"other statements in program\"\n",
    "print \"program ended\""
   ]
  },
  {
   "cell_type": "code",
   "execution_count": 26,
   "metadata": {
    "collapsed": false
   },
   "outputs": [
    {
     "name": "stdout",
     "output_type": "stream",
     "text": [
      "program started\n",
      "hello world.\n",
      "hello world.\n",
      "hello world.\n",
      "i outside loop: 3\n",
      "other statements in program\n",
      "program ended\n"
     ]
    }
   ],
   "source": [
    "print \"program started\"\n",
    "i=0\n",
    "while i<3:\n",
    "    print \"hello world.\"\n",
    "    i=i+1\n",
    "print \"i outside loop:\",i\n",
    "print \"other statements in program\"\n",
    "print \"program ended\""
   ]
  },
  {
   "cell_type": "code",
   "execution_count": 27,
   "metadata": {
    "collapsed": false
   },
   "outputs": [
    {
     "name": "stdout",
     "output_type": "stream",
     "text": [
      "program started\n",
      "hello world.\n",
      "hello world.\n",
      "hello world.\n",
      "hello world.\n",
      "i outside loop: 4\n",
      "other statements in program\n",
      "program ended\n"
     ]
    }
   ],
   "source": [
    "print \"program started\"\n",
    "i=0\n",
    "while i<=3:\n",
    "    print \"hello world.\"\n",
    "    i=i+1\n",
    "print \"i outside loop:\",i\n",
    "print \"other statements in program\"\n",
    "print \"program ended\""
   ]
  },
  {
   "cell_type": "code",
   "execution_count": 28,
   "metadata": {
    "collapsed": false
   },
   "outputs": [
    {
     "data": {
      "text/plain": [
       "True"
      ]
     },
     "execution_count": 28,
     "metadata": {},
     "output_type": "execute_result"
    }
   ],
   "source": [
    "a=10\n",
    "b=20\n",
    "c=30\n",
    "a<b and b<c"
   ]
  },
  {
   "cell_type": "code",
   "execution_count": 29,
   "metadata": {
    "collapsed": false
   },
   "outputs": [
    {
     "data": {
      "text/plain": [
       "False"
      ]
     },
     "execution_count": 29,
     "metadata": {},
     "output_type": "execute_result"
    }
   ],
   "source": [
    "a=10\n",
    "b=20\n",
    "c=30\n",
    "a>b and b<c"
   ]
  },
  {
   "cell_type": "code",
   "execution_count": 30,
   "metadata": {
    "collapsed": false
   },
   "outputs": [
    {
     "data": {
      "text/plain": [
       "False"
      ]
     },
     "execution_count": 30,
     "metadata": {},
     "output_type": "execute_result"
    }
   ],
   "source": [
    "a=10\n",
    "b=20\n",
    "c=30\n",
    "a<b and b>c"
   ]
  },
  {
   "cell_type": "code",
   "execution_count": 31,
   "metadata": {
    "collapsed": false
   },
   "outputs": [
    {
     "data": {
      "text/plain": [
       "False"
      ]
     },
     "execution_count": 31,
     "metadata": {},
     "output_type": "execute_result"
    }
   ],
   "source": [
    "a=10\n",
    "b=20\n",
    "c=30\n",
    "a>b or b>c"
   ]
  },
  {
   "cell_type": "code",
   "execution_count": 32,
   "metadata": {
    "collapsed": false
   },
   "outputs": [
    {
     "data": {
      "text/plain": [
       "True"
      ]
     },
     "execution_count": 32,
     "metadata": {},
     "output_type": "execute_result"
    }
   ],
   "source": [
    "a=10\n",
    "b=20\n",
    "c=30\n",
    "a<b or b>c"
   ]
  },
  {
   "cell_type": "code",
   "execution_count": 33,
   "metadata": {
    "collapsed": false
   },
   "outputs": [
    {
     "data": {
      "text/plain": [
       "True"
      ]
     },
     "execution_count": 33,
     "metadata": {},
     "output_type": "execute_result"
    }
   ],
   "source": [
    "a=10\n",
    "b=20\n",
    "c=30\n",
    "d=40\n",
    "a<b and b<c and c<d"
   ]
  },
  {
   "cell_type": "code",
   "execution_count": 34,
   "metadata": {
    "collapsed": false
   },
   "outputs": [
    {
     "data": {
      "text/plain": [
       "True"
      ]
     },
     "execution_count": 34,
     "metadata": {},
     "output_type": "execute_result"
    }
   ],
   "source": [
    "a=10\n",
    "b=20\n",
    "c=30\n",
    "d=40\n",
    "a<b and b<c or c<d"
   ]
  },
  {
   "cell_type": "code",
   "execution_count": 35,
   "metadata": {
    "collapsed": false
   },
   "outputs": [
    {
     "data": {
      "text/plain": [
       "True"
      ]
     },
     "execution_count": 35,
     "metadata": {},
     "output_type": "execute_result"
    }
   ],
   "source": [
    "a=10\n",
    "b=20\n",
    "c=30\n",
    "d=40\n",
    "a<b and (b<c or c<d)"
   ]
  },
  {
   "cell_type": "code",
   "execution_count": 36,
   "metadata": {
    "collapsed": false
   },
   "outputs": [
    {
     "name": "stdout",
     "output_type": "stream",
     "text": [
      "program started\n",
      "iteration started\n",
      "i inside loop: a\n",
      "iteration ended.\n",
      "iteration started\n",
      "i inside loop: b\n",
      "iteration ended.\n",
      "iteration started\n",
      "i inside loop: c\n",
      "iteration ended.\n",
      "other statements in program\n",
      "program ended\n"
     ]
    }
   ],
   "source": [
    "print \"program started\"\n",
    "for i in \"abc\":\n",
    "    print \"iteration started\"\n",
    "    print \"i inside loop:\",i\n",
    "    print \"iteration ended.\"\n",
    "print \"other statements in program\"\n",
    "print \"program ended\""
   ]
  },
  {
   "cell_type": "code",
   "execution_count": 37,
   "metadata": {
    "collapsed": false
   },
   "outputs": [
    {
     "name": "stdout",
     "output_type": "stream",
     "text": [
      "program started\n",
      "iteration started\n",
      "i inside loop: p\n",
      "iteration ended.\n",
      "iteration started\n",
      "i inside loop: y\n",
      "iteration ended.\n",
      "iteration started\n",
      "i inside loop: t\n",
      "iteration ended.\n",
      "iteration started\n",
      "i inside loop: h\n",
      "iteration ended.\n",
      "iteration started\n",
      "i inside loop: o\n",
      "iteration ended.\n",
      "iteration started\n",
      "i inside loop: n\n",
      "iteration ended.\n",
      "other statements in program\n",
      "program ended\n"
     ]
    }
   ],
   "source": [
    "print \"program started\"\n",
    "for i in \"python\":\n",
    "    print \"iteration started\"\n",
    "    print \"i inside loop:\",i\n",
    "    print \"iteration ended.\"\n",
    "print \"other statements in program\"\n",
    "print \"program ended\""
   ]
  },
  {
   "cell_type": "code",
   "execution_count": 38,
   "metadata": {
    "collapsed": false
   },
   "outputs": [
    {
     "name": "stdout",
     "output_type": "stream",
     "text": [
      "program started\n",
      "Enter a sring to iterate:python program\n",
      "iteration started\n",
      "i inside loop: p\n",
      "iteration ended.\n",
      "iteration started\n",
      "i inside loop: y\n",
      "iteration ended.\n",
      "iteration started\n",
      "i inside loop: t\n",
      "iteration ended.\n",
      "iteration started\n",
      "i inside loop: h\n",
      "iteration ended.\n",
      "iteration started\n",
      "i inside loop: o\n",
      "iteration ended.\n",
      "iteration started\n",
      "i inside loop: n\n",
      "iteration ended.\n",
      "iteration started\n",
      "i inside loop:  \n",
      "iteration ended.\n",
      "iteration started\n",
      "i inside loop: p\n",
      "iteration ended.\n",
      "iteration started\n",
      "i inside loop: r\n",
      "iteration ended.\n",
      "iteration started\n",
      "i inside loop: o\n",
      "iteration ended.\n",
      "iteration started\n",
      "i inside loop: g\n",
      "iteration ended.\n",
      "iteration started\n",
      "i inside loop: r\n",
      "iteration ended.\n",
      "iteration started\n",
      "i inside loop: a\n",
      "iteration ended.\n",
      "iteration started\n",
      "i inside loop: m\n",
      "iteration ended.\n",
      "other statements in program\n",
      "program ended\n"
     ]
    }
   ],
   "source": [
    "print \"program started\"\n",
    "s=raw_input(\"Enter a sring to iterate:\")\n",
    "for i in s:\n",
    "    print \"iteration started\"\n",
    "    print \"i inside loop:\",i\n",
    "    print \"iteration ended.\"\n",
    "print \"other statements in program\"\n",
    "print \"program ended\""
   ]
  },
  {
   "cell_type": "code",
   "execution_count": 39,
   "metadata": {
    "collapsed": false
   },
   "outputs": [
    {
     "name": "stdout",
     "output_type": "stream",
     "text": [
      "program started\n",
      "iteration started\n",
      "i inside loop: c\n",
      "iteration ended.\n",
      "iteration started\n",
      "i inside loop: cpp\n",
      "iteration ended.\n",
      "iteration started\n",
      "i inside loop: java\n",
      "iteration ended.\n",
      "iteration started\n",
      "i inside loop: php\n",
      "iteration ended.\n",
      "iteration started\n",
      "i inside loop: python\n",
      "iteration ended.\n",
      "iteration started\n",
      "i inside loop: html\n",
      "iteration ended.\n",
      "iteration started\n",
      "i inside loop: css\n",
      "iteration ended.\n",
      "iteration started\n",
      "i inside loop: js\n",
      "iteration ended.\n",
      "other statements in program\n",
      "program ended\n"
     ]
    }
   ],
   "source": [
    "print \"program started\"\n",
    "#s=raw_input(\"Enter a sring to iterate:\")\n",
    "for i in ['c','cpp','java','php','python','html','css','js']:\n",
    "    print \"iteration started\"\n",
    "    print \"i inside loop:\",i\n",
    "    print \"iteration ended.\"\n",
    "print \"other statements in program\"\n",
    "print \"program ended\""
   ]
  },
  {
   "cell_type": "code",
   "execution_count": 41,
   "metadata": {
    "collapsed": false
   },
   "outputs": [
    {
     "name": "stdout",
     "output_type": "stream",
     "text": [
      "p\n"
     ]
    },
    {
     "ename": "TypeError",
     "evalue": "string indices must be integers, not str",
     "output_type": "error",
     "traceback": [
      "\u001b[0;31m---------------------------------------------------------------------------\u001b[0m",
      "\u001b[0;31mTypeError\u001b[0m                                 Traceback (most recent call last)",
      "\u001b[0;32m<ipython-input-41-636379d38ec7>\u001b[0m in \u001b[0;36m<module>\u001b[0;34m()\u001b[0m\n\u001b[1;32m      2\u001b[0m \u001b[0;32mfor\u001b[0m \u001b[0mi\u001b[0m \u001b[0;32min\u001b[0m \u001b[0ms\u001b[0m\u001b[0;34m:\u001b[0m\u001b[0;34m\u001b[0m\u001b[0m\n\u001b[1;32m      3\u001b[0m     \u001b[0;32mprint\u001b[0m \u001b[0mi\u001b[0m\u001b[0;34m\u001b[0m\u001b[0m\n\u001b[0;32m----> 4\u001b[0;31m     \u001b[0;32mprint\u001b[0m \u001b[0ms\u001b[0m\u001b[0;34m[\u001b[0m\u001b[0mi\u001b[0m\u001b[0;34m]\u001b[0m\u001b[0;34m\u001b[0m\u001b[0m\n\u001b[0m",
      "\u001b[0;31mTypeError\u001b[0m: string indices must be integers, not str"
     ]
    }
   ],
   "source": [
    "s=\"python program\"\n",
    "for i in s:\n",
    "    print i\n",
    "    print s[i]"
   ]
  },
  {
   "cell_type": "code",
   "execution_count": 42,
   "metadata": {
    "collapsed": false
   },
   "outputs": [
    {
     "data": {
      "text/plain": [
       "'p'"
      ]
     },
     "execution_count": 42,
     "metadata": {},
     "output_type": "execute_result"
    }
   ],
   "source": [
    "s[0]"
   ]
  },
  {
   "cell_type": "code",
   "execution_count": 43,
   "metadata": {
    "collapsed": false
   },
   "outputs": [
    {
     "ename": "TypeError",
     "evalue": "string indices must be integers, not str",
     "output_type": "error",
     "traceback": [
      "\u001b[0;31m---------------------------------------------------------------------------\u001b[0m",
      "\u001b[0;31mTypeError\u001b[0m                                 Traceback (most recent call last)",
      "\u001b[0;32m<ipython-input-43-415b0b1218ed>\u001b[0m in \u001b[0;36m<module>\u001b[0;34m()\u001b[0m\n\u001b[0;32m----> 1\u001b[0;31m \u001b[0ms\u001b[0m\u001b[0;34m[\u001b[0m\u001b[0;34m'p'\u001b[0m\u001b[0;34m]\u001b[0m\u001b[0;34m\u001b[0m\u001b[0m\n\u001b[0m",
      "\u001b[0;31mTypeError\u001b[0m: string indices must be integers, not str"
     ]
    }
   ],
   "source": [
    "s['p']"
   ]
  },
  {
   "cell_type": "code",
   "execution_count": null,
   "metadata": {
    "collapsed": true
   },
   "outputs": [],
   "source": []
  }
 ],
 "metadata": {
  "kernelspec": {
   "display_name": "Python 2",
   "language": "python",
   "name": "python2"
  },
  "language_info": {
   "codemirror_mode": {
    "name": "ipython",
    "version": 2
   },
   "file_extension": ".py",
   "mimetype": "text/x-python",
   "name": "python",
   "nbconvert_exporter": "python",
   "pygments_lexer": "ipython2",
   "version": "2.7.13"
  }
 },
 "nbformat": 4,
 "nbformat_minor": 2
}
