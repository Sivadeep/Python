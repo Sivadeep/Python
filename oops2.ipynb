{
 "cells": [
  {
   "cell_type": "code",
   "execution_count": 2,
   "metadata": {
    "collapsed": false
   },
   "outputs": [
    {
     "name": "stdout",
     "output_type": "stream",
     "text": [
      "13200.0\n",
      "14958.0\n",
      "13200.0\n",
      "14958.0\n"
     ]
    }
   ],
   "source": [
    "class Emp:\n",
    "    def sal_calc(self):\n",
    "        return self.sal+(self.sal*self.per/100.0)\n",
    "anil=Emp()\n",
    "anil.sal=12000\n",
    "anil.per=10\n",
    "anil.name=\"Anil\"\n",
    "ajay=Emp()\n",
    "ajay.name=\"Ajay\"\n",
    "ajay.per=20\n",
    "ajay.sal=12465\n",
    "print Emp.sal_calc(anil)\n",
    "print Emp.sal_calc(ajay)\n",
    "print anil.sal_calc()\n",
    "print ajay.sal_calc()"
   ]
  },
  {
   "cell_type": "code",
   "execution_count": 3,
   "metadata": {
    "collapsed": false
   },
   "outputs": [
    {
     "name": "stdout",
     "output_type": "stream",
     "text": [
      "136657.4\n",
      "2811040.8\n",
      "136657.4\n",
      "2811040.8\n"
     ]
    }
   ],
   "source": [
    "class Emp:\n",
    "    def sal_calc(self):\n",
    "        return self.sal+(self.sal*self.per/100.0)\n",
    "    def set_data(self, name, sal, per):\n",
    "        self.name=name\n",
    "        self.sal=sal\n",
    "        self.per=per\n",
    "anil=Emp()\n",
    "anil.set_data(\"Anil\",124234,10)\n",
    "ajay=Emp()\n",
    "ajay.set_data(\"Ajay\",2342534,20)\n",
    "print Emp.sal_calc(anil)\n",
    "print Emp.sal_calc(ajay)\n",
    "print anil.sal_calc()\n",
    "print ajay.sal_calc()"
   ]
  },
  {
   "cell_type": "code",
   "execution_count": 4,
   "metadata": {
    "collapsed": false
   },
   "outputs": [
    {
     "name": "stdout",
     "output_type": "stream",
     "text": [
      "136657.4\n",
      "2811040.8\n",
      "136657.4\n",
      "2811040.8\n"
     ]
    },
    {
     "ename": "AttributeError",
     "evalue": "Emp instance has no attribute 'sal'",
     "output_type": "error",
     "traceback": [
      "\u001b[0;31m---------------------------------------------------------------------------\u001b[0m",
      "\u001b[0;31mAttributeError\u001b[0m                            Traceback (most recent call last)",
      "\u001b[0;32m<ipython-input-4-6be101f8a3cf>\u001b[0m in \u001b[0;36m<module>\u001b[0;34m()\u001b[0m\n\u001b[1;32m     15\u001b[0m \u001b[0;32mprint\u001b[0m \u001b[0majay\u001b[0m\u001b[0;34m.\u001b[0m\u001b[0msal_calc\u001b[0m\u001b[0;34m(\u001b[0m\u001b[0;34m)\u001b[0m\u001b[0;34m\u001b[0m\u001b[0m\n\u001b[1;32m     16\u001b[0m \u001b[0mashok\u001b[0m \u001b[0;34m=\u001b[0m \u001b[0mEmp\u001b[0m\u001b[0;34m(\u001b[0m\u001b[0;34m)\u001b[0m\u001b[0;34m\u001b[0m\u001b[0m\n\u001b[0;32m---> 17\u001b[0;31m \u001b[0;32mprint\u001b[0m \u001b[0mashok\u001b[0m\u001b[0;34m.\u001b[0m\u001b[0msal_calc\u001b[0m\u001b[0;34m(\u001b[0m\u001b[0;34m)\u001b[0m\u001b[0;34m\u001b[0m\u001b[0m\n\u001b[0m",
      "\u001b[0;32m<ipython-input-4-6be101f8a3cf>\u001b[0m in \u001b[0;36msal_calc\u001b[0;34m(self)\u001b[0m\n\u001b[1;32m      1\u001b[0m \u001b[0;32mclass\u001b[0m \u001b[0mEmp\u001b[0m\u001b[0;34m:\u001b[0m\u001b[0;34m\u001b[0m\u001b[0m\n\u001b[1;32m      2\u001b[0m     \u001b[0;32mdef\u001b[0m \u001b[0msal_calc\u001b[0m\u001b[0;34m(\u001b[0m\u001b[0mself\u001b[0m\u001b[0;34m)\u001b[0m\u001b[0;34m:\u001b[0m\u001b[0;34m\u001b[0m\u001b[0m\n\u001b[0;32m----> 3\u001b[0;31m         \u001b[0;32mreturn\u001b[0m \u001b[0mself\u001b[0m\u001b[0;34m.\u001b[0m\u001b[0msal\u001b[0m\u001b[0;34m+\u001b[0m\u001b[0;34m(\u001b[0m\u001b[0mself\u001b[0m\u001b[0;34m.\u001b[0m\u001b[0msal\u001b[0m\u001b[0;34m*\u001b[0m\u001b[0mself\u001b[0m\u001b[0;34m.\u001b[0m\u001b[0mper\u001b[0m\u001b[0;34m/\u001b[0m\u001b[0;36m100.0\u001b[0m\u001b[0;34m)\u001b[0m\u001b[0;34m\u001b[0m\u001b[0m\n\u001b[0m\u001b[1;32m      4\u001b[0m     \u001b[0;32mdef\u001b[0m \u001b[0mset_data\u001b[0m\u001b[0;34m(\u001b[0m\u001b[0mself\u001b[0m\u001b[0;34m,\u001b[0m \u001b[0mname\u001b[0m\u001b[0;34m,\u001b[0m \u001b[0msal\u001b[0m\u001b[0;34m,\u001b[0m \u001b[0mper\u001b[0m\u001b[0;34m)\u001b[0m\u001b[0;34m:\u001b[0m\u001b[0;34m\u001b[0m\u001b[0m\n\u001b[1;32m      5\u001b[0m         \u001b[0mself\u001b[0m\u001b[0;34m.\u001b[0m\u001b[0mname\u001b[0m\u001b[0;34m=\u001b[0m\u001b[0mname\u001b[0m\u001b[0;34m\u001b[0m\u001b[0m\n",
      "\u001b[0;31mAttributeError\u001b[0m: Emp instance has no attribute 'sal'"
     ]
    }
   ],
   "source": [
    "class Emp:\n",
    "    def sal_calc(self):\n",
    "        return self.sal+(self.sal*self.per/100.0)\n",
    "    def set_data(self, name, sal, per):\n",
    "        self.name=name\n",
    "        self.sal=sal\n",
    "        self.per=per\n",
    "anil=Emp()\n",
    "anil.set_data(\"Anil\",124234,10)\n",
    "ajay=Emp()\n",
    "ajay.set_data(\"Ajay\",2342534,20)\n",
    "print Emp.sal_calc(anil)\n",
    "print Emp.sal_calc(ajay)\n",
    "print anil.sal_calc()\n",
    "print ajay.sal_calc()\n",
    "ashok = Emp()\n",
    "print ashok.sal_calc()"
   ]
  },
  {
   "cell_type": "code",
   "execution_count": 5,
   "metadata": {
    "collapsed": false
   },
   "outputs": [
    {
     "name": "stdout",
     "output_type": "stream",
     "text": [
      "this is constructor\n"
     ]
    }
   ],
   "source": [
    "class Emp:\n",
    "    def sal_calc(self):\n",
    "        print \"salary calculation\"\n",
    "        return self.sal+(self.sal*self.per/100.0)\n",
    "    def set_data(self, name, sal, per):\n",
    "        print \"seting data\"\n",
    "        self.name=name\n",
    "        self.sal=sal\n",
    "        self.per=per\n",
    "    def __init__(self):\n",
    "        print \"this is constructor\"\n",
    "anil=Emp()"
   ]
  },
  {
   "cell_type": "code",
   "execution_count": 6,
   "metadata": {
    "collapsed": false
   },
   "outputs": [
    {
     "name": "stdout",
     "output_type": "stream",
     "text": [
      "this is constructor\n",
      "this is constructor\n",
      "this is constructor\n",
      "this is constructor\n"
     ]
    }
   ],
   "source": [
    "class Emp:\n",
    "    def sal_calc(self):\n",
    "        print \"salary calculation\"\n",
    "        return self.sal+(self.sal*self.per/100.0)\n",
    "    def set_data(self, name, sal, per):\n",
    "        print \"seting data\"\n",
    "        self.name=name\n",
    "        self.sal=sal\n",
    "        self.per=per\n",
    "    def __init__(self):\n",
    "        print \"this is constructor\"\n",
    "anil=Emp()\n",
    "ajay=Emp()\n",
    "ashok=Emp()\n",
    "pavan=Emp()\n"
   ]
  },
  {
   "cell_type": "code",
   "execution_count": 8,
   "metadata": {
    "collapsed": false
   },
   "outputs": [
    {
     "name": "stdout",
     "output_type": "stream",
     "text": [
      "this is constructor\n",
      "seting data\n",
      "this is constructor\n",
      "seting data\n",
      "this is constructor\n",
      "seting data\n",
      "this is constructor\n",
      "seting data\n",
      "salary calculation\n",
      "sending info\n",
      "('Anil', 281081080.8, 20)\n",
      "salary calculation\n",
      "sending info\n",
      "('Ajay', 25765765.3, 10)\n",
      "salary calculation\n",
      "sending info\n",
      "('ashok', 4217749.9, 30)\n",
      "salary calculation\n",
      "sending info\n",
      "('PAvan', 6345560948347.6, 40)\n"
     ]
    }
   ],
   "source": [
    "class Emp:\n",
    "    def sal_calc(self):\n",
    "        print \"salary calculation\"\n",
    "        return self.sal+(self.sal*self.per/100.0)\n",
    "    def __init__(self, name, sal, per):\n",
    "        print \"this is constructor\"\n",
    "        print \"seting data\"\n",
    "        self.name=name\n",
    "        self.sal=sal\n",
    "        self.per=per\n",
    "    def get(self):\n",
    "        update_sal=self.sal_calc()\n",
    "        print \"sending info\"\n",
    "        return self.name, update_sal, self.per\n",
    "anil=Emp(\"Anil\",234234234,20)\n",
    "ajay=Emp(\"Ajay\",23423423,10)\n",
    "ashok=Emp(\"ashok\",3244423,30)\n",
    "pavan=Emp(\"PAvan\",4532543534534,40)\n",
    "\n",
    "print anil.get()\n",
    "print ajay.get()\n",
    "print ashok.get()\n",
    "print pavan.get()"
   ]
  },
  {
   "cell_type": "code",
   "execution_count": 9,
   "metadata": {
    "collapsed": false
   },
   "outputs": [
    {
     "name": "stdout",
     "output_type": "stream",
     "text": [
      "this is operations\n",
      "this is op1 in c1\n",
      "op2 in c2\n"
     ]
    }
   ],
   "source": [
    "class c1:\n",
    "    def op1(self):\n",
    "        print \"this is op1 in c1\"\n",
    "class c2:\n",
    "    def op2(self):\n",
    "        print \"op2 in c2\"\n",
    "class c3:\n",
    "    def operations(self):\n",
    "        print \"this is operations\"\n",
    "o3=c3()\n",
    "o3.operations()\n",
    "o1=c1()\n",
    "o1.op1()\n",
    "o2=c2()\n",
    "o2.op2()"
   ]
  },
  {
   "cell_type": "code",
   "execution_count": 10,
   "metadata": {
    "collapsed": false
   },
   "outputs": [
    {
     "name": "stdout",
     "output_type": "stream",
     "text": [
      "this is operations\n"
     ]
    },
    {
     "ename": "AttributeError",
     "evalue": "c3 instance has no attribute 'op1'",
     "output_type": "error",
     "traceback": [
      "\u001b[0;31m---------------------------------------------------------------------------\u001b[0m",
      "\u001b[0;31mAttributeError\u001b[0m                            Traceback (most recent call last)",
      "\u001b[0;32m<ipython-input-10-2bc7db7d0456>\u001b[0m in \u001b[0;36m<module>\u001b[0;34m()\u001b[0m\n\u001b[1;32m     10\u001b[0m \u001b[0mo3\u001b[0m\u001b[0;34m=\u001b[0m\u001b[0mc3\u001b[0m\u001b[0;34m(\u001b[0m\u001b[0;34m)\u001b[0m\u001b[0;34m\u001b[0m\u001b[0m\n\u001b[1;32m     11\u001b[0m \u001b[0mo3\u001b[0m\u001b[0;34m.\u001b[0m\u001b[0moperations\u001b[0m\u001b[0;34m(\u001b[0m\u001b[0;34m)\u001b[0m\u001b[0;34m\u001b[0m\u001b[0m\n\u001b[0;32m---> 12\u001b[0;31m \u001b[0mo3\u001b[0m\u001b[0;34m.\u001b[0m\u001b[0mop1\u001b[0m\u001b[0;34m(\u001b[0m\u001b[0;34m)\u001b[0m\u001b[0;34m\u001b[0m\u001b[0m\n\u001b[0m\u001b[1;32m     13\u001b[0m \u001b[0mo3\u001b[0m\u001b[0;34m.\u001b[0m\u001b[0mop2\u001b[0m\u001b[0;34m(\u001b[0m\u001b[0;34m)\u001b[0m\u001b[0;34m\u001b[0m\u001b[0m\n",
      "\u001b[0;31mAttributeError\u001b[0m: c3 instance has no attribute 'op1'"
     ]
    }
   ],
   "source": [
    "class c1:\n",
    "    def op1(self):\n",
    "        print \"this is op1 in c1\"\n",
    "class c2:\n",
    "    def op2(self):\n",
    "        print \"op2 in c2\"\n",
    "class c3:\n",
    "    def operations(self):\n",
    "        print \"this is operations\"\n",
    "o3=c3()\n",
    "o3.operations()\n",
    "o3.op1()\n",
    "o3.op2()"
   ]
  },
  {
   "cell_type": "code",
   "execution_count": 11,
   "metadata": {
    "collapsed": false
   },
   "outputs": [
    {
     "name": "stdout",
     "output_type": "stream",
     "text": [
      "this is operations\n",
      "this is op1 in c1\n",
      "op2 in c2\n"
     ]
    }
   ],
   "source": [
    "class c1:\n",
    "    def op1(self):\n",
    "        print \"this is op1 in c1\"\n",
    "class c2:\n",
    "    def op2(self):\n",
    "        print \"op2 in c2\"\n",
    "class c3:\n",
    "    def operations(self):\n",
    "        print \"this is operations\"\n",
    "        o1=c1()\n",
    "        o1.op1()\n",
    "        o2=c2()\n",
    "        o2.op2()\n",
    "o3=c3()\n",
    "o3.operations()"
   ]
  },
  {
   "cell_type": "code",
   "execution_count": 12,
   "metadata": {
    "collapsed": false
   },
   "outputs": [
    {
     "name": "stdout",
     "output_type": "stream",
     "text": [
      "this is operations\n"
     ]
    },
    {
     "ename": "AttributeError",
     "evalue": "c3 instance has no attribute 'op1'",
     "output_type": "error",
     "traceback": [
      "\u001b[0;31m---------------------------------------------------------------------------\u001b[0m",
      "\u001b[0;31mAttributeError\u001b[0m                            Traceback (most recent call last)",
      "\u001b[0;32m<ipython-input-12-b046ed30b233>\u001b[0m in \u001b[0;36m<module>\u001b[0;34m()\u001b[0m\n\u001b[1;32m     11\u001b[0m         \u001b[0mself\u001b[0m\u001b[0;34m.\u001b[0m\u001b[0mop2\u001b[0m\u001b[0;34m(\u001b[0m\u001b[0;34m)\u001b[0m\u001b[0;34m\u001b[0m\u001b[0m\n\u001b[1;32m     12\u001b[0m \u001b[0mo3\u001b[0m\u001b[0;34m=\u001b[0m\u001b[0mc3\u001b[0m\u001b[0;34m(\u001b[0m\u001b[0;34m)\u001b[0m\u001b[0;34m\u001b[0m\u001b[0m\n\u001b[0;32m---> 13\u001b[0;31m \u001b[0mo3\u001b[0m\u001b[0;34m.\u001b[0m\u001b[0moperations\u001b[0m\u001b[0;34m(\u001b[0m\u001b[0;34m)\u001b[0m\u001b[0;34m\u001b[0m\u001b[0m\n\u001b[0m",
      "\u001b[0;32m<ipython-input-12-b046ed30b233>\u001b[0m in \u001b[0;36moperations\u001b[0;34m(self)\u001b[0m\n\u001b[1;32m      8\u001b[0m     \u001b[0;32mdef\u001b[0m \u001b[0moperations\u001b[0m\u001b[0;34m(\u001b[0m\u001b[0mself\u001b[0m\u001b[0;34m)\u001b[0m\u001b[0;34m:\u001b[0m\u001b[0;34m\u001b[0m\u001b[0m\n\u001b[1;32m      9\u001b[0m         \u001b[0;32mprint\u001b[0m \u001b[0;34m\"this is operations\"\u001b[0m\u001b[0;34m\u001b[0m\u001b[0m\n\u001b[0;32m---> 10\u001b[0;31m         \u001b[0mself\u001b[0m\u001b[0;34m.\u001b[0m\u001b[0mop1\u001b[0m\u001b[0;34m(\u001b[0m\u001b[0;34m)\u001b[0m\u001b[0;34m\u001b[0m\u001b[0m\n\u001b[0m\u001b[1;32m     11\u001b[0m         \u001b[0mself\u001b[0m\u001b[0;34m.\u001b[0m\u001b[0mop2\u001b[0m\u001b[0;34m(\u001b[0m\u001b[0;34m)\u001b[0m\u001b[0;34m\u001b[0m\u001b[0m\n\u001b[1;32m     12\u001b[0m \u001b[0mo3\u001b[0m\u001b[0;34m=\u001b[0m\u001b[0mc3\u001b[0m\u001b[0;34m(\u001b[0m\u001b[0;34m)\u001b[0m\u001b[0;34m\u001b[0m\u001b[0m\n",
      "\u001b[0;31mAttributeError\u001b[0m: c3 instance has no attribute 'op1'"
     ]
    }
   ],
   "source": [
    "class c1:\n",
    "    def op1(self):\n",
    "        print \"this is op1 in c1\"\n",
    "class c2:\n",
    "    def op2(self):\n",
    "        print \"op2 in c2\"\n",
    "class c3:\n",
    "    def operations(self):\n",
    "        print \"this is operations\"\n",
    "        self.op1()\n",
    "        self.op2()\n",
    "o3=c3()\n",
    "o3.operations()"
   ]
  },
  {
   "cell_type": "code",
   "execution_count": 13,
   "metadata": {
    "collapsed": false
   },
   "outputs": [
    {
     "name": "stdout",
     "output_type": "stream",
     "text": [
      "this is operations\n",
      "this is op1 in c1\n",
      "op2 in c2\n"
     ]
    }
   ],
   "source": [
    "class c1:\n",
    "    def op1(self):\n",
    "        print \"this is op1 in c1\"\n",
    "class c2:\n",
    "    def op2(self):\n",
    "        print \"op2 in c2\"\n",
    "class c3(c1,c2):\n",
    "    def operations(self):\n",
    "        print \"this is operations\"\n",
    "        self.op1()\n",
    "        self.op2()\n",
    "o3=c3()\n",
    "o3.operations()"
   ]
  },
  {
   "cell_type": "code",
   "execution_count": 14,
   "metadata": {
    "collapsed": false
   },
   "outputs": [
    {
     "name": "stdout",
     "output_type": "stream",
     "text": [
      "this is operations\n",
      "this is op1 in c1\n",
      "op2 in c2\n",
      "this is op1 in c1\n",
      "op2 in c2\n"
     ]
    }
   ],
   "source": [
    "class c1:\n",
    "    def op1(self):\n",
    "        print \"this is op1 in c1\"\n",
    "class c2:\n",
    "    def op2(self):\n",
    "        print \"op2 in c2\"\n",
    "class c3(c1,c2):\n",
    "    def operations(self):\n",
    "        print \"this is operations\"\n",
    "        self.op1()\n",
    "        self.op2()\n",
    "o3=c3()\n",
    "o3.operations()\n",
    "o3.op1()\n",
    "o3.op2()"
   ]
  },
  {
   "cell_type": "code",
   "execution_count": 15,
   "metadata": {
    "collapsed": false
   },
   "outputs": [
    {
     "name": "stdout",
     "output_type": "stream",
     "text": [
      "this is operations\n",
      "op1 in c3\n",
      "op2 in c2\n"
     ]
    }
   ],
   "source": [
    "class c1:\n",
    "    def op1(self):\n",
    "        print \"this is op1 in c1\"\n",
    "class c2:\n",
    "    def op2(self):\n",
    "        print \"op2 in c2\"\n",
    "class c3(c1,c2):\n",
    "    def operations(self):\n",
    "        print \"this is operations\"\n",
    "        self.op1()\n",
    "        self.op2()\n",
    "    def op1(self):\n",
    "        print \"op1 in c3\"\n",
    "o3=c3()\n",
    "o3.operations()"
   ]
  },
  {
   "cell_type": "code",
   "execution_count": 17,
   "metadata": {
    "collapsed": false
   },
   "outputs": [
    {
     "name": "stdout",
     "output_type": "stream",
     "text": [
      "20000\n",
      "300\n"
     ]
    }
   ],
   "source": [
    "class c1:\n",
    "    def add(self):\n",
    "        return self.a+self.b\n",
    "    \n",
    "class c2(c1):\n",
    "    def __init__(self, a,b):\n",
    "        self.a=a\n",
    "        self.b=b\n",
    "    def mul(self):\n",
    "        return self.a*self.b\n",
    "o2=c2(100,200)\n",
    "print o2.mul()\n",
    "print o2.add() "
   ]
  },
  {
   "cell_type": "code",
   "execution_count": null,
   "metadata": {
    "collapsed": true
   },
   "outputs": [],
   "source": [
    "class c1:\n",
    "     def __init__(self, a,b):\n",
    "        self.a=a\n",
    "        self.b=b\n",
    "        \n",
    "    def add(self):\n",
    "        return self.a+self.b\n",
    "    \n",
    "class c2(c1):\n",
    "    def mul(self):\n",
    "        return self.a*self.b\n"
   ]
  },
  {
   "cell_type": "code",
   "execution_count": 18,
   "metadata": {
    "collapsed": false
   },
   "outputs": [
    {
     "ename": "TypeError",
     "evalue": "__init__() takes exactly 3 arguments (1 given)",
     "output_type": "error",
     "traceback": [
      "\u001b[0;31m---------------------------------------------------------------------------\u001b[0m",
      "\u001b[0;31mTypeError\u001b[0m                                 Traceback (most recent call last)",
      "\u001b[0;32m<ipython-input-18-9eda22513d41>\u001b[0m in \u001b[0;36m<module>\u001b[0;34m()\u001b[0m\n\u001b[1;32m      3\u001b[0m         \u001b[0mself\u001b[0m\u001b[0;34m.\u001b[0m\u001b[0ma\u001b[0m\u001b[0;34m=\u001b[0m\u001b[0ma\u001b[0m\u001b[0;34m\u001b[0m\u001b[0m\n\u001b[1;32m      4\u001b[0m         \u001b[0mself\u001b[0m\u001b[0;34m.\u001b[0m\u001b[0mb\u001b[0m\u001b[0;34m=\u001b[0m\u001b[0mb\u001b[0m\u001b[0;34m\u001b[0m\u001b[0m\n\u001b[0;32m----> 5\u001b[0;31m \u001b[0mo2\u001b[0m\u001b[0;34m=\u001b[0m\u001b[0mc2\u001b[0m\u001b[0;34m(\u001b[0m\u001b[0;34m)\u001b[0m\u001b[0;34m\u001b[0m\u001b[0m\n\u001b[0m",
      "\u001b[0;31mTypeError\u001b[0m: __init__() takes exactly 3 arguments (1 given)"
     ]
    }
   ],
   "source": [
    "class c2:\n",
    "    def __init__(self,a,b):\n",
    "        self.a=a\n",
    "        self.b=b\n",
    "o2=c2()"
   ]
  },
  {
   "cell_type": "code",
   "execution_count": 19,
   "metadata": {
    "collapsed": true
   },
   "outputs": [],
   "source": [
    "class c2:\n",
    "    def __init__(self,a,b):\n",
    "        self.a=a\n",
    "        self.b=b\n",
    "o2=c2(100,200)"
   ]
  },
  {
   "cell_type": "code",
   "execution_count": 21,
   "metadata": {
    "collapsed": false
   },
   "outputs": [
    {
     "ename": "TypeError",
     "evalue": "__init__() takes exactly 3 arguments (1 given)",
     "output_type": "error",
     "traceback": [
      "\u001b[0;31m---------------------------------------------------------------------------\u001b[0m",
      "\u001b[0;31mTypeError\u001b[0m                                 Traceback (most recent call last)",
      "\u001b[0;32m<ipython-input-21-7b7efa4ca4ce>\u001b[0m in \u001b[0;36m<module>\u001b[0;34m()\u001b[0m\n\u001b[1;32m     10\u001b[0m     \u001b[0;32mdef\u001b[0m \u001b[0mmul\u001b[0m\u001b[0;34m(\u001b[0m\u001b[0mself\u001b[0m\u001b[0;34m)\u001b[0m\u001b[0;34m:\u001b[0m\u001b[0;34m\u001b[0m\u001b[0m\n\u001b[1;32m     11\u001b[0m         \u001b[0;32mreturn\u001b[0m \u001b[0mself\u001b[0m\u001b[0;34m.\u001b[0m\u001b[0ma\u001b[0m\u001b[0;34m*\u001b[0m\u001b[0mself\u001b[0m\u001b[0;34m.\u001b[0m\u001b[0mb\u001b[0m\u001b[0;34m\u001b[0m\u001b[0m\n\u001b[0;32m---> 12\u001b[0;31m \u001b[0mo2\u001b[0m\u001b[0;34m=\u001b[0m\u001b[0mc2\u001b[0m\u001b[0;34m(\u001b[0m\u001b[0;34m)\u001b[0m\u001b[0;34m\u001b[0m\u001b[0m\n\u001b[0m",
      "\u001b[0;31mTypeError\u001b[0m: __init__() takes exactly 3 arguments (1 given)"
     ]
    }
   ],
   "source": [
    "class c1:\n",
    "    def __init__(self, a,b):\n",
    "        self.a=a\n",
    "        self.b=b\n",
    "        \n",
    "    def add(self):\n",
    "        return self.a+self.b\n",
    "    \n",
    "class c2(c1):\n",
    "    def mul(self):\n",
    "        return self.a*self.b\n",
    "o2=c2()"
   ]
  },
  {
   "cell_type": "code",
   "execution_count": 22,
   "metadata": {
    "collapsed": false
   },
   "outputs": [
    {
     "name": "stdout",
     "output_type": "stream",
     "text": [
      "300\n",
      "20000\n"
     ]
    }
   ],
   "source": [
    "class c1:\n",
    "    def __init__(self, a,b):\n",
    "        self.a=a\n",
    "        self.b=b\n",
    "        \n",
    "    def add(self):\n",
    "        return self.a+self.b\n",
    "    \n",
    "class c2(c1):\n",
    "    \n",
    "    def mul(self):\n",
    "        return self.a*self.b\n",
    "o2=c2(100,200)\n",
    "print o2.add()\n",
    "print o2.mul()"
   ]
  },
  {
   "cell_type": "code",
   "execution_count": 24,
   "metadata": {
    "collapsed": false
   },
   "outputs": [
    {
     "name": "stdout",
     "output_type": "stream",
     "text": [
      "const c2\n"
     ]
    }
   ],
   "source": [
    "class c1:\n",
    "    def __init__(self, a,b):\n",
    "        print \"const in c1\"\n",
    "        self.a=a\n",
    "        self.b=b\n",
    "        \n",
    "    def add(self):\n",
    "        return self.a+self.b\n",
    "    \n",
    "class c2(c1):\n",
    "    def __init__(self,a,b,c):\n",
    "        print \"const c2\"\n",
    "        self.c=c\n",
    "        \n",
    "    def mul(self):\n",
    "        return self.a*self.b*self.c\n",
    "o2=c2(100,200,300)\n"
   ]
  },
  {
   "cell_type": "code",
   "execution_count": 25,
   "metadata": {
    "collapsed": false
   },
   "outputs": [
    {
     "name": "stdout",
     "output_type": "stream",
     "text": [
      "const c2\n"
     ]
    },
    {
     "ename": "AttributeError",
     "evalue": "c2 instance has no attribute 'a'",
     "output_type": "error",
     "traceback": [
      "\u001b[0;31m---------------------------------------------------------------------------\u001b[0m",
      "\u001b[0;31mAttributeError\u001b[0m                            Traceback (most recent call last)",
      "\u001b[0;32m<ipython-input-25-00b4b443e8d0>\u001b[0m in \u001b[0;36m<module>\u001b[0;34m()\u001b[0m\n\u001b[1;32m     16\u001b[0m         \u001b[0;32mreturn\u001b[0m \u001b[0mself\u001b[0m\u001b[0;34m.\u001b[0m\u001b[0ma\u001b[0m\u001b[0;34m*\u001b[0m\u001b[0mself\u001b[0m\u001b[0;34m.\u001b[0m\u001b[0mb\u001b[0m\u001b[0;34m*\u001b[0m\u001b[0mself\u001b[0m\u001b[0;34m.\u001b[0m\u001b[0mc\u001b[0m\u001b[0;34m\u001b[0m\u001b[0m\n\u001b[1;32m     17\u001b[0m \u001b[0mo2\u001b[0m\u001b[0;34m=\u001b[0m\u001b[0mc2\u001b[0m\u001b[0;34m(\u001b[0m\u001b[0;36m100\u001b[0m\u001b[0;34m,\u001b[0m\u001b[0;36m200\u001b[0m\u001b[0;34m,\u001b[0m\u001b[0;36m300\u001b[0m\u001b[0;34m)\u001b[0m\u001b[0;34m\u001b[0m\u001b[0m\n\u001b[0;32m---> 18\u001b[0;31m \u001b[0;32mprint\u001b[0m \u001b[0mo2\u001b[0m\u001b[0;34m.\u001b[0m\u001b[0mmul\u001b[0m\u001b[0;34m(\u001b[0m\u001b[0;34m)\u001b[0m\u001b[0;34m\u001b[0m\u001b[0m\n\u001b[0m",
      "\u001b[0;32m<ipython-input-25-00b4b443e8d0>\u001b[0m in \u001b[0;36mmul\u001b[0;34m(self)\u001b[0m\n\u001b[1;32m     14\u001b[0m \u001b[0;34m\u001b[0m\u001b[0m\n\u001b[1;32m     15\u001b[0m     \u001b[0;32mdef\u001b[0m \u001b[0mmul\u001b[0m\u001b[0;34m(\u001b[0m\u001b[0mself\u001b[0m\u001b[0;34m)\u001b[0m\u001b[0;34m:\u001b[0m\u001b[0;34m\u001b[0m\u001b[0m\n\u001b[0;32m---> 16\u001b[0;31m         \u001b[0;32mreturn\u001b[0m \u001b[0mself\u001b[0m\u001b[0;34m.\u001b[0m\u001b[0ma\u001b[0m\u001b[0;34m*\u001b[0m\u001b[0mself\u001b[0m\u001b[0;34m.\u001b[0m\u001b[0mb\u001b[0m\u001b[0;34m*\u001b[0m\u001b[0mself\u001b[0m\u001b[0;34m.\u001b[0m\u001b[0mc\u001b[0m\u001b[0;34m\u001b[0m\u001b[0m\n\u001b[0m\u001b[1;32m     17\u001b[0m \u001b[0mo2\u001b[0m\u001b[0;34m=\u001b[0m\u001b[0mc2\u001b[0m\u001b[0;34m(\u001b[0m\u001b[0;36m100\u001b[0m\u001b[0;34m,\u001b[0m\u001b[0;36m200\u001b[0m\u001b[0;34m,\u001b[0m\u001b[0;36m300\u001b[0m\u001b[0;34m)\u001b[0m\u001b[0;34m\u001b[0m\u001b[0m\n\u001b[1;32m     18\u001b[0m \u001b[0;32mprint\u001b[0m \u001b[0mo2\u001b[0m\u001b[0;34m.\u001b[0m\u001b[0mmul\u001b[0m\u001b[0;34m(\u001b[0m\u001b[0;34m)\u001b[0m\u001b[0;34m\u001b[0m\u001b[0m\n",
      "\u001b[0;31mAttributeError\u001b[0m: c2 instance has no attribute 'a'"
     ]
    }
   ],
   "source": [
    "class c1:\n",
    "    def __init__(self, a,b):\n",
    "        print \"const in c1\"\n",
    "        self.a=a\n",
    "        self.b=b\n",
    "        \n",
    "    def add(self):\n",
    "        return self.a+self.b\n",
    "    \n",
    "class c2(c1):\n",
    "    def __init__(self,a,b,c):\n",
    "        print \"const c2\"\n",
    "        self.c=c\n",
    "        \n",
    "    def mul(self):\n",
    "        return self.a*self.b*self.c\n",
    "o2=c2(100,200,300)\n",
    "print o2.mul()"
   ]
  },
  {
   "cell_type": "code",
   "execution_count": null,
   "metadata": {
    "collapsed": true
   },
   "outputs": [],
   "source": [
    "class c1:\n",
    "    def __init__(self, a,b):\n",
    "        print \"const in c1\"\n",
    "        self.a=a\n",
    "        self.b=b\n",
    "        \n",
    "    def add(self):\n",
    "        return self.a+self.b\n",
    "    \n",
    "class c2(c1):\n",
    "    def __init__(self,a,b,c):\n",
    "        print \"const c2\"\n",
    "        self.c=c\n",
    "        self.__init__(a,b)\n",
    "        \n",
    "    def mul(self):\n",
    "        return self.a*self.b*self.c\n",
    "o2=c2(100,200,300)\n",
    "print o2.mul()"
   ]
  },
  {
   "cell_type": "code",
   "execution_count": 28,
   "metadata": {
    "collapsed": false
   },
   "outputs": [
    {
     "name": "stdout",
     "output_type": "stream",
     "text": [
      "const c2\n",
      "const in c1\n",
      "6000000\n",
      "300\n"
     ]
    }
   ],
   "source": [
    "class c1:\n",
    "    def __init__(self, a,b):\n",
    "        print \"const in c1\"\n",
    "        self.a=a\n",
    "        self.b=b\n",
    "        \n",
    "    def add(self):\n",
    "        return self.a+self.b\n",
    "    \n",
    "class c2(c1):\n",
    "    def __init__(self,a,b,c):\n",
    "        print \"const c2\"\n",
    "        self.c=c\n",
    "        c1.__init__(self,a,b)\n",
    "        \n",
    "    def mul(self):\n",
    "        return self.a*self.b*self.c\n",
    "o2=c2(100,200,300)\n",
    "print o2.mul()\n",
    "print o2.add()"
   ]
  },
  {
   "cell_type": "code",
   "execution_count": 30,
   "metadata": {
    "collapsed": false
   },
   "outputs": [
    {
     "name": "stdout",
     "output_type": "stream",
     "text": [
      "const c2\n",
      "const in c1\n",
      "6000000\n",
      "300\n"
     ]
    }
   ],
   "source": [
    "class c1(object):\n",
    "    def __init__(self, a,b):\n",
    "        print \"const in c1\"\n",
    "        self.a=a\n",
    "        self.b=b\n",
    "        \n",
    "    def add(self):\n",
    "        return self.a+self.b\n",
    "    \n",
    "class c2(c1):\n",
    "    def __init__(self,a,b,c):\n",
    "        print \"const c2\"\n",
    "        self.c=c\n",
    "        super(c2,self).__init__(a,b)\n",
    "        \n",
    "    def mul(self):\n",
    "        return self.a*self.b*self.c\n",
    "class c3(c2):\n",
    "    def __init__(self,a,b,c,d):\n",
    "        self.d=d\n",
    "        c2.__init__(self,a,b,c)\n",
    "    pass\n",
    "class c4:\n",
    "    pass\n",
    "class c5(c3,c4):\n",
    "    pass\n",
    "o3=c3(100,200,300)\n",
    "print o3.mul()\n",
    "print o3.add()"
   ]
  },
  {
   "cell_type": "code",
   "execution_count": 31,
   "metadata": {
    "collapsed": false
   },
   "outputs": [
    {
     "name": "stdout",
     "output_type": "stream",
     "text": [
      "this is constructor\n",
      "seting data\n",
      "this is constructor\n",
      "seting data\n",
      "this is constructor\n",
      "seting data\n",
      "this is constructor\n",
      "seting data\n",
      "incremental percentage: 100\n",
      "salary calculation\n",
      "sending info\n",
      "('Anil', 468468468.0, 100)\n",
      "incremental percentage: 10\n",
      "salary calculation\n",
      "sending info\n",
      "('Ajay', 25765765.3, 10)\n",
      "incremental percentage: 30\n",
      "salary calculation\n",
      "sending info\n",
      "('ashok', 4217749.9, 30)\n",
      "incremental percentage: 40\n",
      "salary calculation\n",
      "sending info\n",
      "('PAvan', 6345560948347.6, 40)\n"
     ]
    }
   ],
   "source": [
    "# encpsulation\n",
    "class Emp:\n",
    "    def sal_calc(self):\n",
    "        print \"salary calculation\"\n",
    "        return self.sal+(self.sal*self.per/100.0)\n",
    "    def __init__(self, name, sal, per):\n",
    "        print \"this is constructor\"\n",
    "        print \"seting data\"\n",
    "        self.name=name\n",
    "        self.sal=sal\n",
    "        self.per=per\n",
    "    def get(self):\n",
    "        print \"incremental percentage:\",self.per\n",
    "        update_sal=self.sal_calc()\n",
    "        print \"sending info\"\n",
    "        return self.name, update_sal, self.per\n",
    "anil=Emp(\"Anil\",234234234,20)\n",
    "ajay=Emp(\"Ajay\",23423423,10)\n",
    "ashok=Emp(\"ashok\",3244423,30)\n",
    "pavan=Emp(\"PAvan\",4532543534534,40)\n",
    "anil.per=100\n",
    "print anil.get()\n",
    "print ajay.get()\n",
    "print ashok.get()\n",
    "print pavan.get()"
   ]
  },
  {
   "cell_type": "code",
   "execution_count": 32,
   "metadata": {
    "collapsed": false
   },
   "outputs": [
    {
     "name": "stdout",
     "output_type": "stream",
     "text": [
      "this is constructor\n",
      "seting data\n",
      "this is constructor\n",
      "seting data\n",
      "this is constructor\n",
      "seting data\n",
      "this is constructor\n",
      "seting data\n",
      "changing the anils incremental persentage\n",
      "name: Anil\n",
      "incremental percentage: 20\n",
      "salary calculation\n",
      "sending info\n",
      "('Anil', 281081080.8, 20)\n",
      "name: Ajay\n",
      "incremental percentage: 10\n",
      "salary calculation\n",
      "sending info\n",
      "('Ajay', 25765765.3, 10)\n",
      "name: ashok\n",
      "incremental percentage: 30\n",
      "salary calculation\n",
      "sending info\n",
      "('ashok', 4217749.9, 30)\n",
      "name: PAvan\n",
      "incremental percentage: 40\n",
      "salary calculation\n",
      "sending info\n",
      "('PAvan', 6345560948347.6, 40)\n"
     ]
    }
   ],
   "source": [
    "# encpsulation\n",
    "class Emp:\n",
    "    def sal_calc(self):\n",
    "        print \"salary calculation\"\n",
    "        return self.sal+(self.sal*self.__per/100.0)\n",
    "    def __init__(self, name, sal, per):\n",
    "        print \"this is constructor\"\n",
    "        print \"seting data\"\n",
    "        self.name=name\n",
    "        self.sal=sal\n",
    "        self.__per=per\n",
    "    def get(self):\n",
    "        print \"name:\",self.name\n",
    "        print \"incremental percentage:\",self.__per\n",
    "        update_sal=self.sal_calc()\n",
    "        print \"sending info\"\n",
    "        return self.name, update_sal, self.__per\n",
    "anil=Emp(\"Anil\",234234234,20)\n",
    "ajay=Emp(\"Ajay\",23423423,10)\n",
    "ashok=Emp(\"ashok\",3244423,30)\n",
    "pavan=Emp(\"PAvan\",4532543534534,40)\n",
    "print \"changing the anils incremental persentage\"\n",
    "anil.__per=100\n",
    "print anil.get()\n",
    "print ajay.get()\n",
    "print ashok.get()\n",
    "print pavan.get()"
   ]
  },
  {
   "cell_type": "code",
   "execution_count": 34,
   "metadata": {
    "collapsed": false
   },
   "outputs": [
    {
     "name": "stdout",
     "output_type": "stream",
     "text": [
      "this is constructor\n",
      "seting data\n",
      "this is constructor\n",
      "seting data\n",
      "this is constructor\n",
      "seting data\n",
      "this is constructor\n",
      "seting data\n",
      "changing the anils incremental persentage\n",
      "this is secured operations.\n",
      "name: Anil\n",
      "incremental percentage: 20\n",
      "salary calculation\n",
      "sending info\n",
      "('Anil', 281081080.8, 20)\n",
      "this is secured operations.\n",
      "name: Ajay\n",
      "incremental percentage: 10\n",
      "salary calculation\n",
      "sending info\n",
      "('Ajay', 25765765.3, 10)\n",
      "this is secured operations.\n",
      "name: ashok\n",
      "incremental percentage: 30\n",
      "salary calculation\n",
      "sending info\n",
      "('ashok', 4217749.9, 30)\n",
      "this is secured operations.\n",
      "name: PAvan\n",
      "incremental percentage: 40\n",
      "salary calculation\n",
      "sending info\n",
      "('PAvan', 6345560948347.6, 40)\n"
     ]
    }
   ],
   "source": [
    "# encpsulation\n",
    "class Emp:\n",
    "    def sal_calc(self):\n",
    "        print \"salary calculation\"\n",
    "        return self.sal+(self.sal*self.__per/100.0)\n",
    "    def __init__(self, name, sal, per):\n",
    "        print \"this is constructor\"\n",
    "        print \"seting data\"\n",
    "        self.name=name\n",
    "        self.sal=sal\n",
    "        self.__per=per\n",
    "    def get(self):\n",
    "        self.__oper1()\n",
    "        print \"name:\",self.name\n",
    "        print \"incremental percentage:\",self.__per\n",
    "        update_sal=self.sal_calc()\n",
    "        print \"sending info\"\n",
    "        return self.name, update_sal, self.__per\n",
    "    def __oper1(self):\n",
    "        print \"this is secured operations.\"\n",
    "anil=Emp(\"Anil\",234234234,20)\n",
    "ajay=Emp(\"Ajay\",23423423,10)\n",
    "ashok=Emp(\"ashok\",3244423,30)\n",
    "pavan=Emp(\"PAvan\",4532543534534,40)\n",
    "print \"changing the anils incremental persentage\"\n",
    "anil.__per=100\n",
    "#anil.__oper1()\n",
    "print anil.get()\n",
    "print ajay.get()\n",
    "print ashok.get()\n",
    "print pavan.get()"
   ]
  },
  {
   "cell_type": "code",
   "execution_count": 35,
   "metadata": {
    "collapsed": false
   },
   "outputs": [
    {
     "ename": "AttributeError",
     "evalue": "c1 instance has no attribute '__op1'",
     "output_type": "error",
     "traceback": [
      "\u001b[0;31m---------------------------------------------------------------------------\u001b[0m",
      "\u001b[0;31mAttributeError\u001b[0m                            Traceback (most recent call last)",
      "\u001b[0;32m<ipython-input-35-1e87aeff8aaf>\u001b[0m in \u001b[0;36m<module>\u001b[0;34m()\u001b[0m\n\u001b[1;32m      3\u001b[0m         \u001b[0;32mprint\u001b[0m \u001b[0;34m\"secured operation\"\u001b[0m\u001b[0;34m\u001b[0m\u001b[0m\n\u001b[1;32m      4\u001b[0m \u001b[0mo1\u001b[0m\u001b[0;34m=\u001b[0m\u001b[0mc1\u001b[0m\u001b[0;34m(\u001b[0m\u001b[0;34m)\u001b[0m\u001b[0;34m\u001b[0m\u001b[0m\n\u001b[0;32m----> 5\u001b[0;31m \u001b[0mo1\u001b[0m\u001b[0;34m.\u001b[0m\u001b[0m__op1\u001b[0m\u001b[0;34m(\u001b[0m\u001b[0;34m)\u001b[0m\u001b[0;34m\u001b[0m\u001b[0m\n\u001b[0m",
      "\u001b[0;31mAttributeError\u001b[0m: c1 instance has no attribute '__op1'"
     ]
    }
   ],
   "source": [
    "class c1:\n",
    "    def __op1(self):\n",
    "        print \"secured operation\"\n",
    "o1=c1()\n",
    "o1.__op1()"
   ]
  },
  {
   "cell_type": "code",
   "execution_count": 36,
   "metadata": {
    "collapsed": false
   },
   "outputs": [
    {
     "ename": "AttributeError",
     "evalue": "c2 instance has no attribute '_c2__op1'",
     "output_type": "error",
     "traceback": [
      "\u001b[0;31m---------------------------------------------------------------------------\u001b[0m",
      "\u001b[0;31mAttributeError\u001b[0m                            Traceback (most recent call last)",
      "\u001b[0;32m<ipython-input-36-17975267a4ba>\u001b[0m in \u001b[0;36m<module>\u001b[0;34m()\u001b[0m\n\u001b[1;32m      6\u001b[0m         \u001b[0mself\u001b[0m\u001b[0;34m.\u001b[0m\u001b[0m__op1\u001b[0m\u001b[0;34m(\u001b[0m\u001b[0;34m)\u001b[0m\u001b[0;34m\u001b[0m\u001b[0m\n\u001b[1;32m      7\u001b[0m \u001b[0mo2\u001b[0m\u001b[0;34m=\u001b[0m\u001b[0mc2\u001b[0m\u001b[0;34m(\u001b[0m\u001b[0;34m)\u001b[0m\u001b[0;34m\u001b[0m\u001b[0m\n\u001b[0;32m----> 8\u001b[0;31m \u001b[0mo2\u001b[0m\u001b[0;34m.\u001b[0m\u001b[0mop2\u001b[0m\u001b[0;34m(\u001b[0m\u001b[0;34m)\u001b[0m\u001b[0;34m\u001b[0m\u001b[0m\n\u001b[0m",
      "\u001b[0;32m<ipython-input-36-17975267a4ba>\u001b[0m in \u001b[0;36mop2\u001b[0;34m(self)\u001b[0m\n\u001b[1;32m      4\u001b[0m \u001b[0;32mclass\u001b[0m \u001b[0mc2\u001b[0m\u001b[0;34m(\u001b[0m\u001b[0mc1\u001b[0m\u001b[0;34m)\u001b[0m\u001b[0;34m:\u001b[0m\u001b[0;34m\u001b[0m\u001b[0m\n\u001b[1;32m      5\u001b[0m     \u001b[0;32mdef\u001b[0m \u001b[0mop2\u001b[0m\u001b[0;34m(\u001b[0m\u001b[0mself\u001b[0m\u001b[0;34m)\u001b[0m\u001b[0;34m:\u001b[0m\u001b[0;34m\u001b[0m\u001b[0m\n\u001b[0;32m----> 6\u001b[0;31m         \u001b[0mself\u001b[0m\u001b[0;34m.\u001b[0m\u001b[0m__op1\u001b[0m\u001b[0;34m(\u001b[0m\u001b[0;34m)\u001b[0m\u001b[0;34m\u001b[0m\u001b[0m\n\u001b[0m\u001b[1;32m      7\u001b[0m \u001b[0mo2\u001b[0m\u001b[0;34m=\u001b[0m\u001b[0mc2\u001b[0m\u001b[0;34m(\u001b[0m\u001b[0;34m)\u001b[0m\u001b[0;34m\u001b[0m\u001b[0m\n\u001b[1;32m      8\u001b[0m \u001b[0mo2\u001b[0m\u001b[0;34m.\u001b[0m\u001b[0mop2\u001b[0m\u001b[0;34m(\u001b[0m\u001b[0;34m)\u001b[0m\u001b[0;34m\u001b[0m\u001b[0m\n",
      "\u001b[0;31mAttributeError\u001b[0m: c2 instance has no attribute '_c2__op1'"
     ]
    }
   ],
   "source": [
    "class c1:\n",
    "    def __op1(self):\n",
    "        print \"secured operation\"\n",
    "class c2(c1):\n",
    "    def op2(self):\n",
    "        self.__op1()\n",
    "o2=c2()\n",
    "o2.op2()"
   ]
  },
  {
   "cell_type": "code",
   "execution_count": 37,
   "metadata": {
    "collapsed": false
   },
   "outputs": [
    {
     "name": "stdout",
     "output_type": "stream",
     "text": [
      "secured operation\n"
     ]
    }
   ],
   "source": [
    "class c1:\n",
    "    def op1(self):\n",
    "        print \"secured operation\"\n",
    "class c2(c1):\n",
    "    def op2(self):\n",
    "        self.op1()\n",
    "o2=c2()\n",
    "o2.op2()"
   ]
  },
  {
   "cell_type": "code",
   "execution_count": 39,
   "metadata": {
    "collapsed": false
   },
   "outputs": [
    {
     "name": "stdout",
     "output_type": "stream",
     "text": [
      "protec\n",
      "protec\n"
     ]
    }
   ],
   "source": [
    "class c1:\n",
    "    def __privat(self):\n",
    "        print \"priva\"\n",
    "    def _protec(self):\n",
    "        print \"protec\"\n",
    "class c2(c1):\n",
    "    def oper(self):\n",
    "        self._protec()\n",
    "o1=c1()\n",
    "o1._protec()\n",
    "o2=c2()\n",
    "o2.oper()"
   ]
  },
  {
   "cell_type": "code",
   "execution_count": 40,
   "metadata": {
    "collapsed": false
   },
   "outputs": [
    {
     "data": {
      "text/plain": [
       "30"
      ]
     },
     "execution_count": 40,
     "metadata": {},
     "output_type": "execute_result"
    }
   ],
   "source": [
    "10+20"
   ]
  },
  {
   "cell_type": "code",
   "execution_count": 41,
   "metadata": {
    "collapsed": false
   },
   "outputs": [
    {
     "data": {
      "text/plain": [
       "'str1str2'"
      ]
     },
     "execution_count": 41,
     "metadata": {},
     "output_type": "execute_result"
    }
   ],
   "source": [
    "\"str1\"+\"str2\""
   ]
  },
  {
   "cell_type": "code",
   "execution_count": 42,
   "metadata": {
    "collapsed": false
   },
   "outputs": [
    {
     "name": "stdout",
     "output_type": "stream",
     "text": [
      "60\n"
     ]
    },
    {
     "ename": "TypeError",
     "evalue": "op1() takes exactly 4 arguments (3 given)",
     "output_type": "error",
     "traceback": [
      "\u001b[0;31m---------------------------------------------------------------------------\u001b[0m",
      "\u001b[0;31mTypeError\u001b[0m                                 Traceback (most recent call last)",
      "\u001b[0;32m<ipython-input-42-283b32e52791>\u001b[0m in \u001b[0;36m<module>\u001b[0;34m()\u001b[0m\n\u001b[1;32m      9\u001b[0m \u001b[0mo1\u001b[0m\u001b[0;34m=\u001b[0m\u001b[0mEmp\u001b[0m\u001b[0;34m(\u001b[0m\u001b[0;34m)\u001b[0m\u001b[0;34m\u001b[0m\u001b[0m\n\u001b[1;32m     10\u001b[0m \u001b[0;32mprint\u001b[0m \u001b[0mo1\u001b[0m\u001b[0;34m.\u001b[0m\u001b[0mop1\u001b[0m\u001b[0;34m(\u001b[0m\u001b[0;36m10\u001b[0m\u001b[0;34m,\u001b[0m\u001b[0;36m20\u001b[0m\u001b[0;34m,\u001b[0m\u001b[0;36m30\u001b[0m\u001b[0;34m)\u001b[0m\u001b[0;34m\u001b[0m\u001b[0m\n\u001b[0;32m---> 11\u001b[0;31m \u001b[0;32mprint\u001b[0m \u001b[0mo1\u001b[0m\u001b[0;34m.\u001b[0m\u001b[0mop1\u001b[0m\u001b[0;34m(\u001b[0m\u001b[0;36m10\u001b[0m\u001b[0;34m,\u001b[0m\u001b[0;36m20\u001b[0m\u001b[0;34m)\u001b[0m\u001b[0;34m\u001b[0m\u001b[0m\n\u001b[0m",
      "\u001b[0;31mTypeError\u001b[0m: op1() takes exactly 4 arguments (3 given)"
     ]
    }
   ],
   "source": [
    "# method overloading\n",
    "# method overriding\n",
    "# operator overloaading\n",
    "class Emp:\n",
    "    def op1(self,a,b):\n",
    "        return a+b\n",
    "    def op1(self,a,b,c):\n",
    "        return a+b+c\n",
    "o1=Emp()\n",
    "print o1.op1(10,20,30)\n",
    "print o1.op1(10,20)"
   ]
  },
  {
   "cell_type": "code",
   "execution_count": 43,
   "metadata": {
    "collapsed": false
   },
   "outputs": [
    {
     "name": "stdout",
     "output_type": "stream",
     "text": [
      "60\n",
      "30\n"
     ]
    }
   ],
   "source": [
    "# method overloading\n",
    "# method overriding\n",
    "# operator overloaading\n",
    "class Emp:\n",
    "    def op1(self,a,b,c=0):\n",
    "        return a+b+c\n",
    "o1=Emp()\n",
    "print o1.op1(10,20,30)\n",
    "print o1.op1(10,20)"
   ]
  },
  {
   "cell_type": "code",
   "execution_count": 44,
   "metadata": {
    "collapsed": true
   },
   "outputs": [],
   "source": [
    "class c1:\n",
    "    def op1(self):\n",
    "        print \"op1 in c1\"\n",
    "class c2(c1):\n",
    "    def op2(self):\n",
    "        print \"op2 in c2\"\n",
    "    def op1(self):\n",
    "        print \"op1 in c2\"\n",
    "    "
   ]
  },
  {
   "cell_type": "code",
   "execution_count": 45,
   "metadata": {
    "collapsed": false
   },
   "outputs": [
    {
     "name": "stdout",
     "output_type": "stream",
     "text": [
      "op1 in c1\n",
      "op1 in c2\n"
     ]
    }
   ],
   "source": [
    "class c1:\n",
    "    def op1(self):\n",
    "        print \"op1 in c1\"\n",
    "class c2(c1):\n",
    "    def op2(self):\n",
    "        print \"op2 in c2\"\n",
    "    def op1(self):\n",
    "        c1.op1(self)\n",
    "        print \"op1 in c2\"\n",
    "o2=c2()\n",
    "o2.op1()\n",
    "    "
   ]
  },
  {
   "cell_type": "code",
   "execution_count": 46,
   "metadata": {
    "collapsed": false
   },
   "outputs": [
    {
     "name": "stdout",
     "output_type": "stream",
     "text": [
      "30\n",
      "str1str2\n",
      "200\n",
      "str1str1str1str1str1str1str1str1str1str1\n"
     ]
    }
   ],
   "source": [
    "print 10+20\n",
    "print \"str1\"+\"str2\"\n",
    "print 10*20\n",
    "print \"str1\"*10"
   ]
  },
  {
   "cell_type": "code",
   "execution_count": 47,
   "metadata": {
    "collapsed": true
   },
   "outputs": [],
   "source": [
    "l=[1,2,3,4]\n",
    "l.append(10)"
   ]
  },
  {
   "cell_type": "code",
   "execution_count": 48,
   "metadata": {
    "collapsed": false
   },
   "outputs": [
    {
     "name": "stdout",
     "output_type": "stream",
     "text": [
      "[1, 2, 3, 4, 5, 6, 7, 8]\n"
     ]
    }
   ],
   "source": [
    "l1=[1,2,3,4]\n",
    "l2=[5,6,7,8]\n",
    "print l1+l2"
   ]
  },
  {
   "cell_type": "code",
   "execution_count": 49,
   "metadata": {
    "collapsed": false
   },
   "outputs": [
    {
     "ename": "TypeError",
     "evalue": "unsupported operand type(s) for +: 'instance' and 'instance'",
     "output_type": "error",
     "traceback": [
      "\u001b[0;31m---------------------------------------------------------------------------\u001b[0m",
      "\u001b[0;31mTypeError\u001b[0m                                 Traceback (most recent call last)",
      "\u001b[0;32m<ipython-input-49-ddf05021e4e5>\u001b[0m in \u001b[0;36m<module>\u001b[0;34m()\u001b[0m\n\u001b[1;32m      5\u001b[0m \u001b[0manil\u001b[0m\u001b[0;34m=\u001b[0m\u001b[0mEmp\u001b[0m\u001b[0;34m(\u001b[0m\u001b[0;34m\"Anil\"\u001b[0m\u001b[0;34m,\u001b[0m\u001b[0;36m23\u001b[0m\u001b[0;34m)\u001b[0m\u001b[0;34m\u001b[0m\u001b[0m\n\u001b[1;32m      6\u001b[0m \u001b[0mashok\u001b[0m\u001b[0;34m=\u001b[0m\u001b[0mEmp\u001b[0m\u001b[0;34m(\u001b[0m\u001b[0;34m\"Ashok\"\u001b[0m\u001b[0;34m,\u001b[0m\u001b[0;36m25\u001b[0m\u001b[0;34m)\u001b[0m\u001b[0;34m\u001b[0m\u001b[0m\n\u001b[0;32m----> 7\u001b[0;31m \u001b[0;32mprint\u001b[0m \u001b[0manil\u001b[0m\u001b[0;34m+\u001b[0m\u001b[0mashok\u001b[0m\u001b[0;34m\u001b[0m\u001b[0m\n\u001b[0m",
      "\u001b[0;31mTypeError\u001b[0m: unsupported operand type(s) for +: 'instance' and 'instance'"
     ]
    }
   ],
   "source": [
    "class Emp:\n",
    "    def __init__(self,name,age):\n",
    "        self.name=name\n",
    "        self.age=age\n",
    "anil=Emp(\"Anil\",23)\n",
    "ashok=Emp(\"Ashok\",25)\n",
    "print anil+ashok"
   ]
  },
  {
   "cell_type": "code",
   "execution_count": 50,
   "metadata": {
    "collapsed": false
   },
   "outputs": [
    {
     "ename": "TypeError",
     "evalue": "unsupported operand type(s) for +: 'dict' and 'dict'",
     "output_type": "error",
     "traceback": [
      "\u001b[0;31m---------------------------------------------------------------------------\u001b[0m",
      "\u001b[0;31mTypeError\u001b[0m                                 Traceback (most recent call last)",
      "\u001b[0;32m<ipython-input-50-bfab59f71b8f>\u001b[0m in \u001b[0;36m<module>\u001b[0;34m()\u001b[0m\n\u001b[0;32m----> 1\u001b[0;31m \u001b[0;34m{\u001b[0m\u001b[0;36m1\u001b[0m\u001b[0;34m:\u001b[0m\u001b[0;36m2\u001b[0m\u001b[0;34m}\u001b[0m\u001b[0;34m+\u001b[0m\u001b[0;34m{\u001b[0m\u001b[0;36m2\u001b[0m\u001b[0;34m:\u001b[0m\u001b[0;36m3\u001b[0m\u001b[0;34m}\u001b[0m\u001b[0;34m\u001b[0m\u001b[0m\n\u001b[0m",
      "\u001b[0;31mTypeError\u001b[0m: unsupported operand type(s) for +: 'dict' and 'dict'"
     ]
    }
   ],
   "source": [
    "{1:2}+{2:3}"
   ]
  },
  {
   "cell_type": "code",
   "execution_count": 51,
   "metadata": {
    "collapsed": false
   },
   "outputs": [
    {
     "name": "stdout",
     "output_type": "stream",
     "text": [
      "p\n",
      "y\n",
      "t\n",
      "h\n",
      "o\n",
      "n\n"
     ]
    }
   ],
   "source": [
    "for i in \"python\":\n",
    "    print i"
   ]
  },
  {
   "cell_type": "code",
   "execution_count": 52,
   "metadata": {
    "collapsed": false
   },
   "outputs": [
    {
     "ename": "TypeError",
     "evalue": "'int' object is not iterable",
     "output_type": "error",
     "traceback": [
      "\u001b[0;31m---------------------------------------------------------------------------\u001b[0m",
      "\u001b[0;31mTypeError\u001b[0m                                 Traceback (most recent call last)",
      "\u001b[0;32m<ipython-input-52-bdc1333831ac>\u001b[0m in \u001b[0;36m<module>\u001b[0;34m()\u001b[0m\n\u001b[0;32m----> 1\u001b[0;31m \u001b[0;32mfor\u001b[0m \u001b[0mi\u001b[0m \u001b[0;32min\u001b[0m \u001b[0;36m10000\u001b[0m\u001b[0;34m:\u001b[0m\u001b[0;34m\u001b[0m\u001b[0m\n\u001b[0m\u001b[1;32m      2\u001b[0m     \u001b[0;32mprint\u001b[0m \u001b[0mi\u001b[0m\u001b[0;34m\u001b[0m\u001b[0m\n",
      "\u001b[0;31mTypeError\u001b[0m: 'int' object is not iterable"
     ]
    }
   ],
   "source": [
    "for i in 10000:\n",
    "    print i"
   ]
  },
  {
   "cell_type": "code",
   "execution_count": 53,
   "metadata": {
    "collapsed": false
   },
   "outputs": [
    {
     "name": "stdout",
     "output_type": "stream",
     "text": [
      "dummy value\n"
     ]
    }
   ],
   "source": [
    "class Emp:\n",
    "    def __init__(self,name,age):\n",
    "        self.name=name\n",
    "        self.age=age\n",
    "    def __add__(self1,self2):\n",
    "        return \"dummy value\"\n",
    "anil=Emp(\"Anil\",23)\n",
    "ashok=Emp(\"Ashok\",25)\n",
    "print anil+ashok"
   ]
  },
  {
   "cell_type": "code",
   "execution_count": 54,
   "metadata": {
    "collapsed": false
   },
   "outputs": [
    {
     "name": "stdout",
     "output_type": "stream",
     "text": [
      "('AnilAshok', 48)\n"
     ]
    }
   ],
   "source": [
    "class Emp:\n",
    "    def __init__(self,name,age):\n",
    "        self.name=name\n",
    "        self.age=age\n",
    "    def __add__(self1,self2):\n",
    "        return self1.name+self2.name, self1.age+self2.age\n",
    "anil=Emp(\"Anil\",23)\n",
    "ashok=Emp(\"Ashok\",25)\n",
    "print anil+ashok"
   ]
  },
  {
   "cell_type": "code",
   "execution_count": 55,
   "metadata": {
    "collapsed": false
   },
   "outputs": [
    {
     "name": "stdout",
     "output_type": "stream",
     "text": [
      "('AnilAshok', 48)\n"
     ]
    },
    {
     "ename": "TypeError",
     "evalue": "iteration over non-sequence",
     "output_type": "error",
     "traceback": [
      "\u001b[0;31m---------------------------------------------------------------------------\u001b[0m",
      "\u001b[0;31mTypeError\u001b[0m                                 Traceback (most recent call last)",
      "\u001b[0;32m<ipython-input-55-f0f47a95311d>\u001b[0m in \u001b[0;36m<module>\u001b[0;34m()\u001b[0m\n\u001b[1;32m      8\u001b[0m \u001b[0mashok\u001b[0m\u001b[0;34m=\u001b[0m\u001b[0mEmp\u001b[0m\u001b[0;34m(\u001b[0m\u001b[0;34m\"Ashok\"\u001b[0m\u001b[0;34m,\u001b[0m\u001b[0;36m25\u001b[0m\u001b[0;34m)\u001b[0m\u001b[0;34m\u001b[0m\u001b[0m\n\u001b[1;32m      9\u001b[0m \u001b[0;32mprint\u001b[0m \u001b[0manil\u001b[0m\u001b[0;34m+\u001b[0m\u001b[0mashok\u001b[0m\u001b[0;34m\u001b[0m\u001b[0m\n\u001b[0;32m---> 10\u001b[0;31m \u001b[0;32mfor\u001b[0m \u001b[0mi\u001b[0m \u001b[0;32min\u001b[0m \u001b[0manil\u001b[0m\u001b[0;34m:\u001b[0m\u001b[0;34m\u001b[0m\u001b[0m\n\u001b[0m\u001b[1;32m     11\u001b[0m     \u001b[0;32mprint\u001b[0m \u001b[0mi\u001b[0m\u001b[0;34m\u001b[0m\u001b[0m\n",
      "\u001b[0;31mTypeError\u001b[0m: iteration over non-sequence"
     ]
    }
   ],
   "source": [
    "class Emp:\n",
    "    def __init__(self,name,age):\n",
    "        self.name=name\n",
    "        self.age=age\n",
    "    def __add__(self1,self2):\n",
    "        return self1.name+self2.name, self1.age+self2.age\n",
    "anil=Emp(\"Anil\",23)\n",
    "ashok=Emp(\"Ashok\",25)\n",
    "print anil+ashok\n",
    "for i in anil:\n",
    "    print i"
   ]
  },
  {
   "cell_type": "code",
   "execution_count": 56,
   "metadata": {
    "collapsed": false
   },
   "outputs": [
    {
     "name": "stdout",
     "output_type": "stream",
     "text": [
      "{'age': 23, 'name': 'Anil'}\n",
      "{'age': 25, 'name': 'Ashok'}\n",
      "('AnilAshok', 48)\n"
     ]
    },
    {
     "ename": "TypeError",
     "evalue": "iteration over non-sequence",
     "output_type": "error",
     "traceback": [
      "\u001b[0;31m---------------------------------------------------------------------------\u001b[0m",
      "\u001b[0;31mTypeError\u001b[0m                                 Traceback (most recent call last)",
      "\u001b[0;32m<ipython-input-56-b49f7f3cb79c>\u001b[0m in \u001b[0;36m<module>\u001b[0;34m()\u001b[0m\n\u001b[1;32m     10\u001b[0m \u001b[0;32mprint\u001b[0m \u001b[0mashok\u001b[0m\u001b[0;34m.\u001b[0m\u001b[0m__dict__\u001b[0m\u001b[0;34m\u001b[0m\u001b[0m\n\u001b[1;32m     11\u001b[0m \u001b[0;32mprint\u001b[0m \u001b[0manil\u001b[0m\u001b[0;34m+\u001b[0m\u001b[0mashok\u001b[0m\u001b[0;34m\u001b[0m\u001b[0m\n\u001b[0;32m---> 12\u001b[0;31m \u001b[0;32mfor\u001b[0m \u001b[0mi\u001b[0m \u001b[0;32min\u001b[0m \u001b[0manil\u001b[0m\u001b[0;34m:\u001b[0m\u001b[0;34m\u001b[0m\u001b[0m\n\u001b[0m\u001b[1;32m     13\u001b[0m     \u001b[0;32mprint\u001b[0m \u001b[0mi\u001b[0m\u001b[0;34m\u001b[0m\u001b[0m\n",
      "\u001b[0;31mTypeError\u001b[0m: iteration over non-sequence"
     ]
    }
   ],
   "source": [
    "class Emp:\n",
    "    def __init__(self,name,age):\n",
    "        self.name=name\n",
    "        self.age=age\n",
    "    def __add__(self1,self2):\n",
    "        return self1.name+self2.name, self1.age+self2.age\n",
    "anil=Emp(\"Anil\",23)\n",
    "ashok=Emp(\"Ashok\",25)\n",
    "print anil.__dict__\n",
    "print ashok.__dict__\n",
    "print anil+ashok\n",
    "for i in anil:\n",
    "    print i"
   ]
  },
  {
   "cell_type": "code",
   "execution_count": 59,
   "metadata": {
    "collapsed": false
   },
   "outputs": [
    {
     "name": "stdout",
     "output_type": "stream",
     "text": [
      "{'age': 23, 'name': 'Anil'}\n",
      "{'age': 25, 'name': 'Ashok'}\n",
      "('AnilAshok', 48)\n",
      "('age', 23)\n",
      "('name', 'Anil')\n"
     ]
    }
   ],
   "source": [
    "class Emp:\n",
    "    def __init__(self,name,age):\n",
    "        self.name=name\n",
    "        self.age=age\n",
    "    def __add__(self1,self2):\n",
    "        return self1.name+self2.name, self1.age+self2.age\n",
    "    def __iter__(self):\n",
    "        for i in self.__dict__.items():\n",
    "            yield i\n",
    "anil=Emp(\"Anil\",23)\n",
    "ashok=Emp(\"Ashok\",25)\n",
    "print anil.__dict__\n",
    "print ashok.__dict__\n",
    "print anil+ashok\n",
    "for i in anil:\n",
    "    print i"
   ]
  },
  {
   "cell_type": "code",
   "execution_count": 62,
   "metadata": {
    "collapsed": false
   },
   "outputs": [],
   "source": [
    "import psycopg2\n",
    "host=\"localhost\"\n",
    "username=\"postgres\"\n",
    "password=\"root\"\n",
    "port=5432\n",
    "con = psycopg2.connect(user=username, password=password,port=port, host=host, database=\"db1\")\n",
    "cur = con.cursor()\n",
    "cur.execute(\"create table customer(id int, name varchar(250))\")\n",
    "cur.execute(\"insert into customer values(1,'name1')\")\n",
    "con.commit()"
   ]
  },
  {
   "cell_type": "code",
   "execution_count": 64,
   "metadata": {
    "collapsed": false
   },
   "outputs": [
    {
     "name": "stdout",
     "output_type": "stream",
     "text": [
      "[(1, 'name1'), (123, 'Anil'), (124, 'Anil123')]\n"
     ]
    }
   ],
   "source": [
    "import psycopg2\n",
    "class DB:\n",
    "    def __init__(self, host, user, password, database):\n",
    "        self.con = psycopg2.connect(user=user, password=password, host=host, database=database)\n",
    "        self.cur=self.con.cursor()\n",
    "    \n",
    "db = DB(\"localhost\",\"postgres\",'root','db1')\n",
    "\n",
    "class customer:\n",
    "    def __init__(self, c_id, name):\n",
    "        self.id=c_id\n",
    "        self.name=name\n",
    "    def create(self):\n",
    "        db.cur.execute(\"insert into customer values(%s, '%s')\"%(self.id,self.name))\n",
    "        db.con.commit()\n",
    "    def search(self,c_id=None):\n",
    "        q=\"select * from customer\"\n",
    "        if c_id:\n",
    "            q=q+\" where id=%s\"%c_id\n",
    "        db.cur.execute(q)\n",
    "        return db.cur.fetchall()\n",
    "    \n",
    "        \n",
    "        \n",
    "anil = customer(124,\"Anil123\")\n",
    "anil.create()\n",
    "print anil.search()\n",
    "\n",
    "        \n",
    "        "
   ]
  },
  {
   "cell_type": "code",
   "execution_count": 65,
   "metadata": {
    "collapsed": false
   },
   "outputs": [
    {
     "name": "stdout",
     "output_type": "stream",
     "text": [
      "[(124, 'Anil123')]\n"
     ]
    }
   ],
   "source": [
    "import psycopg2\n",
    "class DB:\n",
    "    def __init__(self, host, user, password, database):\n",
    "        self.con = psycopg2.connect(user=user, password=password, host=host, database=database)\n",
    "        self.cur=self.con.cursor()\n",
    "    \n",
    "db = DB(\"localhost\",\"postgres\",'root','db1')\n",
    "\n",
    "class customer:\n",
    "    def __init__(self, c_id, name):\n",
    "        self.id=c_id\n",
    "        self.name=name\n",
    "    def create(self):\n",
    "        db.cur.execute(\"insert into customer values(%s, '%s')\"%(self.id,self.name))\n",
    "        db.con.commit()\n",
    "    def search(self,c_id=None):\n",
    "        q=\"select * from customer\"\n",
    "        if c_id:\n",
    "            q=q+\" where id=%s\"%c_id\n",
    "        db.cur.execute(q)\n",
    "        return db.cur.fetchall()\n",
    "    \n",
    "        \n",
    "        \n",
    "anil = customer(124,\"Anil123\")\n",
    "print anil.search(124)\n",
    "\n",
    "        \n",
    "        "
   ]
  },
  {
   "cell_type": "code",
   "execution_count": 66,
   "metadata": {
    "collapsed": false
   },
   "outputs": [
    {
     "name": "stdout",
     "output_type": "stream",
     "text": [
      "[(124, 'Anil123')]\n"
     ]
    }
   ],
   "source": [
    "import psycopg2\n",
    "class DB:\n",
    "    def __init__(self, host, user, password, database):\n",
    "        self.con = psycopg2.connect(user=user, password=password, host=host, database=database)\n",
    "        self.cur=self.con.cursor()\n",
    "    \n",
    "db = DB(\"localhost\",\"postgres\",'root','db1')\n",
    "\n",
    "class customer:\n",
    "    def __init__(self, c_id, name):\n",
    "        self.id=c_id\n",
    "        self.name=name\n",
    "    def create(self):\n",
    "        db.cur.execute(\"insert into customer values(%s, '%s')\"%(self.id,self.name))\n",
    "        db.con.commit()\n",
    "    def search(self):\n",
    "        q=\"select * from customer where id=%s\"%self.id\n",
    "        db.cur.execute(q)\n",
    "        return db.cur.fetchall()\n",
    "    \n",
    "        \n",
    "        \n",
    "anil = customer(124,\"Anil123\")\n",
    "print anil.search()\n",
    "\n",
    "        \n",
    "        "
   ]
  },
  {
   "cell_type": "code",
   "execution_count": 67,
   "metadata": {
    "collapsed": false
   },
   "outputs": [
    {
     "name": "stdout",
     "output_type": "stream",
     "text": [
      "[(124, 'Anil123')]\n",
      "[(1, 'name1'), (123, 'Anil'), (124, 'Anil123')]\n"
     ]
    }
   ],
   "source": [
    "import psycopg2\n",
    "class DB:\n",
    "    def __init__(self, host, user, password, database):\n",
    "        self.con = psycopg2.connect(user=user, password=password, host=host, database=database)\n",
    "        self.cur=self.con.cursor()\n",
    "    \n",
    "db = DB(\"localhost\",\"postgres\",'root','db1')\n",
    "\n",
    "class customer:\n",
    "    def __init__(self, c_id, name):\n",
    "        self.id=c_id\n",
    "        self.name=name\n",
    "    def create(self):\n",
    "        db.cur.execute(\"insert into customer values(%s, '%s')\"%(self.id,self.name))\n",
    "        db.con.commit()\n",
    "    def search(self):\n",
    "        q=\"select * from customer where id=%s\"%self.id\n",
    "        db.cur.execute(q)\n",
    "        return db.cur.fetchall()\n",
    "    \n",
    "    @classmethod\n",
    "    def get_all(cls):\n",
    "        q=\"select * from customer\"\n",
    "        db.cur.execute(q)\n",
    "        return db.cur.fetchall()\n",
    "        \n",
    "        \n",
    "anil = customer(124,\"Anil123\")\n",
    "print anil.search()\n",
    "print customer.get_all()\n",
    "        \n",
    "        "
   ]
  },
  {
   "cell_type": "code",
   "execution_count": null,
   "metadata": {
    "collapsed": true
   },
   "outputs": [],
   "source": []
  }
 ],
 "metadata": {
  "kernelspec": {
   "display_name": "Python 2",
   "language": "python",
   "name": "python2"
  },
  "language_info": {
   "codemirror_mode": {
    "name": "ipython",
    "version": 2
   },
   "file_extension": ".py",
   "mimetype": "text/x-python",
   "name": "python",
   "nbconvert_exporter": "python",
   "pygments_lexer": "ipython2",
   "version": "2.7.13"
  }
 },
 "nbformat": 4,
 "nbformat_minor": 2
}
