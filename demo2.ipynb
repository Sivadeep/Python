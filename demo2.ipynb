{
 "cells": [
  {
   "cell_type": "code",
   "execution_count": 1,
   "metadata": {
    "collapsed": false
   },
   "outputs": [
    {
     "name": "stdout",
     "output_type": "stream",
     "text": [
      "st1\n",
      "st2\n",
      "st3\n",
      "st4\n"
     ]
    }
   ],
   "source": [
    "\"\"\"\n",
    "\n",
    "\"\"\"\n",
    "print \"st1\"\n",
    "print \"st2\"\n",
    "print \"st3\"\n",
    "print \"st4\""
   ]
  },
  {
   "cell_type": "code",
   "execution_count": 2,
   "metadata": {
    "collapsed": false
   },
   "outputs": [
    {
     "name": "stdout",
     "output_type": "stream",
     "text": [
      "st1\n",
      "st2\n",
      "st3\n",
      "st4\n"
     ]
    }
   ],
   "source": [
    "print \"st1\"\n",
    "# if condition\n",
    "print \"st2\"\n",
    "print \"st3\"\n",
    "\n",
    "print \"st4\""
   ]
  },
  {
   "cell_type": "code",
   "execution_count": 3,
   "metadata": {
    "collapsed": false
   },
   "outputs": [
    {
     "name": "stdout",
     "output_type": "stream",
     "text": [
      "st1\n",
      "st2\n",
      "st3\n",
      "st4\n",
      "st5\n"
     ]
    }
   ],
   "source": [
    "print \"st1\"\n",
    "print \"st2\"\n",
    "print \"st3\"\n",
    "print \"st4\"\n",
    "print \"st5\""
   ]
  },
  {
   "cell_type": "code",
   "execution_count": 4,
   "metadata": {
    "collapsed": false
   },
   "outputs": [
    {
     "name": "stdout",
     "output_type": "stream",
     "text": [
      "st1\n",
      "st2\n",
      "st3\n",
      "st4\n",
      "st5\n"
     ]
    }
   ],
   "source": [
    "for i in range(1,100):\n",
    "    print \"st%s\"%i"
   ]
  },
  {
   "cell_type": "code",
   "execution_count": 7,
   "metadata": {
    "collapsed": false
   },
   "outputs": [
    {
     "name": "stdout",
     "output_type": "stream",
     "text": [
      "some statements\n",
      "a=10, b=20\n",
      "summation=30\n",
      "some other statements\n",
      "a=100, b=200\n",
      "summation=300\n",
      "some more statements\n",
      "a=1000, b=20000\n",
      "summation=21000\n"
     ]
    }
   ],
   "source": [
    "#function?\n",
    "print \"some statements\"\n",
    "a=10\n",
    "b=20\n",
    "print \"a=%s, b=%s\"%(a,b)\n",
    "res=a+b\n",
    "print \"summation=%s\"%res\n",
    "print \"some other statements\"\n",
    "a=100\n",
    "b=200\n",
    "print \"a=%s, b=%s\"%(a,b)\n",
    "res=a+b\n",
    "print \"summation=%s\"%res\n",
    "print \"some more statements\"\n",
    "a=1000\n",
    "b=20000\n",
    "print \"a=%s, b=%s\"%(a,b)\n",
    "res=a+b\n",
    "print \"summation=%s\"%res\n"
   ]
  },
  {
   "cell_type": "code",
   "execution_count": 8,
   "metadata": {
    "collapsed": false
   },
   "outputs": [
    {
     "name": "stdout",
     "output_type": "stream",
     "text": [
      "some statements\n",
      "a=10, b=20\n",
      "summation=30\n",
      "some other statements\n",
      "a=100, b=200\n",
      "summation=300\n",
      "some more statements\n",
      "a=100, b=200\n",
      "summation=300\n"
     ]
    }
   ],
   "source": [
    "#function?\n",
    "def fun(a,b):\n",
    "    print \"a=%s, b=%s\"%(a,b)\n",
    "    res=a+b\n",
    "    print \"summation=%s\"%res\n",
    "    \n",
    "print \"some statements\"\n",
    "fun(10,20)\n",
    "print \"some other statements\"\n",
    "fun(100,200)\n",
    "print \"some more statements\"\n",
    "fun(100,200)\n"
   ]
  },
  {
   "cell_type": "code",
   "execution_count": 9,
   "metadata": {
    "collapsed": false
   },
   "outputs": [
    {
     "name": "stdout",
     "output_type": "stream",
     "text": [
      "Enter a value:12\n"
     ]
    }
   ],
   "source": [
    "a=raw_input(\"Enter a value:\")\n",
    "#400+20=420"
   ]
  },
  {
   "cell_type": "code",
   "execution_count": null,
   "metadata": {
    "collapsed": true
   },
   "outputs": [],
   "source": [
    "def fun():\n",
    "    a=raw_input(\"Enter a value:\")\n",
    "    return a\n",
    "fun()\n",
    "#400+20+3=423\n"
   ]
  }
 ],
 "metadata": {
  "kernelspec": {
   "display_name": "Python 2",
   "language": "python",
   "name": "python2"
  },
  "language_info": {
   "codemirror_mode": {
    "name": "ipython",
    "version": 2
   },
   "file_extension": ".py",
   "mimetype": "text/x-python",
   "name": "python",
   "nbconvert_exporter": "python",
   "pygments_lexer": "ipython2",
   "version": "2.7.13"
  }
 },
 "nbformat": 4,
 "nbformat_minor": 2
}
